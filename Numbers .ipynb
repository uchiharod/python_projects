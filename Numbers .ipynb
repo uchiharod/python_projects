{
 "cells": [
  {
   "cell_type": "code",
   "execution_count": 5,
   "id": "3628e17d",
   "metadata": {},
   "outputs": [
    {
     "name": "stdout",
     "output_type": "stream",
     "text": [
      "Sum: 3\n",
      "Difference: 99\n",
      "Product: 12\n",
      "Quotient: 4.0\n",
      "Power: 16\n",
      "Remainder: 1\n"
     ]
    },
    {
     "data": {
      "text/plain": [
       "' This is the start of the comment\\nThis is another line.\\nThis is the last line in the comment. '"
      ]
     },
     "execution_count": 5,
     "metadata": {},
     "output_type": "execute_result"
    }
   ],
   "source": [
    "sum = 1 + 2\n",
    "difference = 100 - 1\n",
    "product =  3 * 4\n",
    "quotient = 8 / 2\n",
    "power = 2 ** 4\n",
    "remainder = 3 % 2\n",
    "print('Sum: {}'.format(sum))\n",
    "print('Difference: {}'.format(difference))\n",
    "print('Product: {}'.format(product))\n",
    "print('Quotient: {}'.format(quotient))\n",
    "print('Power: {}'.format(power))\n",
    "print('Remainder: {}'.format(remainder))\n",
    "\n",
    "\"\"\" This is the start of the comment\n",
    "This is another line.\n",
    "This is the last line in the comment. \"\"\"\n",
    "\n",
    "# This is a comment. Python ignores them.\n",
    "# The following code:\n",
    "#     Computes hosting costs.\n",
    "#     Determines the duration of hosting\n",
    "#         that can be purchased given a\n",
    "#         budget."
   ]
  },
  {
   "cell_type": "code",
   "execution_count": 9,
   "id": "37e1113c",
   "metadata": {},
   "outputs": [],
   "source": [
    "integer = 42\n",
    "float = 4.2"
   ]
  },
  {
   "cell_type": "code",
   "execution_count": 10,
   "id": "df44c4c6",
   "metadata": {},
   "outputs": [
    {
     "name": "stdout",
     "output_type": "stream",
     "text": [
      "102\n",
      "1.0\n",
      "4\n"
     ]
    }
   ],
   "source": [
    "sum = 1 + 2\n",
    "difference = 100 - 1\n",
    "new_number = sum + difference\n",
    "print(new_number)\n",
    "print(sum / sum)\n",
    "print(sum + 1)"
   ]
  },
  {
   "cell_type": "code",
   "execution_count": 17,
   "id": "ace2d9c0",
   "metadata": {},
   "outputs": [
    {
     "name": "stdout",
     "output_type": "stream",
     "text": [
      "183.32\n"
     ]
    }
   ],
   "source": [
    "sorta = 45\n",
    "farter = 2.99\n",
    "delta = 90\n",
    "epsilon = 45.33\n",
    "\n",
    "sum = sorta + farter + delta + epsilon\n",
    "print(sum)"
   ]
  },
  {
   "cell_type": "code",
   "execution_count": 16,
   "id": "4a476877",
   "metadata": {},
   "outputs": [
    {
     "name": "stdout",
     "output_type": "stream",
     "text": [
      "6\n"
     ]
    }
   ],
   "source": [
    "quantity = 3\n",
    "quantity_string = '3'\n",
    "\n",
    "print(quantity + int(quantity_string))"
   ]
  },
  {
   "cell_type": "code",
   "execution_count": 21,
   "id": "2ee5759b",
   "metadata": {},
   "outputs": [
    {
     "name": "stdout",
     "output_type": "stream",
     "text": [
      "5\n"
     ]
    }
   ],
   "source": [
    "quantity_string = '3'\n",
    "total = int(quantity_string) + 2\n",
    "print(total)"
   ]
  },
  {
   "cell_type": "code",
   "execution_count": 26,
   "id": "f4dc6d39",
   "metadata": {},
   "outputs": [
    {
     "ename": "TypeError",
     "evalue": "'float' object is not callable",
     "output_type": "error",
     "traceback": [
      "\u001b[1;31m---------------------------------------------------------------------------\u001b[0m",
      "\u001b[1;31mTypeError\u001b[0m                                 Traceback (most recent call last)",
      "\u001b[1;32m<ipython-input-26-59d130db2dd3>\u001b[0m in \u001b[0;36m<module>\u001b[1;34m\u001b[0m\n\u001b[0;32m      1\u001b[0m \u001b[0mquantity_string\u001b[0m \u001b[1;33m=\u001b[0m \u001b[1;34m'3'\u001b[0m\u001b[1;33m\u001b[0m\u001b[1;33m\u001b[0m\u001b[0m\n\u001b[1;32m----> 2\u001b[1;33m \u001b[0mquantity_float\u001b[0m \u001b[1;33m=\u001b[0m \u001b[0mfloat\u001b[0m\u001b[1;33m(\u001b[0m\u001b[0mquantity_string\u001b[0m\u001b[1;33m)\u001b[0m\u001b[1;33m\u001b[0m\u001b[1;33m\u001b[0m\u001b[0m\n\u001b[0m\u001b[0;32m      3\u001b[0m \u001b[0mprint\u001b[0m\u001b[1;33m(\u001b[0m\u001b[0mquantity_string\u001b[0m\u001b[1;33m)\u001b[0m\u001b[1;33m\u001b[0m\u001b[1;33m\u001b[0m\u001b[0m\n",
      "\u001b[1;31mTypeError\u001b[0m: 'float' object is not callable"
     ]
    }
   ],
   "source": [
    "quantity_string = '3'\n",
    "quantity_float = float(quantity_string)\n",
    "print(quantity_string)"
   ]
  },
  {
   "cell_type": "code",
   "execution_count": 23,
   "id": "44f00e67",
   "metadata": {},
   "outputs": [
    {
     "data": {
      "text/plain": [
       "' This is the start of the comment\\nThis is another line.\\nThis is the last line in the comment. '"
      ]
     },
     "execution_count": 23,
     "metadata": {},
     "output_type": "execute_result"
    }
   ],
   "source": [
    "\"\"\" This is the start of the comment\n",
    "This is another line.\n",
    "This is the last line in the comment. \"\"\""
   ]
  },
  {
   "cell_type": "code",
   "execution_count": 27,
   "id": "7d0b17ea",
   "metadata": {},
   "outputs": [
    {
     "data": {
      "text/plain": [
       "' This is the start of the comment\\nThis is another line.\\nThis is the last line in the comment. '"
      ]
     },
     "execution_count": 27,
     "metadata": {},
     "output_type": "execute_result"
    }
   ],
   "source": [
    "\"\"\" This is the start of the comment\n",
    "This is another line.\n",
    "This is the last line in the comment. \"\"\""
   ]
  },
  {
   "cell_type": "code",
   "execution_count": 6,
   "id": "e22712df",
   "metadata": {},
   "outputs": [
    {
     "name": "stdout",
     "output_type": "stream",
     "text": [
      "What would you like the cat to say? texas tammy\n",
      "            ___________\n",
      "          < texas tammy >\n",
      "            -----------\n"
     ]
    }
   ],
   "source": [
    "# Get the input from the user.\n",
    "text = input('What would you like the cat to say? ')\n",
    "# Determine the length of the input.\n",
    "text_length = len(text)\n",
    "# Make the border the same size as the input.\n",
    "print('            {}'.format('_' * text_length))\n",
    "print('          < {} >'.format(text))\n",
    "print('            {}'.format('-' * text_length))"
   ]
  },
  {
   "cell_type": "code",
   "execution_count": 8,
   "id": "a9e840c7",
   "metadata": {},
   "outputs": [
    {
     "name": "stdout",
     "output_type": "stream",
     "text": [
      "What's your name? Super Califragilusitgetsmealodcious\n",
      "___________________________________\n",
      "Super Califragilusitgetsmealodcious\n",
      "___________________________________\n"
     ]
    }
   ],
   "source": [
    "my_name = input(\"What's your name? \")\n",
    "length_of_my_name = len(my_name)\n",
    "\n",
    "print(\"{}\".format('_' * length_of_my_name))\n",
    "print(\"{}\".format(my_name))\n",
    "print(\"{}\".format('_' * length_of_my_name))"
   ]
  },
  {
   "cell_type": "code",
   "execution_count": 42,
   "id": "e93b80c2",
   "metadata": {},
   "outputs": [
    {
     "name": "stdout",
     "output_type": "stream",
     "text": [
      "To operate the server per day is: 12.24\n",
      "To operate the server per month is: 367.2\n",
      "To operate 20 servers per day is: 244.8\n",
      "To operate 20 servers per month is: 7344.0\n",
      "I can operate one server for 905.76 days.\n"
     ]
    }
   ],
   "source": [
    "budget = 918\n",
    "hc_per_hour = 0.51\n",
    "hc_cost_per_day = hc_per_hour * 24\n",
    "hc_cost_per_month = hc_cost_per_day * 30\n",
    "\n",
    "hc_per_20_servers = hc_cost_per_day * 20\n",
    "hc_cost_20_per_month = hc_cost_per_month * 20\n",
    "\n",
    "servers_in_a_month = budget - hc_cost_per_day\n",
    "\n",
    "print(\"To operate the server per day is: \" + str(hc_cost_per_day))\n",
    "print(\"To operate the server per month is: \" + str(hc_cost_per_month))\n",
    "print(\"To operate 20 servers per day is: \" + str(hc_per_20_servers))\n",
    "print(\"To operate 20 servers per month is: \" + str(hc_cost_20_per_month))\n",
    "print(\"I can operate one server for \" + str(servers_in_a_month) + \" days.\")"
   ]
  },
  {
   "cell_type": "code",
   "execution_count": null,
   "id": "2cf63d5b",
   "metadata": {},
   "outputs": [],
   "source": []
  },
  {
   "cell_type": "code",
   "execution_count": null,
   "id": "01b61196",
   "metadata": {},
   "outputs": [],
   "source": []
  }
 ],
 "metadata": {
  "kernelspec": {
   "display_name": "Python 3",
   "language": "python",
   "name": "python3"
  },
  "language_info": {
   "codemirror_mode": {
    "name": "ipython",
    "version": 3
   },
   "file_extension": ".py",
   "mimetype": "text/x-python",
   "name": "python",
   "nbconvert_exporter": "python",
   "pygments_lexer": "ipython3",
   "version": "3.8.8"
  }
 },
 "nbformat": 4,
 "nbformat_minor": 5
}
