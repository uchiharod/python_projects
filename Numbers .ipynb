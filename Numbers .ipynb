{
 "cells": [
  {
   "cell_type": "code",
   "execution_count": 5,
   "id": "f5b7cdec",
   "metadata": {},
   "outputs": [
    {
     "name": "stdout",
     "output_type": "stream",
     "text": [
      "Sum: 3\n",
      "Difference: 99\n",
      "Product: 12\n",
      "Quotient: 4.0\n",
      "Power: 16\n",
      "Remainder: 1\n"
     ]
    },
    {
     "data": {
      "text/plain": [
       "' This is the start of the comment\\nThis is another line.\\nThis is the last line in the comment. '"
      ]
     },
     "execution_count": 5,
     "metadata": {},
     "output_type": "execute_result"
    }
   ],
   "source": [
    "sum = 1 + 2\n",
    "difference = 100 - 1\n",
    "product =  3 * 4\n",
    "quotient = 8 / 2\n",
    "power = 2 ** 4\n",
    "remainder = 3 % 2\n",
    "print('Sum: {}'.format(sum))\n",
    "print('Difference: {}'.format(difference))\n",
    "print('Product: {}'.format(product))\n",
    "print('Quotient: {}'.format(quotient))\n",
    "print('Power: {}'.format(power))\n",
    "print('Remainder: {}'.format(remainder))\n",
    "\n",
    "\"\"\" This is the start of the comment\n",
    "This is another line.\n",
    "This is the last line in the comment. \"\"\"\n",
    "\n",
    "# This is a comment. Python ignores them.\n",
    "# The following code:\n",
    "#     Computes hosting costs.\n",
    "#     Determines the duration of hosting\n",
    "#         that can be purchased given a\n",
    "#         budget."
   ]
  },
  {
   "cell_type": "code",
   "execution_count": 6,
   "id": "b4ffe4d4",
   "metadata": {},
   "outputs": [
    {
     "name": "stdout",
     "output_type": "stream",
     "text": [
      "What would you like the cat to say? texas tammy\n",
      "            ___________\n",
      "          < texas tammy >\n",
      "            -----------\n"
     ]
    }
   ],
   "source": [
    "# Get the input from the user.\n",
    "text = input('What would you like the cat to say? ')\n",
    "# Determine the length of the input.\n",
    "text_length = len(text)\n",
    "# Make the border the same size as the input.\n",
    "print('            {}'.format('_' * text_length))\n",
    "print('          < {} >'.format(text))\n",
    "print('            {}'.format('-' * text_length))"
   ]
  },
  {
   "cell_type": "code",
   "execution_count": 7,
   "id": "ac56e758",
   "metadata": {},
   "outputs": [
    {
     "name": "stdout",
     "output_type": "stream",
     "text": [
      "What's your name? Roderick SUper Califrangilus\n",
      "____________________________\n",
      "texas tammy\n",
      "____________________________\n"
     ]
    }
   ],
   "source": [
    "my_name = input(\"What's your name? \")\n",
    "length_of_my_name = len(my_name)\n",
    "\n",
    "print(\"{}\".format('_' * length_of_my_name))\n",
    "print(\"{}\".format(text))\n",
    "print(\"{}\".format('_' * length_of_my_name))"
   ]
  },
  {
   "cell_type": "code",
   "execution_count": null,
   "id": "82e595c7",
   "metadata": {},
   "outputs": [],
   "source": []
  }
 ],
 "metadata": {
  "kernelspec": {
   "display_name": "Python 3",
   "language": "python",
   "name": "python3"
  },
  "language_info": {
   "codemirror_mode": {
    "name": "ipython",
    "version": 3
   },
   "file_extension": ".py",
   "mimetype": "text/x-python",
   "name": "python",
   "nbconvert_exporter": "python",
   "pygments_lexer": "ipython3",
   "version": "3.8.8"
  }
 },
 "nbformat": 4,
 "nbformat_minor": 5
}
