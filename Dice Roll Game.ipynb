{
 "cells": [
  {
   "cell_type": "code",
   "execution_count": null,
   "id": "af4492d2",
   "metadata": {},
   "outputs": [
    {
     "name": "stdout",
     "output_type": "stream",
     "text": [
      "Rolling dice...\n",
      "Your number : 1\n",
      "Do you wanna roll the dice again? (y/n)y\n",
      "Rolling dice...\n",
      "Your number : 2\n",
      "Do you wanna roll the dice again? (y/n)y\n",
      "Rolling dice...\n",
      "Your number : 2\n",
      "Do you wanna roll the dice again? (y/n)y\n",
      "Rolling dice...\n",
      "Your number : 5\n"
     ]
    }
   ],
   "source": [
    "import random\n",
    "\n",
    "def rolldice(min, max):\n",
    "    while True:\n",
    "        print(\"Rolling dice...\")\n",
    "        number = random.randint(min, max)\n",
    "        print(f\"Your number : {number}\")\n",
    "        choice = input(\"Do you wanna roll the dice again? (y/n)\")\n",
    "        if choice.lower() == 'n':\n",
    "            break\n",
    "rolldice(1, 6)"
   ]
  },
  {
   "cell_type": "code",
   "execution_count": null,
   "id": "028c758a",
   "metadata": {},
   "outputs": [],
   "source": []
  }
 ],
 "metadata": {
  "kernelspec": {
   "display_name": "Python 3",
   "language": "python",
   "name": "python3"
  },
  "language_info": {
   "codemirror_mode": {
    "name": "ipython",
    "version": 3
   },
   "file_extension": ".py",
   "mimetype": "text/x-python",
   "name": "python",
   "nbconvert_exporter": "python",
   "pygments_lexer": "ipython3",
   "version": "3.8.8"
  }
 },
 "nbformat": 4,
 "nbformat_minor": 5
}
