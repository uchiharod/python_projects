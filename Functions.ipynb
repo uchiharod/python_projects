{
 "cells": [
  {
   "cell_type": "code",
   "execution_count": 2,
   "id": "0bf3a21f",
   "metadata": {},
   "outputs": [
    {
     "name": "stdout",
     "output_type": "stream",
     "text": [
      "I'm saying hi!!! Say hi back you ogre!!!\n"
     ]
    }
   ],
   "source": [
    "def saying_hi():\n",
    "    print(\"I'm saying hi!!! Say hi back you ogre!!!\")\n",
    "\n",
    "\n",
    "saying_hi()"
   ]
  },
  {
   "cell_type": "code",
   "execution_count": 1,
   "id": "3c04c4fd",
   "metadata": {},
   "outputs": [
    {
     "name": "stdout",
     "output_type": "stream",
     "text": [
      "I'm saying NO!!! Say NO back you ogre!!!\n"
     ]
    }
   ],
   "source": [
    "def saying_no():\n",
    "    print(\"I'm saying NO!!! Say NO back you ogre!!!\")\n",
    "\n",
    "\n",
    "saying_no()"
   ]
  },
  {
   "cell_type": "code",
   "execution_count": 4,
   "id": "fcba6a6a",
   "metadata": {},
   "outputs": [
    {
     "name": "stdout",
     "output_type": "stream",
     "text": [
      "Hi Jason!\n",
      "Hi everybody!\n",
      "Hi Rod!\n"
     ]
    }
   ],
   "source": [
    "def say_hi(name):\n",
    "    print('Hi {}!'.format(name))\n",
    "\n",
    "say_hi('Jason')\n",
    "say_hi('everybody')\n",
    "say_hi('Rod')"
   ]
  },
  {
   "cell_type": "code",
   "execution_count": 2,
   "id": "292de1c6",
   "metadata": {},
   "outputs": [
    {
     "name": "stdout",
     "output_type": "stream",
     "text": [
      "What the hell yo!\n",
      "What the hell fool!\n",
      "What the hell Broly!\n"
     ]
    }
   ],
   "source": [
    "def say_whatthehell(name):\n",
    "    print('What the hell {}!'.format(name))\n",
    "\n",
    "say_whatthehell('yo')\n",
    "say_whatthehell('fool')\n",
    "say_whatthehell('Broly')"
   ]
  },
  {
   "cell_type": "code",
   "execution_count": 6,
   "id": "5f542df9",
   "metadata": {},
   "outputs": [
    {
     "name": "stdout",
     "output_type": "stream",
     "text": [
      "Hi Jane Doe!\n",
      "Hi Boom-Boom Pow!\n"
     ]
    }
   ],
   "source": [
    "def say_hi(first, last):\n",
    "    print('Hi {} {}!'.format(first, last))\n",
    "\n",
    "say_hi('Jane', 'Doe')\n",
    "say_hi('Boom-Boom', 'Pow')"
   ]
  },
  {
   "cell_type": "code",
   "execution_count": 7,
   "id": "8a4b0f30",
   "metadata": {},
   "outputs": [
    {
     "name": "stdout",
     "output_type": "stream",
     "text": [
      "Hi Jane to the mofo over there Doe!\n",
      "Hi Boom-Boom to the mofo over there Pow!\n"
     ]
    }
   ],
   "source": [
    "def say_hi(first, last):\n",
    "    print('Hi {} to the mofo over there {}!'.format(first, last))\n",
    "\n",
    "say_hi('Jane', 'Doe')\n",
    "say_hi('Boom-Boom', 'Pow')"
   ]
  },
  {
   "cell_type": "code",
   "execution_count": 3,
   "id": "b92a1c78",
   "metadata": {},
   "outputs": [
    {
     "name": "stdout",
     "output_type": "stream",
     "text": [
      "Hi Jane to the mofo over there Doe!\n",
      "Hi Boom-Boom to the mofo over there Pow!\n"
     ]
    }
   ],
   "source": [
    "def say_hi(first, last):\n",
    "    print('Hi {} to the mofo over there {}!'.format(first, last))\n",
    "\n",
    "say_hi('Jane', 'Doe')\n",
    "say_hi('Boom-Boom', 'Pow')"
   ]
  },
  {
   "cell_type": "code",
   "execution_count": 11,
   "id": "009e1eb0",
   "metadata": {},
   "outputs": [
    {
     "name": "stdout",
     "output_type": "stream",
     "text": [
      "Hi Dr. Doom!\n",
      "Hi John Coltrane!\n",
      "Hi Rod Doom!\n",
      "Hi Door Goomba!\n"
     ]
    }
   ],
   "source": [
    "def say_hi(first, last='Doom'):\n",
    "    print('Hi {} {}!'.format(first, last))\n",
    "\n",
    "say_hi('Dr.')\n",
    "say_hi('John', 'Coltrane')\n",
    "say_hi('Rod')\n",
    "say_hi('Door', 'Goomba')"
   ]
  },
  {
   "cell_type": "code",
   "execution_count": 15,
   "id": "682c6acb",
   "metadata": {},
   "outputs": [
    {
     "name": "stdout",
     "output_type": "stream",
     "text": [
      "Help on function say_hi in module __main__:\n",
      "\n",
      "say_hi(first, last='Doe')\n",
      "    Say hello.\n",
      "\n"
     ]
    }
   ],
   "source": [
    "def say_hi(first, last='Doe'):\n",
    "    \"\"\"Say hello.\"\"\"\n",
    "    print('Hi {} {}!'.format(first, last))\n",
    "\n",
    "help(say_hi)\n"
   ]
  },
  {
   "cell_type": "code",
   "execution_count": 21,
   "id": "de337d78",
   "metadata": {},
   "outputs": [
    {
     "name": "stdout",
     "output_type": "stream",
     "text": [
      "Odd\n"
     ]
    }
   ],
   "source": [
    "def odd_or_even(number):\n",
    "    \"\"\"Determine if a number is odd or even.\"\"\"\n",
    "    if number % 2 == 0:\n",
    "        return 'Even'\n",
    "    else:\n",
    "        return 'Odd'\n",
    "\n",
    "odd_or_even_string = odd_or_even(1)\n",
    "print(odd_or_even_string)"
   ]
  },
  {
   "cell_type": "code",
   "execution_count": 22,
   "id": "76c2bf1e",
   "metadata": {},
   "outputs": [
    {
     "name": "stdout",
     "output_type": "stream",
     "text": [
      "Enter a word that is a noun: Rod\n",
      "Enter a word that is a verb: has\n",
      "Enter a word that is an adjective: happy\n",
      "\n",
      "Here is the story you created.  Enjoy!\n",
      "\n",
      "In this course you will learn how to has.  It's so easy even a Rod can do it.  Trust me, it will be very happy.\n"
     ]
    }
   ],
   "source": [
    "def get_word(word_type):\n",
    "    \"\"\"Get a word from a user and return that word.\"\"\"\n",
    "\n",
    "    # The lower() function converts the string to lowercase before testing it\n",
    "    if word_type.lower() == 'adjective':\n",
    "        # Use 'an' in front of 'adjective'\n",
    "        a_or_an = 'an'\n",
    "    else:\n",
    "        # Otherwise, use 'a' in front of 'noun' or 'verb'\n",
    "        a_or_an = 'a'\n",
    "    return input('Enter a word that is {0} {1}: '.format(a_or_an, word_type))\n",
    "\n",
    "\n",
    "def fill_in_the_blanks(noun, verb, adjective):\n",
    "    \"\"\"Fills in the blanks and returns a completed story.\"\"\"\n",
    "\n",
    "    # The \\ lets the string continue on the next line to make the code easier to read\n",
    "    story = \"In this course you will learn how to {1}.  \" \\\n",
    "            \"It's so easy even a {0} can do it.  \" \\\n",
    "            \"Trust me, it will be very {2}.\".format(noun, verb, adjective)\n",
    "    return story\n",
    "\n",
    "\n",
    "def display_story(story):\n",
    "    \"\"\"Displays a story.\"\"\"\n",
    "    print()\n",
    "    print('Here is the story you created.  Enjoy!')\n",
    "    print()\n",
    "    print(story)\n",
    "\n",
    "\n",
    "def create_story():\n",
    "    \"\"\"Creates a story by capturing the input and displaying a finished story.\"\"\"\n",
    "    noun = get_word('noun')\n",
    "    verb = get_word('verb')\n",
    "    adjective = get_word('adjective')\n",
    "\n",
    "    the_story = fill_in_the_blanks(noun, verb, adjective)\n",
    "    display_story(the_story)\n",
    "\n",
    "create_story()"
   ]
  },
  {
   "cell_type": "code",
   "execution_count": null,
   "id": "df2f4fc7",
   "metadata": {},
   "outputs": [],
   "source": []
  }
 ],
 "metadata": {
  "kernelspec": {
   "display_name": "Python 3",
   "language": "python",
   "name": "python3"
  },
  "language_info": {
   "codemirror_mode": {
    "name": "ipython",
    "version": 3
   },
   "file_extension": ".py",
   "mimetype": "text/x-python",
   "name": "python",
   "nbconvert_exporter": "python",
   "pygments_lexer": "ipython3",
   "version": "3.8.8"
  }
 },
 "nbformat": 4,
 "nbformat_minor": 5
}
