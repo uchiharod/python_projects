{
 "cells": [
  {
   "cell_type": "code",
   "execution_count": 2,
   "id": "de1861d8",
   "metadata": {},
   "outputs": [
    {
     "name": "stdout",
     "output_type": "stream",
     "text": [
      "I'm saying hi!!! Say hi back you ogre!!!\n"
     ]
    }
   ],
   "source": [
    "def saying_hi():\n",
    "    print(\"I'm saying hi!!! Say hi back you ogre!!!\")\n",
    "\n",
    "\n",
    "saying_hi()"
   ]
  },
  {
   "cell_type": "code",
   "execution_count": 4,
   "id": "432b5b46",
   "metadata": {},
   "outputs": [
    {
     "name": "stdout",
     "output_type": "stream",
     "text": [
      "Hi Jason!\n",
      "Hi everybody!\n",
      "Hi Rod!\n"
     ]
    }
   ],
   "source": [
    "def say_hi(name):\n",
    "    print('Hi {}!'.format(name))\n",
    "\n",
    "say_hi('Jason')\n",
    "say_hi('everybody')\n",
    "say_hi('Rod')"
   ]
  },
  {
   "cell_type": "code",
   "execution_count": 6,
   "id": "8f1e83fd",
   "metadata": {},
   "outputs": [
    {
     "name": "stdout",
     "output_type": "stream",
     "text": [
      "Hi Jane Doe!\n",
      "Hi Boom-Boom Pow!\n"
     ]
    }
   ],
   "source": [
    "def say_hi(first, last):\n",
    "    print('Hi {} {}!'.format(first, last))\n",
    "\n",
    "say_hi('Jane', 'Doe')\n",
    "say_hi('Boom-Boom', 'Pow')"
   ]
  },
  {
   "cell_type": "code",
   "execution_count": 7,
   "id": "bcbea44c",
   "metadata": {},
   "outputs": [
    {
     "name": "stdout",
     "output_type": "stream",
     "text": [
      "Hi Jane to the mofo over there Doe!\n",
      "Hi Boom-Boom to the mofo over there Pow!\n"
     ]
    }
   ],
   "source": [
    "def say_hi(first, last):\n",
    "    print('Hi {} to the mofo over there {}!'.format(first, last))\n",
    "\n",
    "say_hi('Jane', 'Doe')\n",
    "say_hi('Boom-Boom', 'Pow')"
   ]
  },
  {
   "cell_type": "code",
   "execution_count": 11,
   "id": "80debc4b",
   "metadata": {},
   "outputs": [
    {
     "name": "stdout",
     "output_type": "stream",
     "text": [
      "Hi Dr. Doom!\n",
      "Hi John Coltrane!\n",
      "Hi Rod Doom!\n",
      "Hi Door Goomba!\n"
     ]
    }
   ],
   "source": [
    "def say_hi(first, last='Doom'):\n",
    "    print('Hi {} {}!'.format(first, last))\n",
    "\n",
    "say_hi('Dr.')\n",
    "say_hi('John', 'Coltrane')\n",
    "say_hi('Rod')\n",
    "say_hi('Door', 'Goomba')"
   ]
  },
  {
   "cell_type": "code",
   "execution_count": 15,
   "id": "6bf76b9c",
   "metadata": {},
   "outputs": [
    {
     "name": "stdout",
     "output_type": "stream",
     "text": [
      "Help on function say_hi in module __main__:\n",
      "\n",
      "say_hi(first, last='Doe')\n",
      "    Say hello.\n",
      "\n"
     ]
    }
   ],
   "source": [
    "def say_hi(first, last='Doe'):\n",
    "    \"\"\"Say hello.\"\"\"\n",
    "    print('Hi {} {}!'.format(first, last))\n",
    "\n",
    "help(say_hi)\n"
   ]
  },
  {
   "cell_type": "code",
   "execution_count": 21,
   "id": "7d6cd593",
   "metadata": {},
   "outputs": [
    {
     "name": "stdout",
     "output_type": "stream",
     "text": [
      "Odd\n"
     ]
    }
   ],
   "source": [
    "def odd_or_even(number):\n",
    "    \"\"\"Determine if a number is odd or even.\"\"\"\n",
    "    if number % 2 == 0:\n",
    "        return 'Even'\n",
    "    else:\n",
    "        return 'Odd'\n",
    "\n",
    "odd_or_even_string = odd_or_even(1)\n",
    "print(odd_or_even_string)"
   ]
  },
  {
   "cell_type": "code",
   "execution_count": null,
   "id": "f0486a12",
   "metadata": {},
   "outputs": [],
   "source": []
  }
 ],
 "metadata": {
  "kernelspec": {
   "display_name": "Python 3",
   "language": "python",
   "name": "python3"
  },
  "language_info": {
   "codemirror_mode": {
    "name": "ipython",
    "version": 3
   },
   "file_extension": ".py",
   "mimetype": "text/x-python",
   "name": "python",
   "nbconvert_exporter": "python",
   "pygments_lexer": "ipython3",
   "version": "3.8.8"
  }
 },
 "nbformat": 4,
 "nbformat_minor": 5
}
