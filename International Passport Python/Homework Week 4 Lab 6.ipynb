{
 "cells": [
  {
   "cell_type": "code",
   "execution_count": 1,
   "id": "ab1cca14",
   "metadata": {},
   "outputs": [
    {
     "name": "stdout",
     "output_type": "stream",
     "text": [
      "[9, 8, 7, 6, 5, 4, 3, 2, 1]\n",
      "These are the worse girls to date: ['Kiesha', 'Jenny', 'Helen', 'Shaniqua', 'Latisha', 'Jamela', 'Britnney', 'Janet']\n",
      "[2, 4, 6, 8, 10, 12, 14, 16, 18]\n",
      "Well done for Learning your 2 times tables\n",
      "['Chips', 'Spinach', 'Potatoes', 'Parsely', 'Milk', 'Bananas'] Will be added to your shopping list. Thank You! \n",
      "I have \n",
      "['Clothes', 'Glasses', 'Cutlery', 'Kitchenware', 'Table', 'Chairs']\n",
      "All For Sale\n",
      "Contact me to arrange Pickup. Thanks! \n"
     ]
    }
   ],
   "source": [
    "##Homework Week 4 Lab 6 - concatenate multiple lists together using the + operator\n",
    "\n",
    "##*5\n",
    "\n",
    "#1\n",
    "\n",
    "list0 = [9,8,7]\n",
    "\n",
    "list1 = [6,5,4]\n",
    "\n",
    "list2 = [3,2,1]\n",
    "\n",
    "countdown = list0 + list1 + list2\n",
    "\n",
    "print(countdown)\n",
    "\n",
    "#2\n",
    "\n",
    "girl0 = [\"Kiesha\", \"Jenny\", \"Helen\"]\n",
    "\n",
    "girl1 = [\"Shaniqua\", \"Latisha\", \"Jamela\"]\n",
    "\n",
    "girl2 = [\"Britnney\", \"Janet\"]\n",
    "\n",
    "worse = girl0 + girl1 + girl2\n",
    "\n",
    "print(\"These are the worse girls to date: \" + str(worse))\n",
    "\n",
    "#3\n",
    "\n",
    "list0 = [2, 4, 6]\n",
    "\n",
    "list1 = [8, 10, 12]\n",
    "\n",
    "list2 = [14, 16, 18]\n",
    "\n",
    "two_times_table = list0 + list1 + list2\n",
    "\n",
    "print(two_times_table)\n",
    "\n",
    "print(\"Well done for Learning your 2 times tables\")\n",
    "\n",
    "#4\n",
    "\n",
    "groc0 = [\"Chips\", \"Spinach\"]\n",
    "\n",
    "groc1 = [\"Potatoes\", \"Parsely\"]\n",
    "\n",
    "groc2 = [\"Milk\", \"Bananas\"]\n",
    "\n",
    "shopping_list = groc0 + groc1 + groc2\n",
    "\n",
    "print(str(shopping_list) + \" Will be added to your shopping list. Thank You! \")\n",
    "\n",
    "#5\n",
    "\n",
    "items0 = [\"Clothes\", \"Glasses\"]\n",
    "\n",
    "items1 = [\"Cutlery\", \"Kitchenware\"]\n",
    "\n",
    "items2 = [\"Table\", \"Chairs\"]\n",
    "\n",
    "sale = items0 + items1 + items2\n",
    "\n",
    "print(\"I have \\n\" + str(sale) + \"\\nAll For Sale\")\n",
    "\n",
    "print(\"Contact me to arrange Pickup. Thanks! \") "
   ]
  },
  {
   "cell_type": "code",
   "execution_count": 2,
   "id": "79bceffb",
   "metadata": {},
   "outputs": [
    {
     "name": "stdout",
     "output_type": "stream",
     "text": [
      "[9, 8, 7, 6, 5, 4, 3, 2, 1]\n",
      "These are the worse girls to date: ['Kiesha', 'Jenny', 'Helen', 'Shaniqua', 'Latisha', 'Jamela', 'Britnney', 'Janet']\n",
      "[2, 4, 6, 8, 10, 12, 14, 16, 18]\n",
      "Well done for Learning your 2 times tables\n",
      "['Chips', 'Spinach', 'Potatoes', 'Parsely', 'Milk', 'Bananas'] Will be added to your shopping list. Thank You! \n",
      "I have \n",
      "['Clothes', 'Glasses', 'Cutlery', 'Kitchenware', 'Table', 'Chairs']\n",
      "All For Sale\n",
      "Contact me to arrange Pickup. Thanks! \n"
     ]
    }
   ],
   "source": [
    "##Homework Week 4 Lab 6 - concatenate multiple lists together using the + operator\n",
    "\n",
    "##*5\n",
    "\n",
    "#1\n",
    "\n",
    "list0 = [9,8,7]\n",
    "\n",
    "list1 = [6,5,4]\n",
    "\n",
    "list2 = [3,2,1]\n",
    "\n",
    "countdown = list0 + list1 + list2\n",
    "\n",
    "print(countdown)\n",
    "\n",
    "#2\n",
    "\n",
    "girl0 = [\"Kiesha\", \"Jenny\", \"Helen\"]\n",
    "\n",
    "girl1 = [\"Shaniqua\", \"Latisha\", \"Jamela\"]\n",
    "\n",
    "girl2 = [\"Britnney\", \"Janet\"]\n",
    "\n",
    "worse = girl0 + girl1 + girl2\n",
    "\n",
    "print(\"These are the worse girls to date: \" + str(worse))\n",
    "\n",
    "#3\n",
    "\n",
    "list0 = [2, 4, 6]\n",
    "\n",
    "list1 = [8, 10, 12]\n",
    "\n",
    "list2 = [14, 16, 18]\n",
    "\n",
    "two_times_table = list0 + list1 + list2\n",
    "\n",
    "print(two_times_table)\n",
    "\n",
    "print(\"Well done for Learning your 2 times tables\")\n",
    "\n",
    "#4\n",
    "\n",
    "groc0 = [\"Chips\", \"Spinach\"]\n",
    "\n",
    "groc1 = [\"Potatoes\", \"Parsely\"]\n",
    "\n",
    "groc2 = [\"Milk\", \"Bananas\"]\n",
    "\n",
    "shopping_list = groc0 + groc1 + groc2\n",
    "\n",
    "print(str(shopping_list) + \" Will be added to your shopping list. Thank You! \")\n",
    "\n",
    "#5\n",
    "\n",
    "items0 = [\"Clothes\", \"Glasses\"]\n",
    "\n",
    "items1 = [\"Cutlery\", \"Kitchenware\"]\n",
    "\n",
    "items2 = [\"Table\", \"Chairs\"]\n",
    "\n",
    "sale = items0 + items1 + items2\n",
    "\n",
    "print(\"I have \\n\" + str(sale) + \"\\nAll For Sale\")\n",
    "\n",
    "print(\"Contact me to arrange Pickup. Thanks! \") "
   ]
  },
  {
   "cell_type": "code",
   "execution_count": 6,
   "id": "56f4ec8c",
   "metadata": {},
   "outputs": [
    {
     "name": "stdout",
     "output_type": "stream",
     "text": [
      "['Kiesha', 'Jenny', 'Helen']----['Shaniqua', 'Latisha', 'Jamela'].\n",
      "EOF\n"
     ]
    }
   ],
   "source": [
    "girl0 = [\"Kiesha\", \"Jenny\", \"Helen\"]\n",
    "girl1 = [\"Shaniqua\", \"Latisha\", \"Jamela\"]\n",
    "\n",
    "print(girl0, girl1, sep='----', end='.\\nEOF\\n')"
   ]
  },
  {
   "cell_type": "code",
   "execution_count": 9,
   "id": "d4b7b774",
   "metadata": {},
   "outputs": [
    {
     "data": {
      "text/plain": [
       "['Helen', 'Jenny', 'Kiesha']"
      ]
     },
     "execution_count": 9,
     "metadata": {},
     "output_type": "execute_result"
    }
   ],
   "source": [
    "girl0[::-1]"
   ]
  },
  {
   "cell_type": "code",
   "execution_count": null,
   "id": "cc02c611",
   "metadata": {},
   "outputs": [],
   "source": []
  }
 ],
 "metadata": {
  "kernelspec": {
   "display_name": "Python 3",
   "language": "python",
   "name": "python3"
  },
  "language_info": {
   "codemirror_mode": {
    "name": "ipython",
    "version": 3
   },
   "file_extension": ".py",
   "mimetype": "text/x-python",
   "name": "python",
   "nbconvert_exporter": "python",
   "pygments_lexer": "ipython3",
   "version": "3.8.8"
  }
 },
 "nbformat": 4,
 "nbformat_minor": 5
}
