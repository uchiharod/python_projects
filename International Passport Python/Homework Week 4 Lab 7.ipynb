{
 "cells": [
  {
   "cell_type": "code",
   "execution_count": 1,
   "id": "705a7971",
   "metadata": {},
   "outputs": [
    {
     "name": "stdout",
     "output_type": "stream",
     "text": [
      "['Kiesha Gotta Go', 'Kiesha Gotta Go', 'Kiesha Gotta Go', 'Kiesha Gotta Go', 'Kiesha Gotta Go']\n",
      "['Kiesha got 10 kids', 'Kiesha got 10 kids', 'Kiesha got 10 kids', 'Kiesha got 10 kids', 'Kiesha got 10 kids', 'Brimah is not the father', 'Brimah is not the father', 'Brimah is not the father', 'Brimah is not the father', 'Brimah is not the father']\n",
      "['Brittney a hoe', 'Brittney a hoe', 'Lakiesha a hoe', 'Lakiesha a hoe']\n",
      "Passport brothers stay clear of these brawds\n",
      "If your putting ['Purpose before pleasure']You are the realest passport bro\n",
      "REMEMBER THIS! ['Purpose before pleasure']['Purpose before pleasure']['Purpose before pleasure']['Purpose before pleasure']['Purpose before pleasure']['Purpose before pleasure']['Purpose before pleasure']['Purpose before pleasure']['Purpose before pleasure']['Purpose before pleasure']\n",
      "I Dont Love['Becky']['Becky']['Becky']\n"
     ]
    }
   ],
   "source": [
    "##Homework Week 4 Lab 7 -using the * operator, which can be used for repetition in a list, to duplicate elements\n",
    "\n",
    "##*5\n",
    "\n",
    "#1\n",
    "\n",
    "list = [\"Kiesha Gotta Go\"]\n",
    "\n",
    "print(list *5)\n",
    "\n",
    "#2\n",
    "\n",
    "list1 = [\"Kiesha got 10 kids\"]\n",
    "\n",
    "list2 = [\"Brimah is not the father\"]\n",
    "\n",
    "print(list1 *5 + list2 *5)\n",
    "\n",
    "#3\n",
    "\n",
    "name = [\"Brittney a hoe\"]\n",
    "\n",
    "name1 = [\"Lakiesha a hoe\"]\n",
    "\n",
    "print(name *2 + name1 *2)\n",
    "\n",
    "print(\"Passport brothers stay clear of these brawds\" )\n",
    "\n",
    "#4\n",
    "\n",
    "affirmation = [\"Purpose before pleasure\"]\n",
    "\n",
    "print(\"If your putting \" + str(affirmation) + \"You are the realest passport bro\")\n",
    "\n",
    "print(\"REMEMBER THIS! \" + str(affirmation) *10)\n",
    "\n",
    "#5\n",
    "\n",
    "love = [\"Becky\"]\n",
    "\n",
    "print(\"I Dont Love\" + str(love) *3 ) "
   ]
  },
  {
   "cell_type": "code",
   "execution_count": 3,
   "id": "83fc2447",
   "metadata": {},
   "outputs": [
    {
     "name": "stdout",
     "output_type": "stream",
     "text": [
      "['I love exotic women.', 'I love exotic women.', 'I love exotic women.', 'I love exotic women.', 'I love exotic women.']\n",
      "['Exoticals for life', 'Exoticals for life', 'Exoticals for life', 'Exoticals for life', 'Exoticals for life', \"I'll have exotical babies\", \"I'll have exotical babies\", \"I'll have exotical babies\", \"I'll have exotical babies\", \"I'll have exotical babies\"]\n",
      "['Get this money', 'Get this money', 'Get these hoes', 'Get these hoes']\n",
      "Passport brothers will ['Get this money'] and ['Get these hoes']\n",
      "If your putting ['Purpose before pleasure']You are the realest passport bro\n",
      "REMEMBER THIS! ['Purpose before pleasure']['Purpose before pleasure']['Purpose before pleasure']['Purpose before pleasure']['Purpose before pleasure']['Purpose before pleasure']['Purpose before pleasure']['Purpose before pleasure']['Purpose before pleasure']['Purpose before pleasure']\n",
      "I Dont Love['Becky']['Becky']['Becky']\n"
     ]
    }
   ],
   "source": [
    "##Homework Week 4 Lab 7 -using the * operator, which can be used for repetition in a list, to duplicate elements\n",
    "\n",
    "##*5\n",
    "\n",
    "#1\n",
    "\n",
    "list = [\"I love exotic women.\"]\n",
    "\n",
    "print(list *5)\n",
    "\n",
    "#2\n",
    "\n",
    "list1 = [\"Exoticals for life\"]\n",
    "\n",
    "list2 = [\"I'll have exotical babies\"]\n",
    "\n",
    "print(list1 *5 + list2 *5)\n",
    "\n",
    "#3\n",
    "\n",
    "name = [\"Get this money\"]\n",
    "\n",
    "name1 = [\"Get these hoes\"]\n",
    "\n",
    "print(name *2 + name1 *2)\n",
    "\n",
    "print(\"Passport brothers will \" + str(name) + \" and \" + str(name1) )\n",
    "\n",
    "#4\n",
    "\n",
    "affirmation = [\"Purpose before pleasure\"]\n",
    "\n",
    "print(\"If your putting \" + str(affirmation) + \"You are the realest passport bro\")\n",
    "\n",
    "print(\"REMEMBER THIS! \" + str(affirmation) *10)\n",
    "\n",
    "#5\n",
    "\n",
    "love = [\"Becky\"]\n",
    "\n",
    "print(\"I Dont Love\" + str(love) *3 ) "
   ]
  },
  {
   "cell_type": "code",
   "execution_count": null,
   "id": "2fcd0f48",
   "metadata": {},
   "outputs": [],
   "source": []
  }
 ],
 "metadata": {
  "kernelspec": {
   "display_name": "Python 3",
   "language": "python",
   "name": "python3"
  },
  "language_info": {
   "codemirror_mode": {
    "name": "ipython",
    "version": 3
   },
   "file_extension": ".py",
   "mimetype": "text/x-python",
   "name": "python",
   "nbconvert_exporter": "python",
   "pygments_lexer": "ipython3",
   "version": "3.8.8"
  }
 },
 "nbformat": 4,
 "nbformat_minor": 5
}
