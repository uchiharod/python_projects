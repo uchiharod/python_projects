{
 "cells": [
  {
   "cell_type": "code",
   "execution_count": 1,
   "id": "b787284b",
   "metadata": {},
   "outputs": [
    {
     "name": "stdout",
     "output_type": "stream",
     "text": [
      "Kiesha\n",
      "[['Bella', 'Ella', 'Kiesha'], ['Lakisha', 'Shaniqua', 'Makeda'], ['Bella', 'Ella', 'Kiesha'], ['Lakisha', 'Shaniqua', 'Makeda'], ['Bella', 'Ella', 'Kiesha'], ['Lakisha', 'Shaniqua', 'Makeda']]\n",
      "Resident evil\n",
      "Your Book Python Essentials Is available for purchase\n",
      "violet\n",
      "The Number is 3\n"
     ]
    }
   ],
   "source": [
    "##Homework Week 4 Lab 8 - nested list example\n",
    "\n",
    "##*5\n",
    "\n",
    "#1\n",
    "\n",
    "names = [[\"Bella\", \"Ella\", \"Kiesha\"], [\"Lakisha\", \"Shaniqua\", \"Makeda\"]]\n",
    "\n",
    "print(names[0] [2])\n",
    "\n",
    "#2\n",
    "\n",
    "names = [[\"Bella\", \"Ella\", \"Kiesha\"], [\"Lakisha\", \"Shaniqua\", \"Makeda\"]]\n",
    "\n",
    "games = [[\"mariokart\", \"StreetFighter\", \"Resident evil\"], [\"fffff\", \"DDD\", \"ffffff\"]]\n",
    "\n",
    "print(names *3)\n",
    "\n",
    "print(games[0] [2])\n",
    "\n",
    "#3\n",
    "\n",
    "books = [[\"Think and grow rich\", \"Rich Dad Poor Dad\", \"7ven\"], [\"Python Essentials\", \"Javascript\", \"Passport Bros\"]]\n",
    "\n",
    "print(\"Your Book \" + str(books [1] [0]) + \" Is available for purchase\")\n",
    "\n",
    "#4\n",
    "\n",
    "colours = [[\"blue\", \"yellow\", \"green\"], [\"purple\", \"pink\", \"violet\"]]\n",
    "\n",
    "print(colours [1] [2])\n",
    "\n",
    "#5\n",
    "\n",
    "numbers = [[1,2,3], [4,5,6]]\n",
    "\n",
    "print(\"The Number is \" + str(numbers [0] [2]))"
   ]
  },
  {
   "cell_type": "code",
   "execution_count": null,
   "id": "a9fd60c6",
   "metadata": {},
   "outputs": [],
   "source": []
  }
 ],
 "metadata": {
  "kernelspec": {
   "display_name": "Python 3",
   "language": "python",
   "name": "python3"
  },
  "language_info": {
   "codemirror_mode": {
    "name": "ipython",
    "version": 3
   },
   "file_extension": ".py",
   "mimetype": "text/x-python",
   "name": "python",
   "nbconvert_exporter": "python",
   "pygments_lexer": "ipython3",
   "version": "3.8.8"
  }
 },
 "nbformat": 4,
 "nbformat_minor": 5
}
