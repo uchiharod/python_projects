{
 "cells": [
  {
   "cell_type": "code",
   "execution_count": null,
   "id": "3fa6f7d4",
   "metadata": {},
   "outputs": [
    {
     "name": "stdout",
     "output_type": "stream",
     "text": [
      "You Must Enter Your First Name To Start Game: Roderick\n",
      "Enter Level To Cntinue: 28\n",
      "Hello Roderick ! You are at Level 28\n",
      "You must add Kieshas name to terminate her program: Tasha\n",
      "Enter her age to make sure she doesnt return: 20\n",
      "Thank you! Tasha Is 20 Years old and has been deleted \n"
     ]
    }
   ],
   "source": [
    "##Homework Week 3 Lab 2 adding to our input function 10/03/2024 Submission date 16/03/2024\n",
    "\n",
    "##*5\n",
    "\n",
    "#1\n",
    "\n",
    "first_name = input(\"You Must Enter Your First Name To Start Game: \")\n",
    "\n",
    "game_level = input(\"Enter Level To Cntinue: \")\n",
    "\n",
    "print(\"Hello \" + first_name + \" ! You are at Level \" + game_level)\n",
    "\n",
    "#2\n",
    "\n",
    "name = input(\"You must add Kieshas name to terminate her program: \")\n",
    "\n",
    "age = input(\"Enter her age to make sure she doesnt return: \")\n",
    "\n",
    "print(\"Thank you\" \"! \" + name + \" Is \" + age + \" Years old and has been deleted \" )\n",
    "\n",
    "#3\n",
    "\n",
    "name = input(\"Enter Name: \")\n",
    "\n",
    "age = (\"24\") #STRING AS YOU CANNOT CONCATENATE INTEGERS\n",
    "\n",
    "print(\"Hello \" + name + \" You are \" + age + \" Years old! \")\n",
    "\n",
    "#4\n",
    "\n",
    "name = input(\"Enter name: \")\n",
    "\n",
    "age = (24) #INT. Will use str() function to concatenate\n",
    "\n",
    "print(\"Hello \" + name + \" You are \" + str(age) + \"Years old!\")\n",
    "\n",
    "#5\n",
    "\n",
    "name = input(\"Enter Name to contiue: \")\n",
    "\n",
    "level = (15)\n",
    "\n",
    "print(\"Thank you \" + name + \" You are at Level \" + str(level) )\n",
    "\n",
    "y_n = input(\"yes/no: \")\n",
    "\n",
    "print(name + \" You said \" + y_n + \" Press Play to continue\")"
   ]
  },
  {
   "cell_type": "code",
   "execution_count": 4,
   "id": "b8ca078a",
   "metadata": {},
   "outputs": [
    {
     "name": "stdout",
     "output_type": "stream",
     "text": [
      "Enter your name: Roderick  \n",
      "What level are you? 45\n",
      "Hello Roderick  ! You are at level 45\n",
      "Enter your opponent's name: Ganon\n",
      "Enter the age of your opponent: 45\n",
      "Thanks! Ganon is 45 years old and it's time to duel.\n",
      "Enter the model of your car: Honda\n",
      "Your car model is a Honda and it's 24 years old.\n",
      "Enter the model of your car: Honda\n",
      "Your car model is a Honda and it's 24 years old.\n",
      "Enter the name of the final boss: Ganon\n",
      "Get ready Ganon. Even though you are at level 100 you're about to get this work.\n",
      "Are you the father or not? Enter Yes or No: No\n",
      "We asked Ganon was he the father. He said No but the lie detector test determined that was a LIE!!!\n"
     ]
    }
   ],
   "source": [
    "##Homework Week 3 Lab 2 adding to our input function 10/03/2024 Submission date 16/03/2024\n",
    "\n",
    "##*5\n",
    "\n",
    "#1\n",
    "\n",
    "gamer_name = input(\"Enter your name: \")\n",
    "\n",
    "gamer_level = input(\"What level are you? \")\n",
    "\n",
    "print(\"Hello \" + gamer_name + \"!\" + \" You are at level \" + gamer_level)\n",
    "\n",
    "#2\n",
    "\n",
    "opponent_name = input(\"Enter your opponent's name: \")\n",
    "\n",
    "opponent_age = input(\"Enter the age of your opponent: \")\n",
    "\n",
    "print(\"Thanks!\" + \" \" + opponent_name + \" is \" + opponent_age + \" years old and it's time to duel.\" )\n",
    "\n",
    "#3\n",
    "\n",
    "car_model = input(\"Enter the model of your car: \")\n",
    "\n",
    "car_age = \"24\" #STRING AS YOU CANNOT CONCATENATE INTEGERS\n",
    "\n",
    "print(\"Your car model is a \" + car_model + \" and it's \" + car_age + \" years old.\")\n",
    "\n",
    "#4\n",
    "\n",
    "car_model = input(\"Enter the model of your car: \")\n",
    "\n",
    "car_age = 24 #STRING AS YOU CANNOT CONCATENATE INTEGERS\n",
    "\n",
    "print(\"Your car model is a \" + car_model + \" and it's \" + str(car_age) + \" years old.\")\n",
    "\n",
    "#5\n",
    "\n",
    "final_boss_name = input(\"Enter the name of the final boss: \")\n",
    "\n",
    "final_boss_level = 100\n",
    "\n",
    "print(\"Get ready\" + \" \" + final_boss_name + \".\" + \" Even though you are at level \" + str(final_boss_level) + \" you're about to get this work.\" )\n",
    "\n",
    "maury_asks = input(\"Are you the father or not? Enter Yes or No: \")\n",
    "\n",
    "print(\"We asked \" + final_boss_name + \" was he the father. He said \" + maury_asks + \" but the lie detector test determined that was a LIE!!!\")"
   ]
  },
  {
   "cell_type": "code",
   "execution_count": null,
   "id": "466f4506",
   "metadata": {},
   "outputs": [],
   "source": []
  }
 ],
 "metadata": {
  "kernelspec": {
   "display_name": "Python 3 (ipykernel)",
   "language": "python",
   "name": "python3"
  },
  "language_info": {
   "codemirror_mode": {
    "name": "ipython",
    "version": 3
   },
   "file_extension": ".py",
   "mimetype": "text/x-python",
   "name": "python",
   "nbconvert_exporter": "python",
   "pygments_lexer": "ipython3",
   "version": "3.11.3"
  }
 },
 "nbformat": 4,
 "nbformat_minor": 5
}
