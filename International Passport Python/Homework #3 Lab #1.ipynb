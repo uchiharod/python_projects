{
 "cells": [
  {
   "cell_type": "code",
   "execution_count": 1,
   "id": "ab9ca51f",
   "metadata": {},
   "outputs": [
    {
     "name": "stdout",
     "output_type": "stream",
     "text": [
      "To begin Game Enter Name. Cannot begin with K and end with A:A\n",
      "Hello A!\n",
      "Enter a valid surname please: Moore\n",
      "Hello Your surname is Moore Dont forget to put your first name: \n",
      "Type the first line of your street: Rando\n",
      "Rando\n",
      "Estas seguro Y/N?: Y\n",
      "Rando is correcto\n",
      "Type Yes If you hate Kiesha: Y\n",
      "Y You guessed it, Kiesha will be on your next flight to Colombia \n",
      "Enter Kieshas name to find out the mystery of women: 8\n",
      "8\n",
      "Sorry system error\n"
     ]
    }
   ],
   "source": [
    "##Homework Week 3 Lab 1 writing our first input function 10/03/2024 Submission date 16/03/2024\n",
    "\n",
    "##*5\n",
    "\n",
    "#1\n",
    "\n",
    "kiesha_must_go = input(\"To begin Game Enter Name. Cannot begin with K and end with A:\")\n",
    "\n",
    "print(\"Hello \" + kiesha_must_go + \"!\" )\n",
    "\n",
    "#2\n",
    "\n",
    "surname = input(\"Enter a valid surname please: \")\n",
    "\n",
    "first_name = (\" Dont forget to put your first name: \")\n",
    "\n",
    "print(\"Hello Your surname is \" + surname + first_name)\n",
    "\n",
    "#3\n",
    "\n",
    "street_address = input(\"Type the first line of your street: \")\n",
    "\n",
    "print(street_address)\n",
    "\n",
    "condition = input(\"Estas seguro Y/N?: \")\n",
    "\n",
    "print(street_address + \" is correcto\")\n",
    "\n",
    "#4\n",
    "\n",
    "we_men_aint_we = input(\"Type Yes If you hate Kiesha: \")\n",
    "\n",
    "print(we_men_aint_we + \" You guessed it, Kiesha will be on your next flight to Colombia \")\n",
    "\n",
    "#5\n",
    "\n",
    "kieshas_name = input(\"Enter Kieshas name to find out the mystery of women: \")\n",
    "\n",
    "print(kieshas_name)\n",
    "\n",
    "error = (\"Sorry system error\")\n",
    "\n",
    "print(error)"
   ]
  },
  {
   "cell_type": "code",
   "execution_count": 1,
   "id": "e6a84a0d",
   "metadata": {},
   "outputs": [
    {
     "name": "stdout",
     "output_type": "stream",
     "text": [
      "What's my name fool? Snoop Dogg\n",
      "Hello Snoop Dogg!\n",
      "What's your last name? Moore\n",
      "What's your first name: Roderick\n",
      "Your full name is Roderick Moore\n",
      "Type the first line of your home address: 977 Randolph Circle\n",
      "977 Randolph Circle\n",
      "How is the weather?: hot\n",
      "The weather is hot\n",
      "Who's the master? Sho Nuff\n",
      "Sho Nuff.......So you're the one who defeated my master. Feel my Wu-Tang style!!! \n",
      "Enter the name of the new student: Roderick\n",
      "Roderick\n"
     ]
    }
   ],
   "source": [
    "##Homework Week 3 Lab 1 writing our first input function 10/03/2024 Submission date 16/03/2024\n",
    "\n",
    "##*5\n",
    "\n",
    "#1\n",
    "\n",
    "name = input(\"What's my name fool? \")\n",
    "\n",
    "print(\"Hello \" + name + \"!\" )\n",
    "\n",
    "#2\n",
    "\n",
    "last_name = input(\"What's your last name? \")\n",
    "\n",
    "first_name = input(\"What's your first name: \")\n",
    "\n",
    "full_name = first_name + \" \" + last_name\n",
    "\n",
    "print(\"Your full name is \" + full_name)\n",
    "\n",
    "#3\n",
    "\n",
    "home_address = input(\"Type the first line of your home address: \")\n",
    "\n",
    "print(home_address)\n",
    "\n",
    "weather_condition = input(\"How is the weather?: \")\n",
    "\n",
    "print(\"The weather is \" + weather_condition)\n",
    "\n",
    "#4\n",
    "\n",
    "secret_fighter = input(\"Who's the master? \")\n",
    "\n",
    "print(secret_fighter + \".......So you're the one who defeated my master. Feel my Wu-Tang style!!! \")\n",
    "\n",
    "#5\n",
    "\n",
    "new_student_name = input(\"Enter the name of the new student: \")\n",
    "\n",
    "print(new_student_name)"
   ]
  },
  {
   "cell_type": "code",
   "execution_count": null,
   "id": "ad3fbdfa",
   "metadata": {},
   "outputs": [],
   "source": []
  }
 ],
 "metadata": {
  "kernelspec": {
   "display_name": "Python 3",
   "language": "python",
   "name": "python3"
  },
  "language_info": {
   "codemirror_mode": {
    "name": "ipython",
    "version": 3
   },
   "file_extension": ".py",
   "mimetype": "text/x-python",
   "name": "python",
   "nbconvert_exporter": "python",
   "pygments_lexer": "ipython3",
   "version": "3.8.8"
  }
 },
 "nbformat": 4,
 "nbformat_minor": 5
}
