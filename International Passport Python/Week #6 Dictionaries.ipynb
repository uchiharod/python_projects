{
 "cells": [
  {
   "cell_type": "markdown",
   "id": "3903f9e6",
   "metadata": {},
   "source": [
    "Dictionaries \n",
    "• Dictionaries are a special structure in python which allows you to store information in what are called key value pairs. \n",
    "• The user creates key value pairs and when he wants to access information inside the dictionary, he can refer to it by \n",
    "its key. \n",
    "• When playing with dictionaries you always want to use curly brackets \n",
    "• All keys must be unique when creating a dictionary, don't use the same key twice \n",
    "• The keys and values are separated by colons. \n",
    "\n",
    "Dictionaries continued \n",
    "Dictionaries are like lists. They both share the following properties: \n",
    "• Both can be used to store values \n",
    "• Both can be changed in place and can grow and shrink on demand Differences: \n",
    "• The main difference between lists and dictionaries is how elements are accessed. \n",
    "List elements are accessed by their position index, which is [0,1,2 etc], while dictionary elements are accessedivia keys. \n",
    "• Dictionaries are curly brackets, lists are square brackets \n"
   ]
  },
  {
   "cell_type": "code",
   "execution_count": 2,
   "id": "8f3211ec",
   "metadata": {},
   "outputs": [
    {
     "name": "stdout",
     "output_type": "stream",
     "text": [
      "Stephen Curry\n"
     ]
    }
   ],
   "source": [
    "#Dictionaries Lab 1\n",
    "#Writing our first dictionary and calling from it\n",
    "\n",
    "NbaMostValuablePlayerAward = {\n",
    "    2013: \"Lebron James\",\n",
    "    2014: \"Kawhi Leonard\",\n",
    "    2015: \"Andre Iguodala\",\n",
    "    2016: \"Lebron James\",\n",
    "    2017: \"Kevin Durant\",\n",
    "    2018: \"Kevin Durant\",\n",
    "    2019: \"Kawhi Leonard\",\n",
    "    2020: \"Lebron James\",\n",
    "    2021: \"Giannis Antetokoumpo\",\n",
    "    2022: \"Stephen Curry\",\n",
    "    2023: \"Nikola Jokic\"    \n",
    "}\n",
    "\n",
    "print(NbaMostValuablePlayerAward [2022])"
   ]
  },
  {
   "cell_type": "code",
   "execution_count": 3,
   "id": "f0200e01",
   "metadata": {},
   "outputs": [
    {
     "name": "stdout",
     "output_type": "stream",
     "text": [
      "Lebron James\n"
     ]
    }
   ],
   "source": [
    "print(NbaMostValuablePlayerAward [2013])"
   ]
  },
  {
   "cell_type": "code",
   "execution_count": 4,
   "id": "980a4224",
   "metadata": {},
   "outputs": [
    {
     "name": "stdout",
     "output_type": "stream",
     "text": [
      "Andre Iguodala\n"
     ]
    }
   ],
   "source": [
    "print(NbaMostValuablePlayerAward [2015])"
   ]
  },
  {
   "cell_type": "code",
   "execution_count": 5,
   "id": "64f95558",
   "metadata": {},
   "outputs": [
    {
     "name": "stdout",
     "output_type": "stream",
     "text": [
      "Kevin Durant\n"
     ]
    }
   ],
   "source": [
    "print(NbaMostValuablePlayerAward [2017])"
   ]
  },
  {
   "cell_type": "code",
   "execution_count": 6,
   "id": "6290f388",
   "metadata": {},
   "outputs": [
    {
     "name": "stdout",
     "output_type": "stream",
     "text": [
      "Kawhi Leonard\n"
     ]
    }
   ],
   "source": [
    "print(NbaMostValuablePlayerAward [2019])"
   ]
  },
  {
   "cell_type": "code",
   "execution_count": 7,
   "id": "1e3cdd4a",
   "metadata": {},
   "outputs": [
    {
     "name": "stdout",
     "output_type": "stream",
     "text": [
      "1990\n"
     ]
    }
   ],
   "source": [
    "#Dictionaries Lab 2\n",
    "#Favorite films dictionary\n",
    "\n",
    "movie = {\n",
    "    \"title\": \"GoodFellas\",\n",
    "    \"director\": \"Martin Scorsese\",\n",
    "    \"Year\": 1990,\n",
    "    \"Rating\": 9.5\n",
    "}\n",
    "\n",
    "print(movie[\"Year\"])"
   ]
  },
  {
   "cell_type": "code",
   "execution_count": 8,
   "id": "03d94920",
   "metadata": {},
   "outputs": [
    {
     "name": "stdout",
     "output_type": "stream",
     "text": [
      "9.5\n"
     ]
    }
   ],
   "source": [
    "print(movie[\"Rating\"])"
   ]
  },
  {
   "cell_type": "code",
   "execution_count": 9,
   "id": "a2ce517e",
   "metadata": {},
   "outputs": [
    {
     "name": "stdout",
     "output_type": "stream",
     "text": [
      "{'title': 'City of God', 'director': 'Fernando Meirelles', 'Year': 2002, 'Rating': 8.6, 'actors': ['Alexandre Rodrigue', 'Alice Braga', 'Douglas Silva'], 'other_details': {'runtime': 180, 'language': 'English'}}\n"
     ]
    }
   ],
   "source": [
    "#Dictionaries Lab 3\n",
    "#Store a list inside a dictionary and store a dictionary that dictionaries\n",
    "movie = {}\n",
    "movie[\"title\"] = \"City of God\"\n",
    "movie[\"director\"] = \"Fernando Meirelles\"\n",
    "movie[\"Year\"] = 2002\n",
    "movie[\"Rating\"] = 8.6\n",
    "\n",
    "movie[\"actors\"] = [\"Alexandre Rodrigue\", \"Alice Braga\", \"Douglas Silva\"]\n",
    "movie[\"other_details\"] = {\"runtime\": 180, \"language\": \"English\"}\n",
    "print(movie)"
   ]
  },
  {
   "cell_type": "code",
   "execution_count": 10,
   "id": "da99d7ac",
   "metadata": {},
   "outputs": [
    {
     "name": "stdout",
     "output_type": "stream",
     "text": [
      "{'runtime': 180, 'language': 'English'}\n"
     ]
    }
   ],
   "source": [
    "print(movie[\"other_details\"])"
   ]
  },
  {
   "cell_type": "markdown",
   "id": "d0d63a7c",
   "metadata": {},
   "source": [
    "Dictionary functions \n",
    "• Since dictionaries include keys and values, it's common to access them using dictionary functions. \n",
    "• Examples of built-in Dictionaries functions — get(), keys() etc "
   ]
  },
  {
   "cell_type": "markdown",
   "id": "259218f4",
   "metadata": {},
   "source": [
    "Dictionary functions examples \n",
    "• get() - This function will return the value of the specified key \n",
    "• values() - This function will return a list of all the values in the dictionary \n",
    "• keys() - This function will return a list containing the dictionary's keys \n",
    "• copy() - This function will return a copy of the dictionary "
   ]
  },
  {
   "cell_type": "code",
   "execution_count": 13,
   "id": "17521920",
   "metadata": {},
   "outputs": [
    {
     "name": "stdout",
     "output_type": "stream",
     "text": [
      "Kawhi Leonard\n"
     ]
    }
   ],
   "source": [
    "#Dictionaries Lab 4 - using get\n",
    "NbaMostValuablePlayerAward = {\n",
    "    2013: \"Lebron James\",\n",
    "    2014: \"Kawhi Leonard\",\n",
    "    2015: \"Andre Iguodala\",\n",
    "    2016: \"Lebron James\",\n",
    "    2017: \"Kevin Durant\",\n",
    "    2018: \"Kevin Durant\",\n",
    "    2019: \"Kawhi Leonard\",\n",
    "    2020: \"Lebron James\",\n",
    "    2021: \"Giannis Antetokoumpo\",\n",
    "    2022: \"Stephen Curry\",\n",
    "    2023: \"Nikola Jokic\"    \n",
    "}\n",
    "\n",
    "print(NbaMostValuablePlayerAward.get(2014))"
   ]
  },
  {
   "cell_type": "code",
   "execution_count": 14,
   "id": "f7c53fbd",
   "metadata": {},
   "outputs": [
    {
     "name": "stdout",
     "output_type": "stream",
     "text": [
      "dict_values(['Lebron James', 'Kawhi Leonard', 'Andre Iguodala', 'Lebron James', 'Kevin Durant', 'Kevin Durant', 'Kawhi Leonard', 'Lebron James', 'Giannis Antetokoumpo', 'Stephen Curry', 'Nikola Jokic'])\n"
     ]
    }
   ],
   "source": [
    "#Dictionaries Lab 5 - using values\n",
    "NbaMostValuablePlayerAward = {\n",
    "    2013: \"Lebron James\",\n",
    "    2014: \"Kawhi Leonard\",\n",
    "    2015: \"Andre Iguodala\",\n",
    "    2016: \"Lebron James\",\n",
    "    2017: \"Kevin Durant\",\n",
    "    2018: \"Kevin Durant\",\n",
    "    2019: \"Kawhi Leonard\",\n",
    "    2020: \"Lebron James\",\n",
    "    2021: \"Giannis Antetokoumpo\",\n",
    "    2022: \"Stephen Curry\",\n",
    "    2023: \"Nikola Jokic\"    \n",
    "}\n",
    "\n",
    "print(NbaMostValuablePlayerAward.values())"
   ]
  },
  {
   "cell_type": "code",
   "execution_count": 15,
   "id": "ae1bec53",
   "metadata": {},
   "outputs": [
    {
     "name": "stdout",
     "output_type": "stream",
     "text": [
      "dict_keys([2013, 2014, 2015, 2016, 2017, 2018, 2019, 2020, 2021, 2022, 2023])\n"
     ]
    }
   ],
   "source": [
    "#Dictionaries Lab 6 - using keys\n",
    "NbaMostValuablePlayerAward = {\n",
    "    2013: \"Lebron James\",\n",
    "    2014: \"Kawhi Leonard\",\n",
    "    2015: \"Andre Iguodala\",\n",
    "    2016: \"Lebron James\",\n",
    "    2017: \"Kevin Durant\",\n",
    "    2018: \"Kevin Durant\",\n",
    "    2019: \"Kawhi Leonard\",\n",
    "    2020: \"Lebron James\",\n",
    "    2021: \"Giannis Antetokoumpo\",\n",
    "    2022: \"Stephen Curry\",\n",
    "    2023: \"Nikola Jokic\"    \n",
    "}\n",
    "\n",
    "print(NbaMostValuablePlayerAward.keys())"
   ]
  },
  {
   "cell_type": "code",
   "execution_count": 16,
   "id": "0ac3b6aa",
   "metadata": {},
   "outputs": [
    {
     "name": "stdout",
     "output_type": "stream",
     "text": [
      "{2013: 'Lebron James', 2014: 'Kawhi Leonard', 2015: 'Andre Iguodala', 2016: 'Lebron James', 2017: 'Kevin Durant', 2018: 'Kevin Durant', 2019: 'Kawhi Leonard', 2020: 'Lebron James', 2021: 'Giannis Antetokoumpo', 2022: 'Stephen Curry', 2023: 'Nikola Jokic'}\n"
     ]
    }
   ],
   "source": [
    "#Dictionaries Lab 7 - using copy\n",
    "NbaMostValuablePlayerAward = {\n",
    "    2013: \"Lebron James\",\n",
    "    2014: \"Kawhi Leonard\",\n",
    "    2015: \"Andre Iguodala\",\n",
    "    2016: \"Lebron James\",\n",
    "    2017: \"Kevin Durant\",\n",
    "    2018: \"Kevin Durant\",\n",
    "    2019: \"Kawhi Leonard\",\n",
    "    2020: \"Lebron James\",\n",
    "    2021: \"Giannis Antetokoumpo\",\n",
    "    2022: \"Stephen Curry\",\n",
    "    2023: \"Nikola Jokic\"    \n",
    "}\n",
    "\n",
    "print(NbaMostValuablePlayerAward.copy())"
   ]
  },
  {
   "cell_type": "code",
   "execution_count": null,
   "id": "7ceb8071",
   "metadata": {},
   "outputs": [],
   "source": []
  }
 ],
 "metadata": {
  "kernelspec": {
   "display_name": "Python 3",
   "language": "python",
   "name": "python3"
  },
  "language_info": {
   "codemirror_mode": {
    "name": "ipython",
    "version": 3
   },
   "file_extension": ".py",
   "mimetype": "text/x-python",
   "name": "python",
   "nbconvert_exporter": "python",
   "pygments_lexer": "ipython3",
   "version": "3.8.8"
  }
 },
 "nbformat": 4,
 "nbformat_minor": 5
}
