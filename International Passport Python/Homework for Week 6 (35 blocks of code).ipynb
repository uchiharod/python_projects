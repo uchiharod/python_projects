{
 "cells": [
  {
   "cell_type": "markdown",
   "id": "b9bc4280",
   "metadata": {},
   "source": [
    "# Five coding blocks of dictionaries "
   ]
  },
  {
   "cell_type": "code",
   "execution_count": null,
   "id": "1040152c",
   "metadata": {},
   "outputs": [],
   "source": [
    "#Dictionaries Lab 1 Homework 1\n",
    "#Writing our first dictionary and calling from it\n",
    "\n",
    "Pet_names_of_the_day = {\n",
    "    \"dog\": \"muffins\",\n",
    "    \"cat\": \"minx\",\n",
    "    \"parrot\": \"jack\",\n",
    "    \"mongoose\": \"randy\",\n",
    "    \"monkey\": \"coconuts\",\n",
    "    \"fish\": \"flounder\",\n",
    "    \"canary\": \"hawkeye\",\n",
    "    \"turtle\": \"leonardo\",\n",
    "    \"tiger\": \"stripes\",\n",
    "    \"wolf\": \"richter\",\n",
    "    \"bear\": \"bubbles\"    \n",
    "}\n",
    "\n",
    "print(Pet_names_of_the_day [\"dog\"])\n",
    "print(Pet_names_of_the_day [\"monkey\"])\n",
    "print(Pet_names_of_the_day [\"tiger\"])\n",
    "print(Pet_names_of_the_day [\"wolf\"])\n",
    "print(Pet_names_of_the_day [\"canary\"])"
   ]
  },
  {
   "cell_type": "code",
   "execution_count": null,
   "id": "cd552224",
   "metadata": {},
   "outputs": [],
   "source": [
    "#Dictionaries Lab 1 Homework 2\n",
    "hoes_to_meet_in_thailand = {\n",
    "    \"dancer1\": \"Mary\",\n",
    "    \"freelancer1\": \"Talia\",\n",
    "    \"hoe1\": \"Michelle\",\n",
    "    \"regular_girl1\": \"Missy\",\n",
    "    \"dancer2\": \"Raina\",\n",
    "    \"freelancer2\": \"Missy\",\n",
    "    \"hoe2\": \"Cristy\",\n",
    "    \"regular_girl2\": \"Lesley\",\n",
    "    \"regular_girl3\": \"Carmen\",\n",
    "    \"hoe3\": \"Mary Ann\",\n",
    "    \"hoe4\": \"Cathy\"    \n",
    "}\n",
    "\n",
    "print(hoes_to_meet_in_thailand [\"dancer1\"])\n",
    "print(hoes_to_meet_in_thailand [\"hoe1\"])\n",
    "print(hoes_to_meet_in_thailand [\"hoe2\"])\n",
    "print(hoes_to_meet_in_thailand [\"hoe3\"])\n",
    "print(hoes_to_meet_in_thailand [\"freelancer2\"])"
   ]
  },
  {
   "cell_type": "code",
   "execution_count": null,
   "id": "a412f610",
   "metadata": {},
   "outputs": [],
   "source": [
    "#Dictionaries Lab 1 Homework 3\n",
    "xmen = {\n",
    "    \"Nightcrawler\": \"Teleportation\",\n",
    "    \"Colossus\": \"Metal Mimicry\",\n",
    "    \"Beast\": \"Superhuman\",\n",
    "    \"Cyclops\": \"Optic Blast\",\n",
    "    \"Iceman\": \"Ice Clone Generation\",\n",
    "    \"Storm\": \"Weather Manipulation\",\n",
    "    \"Wolverine\": \"Regenerative Healing\",\n",
    "    \"Magneto\": \"Magnetism Manipulation\",\n",
    "    \"Rogue\": \"Life Force\",\n",
    "    \"Xavier\": \"Telepathy\"\n",
    "}\n",
    "\n",
    "print(xmen [\"Nightcrawler\"])\n",
    "print(xmen [\"Storm\"])\n",
    "print(xmen [\"Magneto\"])\n",
    "print(xmen [\"Xavier\"])\n",
    "print(xmen [\"Wolverine\"])"
   ]
  },
  {
   "cell_type": "code",
   "execution_count": null,
   "id": "265adc83",
   "metadata": {},
   "outputs": [],
   "source": [
    "#Dictionaries Lab 1 Homework 4\n",
    "anime_protagonist = {\n",
    "    \"Naruto\": \"Uzumaki Naruto\",\n",
    "    \"Bleach\": \"Ichigo Kurasaki\",\n",
    "    \"One Piece\": \"Luffy\",\n",
    "    \"Dragon Ball\": \"Goku\",\n",
    "    \"Yu Yu Hakusho\": \"Yusuke\",\n",
    "    \"Rurouni Kenshin\": \"Kenshin\",\n",
    "    \"Super Sentai\": \"Power Rangers\",\n",
    "    \"Solo Leveling\": \"Sung Jin-Woo\"\n",
    "}\n",
    "\n",
    "print(anime_protagonist [\"Solo Leveling\"])\n",
    "print(anime_protagonist [\"Rurouni Kenshin\"])\n",
    "print(anime_protagonist [\"Yu Yu Hakusho\"])\n",
    "print(anime_protagonist [\"Dragon Ball\"])\n",
    "print(anime_protagonist [\"Bleach\"])\n"
   ]
  },
  {
   "cell_type": "code",
   "execution_count": null,
   "id": "e1c7cc28",
   "metadata": {},
   "outputs": [],
   "source": [
    "#Dictionaries Lab 1 Homework 5\n",
    "main_movie_stars = {\n",
    "    \"Mission Impossible\": \"Tom Cruise\",\n",
    "    \"The Matrix\": \"Keanu Reaves\",\n",
    "    \"The Avengers\": \"Robert Downey Jr.\",\n",
    "    \"Spiderman\": \"Tobey McGuire\"\n",
    "}\n",
    "\n",
    "print(main_movie_stars [\"Mission Impossible\"])\n",
    "print(main_movie_stars [\"The Avengers\"])\n",
    "print(main_movie_stars [\"Spiderman\"])"
   ]
  },
  {
   "cell_type": "markdown",
   "id": "1b635914",
   "metadata": {},
   "source": [
    "# Five Coding Blocks of Dictionaries calling the value of the key"
   ]
  },
  {
   "cell_type": "code",
   "execution_count": null,
   "id": "4908b22d",
   "metadata": {},
   "outputs": [],
   "source": [
    "#Dictionaries Lab 2 Homework 1\n",
    "#Favorite films dictionary\n",
    "\n",
    "dog = {\n",
    "    \"name\": \"Mandela\",\n",
    "    \"owner\": \"Rod Moore\",\n",
    "    \"DOB\": 1990,\n",
    "    \"breed\": \"Boston Terrier\"\n",
    "}\n",
    "\n",
    "print(dog[\"name\"])"
   ]
  },
  {
   "cell_type": "code",
   "execution_count": null,
   "id": "eaebed59",
   "metadata": {},
   "outputs": [],
   "source": [
    "#Dictionaries Lab 2 Homework 2\n",
    "#Favorite films dictionary\n",
    "\n",
    "cat = {\n",
    "    \"name\": \"Mittens\",\n",
    "    \"owner\": \"Rod Moore\",\n",
    "    \"DOB\": 2014,\n",
    "    \"breed\": \"Manx\"\n",
    "}\n",
    "\n",
    "print(cat[\"DOB\"])"
   ]
  },
  {
   "cell_type": "code",
   "execution_count": null,
   "id": "35d39013",
   "metadata": {},
   "outputs": [],
   "source": [
    "#Dictionaries Lab 2 Homework 3\n",
    "#Favorite films dictionary\n",
    "\n",
    "customer_1 = {\n",
    "    \"name\": \"Moro Gorro\",\n",
    "    \"customer_id\": 3456235,\n",
    "    \"cc_number\": \"999-999-9999\",\n",
    "    \"items_bought\": \"Cheese, Milk, and Eggs\"\n",
    "}\n",
    "\n",
    "print(customer_1[\"cc_number\"])"
   ]
  },
  {
   "cell_type": "code",
   "execution_count": null,
   "id": "323218fd",
   "metadata": {},
   "outputs": [],
   "source": [
    "#Dictionaries Lab 2 Homework 4\n",
    "#Favorite films dictionary\n",
    "\n",
    "customer_2 = {\n",
    "    \"name\": \"Taki Mukkaki\",\n",
    "    \"customer_id\": 3456236,\n",
    "    \"cc_number\": \"888-999-9998\",\n",
    "    \"items_bought\": \"Meat, Chicken, Fish\"\n",
    "}\n",
    "\n",
    "print(customer_2[\"customer_id\"])"
   ]
  },
  {
   "cell_type": "code",
   "execution_count": null,
   "id": "ba23b468",
   "metadata": {},
   "outputs": [],
   "source": [
    "#Dictionaries Lab 2 Homework 5\n",
    "#Favorite films dictionary\n",
    "\n",
    "customer_3 = {\n",
    "    \"name\": \"Cammy\",\n",
    "    \"customer_id\": 3456237,\n",
    "    \"cc_number\": \"779-979-9797\",\n",
    "    \"items_bought\": \"Candy, Fruit, Ice Cream\"\n",
    "}\n",
    "\n",
    "print(customer_3[\"items_bought\"])"
   ]
  },
  {
   "cell_type": "markdown",
   "id": "8eb4f5b0",
   "metadata": {},
   "source": [
    "# Five Coding Blocks of Dictionaries storing a list inside a dictionary and storing a dictionary that \"dictionaries\" properly"
   ]
  },
  {
   "cell_type": "code",
   "execution_count": null,
   "id": "95a5584d",
   "metadata": {},
   "outputs": [],
   "source": [
    "#Store a list inside a dictionary and store a dictionary that dictionaries Lab 3 Homework 1\n",
    "anime = {}\n",
    "anime[\"title\"] = \"Naruto: Shippuden\"\n",
    "anime[\"writer\"] = \"Masashi Kishimoto\"\n",
    "anime[\"Year\"] = 2007\n",
    "anime[\"Rating\"] = 9.0\n",
    "\n",
    "anime[\"main_characters\"] = [\"Naruto\", \"Sasuke\", \"Kakashi\"]\n",
    "anime[\"other_details\"] = {\"runtime\": 30, \"language\": \"Japanese\"}\n",
    "print(anime)"
   ]
  },
  {
   "cell_type": "code",
   "execution_count": null,
   "id": "d66973d1",
   "metadata": {},
   "outputs": [],
   "source": [
    "#Store a list inside a dictionary and store a dictionary that dictionaries Lab 3 Homework 2\n",
    "horses = {}\n",
    "horses[\"name\"] = \"Epona\"\n",
    "horses[\"owner\"] = \"Link\"\n",
    "horses[\"dob\"] = 1999\n",
    "horses[\"top_speed\"] = \"45 mph\"\n",
    "\n",
    "horses[\"events\"] = [\"Flat\", \"Steeplechasing\"]\n",
    "horses[\"other_details\"] = {\"registered\": \"yes\", \"thoroughbred\": \"yes\", \"in_jockey_club\": \"yes\"}\n",
    "print(horses)"
   ]
  },
  {
   "cell_type": "code",
   "execution_count": null,
   "id": "7a0e5b1c",
   "metadata": {},
   "outputs": [],
   "source": [
    "#Store a list inside a dictionary and store a dictionary that dictionaries Lab 3 Homework 3\n",
    "hedgehog = {}\n",
    "hedgehog[\"name\"] = \"Sonic\"\n",
    "hedgehog[\"owner\"] = \"Sega\"\n",
    "hedgehog[\"dob\"] = 1990\n",
    "hedgehog[\"top_speed\"] = \"999 mph\"\n",
    "\n",
    "hedgehog[\"zones\"] = [\"Green Hill\", \"Chemical Plant\", \"Hill Top\", \"Metropolis\", \"Emerald Hill\"]\n",
    "hedgehog[\"other_details\"] = {\"cool\": \"yes\", \"hungry\": \"always\", \"favorite good\": \"chili dogs\"}\n",
    "print(hedgehog)"
   ]
  },
  {
   "cell_type": "code",
   "execution_count": null,
   "id": "18ac92b8",
   "metadata": {},
   "outputs": [],
   "source": [
    "#Store a list inside a dictionary and store a dictionary that dictionaries Lab 3 Homework 4\n",
    "gundam = {}\n",
    "gundam[\"name\"] = \"Wing Zero\"\n",
    "gundam[\"owner\"] = \"Heero Yuy\"\n",
    "gundam[\"manufacturing_date\"] = 1997\n",
    "gundam[\"top_air_speed\"] = \"500 mph\"\n",
    "gundam[\"top_ground_speed\"] = \"300 mph\"\n",
    "\n",
    "gundam[\"parts\"] = [\"Wings\", \"Blasters\", \"hyper hydrolics\", \"guns\", \"body shield\"]\n",
    "gundam[\"other_details\"] = {\"anti-social\": \"yes\", \"other gundam fighters around\": \"yes\", \"best moment\": \"taking out all of my enemeies\"}\n",
    "print(gundam)"
   ]
  },
  {
   "cell_type": "code",
   "execution_count": null,
   "id": "aa180187",
   "metadata": {},
   "outputs": [],
   "source": [
    "#Store a list inside a dictionary and store a dictionary that dictionaries Lab 3 Homework 5\n",
    "new_mmo_game = {}\n",
    "new_mmo_game[\"name\"] = \"World of Warcraft\"\n",
    "new_mmo_game[\"owner\"] = \"Microsoft\"\n",
    "new_mmo_game[\"creation_date\"] = 2004\n",
    "\n",
    "new_mmo_game[\"classes\"] = [\"Warlocks\", \"Sorcerers\", \"Necromancers\", \"Gun Blazers\", \"Archers\", \"Theives\"]\n",
    "new_mmo_game[\"other_details\"] = {\"campaign run time\": \"300+ hours\", \"RAIDS available\": \"yes\", \"treasure\": \"Hidden all over\"}\n",
    "print(new_mmo_game)"
   ]
  },
  {
   "cell_type": "markdown",
   "id": "64a524f2",
   "metadata": {},
   "source": [
    "# Five Coding Blocks of Dictionaries using \"get\""
   ]
  },
  {
   "cell_type": "code",
   "execution_count": null,
   "id": "c7a64c0e",
   "metadata": {},
   "outputs": [],
   "source": [
    "# Five Coding Blocks of Dictionaries using \"get\" Lab 4 Homework 1\n",
    "top_golfers_salary = {\n",
    "\"Tiger Woods\" : 800000000,\n",
    "\"Phil Mickelson\": 400000000,\n",
    "\"Greg Norman\": 400000000,\n",
    "\"Arnold Palmer\": 70000000,\n",
    "\"Jack Nicklaus\": 320000000,\n",
    "\"Gary Player\": 250000000,\n",
    "\"Jordan Spieth\": 110000000,\n",
    "\"Rory McIlroy\": 130000000,\n",
    "\"Fred Couples\": 120000000,\n",
    "\"Ernie Els\": 100000000\n",
    "}\n",
    "\n",
    "print(top_golfers_salary.get(\"Phil Mickelson\"))"
   ]
  },
  {
   "cell_type": "code",
   "execution_count": null,
   "id": "22cc3c21",
   "metadata": {},
   "outputs": [],
   "source": [
    "# Five Coding Blocks of Dictionaries using \"get\" Lab 4 Homework 2\n",
    "top_nascar_racers = {\n",
    "\"Jimmie Johnson\": 1,\n",
    "\"Richard Petty\": 2,\n",
    "\"Dale Earnhardt\": 3,\n",
    "\"Jeff Gordon\": 4,\n",
    "\"David Pearson\": 5,\n",
    "\"Bobby Allison\": 6,\n",
    "\"Darrell Waltrip\": 7,\n",
    "\"Cale Yarborough\": 8,\n",
    "\"Lee Petty\": 9,\n",
    "\"Tony Stewart\": 10\n",
    "}\n",
    "\n",
    "print(top_nascar_racers.get(\"Jimmie Johnson\"))\n",
    "print(top_nascar_racers.get(\"Dale Earnhardt\"))\n",
    "print(top_nascar_racers.get(\"Darrell Waltrip\"))"
   ]
  },
  {
   "cell_type": "code",
   "execution_count": null,
   "id": "c928d9f7",
   "metadata": {},
   "outputs": [],
   "source": [
    "# Five Coding Blocks of Dictionaries using \"get\" Lab 4 Homework 3\n",
    "top_programming_languages_2024 = {\n",
    "\"Python\": 1,\n",
    "\"JavaScript\": 2,\n",
    "\"Java\": 3,\n",
    "\"C++\": 4,\n",
    "\"C#\": 5,\n",
    "\"TypeScript\": 6,\n",
    "\"Ruby\": 7,\n",
    "\"Swift\": 8,\n",
    "\"Go\": 9,\n",
    "\"Kotlin\": 10\n",
    "}\n",
    "\n",
    "print(top_programming_languages_2024.get(\"Java\"))\n",
    "print(top_programming_languages_2024.get(\"Go\"))\n",
    "print(top_programming_languages_2024.get(\"Python\"))"
   ]
  },
  {
   "cell_type": "code",
   "execution_count": null,
   "id": "c5df4773",
   "metadata": {},
   "outputs": [],
   "source": [
    "# Five Coding Blocks of Dictionaries using \"get\" Lab 4 Homework 4\n",
    "top_programming_languages_2024_inverted = {\n",
    "1:\"Python\",\n",
    "2:\"JavaScript\",\n",
    "3:\"Java\",\n",
    "4:\"C++\",\n",
    "5:\"C#\",\n",
    "6:\"TypeScript\",\n",
    "7:\"Ruby\",\n",
    "8:\"Swift\",\n",
    "9:\"Go\",\n",
    "10:\"Kotlin\"\n",
    "}\n",
    "\n",
    "print(top_programming_languages_2024_inverted.get(1))\n",
    "print(top_programming_languages_2024_inverted.get(2))\n",
    "print(top_programming_languages_2024_inverted.get(3))"
   ]
  },
  {
   "cell_type": "code",
   "execution_count": null,
   "id": "c2adc274",
   "metadata": {},
   "outputs": [],
   "source": [
    "# Five Coding Blocks of Dictionaries using \"get\" Lab 4 Homework 5\n",
    "top_populations_worldwide = {\n",
    "\"China\": 1444216107,\n",
    "\"India\": 1393409038,\n",
    "\"United States\": 332915073,\n",
    "\"Indonesia\": 276361783,\n",
    "\"Pakistan\": 225199937,\n",
    "\"Brazil\": 213993437,\n",
    "\"Nigeria\": 211400708,\n",
    "\"Bangladesh\": 166303498,\n",
    "\"Russia\": 145912025,\n",
    "\"Mexico\": 13026221\n",
    "}\n",
    "\n",
    "print(top_populations_worldwide.get(\"Nigeria\"))\n",
    "print(top_populations_worldwide.get(\"Mexico\"))\n",
    "print(top_populations_worldwide.get(\"Russia\"))"
   ]
  },
  {
   "cell_type": "markdown",
   "id": "69e618fd",
   "metadata": {},
   "source": [
    "# Five Coding Blocks of Dictionaries using values"
   ]
  },
  {
   "cell_type": "code",
   "execution_count": null,
   "id": "b98468ca",
   "metadata": {},
   "outputs": [],
   "source": [
    "# Five Coding Blocks of Dictionaries using values Lab 5 Homework 1\n",
    "top_populations_worldwide = {\n",
    "\"China\": 1444216107,\n",
    "\"India\": 1393409038,\n",
    "\"United States\": 332915073,\n",
    "\"Indonesia\": 276361783,\n",
    "\"Pakistan\": 225199937,\n",
    "\"Brazil\": 213993437,\n",
    "\"Nigeria\": 211400708,\n",
    "\"Bangladesh\": 166303498,\n",
    "\"Russia\": 145912025,\n",
    "\"Mexico\": 13026221\n",
    "}\n",
    "\n",
    "print(top_populations_worldwide.values())"
   ]
  },
  {
   "cell_type": "code",
   "execution_count": null,
   "id": "cf1e0025",
   "metadata": {},
   "outputs": [],
   "source": [
    "# Five Coding Blocks of Dictionaries using values Lab 5 Homework 2\n",
    "top_programming_languages_2024_inverted = {\n",
    "1:\"Python\",\n",
    "2:\"JavaScript\",\n",
    "3:\"Java\",\n",
    "4:\"C++\",\n",
    "5:\"C#\",\n",
    "6:\"TypeScript\",\n",
    "7:\"Ruby\",\n",
    "8:\"Swift\",\n",
    "9:\"Go\",\n",
    "10:\"Kotlin\"\n",
    "}\n",
    "\n",
    "print(top_programming_languages_2024_inverted.values())"
   ]
  },
  {
   "cell_type": "code",
   "execution_count": null,
   "id": "afae5bb9",
   "metadata": {},
   "outputs": [],
   "source": [
    "# Five Coding Blocks of Dictionaries using values Lab 5 Homework 3\n",
    "top_nascar_racers = {\n",
    "\"Jimmie Johnson\": 1,\n",
    "\"Richard Petty\": 2,\n",
    "\"Dale Earnhardt\": 3,\n",
    "\"Jeff Gordon\": 4,\n",
    "\"David Pearson\": 5,\n",
    "\"Bobby Allison\": 6,\n",
    "\"Darrell Waltrip\": 7,\n",
    "\"Cale Yarborough\": 8,\n",
    "\"Lee Petty\": 9,\n",
    "\"Tony Stewart\": 10\n",
    "}\n",
    "\n",
    "print(top_nascar_racers.values())"
   ]
  },
  {
   "cell_type": "code",
   "execution_count": null,
   "id": "bad37fc1",
   "metadata": {},
   "outputs": [],
   "source": [
    "# Five Coding Blocks of Dictionaries using values Lab 5 Homework 4\n",
    "top_golfers_salary = {\n",
    "\"Tiger Woods\" : 800000000,\n",
    "\"Phil Mickelson\": 400000000,\n",
    "\"Greg Norman\": 400000000,\n",
    "\"Arnold Palmer\": 70000000,\n",
    "\"Jack Nicklaus\": 320000000,\n",
    "\"Gary Player\": 250000000,\n",
    "\"Jordan Spieth\": 110000000,\n",
    "\"Rory McIlroy\": 130000000,\n",
    "\"Fred Couples\": 120000000,\n",
    "\"Ernie Els\": 100000000\n",
    "}\n",
    "\n",
    "print(top_golfers_salary.values())"
   ]
  },
  {
   "cell_type": "code",
   "execution_count": null,
   "id": "18fe86a7",
   "metadata": {},
   "outputs": [],
   "source": [
    "# Five Coding Blocks of Dictionaries using values Lab 5 Homework 5\n",
    "top_nascar_racers = {\n",
    "\"Jimmie Johnson\": 1,\n",
    "\"Richard Petty\": 2,\n",
    "\"Dale Earnhardt\": 3,\n",
    "\"Jeff Gordon\": 4,\n",
    "\"David Pearson\": 5,\n",
    "\"Bobby Allison\": 6,\n",
    "\"Darrell Waltrip\": 7,\n",
    "\"Cale Yarborough\": 8,\n",
    "\"Lee Petty\": 9,\n",
    "\"Tony Stewart\": 10\n",
    "}\n",
    "\n",
    "print(top_nascar_racers.values())"
   ]
  },
  {
   "cell_type": "markdown",
   "id": "2961bdb1",
   "metadata": {},
   "source": [
    "# Five Coding Blocks of Dictionaries using keys"
   ]
  },
  {
   "cell_type": "code",
   "execution_count": null,
   "id": "8a9a0d0b",
   "metadata": {},
   "outputs": [],
   "source": [
    "#Dictionaries Lab 6 - using keys\n",
    "# Five Coding Blocks of Dictionaries using keys Lab 6 Homework 1\n",
    "top_nascar_racers = {\n",
    "\"Jimmie Johnson\": 1,\n",
    "\"Richard Petty\": 2,\n",
    "\"Dale Earnhardt\": 3,\n",
    "\"Jeff Gordon\": 4,\n",
    "\"David Pearson\": 5,\n",
    "\"Bobby Allison\": 6,\n",
    "\"Darrell Waltrip\": 7,\n",
    "\"Cale Yarborough\": 8,\n",
    "\"Lee Petty\": 9,\n",
    "\"Tony Stewart\": 10\n",
    "}\n",
    "\n",
    "print(top_nascar_racers.keys())"
   ]
  },
  {
   "cell_type": "code",
   "execution_count": null,
   "id": "381d5a0b",
   "metadata": {},
   "outputs": [],
   "source": [
    "# Five Coding Blocks of Dictionaries using keys Lab 6 Homework 2\n",
    "top_golfers_salary = {\n",
    "\"Tiger Woods\" : 800000000,\n",
    "\"Phil Mickelson\": 400000000,\n",
    "\"Greg Norman\": 400000000,\n",
    "\"Arnold Palmer\": 70000000,\n",
    "\"Jack Nicklaus\": 320000000,\n",
    "\"Gary Player\": 250000000,\n",
    "\"Jordan Spieth\": 110000000,\n",
    "\"Rory McIlroy\": 130000000,\n",
    "\"Fred Couples\": 120000000,\n",
    "\"Ernie Els\": 100000000\n",
    "}\n",
    "\n",
    "print(top_golfers_salary.keys())"
   ]
  },
  {
   "cell_type": "code",
   "execution_count": null,
   "id": "c445c7d6",
   "metadata": {},
   "outputs": [],
   "source": [
    "# Five Coding Blocks of Dictionaries using keys Lab 6 Homework 3\n",
    "top_nascar_racers = {\n",
    "\"Jimmie Johnson\": 1,\n",
    "\"Richard Petty\": 2,\n",
    "\"Dale Earnhardt\": 3,\n",
    "\"Jeff Gordon\": 4,\n",
    "\"David Pearson\": 5,\n",
    "\"Bobby Allison\": 6,\n",
    "\"Darrell Waltrip\": 7,\n",
    "\"Cale Yarborough\": 8,\n",
    "\"Lee Petty\": 9,\n",
    "\"Tony Stewart\": 10\n",
    "}\n",
    "\n",
    "print(top_nascar_racers.keys())"
   ]
  },
  {
   "cell_type": "code",
   "execution_count": null,
   "id": "58c62921",
   "metadata": {},
   "outputs": [],
   "source": [
    "# Five Coding Blocks of Dictionaries using keys Lab 6 Homework 4\n",
    "top_programming_languages_2024_inverted = {\n",
    "1:\"Python\",\n",
    "2:\"JavaScript\",\n",
    "3:\"Java\",\n",
    "4:\"C++\",\n",
    "5:\"C#\",\n",
    "6:\"TypeScript\",\n",
    "7:\"Ruby\",\n",
    "8:\"Swift\",\n",
    "9:\"Go\",\n",
    "10:\"Kotlin\"\n",
    "}\n",
    "\n",
    "print(top_programming_languages_2024_inverted.keys())"
   ]
  },
  {
   "cell_type": "code",
   "execution_count": null,
   "id": "de481217",
   "metadata": {},
   "outputs": [],
   "source": [
    "# Five Coding Blocks of Dictionaries using keys Lab 6 Homework 5\n",
    "top_programming_languages_2024 = {\n",
    "\"Python\": 1,\n",
    "\"JavaScript\": 2,\n",
    "\"Java\": 3,\n",
    "\"C++\": 4,\n",
    "\"C#\": 5,\n",
    "\"TypeScript\": 6,\n",
    "\"Ruby\": 7,\n",
    "\"Swift\": 8,\n",
    "\"Go\": 9,\n",
    "\"Kotlin\": 10\n",
    "}\n",
    "\n",
    "print(top_programming_languages_2024.keys())"
   ]
  },
  {
   "cell_type": "markdown",
   "id": "048e4b19",
   "metadata": {},
   "source": [
    "# Five Coding Blocks of Dictionaries using copy"
   ]
  },
  {
   "cell_type": "code",
   "execution_count": null,
   "id": "336b66c6",
   "metadata": {},
   "outputs": [],
   "source": [
    "#Dictionaries Lab 7 - using copy\n",
    "# Five Coding Blocks of Dictionaries using copy Lab 7 Homework 1\n",
    "\n",
    "top_programming_languages_2024 = {\n",
    "\"Python\": 1,\n",
    "\"JavaScript\": 2,\n",
    "\"Java\": 3,\n",
    "\"C++\": 4,\n",
    "\"C#\": 5,\n",
    "\"TypeScript\": 6,\n",
    "\"Ruby\": 7,\n",
    "\"Swift\": 8,\n",
    "\"Go\": 9,\n",
    "\"Kotlin\": 10\n",
    "}\n",
    "\n",
    "print(top_programming_languages_2024.copy())"
   ]
  },
  {
   "cell_type": "code",
   "execution_count": null,
   "id": "1337803b",
   "metadata": {},
   "outputs": [],
   "source": [
    "# Five Coding Blocks of Dictionaries using copy Lab 7 Homework 2\n",
    "top_nascar_racers = {\n",
    "\"Jimmie Johnson\": 1,\n",
    "\"Richard Petty\": 2,\n",
    "\"Dale Earnhardt\": 3,\n",
    "\"Jeff Gordon\": 4,\n",
    "\"David Pearson\": 5,\n",
    "\"Bobby Allison\": 6,\n",
    "\"Darrell Waltrip\": 7,\n",
    "\"Cale Yarborough\": 8,\n",
    "\"Lee Petty\": 9,\n",
    "\"Tony Stewart\": 10\n",
    "}\n",
    "\n",
    "print(top_nascar_racers.copy())"
   ]
  },
  {
   "cell_type": "code",
   "execution_count": null,
   "id": "9f67f155",
   "metadata": {},
   "outputs": [],
   "source": [
    "# Five Coding Blocks of Dictionaries using copy Lab 7 Homework 3\n",
    "top_golfers_salary = {\n",
    "\"Tiger Woods\" : 800000000,\n",
    "\"Phil Mickelson\": 400000000,\n",
    "\"Greg Norman\": 400000000,\n",
    "\"Arnold Palmer\": 70000000,\n",
    "\"Jack Nicklaus\": 320000000,\n",
    "\"Gary Player\": 250000000,\n",
    "\"Jordan Spieth\": 110000000,\n",
    "\"Rory McIlroy\": 130000000,\n",
    "\"Fred Couples\": 120000000,\n",
    "\"Ernie Els\": 100000000\n",
    "}\n",
    "\n",
    "print(top_golfers_salary.copy())"
   ]
  },
  {
   "cell_type": "code",
   "execution_count": null,
   "id": "1ba9b88b",
   "metadata": {},
   "outputs": [],
   "source": [
    "# Five Coding Blocks of Dictionaries using copy Lab 7 Homework 4\n",
    "top_populations_worldwide = {\n",
    "\"China\": 1444216107,\n",
    "\"India\": 1393409038,\n",
    "\"United States\": 332915073,\n",
    "\"Indonesia\": 276361783,\n",
    "\"Pakistan\": 225199937,\n",
    "\"Brazil\": 213993437,\n",
    "\"Nigeria\": 211400708,\n",
    "\"Bangladesh\": 166303498,\n",
    "\"Russia\": 145912025,\n",
    "\"Mexico\": 13026221\n",
    "}\n",
    "\n",
    "print(top_populations_worldwide.copy())"
   ]
  },
  {
   "cell_type": "code",
   "execution_count": null,
   "id": "8168ba2d",
   "metadata": {},
   "outputs": [],
   "source": [
    "# Five Coding Blocks of Dictionaries using copy Lab 7 Homework 5\n",
    "top_populations_worldwide = {\n",
    "\"France\": 89300000,\n",
    "\"Spain\": 83500000,\n",
    "\"United States\": 79500000,\n",
    "\"China\": 65100000,\n",
    "\"Italy\": 64200000,\n",
    "\"Turkey\": 46000000,\n",
    "\"Germany\": 37500000,\n",
    "\"Mexico\": 34900000,\n",
    "\"Thailand\": 32700000,\n",
    "\"United Kingdom\": 32600000\n",
    "}\n",
    "\n",
    "print(top_populations_worldwide.copy())"
   ]
  },
  {
   "cell_type": "code",
   "execution_count": null,
   "id": "f5fb1369",
   "metadata": {},
   "outputs": [],
   "source": [
    "\n"
   ]
  },
  {
   "cell_type": "code",
   "execution_count": null,
   "id": "a7d46a3b",
   "metadata": {},
   "outputs": [],
   "source": [
    "\n"
   ]
  },
  {
   "cell_type": "code",
   "execution_count": null,
   "id": "b6a8ec45",
   "metadata": {},
   "outputs": [],
   "source": []
  }
 ],
 "metadata": {
  "kernelspec": {
   "display_name": "Python 3",
   "language": "python",
   "name": "python3"
  },
  "language_info": {
   "codemirror_mode": {
    "name": "ipython",
    "version": 3
   },
   "file_extension": ".py",
   "mimetype": "text/x-python",
   "name": "python",
   "nbconvert_exporter": "python",
   "pygments_lexer": "ipython3",
   "version": "3.8.8"
  }
 },
 "nbformat": 4,
 "nbformat_minor": 5
}
