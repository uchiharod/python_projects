{
 "cells": [
  {
   "cell_type": "code",
   "execution_count": 5,
   "id": "8243f9fd",
   "metadata": {},
   "outputs": [
    {
     "name": "stdout",
     "output_type": "stream",
     "text": [
      "['Sweet', 'Submissive', 'Has no kids', 'In-shape']\n",
      "Enter Your Name: Rod\n",
      "Hey Rod, you're flying to Colombia to smash ['Millia', 'Shanna', 'Sheila', 'Samantha']\n",
      "['Millia', 'Shanna', 'Sheila', 'Samantha']\n",
      "Enter Your Name: Rod\n",
      "How many favorite books do you have? 2\n",
      "Thanks Rod Your favorite book is 2 and my favorite books are ['The Great Gatsby', 'Pride and Prejudice', 'Lolita', 'The Adventures of Huckleberry Finn', 'The Grapes of Wrath']\n",
      "My Favorite fruits are: ['Watermelon', 'Pineapple', 'Mango', 'blueberries']\n",
      "My Favorite Films are ['Naruto', 'Bleach', 'Dragon Ball']\n"
     ]
    }
   ],
   "source": [
    "##Homework Week 4 Lab 1 Creating our first list\n",
    "\n",
    "##*5\n",
    "\n",
    "#1\n",
    "\n",
    "natalia = [\"Sweet\", \"Submissive\", \"Has no kids\", \"In-shape\"]\n",
    "\n",
    "print(natalia)\n",
    "\n",
    "#2\n",
    "\n",
    "name = input(\"Enter Your Name: \")\n",
    "\n",
    "women_to_smash = [\"Millia\", \"Shanna\", \"Sheila\", \"Samantha\"]\n",
    "\n",
    "print(\"Hey \" + name + \", you're flying to Colombia to smash \" + str(women_to_smash) )\n",
    "\n",
    "print(women_to_smash)\n",
    "\n",
    "#3\n",
    "\n",
    "name = input(\"Enter Your Name: \")\n",
    "\n",
    "fav_book = input(\"How many favorite books do you have? \")\n",
    "\n",
    "my_fav_book_list = [\"The Great Gatsby\", \"Pride and Prejudice\", \"Lolita\", \"The Adventures of Huckleberry Finn\", \"The Grapes of Wrath\"]\n",
    "\n",
    "print(\"Thanks \" + name + \" Your favorite book is \" + fav_book + \" and my favorite books are \" + str(my_fav_book_list))\n",
    "\n",
    "#4\n",
    "\n",
    "fruits = [\"Watermelon\", \"Pineapple\", \"Mango\", \"blueberries\"]\n",
    "\n",
    "print(\"My Favorite fruits are: \" + str(fruits))\n",
    "\n",
    "#5\n",
    "\n",
    "fav_anime_films = [\"Naruto\", \"Bleach\", \"Dragon Ball\"]\n",
    "\n",
    "print(\"My Favorite Films are \" + str(fav_anime_films))"
   ]
  },
  {
   "cell_type": "code",
   "execution_count": null,
   "id": "da0db499",
   "metadata": {},
   "outputs": [],
   "source": []
  }
 ],
 "metadata": {
  "kernelspec": {
   "display_name": "Python 3",
   "language": "python",
   "name": "python3"
  },
  "language_info": {
   "codemirror_mode": {
    "name": "ipython",
    "version": 3
   },
   "file_extension": ".py",
   "mimetype": "text/x-python",
   "name": "python",
   "nbconvert_exporter": "python",
   "pygments_lexer": "ipython3",
   "version": "3.8.8"
  }
 },
 "nbformat": 4,
 "nbformat_minor": 5
}
