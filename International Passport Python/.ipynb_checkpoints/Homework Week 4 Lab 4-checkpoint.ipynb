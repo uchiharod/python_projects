{
 "cells": [
  {
   "cell_type": "code",
   "execution_count": 1,
   "id": "6c6b07e6",
   "metadata": {},
   "outputs": [
    {
     "name": "stdout",
     "output_type": "stream",
     "text": [
      "[0, 1, 2, 3]\n",
      "['Orange', 'Purple']\n",
      "['Rich Dad Poor Dad', 'Think and Grow Rich']\n",
      "['South']\n",
      "['South', 'Brimingham']\n"
     ]
    }
   ],
   "source": [
    "##Homework Week 4 Lab 4 Specifying a range to print out in the list\n",
    "\n",
    "##*5\n",
    "\n",
    "#1\n",
    "\n",
    "numbers = [0, 1, 2, 3, 4, 5, 6, 7, 8, 9]\n",
    "\n",
    "print(numbers [0:4])\n",
    "\n",
    "#2\n",
    "\n",
    "colours = [\"Red\", \"Black\", \"Orange\", \"Purple\", \"Blue\", \"Green\", \"Yellow\"]\n",
    "\n",
    "print(colours [2:4])\n",
    "\n",
    "#3\n",
    "\n",
    "books = [\"Rich Dad Poor Dad\", \"Think and Grow Rich\", \"Born Rich\", \"How to be a millionaire\"]\n",
    "\n",
    "print(books [0:2])\n",
    "\n",
    "#4\n",
    "\n",
    "london = [\"North\", \"South\", \"East\", \"West\"]\n",
    "\n",
    "print(london [1:2])\n",
    "\n",
    "#5\n",
    "\n",
    "london = [\"North\", \"South\", \"East\", \"West\"]\n",
    "\n",
    "cities = [\"London\", \"Brimingham\", \"Manchester\", \"Bristol\"]\n",
    "\n",
    "print(london [1:2] + cities [1:2]) "
   ]
  },
  {
   "cell_type": "code",
   "execution_count": 2,
   "id": "dbf682d1",
   "metadata": {},
   "outputs": [
    {
     "name": "stdout",
     "output_type": "stream",
     "text": [
      "[0, 1, 2, 3, 4]\n",
      "[1, 2, 3]\n",
      "[2]\n",
      "['Orange', 'Purple']\n",
      "['Red', 'Black', 'Orange', 'Purple', 'Blue']\n",
      "['Rich Dad Poor Dad', 'Think and Grow Rich']\n",
      "['Think and Grow Rich']\n",
      "['South']\n",
      "['South', 'East']\n",
      "['North']\n",
      "['South', 'Brimingham']\n"
     ]
    }
   ],
   "source": [
    "##Homework Week 4 Lab 4 Specifying a range to print out in the list\n",
    "\n",
    "##*5\n",
    "\n",
    "#1\n",
    "\n",
    "numbers = [0, 1, 2, 3, 4, 5, 6, 7, 8, 9]\n",
    "\n",
    "print(numbers [0:5])\n",
    "print(numbers [1:4])\n",
    "print(numbers [2:3])\n",
    "\n",
    "#2\n",
    "\n",
    "colours = [\"Red\", \"Black\", \"Orange\", \"Purple\", \"Blue\", \"Green\", \"Yellow\"]\n",
    "\n",
    "print(colours [2:4])\n",
    "print(colours [0:5])\n",
    "\n",
    "#3\n",
    "\n",
    "books = [\"Rich Dad Poor Dad\", \"Think and Grow Rich\", \"Born Rich\", \"How to be a millionaire\"]\n",
    "\n",
    "print(books [0:2])\n",
    "print(books [1:2])\n",
    "\n",
    "#4\n",
    "\n",
    "london = [\"North\", \"South\", \"East\", \"West\"]\n",
    "\n",
    "print(london [1:2])\n",
    "print(london [1:3])\n",
    "print(london [0:1])\n",
    "\n",
    "#5\n",
    "\n",
    "london = [\"North\", \"South\", \"East\", \"West\"]\n",
    "\n",
    "cities = [\"London\", \"Brimingham\", \"Manchester\", \"Bristol\"]\n",
    "\n",
    "print(london [1:2] + cities [1:2]) "
   ]
  },
  {
   "cell_type": "code",
   "execution_count": null,
   "id": "ef406d7b",
   "metadata": {},
   "outputs": [],
   "source": []
  }
 ],
 "metadata": {
  "kernelspec": {
   "display_name": "Python 3",
   "language": "python",
   "name": "python3"
  },
  "language_info": {
   "codemirror_mode": {
    "name": "ipython",
    "version": 3
   },
   "file_extension": ".py",
   "mimetype": "text/x-python",
   "name": "python",
   "nbconvert_exporter": "python",
   "pygments_lexer": "ipython3",
   "version": "3.8.8"
  }
 },
 "nbformat": 4,
 "nbformat_minor": 5
}
