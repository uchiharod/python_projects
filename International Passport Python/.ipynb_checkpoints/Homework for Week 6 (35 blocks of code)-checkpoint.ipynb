{
 "cells": [
  {
   "cell_type": "markdown",
   "id": "79ab9e8a",
   "metadata": {},
   "source": [
    "# Five coding blocks of dictionaries "
   ]
  },
  {
   "cell_type": "code",
   "execution_count": 5,
   "id": "f849b129",
   "metadata": {},
   "outputs": [
    {
     "name": "stdout",
     "output_type": "stream",
     "text": [
      "muffins\n",
      "coconuts\n",
      "stripes\n",
      "richter\n",
      "hawkeye\n"
     ]
    }
   ],
   "source": [
    "#Dictionaries Lab 1 Homework 1\n",
    "#Writing our first dictionary and calling from it\n",
    "\n",
    "Pet_names_of_the_day = {\n",
    "    \"dog\": \"muffins\",\n",
    "    \"cat\": \"minx\",\n",
    "    \"parrot\": \"jack\",\n",
    "    \"mongoose\": \"randy\",\n",
    "    \"monkey\": \"coconuts\",\n",
    "    \"fish\": \"flounder\",\n",
    "    \"canary\": \"hawkeye\",\n",
    "    \"turtle\": \"leonardo\",\n",
    "    \"tiger\": \"stripes\",\n",
    "    \"wolf\": \"richter\",\n",
    "    \"bear\": \"bubbles\"    \n",
    "}\n",
    "\n",
    "print(Pet_names_of_the_day [\"dog\"])\n",
    "print(Pet_names_of_the_day [\"monkey\"])\n",
    "print(Pet_names_of_the_day [\"tiger\"])\n",
    "print(Pet_names_of_the_day [\"wolf\"])\n",
    "print(Pet_names_of_the_day [\"canary\"])"
   ]
  },
  {
   "cell_type": "code",
   "execution_count": 6,
   "id": "0db83c71",
   "metadata": {},
   "outputs": [
    {
     "name": "stdout",
     "output_type": "stream",
     "text": [
      "Mary\n",
      "Michelle\n",
      "Cristy\n",
      "Mary Ann\n",
      "Missy\n"
     ]
    }
   ],
   "source": [
    "#Dictionaries Lab 1 Homework 2\n",
    "hoes_to_meet_in_thailand = {\n",
    "    \"dancer1\": \"Mary\",\n",
    "    \"freelancer1\": \"Talia\",\n",
    "    \"hoe1\": \"Michelle\",\n",
    "    \"regular_girl1\": \"Missy\",\n",
    "    \"dancer2\": \"Raina\",\n",
    "    \"freelancer2\": \"Missy\",\n",
    "    \"hoe2\": \"Cristy\",\n",
    "    \"regular_girl2\": \"Lesley\",\n",
    "    \"regular_girl3\": \"Carmen\",\n",
    "    \"hoe3\": \"Mary Ann\",\n",
    "    \"hoe4\": \"Cathy\"    \n",
    "}\n",
    "\n",
    "print(hoes_to_meet_in_thailand [\"dancer1\"])\n",
    "print(hoes_to_meet_in_thailand [\"hoe1\"])\n",
    "print(hoes_to_meet_in_thailand [\"hoe2\"])\n",
    "print(hoes_to_meet_in_thailand [\"hoe3\"])\n",
    "print(hoes_to_meet_in_thailand [\"freelancer2\"])"
   ]
  },
  {
   "cell_type": "code",
   "execution_count": 7,
   "id": "431e33f1",
   "metadata": {},
   "outputs": [
    {
     "name": "stdout",
     "output_type": "stream",
     "text": [
      "Teleportation\n",
      "Weather Manipulation\n",
      "Magnetism Manipulation\n",
      "Telepathy\n",
      "Regenerative Healing\n"
     ]
    }
   ],
   "source": [
    "#Dictionaries Lab 1 Homework 3\n",
    "xmen = {\n",
    "    \"Nightcrawler\": \"Teleportation\",\n",
    "    \"Colossus\": \"Metal Mimicry\",\n",
    "    \"Beast\": \"Superhuman\",\n",
    "    \"Cyclops\": \"Optic Blast\",\n",
    "    \"Iceman\": \"Ice Clone Generation\",\n",
    "    \"Storm\": \"Weather Manipulation\",\n",
    "    \"Wolverine\": \"Regenerative Healing\",\n",
    "    \"Magneto\": \"Magnetism Manipulation\",\n",
    "    \"Rogue\": \"Life Force\",\n",
    "    \"Xavier\": \"Telepathy\"\n",
    "}\n",
    "\n",
    "print(xmen [\"Nightcrawler\"])\n",
    "print(xmen [\"Storm\"])\n",
    "print(xmen [\"Magneto\"])\n",
    "print(xmen [\"Xavier\"])\n",
    "print(xmen [\"Wolverine\"])"
   ]
  },
  {
   "cell_type": "code",
   "execution_count": 8,
   "id": "b44da581",
   "metadata": {},
   "outputs": [
    {
     "name": "stdout",
     "output_type": "stream",
     "text": [
      "Sung Jin-Woo\n",
      "Kenshin\n",
      "Yusuke\n",
      "Goku\n",
      "Ichigo Kurasaki\n"
     ]
    }
   ],
   "source": [
    "#Dictionaries Lab 1 Homework 4\n",
    "anime_protagonist = {\n",
    "    \"Naruto\": \"Uzumaki Naruto\",\n",
    "    \"Bleach\": \"Ichigo Kurasaki\",\n",
    "    \"One Piece\": \"Luffy\",\n",
    "    \"Dragon Ball\": \"Goku\",\n",
    "    \"Yu Yu Hakusho\": \"Yusuke\",\n",
    "    \"Rurouni Kenshin\": \"Kenshin\",\n",
    "    \"Super Sentai\": \"Power Rangers\",\n",
    "    \"Solo Leveling\": \"Sung Jin-Woo\"\n",
    "}\n",
    "\n",
    "print(anime_protagonist [\"Solo Leveling\"])\n",
    "print(anime_protagonist [\"Rurouni Kenshin\"])\n",
    "print(anime_protagonist [\"Yu Yu Hakusho\"])\n",
    "print(anime_protagonist [\"Dragon Ball\"])\n",
    "print(anime_protagonist [\"Bleach\"])\n"
   ]
  },
  {
   "cell_type": "code",
   "execution_count": 9,
   "id": "627eb1a6",
   "metadata": {},
   "outputs": [
    {
     "name": "stdout",
     "output_type": "stream",
     "text": [
      "Tom Cruise\n",
      "Robert Downey Jr.\n",
      "Tobey McGuire\n"
     ]
    }
   ],
   "source": [
    "#Dictionaries Lab 1 Homework 5\n",
    "main_movie_stars = {\n",
    "    \"Mission Impossible\": \"Tom Cruise\",\n",
    "    \"The Matrix\": \"Keanu Reaves\",\n",
    "    \"The Avengers\": \"Robert Downey Jr.\",\n",
    "    \"Spiderman\": \"Tobey McGuire\"\n",
    "}\n",
    "\n",
    "print(main_movie_stars [\"Mission Impossible\"])\n",
    "print(main_movie_stars [\"The Avengers\"])\n",
    "print(main_movie_stars [\"Spiderman\"])"
   ]
  },
  {
   "cell_type": "markdown",
   "id": "66001467",
   "metadata": {},
   "source": [
    "# Five Coding Blocks of Dictionaries calling the value of the key"
   ]
  },
  {
   "cell_type": "code",
   "execution_count": 11,
   "id": "57a93c3e",
   "metadata": {},
   "outputs": [
    {
     "name": "stdout",
     "output_type": "stream",
     "text": [
      "Mandela\n"
     ]
    }
   ],
   "source": [
    "#Dictionaries Lab 2 Homework 1\n",
    "#Favorite films dictionary\n",
    "\n",
    "dog = {\n",
    "    \"name\": \"Mandela\",\n",
    "    \"owner\": \"Rod Moore\",\n",
    "    \"DOB\": 1990,\n",
    "    \"breed\": \"Boston Terrier\"\n",
    "}\n",
    "\n",
    "print(dog[\"name\"])"
   ]
  },
  {
   "cell_type": "code",
   "execution_count": 12,
   "id": "57735096",
   "metadata": {},
   "outputs": [
    {
     "name": "stdout",
     "output_type": "stream",
     "text": [
      "2014\n"
     ]
    }
   ],
   "source": [
    "#Dictionaries Lab 2 Homework 2\n",
    "#Favorite films dictionary\n",
    "\n",
    "cat = {\n",
    "    \"name\": \"Mittens\",\n",
    "    \"owner\": \"Rod Moore\",\n",
    "    \"DOB\": 2014,\n",
    "    \"breed\": \"Manx\"\n",
    "}\n",
    "\n",
    "print(cat[\"DOB\"])"
   ]
  },
  {
   "cell_type": "code",
   "execution_count": 15,
   "id": "6c7e0d7f",
   "metadata": {},
   "outputs": [
    {
     "name": "stdout",
     "output_type": "stream",
     "text": [
      "999-999-9999\n"
     ]
    }
   ],
   "source": [
    "#Dictionaries Lab 2 Homework 3\n",
    "#Favorite films dictionary\n",
    "\n",
    "customer_1 = {\n",
    "    \"name\": \"Moro Gorro\",\n",
    "    \"customer_id\": 3456235,\n",
    "    \"cc_number\": \"999-999-9999\",\n",
    "    \"items_bought\": \"Cheese, Milk, and Eggs\"\n",
    "}\n",
    "\n",
    "print(customer_1[\"cc_number\"])"
   ]
  },
  {
   "cell_type": "code",
   "execution_count": 16,
   "id": "80957054",
   "metadata": {},
   "outputs": [
    {
     "name": "stdout",
     "output_type": "stream",
     "text": [
      "3456236\n"
     ]
    }
   ],
   "source": [
    "#Dictionaries Lab 2 Homework 4\n",
    "#Favorite films dictionary\n",
    "\n",
    "customer_2 = {\n",
    "    \"name\": \"Taki Mukkaki\",\n",
    "    \"customer_id\": 3456236,\n",
    "    \"cc_number\": \"888-999-9998\",\n",
    "    \"items_bought\": \"Meat, Chicken, Fish\"\n",
    "}\n",
    "\n",
    "print(customer_2[\"customer_id\"])"
   ]
  },
  {
   "cell_type": "code",
   "execution_count": 17,
   "id": "6c122109",
   "metadata": {},
   "outputs": [
    {
     "name": "stdout",
     "output_type": "stream",
     "text": [
      "Candy, Fruit, Ice Cream\n"
     ]
    }
   ],
   "source": [
    "#Dictionaries Lab 2 Homework 5\n",
    "#Favorite films dictionary\n",
    "\n",
    "customer_3 = {\n",
    "    \"name\": \"Cammy\",\n",
    "    \"customer_id\": 3456237,\n",
    "    \"cc_number\": \"779-979-9797\",\n",
    "    \"items_bought\": \"Candy, Fruit, Ice Cream\"\n",
    "}\n",
    "\n",
    "print(customer_3[\"items_bought\"])"
   ]
  },
  {
   "cell_type": "markdown",
   "id": "358fa22e",
   "metadata": {},
   "source": [
    "# Five Coding Blocks of Dictionaries storing a list inside a dictionary and storing a dictionary that \"dictionaries\" properly"
   ]
  },
  {
   "cell_type": "code",
   "execution_count": 19,
   "id": "599c4ca8",
   "metadata": {},
   "outputs": [
    {
     "name": "stdout",
     "output_type": "stream",
     "text": [
      "{'title': 'Naruto: Shippuden', 'writer': 'Masashi Kishimoto', 'Year': 2007, 'Rating': 9.0, 'main_characters': ['Naruto', 'Sasuke', 'Kakashi'], 'other_details': {'runtime': 30, 'language': 'Japanese'}}\n"
     ]
    }
   ],
   "source": [
    "#Store a list inside a dictionary and store a dictionary that dictionaries Lab 3 Homework 1\n",
    "anime = {}\n",
    "anime[\"title\"] = \"Naruto: Shippuden\"\n",
    "anime[\"writer\"] = \"Masashi Kishimoto\"\n",
    "anime[\"Year\"] = 2007\n",
    "anime[\"Rating\"] = 9.0\n",
    "\n",
    "anime[\"main_characters\"] = [\"Naruto\", \"Sasuke\", \"Kakashi\"]\n",
    "anime[\"other_details\"] = {\"runtime\": 30, \"language\": \"Japanese\"}\n",
    "print(anime)"
   ]
  },
  {
   "cell_type": "code",
   "execution_count": 20,
   "id": "2df9e1fd",
   "metadata": {},
   "outputs": [
    {
     "name": "stdout",
     "output_type": "stream",
     "text": [
      "{'name': 'Epona', 'owner': 'Link', 'dob': 1999, 'top_speed': '45 mph', 'events': ['Flat', 'Steeplechasing'], 'other_details': {'registered': 'yes', 'thoroughbred': 'yes', 'in_jockey_club': 'yes'}}\n"
     ]
    }
   ],
   "source": [
    "#Store a list inside a dictionary and store a dictionary that dictionaries Lab 3 Homework 2\n",
    "horses = {}\n",
    "horses[\"name\"] = \"Epona\"\n",
    "horses[\"owner\"] = \"Link\"\n",
    "horses[\"dob\"] = 1999\n",
    "horses[\"top_speed\"] = \"45 mph\"\n",
    "\n",
    "horses[\"events\"] = [\"Flat\", \"Steeplechasing\"]\n",
    "horses[\"other_details\"] = {\"registered\": \"yes\", \"thoroughbred\": \"yes\", \"in_jockey_club\": \"yes\"}\n",
    "print(horses)"
   ]
  },
  {
   "cell_type": "code",
   "execution_count": 21,
   "id": "125bbc81",
   "metadata": {},
   "outputs": [
    {
     "name": "stdout",
     "output_type": "stream",
     "text": [
      "{'name': 'Sonic', 'owner': 'Sega', 'dob': 1990, 'top_speed': '999 mph', 'zones': ['Green Hill', 'Chemical Plant', 'Hill Top', 'Metropolis', 'Emerald Hill'], 'other_details': {'cool': 'yes', 'hungry': 'always', 'favorite good': 'chili dogs'}}\n"
     ]
    }
   ],
   "source": [
    "#Store a list inside a dictionary and store a dictionary that dictionaries Lab 3 Homework 3\n",
    "hedgehog = {}\n",
    "hedgehog[\"name\"] = \"Sonic\"\n",
    "hedgehog[\"owner\"] = \"Sega\"\n",
    "hedgehog[\"dob\"] = 1990\n",
    "hedgehog[\"top_speed\"] = \"999 mph\"\n",
    "\n",
    "hedgehog[\"zones\"] = [\"Green Hill\", \"Chemical Plant\", \"Hill Top\", \"Metropolis\", \"Emerald Hill\"]\n",
    "hedgehog[\"other_details\"] = {\"cool\": \"yes\", \"hungry\": \"always\", \"favorite good\": \"chili dogs\"}\n",
    "print(hedgehog)"
   ]
  },
  {
   "cell_type": "code",
   "execution_count": 25,
   "id": "94525e65",
   "metadata": {},
   "outputs": [
    {
     "name": "stdout",
     "output_type": "stream",
     "text": [
      "{'name': 'Wing Zero', 'owner': 'Heero Yuy', 'manufacturing_date': 1997, 'top_air_speed': '500 mph', 'top_ground_speed': '300 mph', 'parts': ['Wings', 'Blasters', 'hyper hydrolics', 'guns', 'body shield'], 'other_details': {'anti-social': 'yes', 'other gundam fighters around': 'yes', 'best moment': 'taking out all of my enemeies'}}\n"
     ]
    }
   ],
   "source": [
    "#Store a list inside a dictionary and store a dictionary that dictionaries Lab 3 Homework 4\n",
    "gundam = {}\n",
    "gundam[\"name\"] = \"Wing Zero\"\n",
    "gundam[\"owner\"] = \"Heero Yuy\"\n",
    "gundam[\"manufacturing_date\"] = 1997\n",
    "gundam[\"top_air_speed\"] = \"500 mph\"\n",
    "gundam[\"top_ground_speed\"] = \"300 mph\"\n",
    "\n",
    "gundam[\"parts\"] = [\"Wings\", \"Blasters\", \"hyper hydrolics\", \"guns\", \"body shield\"]\n",
    "gundam[\"other_details\"] = {\"anti-social\": \"yes\", \"other gundam fighters around\": \"yes\", \"best moment\": \"taking out all of my enemeies\"}\n",
    "print(gundam)"
   ]
  },
  {
   "cell_type": "code",
   "execution_count": 24,
   "id": "b630f3f0",
   "metadata": {},
   "outputs": [
    {
     "name": "stdout",
     "output_type": "stream",
     "text": [
      "{'name': 'World of Warcraft', 'owner': 'Microsoft', 'creation_date': 2004, 'classes': ['Warlocks', 'Sorcerers', 'Necromancers', 'Gun Blazers', 'Archers', 'Theives'], 'other_details': {'campaign run time': '300+ hours', 'RAIDS available': 'yes', 'treasure': 'Hidden all over'}}\n"
     ]
    }
   ],
   "source": [
    "#Store a list inside a dictionary and store a dictionary that dictionaries Lab 3 Homework 5\n",
    "new_mmo_game = {}\n",
    "new_mmo_game[\"name\"] = \"World of Warcraft\"\n",
    "new_mmo_game[\"owner\"] = \"Microsoft\"\n",
    "new_mmo_game[\"creation_date\"] = 2004\n",
    "\n",
    "new_mmo_game[\"classes\"] = [\"Warlocks\", \"Sorcerers\", \"Necromancers\", \"Gun Blazers\", \"Archers\", \"Theives\"]\n",
    "new_mmo_game[\"other_details\"] = {\"campaign run time\": \"300+ hours\", \"RAIDS available\": \"yes\", \"treasure\": \"Hidden all over\"}\n",
    "print(new_mmo_game)"
   ]
  },
  {
   "cell_type": "markdown",
   "id": "c444948b",
   "metadata": {},
   "source": [
    "# Five Coding Blocks of Dictionaries using \"get\""
   ]
  },
  {
   "cell_type": "code",
   "execution_count": 26,
   "id": "da49cc5a",
   "metadata": {},
   "outputs": [
    {
     "name": "stdout",
     "output_type": "stream",
     "text": [
      "400000000\n"
     ]
    }
   ],
   "source": [
    "# Five Coding Blocks of Dictionaries using \"get\" Lab 4 Homework 1\n",
    "top_golfers_salary = {\n",
    "\"Tiger Woods\" : 800000000,\n",
    "\"Phil Mickelson\": 400000000,\n",
    "\"Greg Norman\": 400000000,\n",
    "\"Arnold Palmer\": 70000000,\n",
    "\"Jack Nicklaus\": 320000000,\n",
    "\"Gary Player\": 250000000,\n",
    "\"Jordan Spieth\": 110000000,\n",
    "\"Rory McIlroy\": 130000000,\n",
    "\"Fred Couples\": 120000000,\n",
    "\"Ernie Els\": 100000000\n",
    "}\n",
    "\n",
    "print(top_golfers_salary.get(\"Phil Mickelson\"))"
   ]
  },
  {
   "cell_type": "code",
   "execution_count": 29,
   "id": "985877db",
   "metadata": {},
   "outputs": [
    {
     "name": "stdout",
     "output_type": "stream",
     "text": [
      "1\n",
      "3\n",
      "7\n"
     ]
    }
   ],
   "source": [
    "# Five Coding Blocks of Dictionaries using \"get\" Lab 4 Homework 2\n",
    "top_nascar_racers = {\n",
    "\"Jimmie Johnson\": 1,\n",
    "\"Richard Petty\": 2,\n",
    "\"Dale Earnhardt\": 3,\n",
    "\"Jeff Gordon\": 4,\n",
    "\"David Pearson\": 5,\n",
    "\"Bobby Allison\": 6,\n",
    "\"Darrell Waltrip\": 7,\n",
    "\"Cale Yarborough\": 8,\n",
    "\"Lee Petty\": 9,\n",
    "\"Tony Stewart\": 10\n",
    "}\n",
    "\n",
    "print(top_nascar_racers.get(\"Jimmie Johnson\"))\n",
    "print(top_nascar_racers.get(\"Dale Earnhardt\"))\n",
    "print(top_nascar_racers.get(\"Darrell Waltrip\"))"
   ]
  },
  {
   "cell_type": "code",
   "execution_count": 35,
   "id": "4ee78ccb",
   "metadata": {},
   "outputs": [
    {
     "name": "stdout",
     "output_type": "stream",
     "text": [
      "3\n",
      "9\n",
      "1\n"
     ]
    }
   ],
   "source": [
    "# Five Coding Blocks of Dictionaries using \"get\" Lab 4 Homework 3\n",
    "top_programming_languages_2024 = {\n",
    "\"Python\": 1,\n",
    "\"JavaScript\": 2,\n",
    "\"Java\": 3,\n",
    "\"C++\": 4,\n",
    "\"C#\": 5,\n",
    "\"TypeScript\": 6,\n",
    "\"Ruby\": 7,\n",
    "\"Swift\": 8,\n",
    "\"Go\": 9,\n",
    "\"Kotlin\": 10\n",
    "}\n",
    "\n",
    "print(top_programming_languages_2024.get(\"Java\"))\n",
    "print(top_programming_languages_2024.get(\"Go\"))\n",
    "print(top_programming_languages_2024.get(\"Python\"))"
   ]
  },
  {
   "cell_type": "code",
   "execution_count": 36,
   "id": "d3ad7cd6",
   "metadata": {},
   "outputs": [
    {
     "name": "stdout",
     "output_type": "stream",
     "text": [
      "Python\n",
      "JavaScript\n",
      "Java\n"
     ]
    }
   ],
   "source": [
    "# Five Coding Blocks of Dictionaries using \"get\" Lab 4 Homework 4\n",
    "top_programming_languages_2024_inverted = {\n",
    "1:\"Python\",\n",
    "2:\"JavaScript\",\n",
    "3:\"Java\",\n",
    "4:\"C++\",\n",
    "5:\"C#\",\n",
    "6:\"TypeScript\",\n",
    "7:\"Ruby\",\n",
    "8:\"Swift\",\n",
    "9:\"Go\",\n",
    "10:\"Kotlin\"\n",
    "}\n",
    "\n",
    "print(top_programming_languages_2024_inverted.get(1))\n",
    "print(top_programming_languages_2024_inverted.get(2))\n",
    "print(top_programming_languages_2024_inverted.get(3))"
   ]
  },
  {
   "cell_type": "code",
   "execution_count": 39,
   "id": "6cb50881",
   "metadata": {},
   "outputs": [
    {
     "name": "stdout",
     "output_type": "stream",
     "text": [
      "211400708\n",
      "13026221\n",
      "145912025\n"
     ]
    }
   ],
   "source": [
    "# Five Coding Blocks of Dictionaries using \"get\" Lab 4 Homework 5\n",
    "top_populations_worldwide = {\n",
    "\"China\": 1444216107,\n",
    "\"India\": 1393409038,\n",
    "\"United States\": 332915073,\n",
    "\"Indonesia\": 276361783,\n",
    "\"Pakistan\": 225199937,\n",
    "\"Brazil\": 213993437,\n",
    "\"Nigeria\": 211400708,\n",
    "\"Bangladesh\": 166303498,\n",
    "\"Russia\": 145912025,\n",
    "\"Mexico\": 13026221\n",
    "}\n",
    "\n",
    "print(top_populations_worldwide.get(\"Nigeria\"))\n",
    "print(top_populations_worldwide.get(\"Mexico\"))\n",
    "print(top_populations_worldwide.get(\"Russia\"))"
   ]
  },
  {
   "cell_type": "markdown",
   "id": "efd74278",
   "metadata": {},
   "source": [
    "# Five Coding Blocks of Dictionaries using values"
   ]
  },
  {
   "cell_type": "code",
   "execution_count": 41,
   "id": "25422eb1",
   "metadata": {},
   "outputs": [
    {
     "name": "stdout",
     "output_type": "stream",
     "text": [
      "dict_values([1444216107, 1393409038, 332915073, 276361783, 225199937, 213993437, 211400708, 166303498, 145912025, 13026221])\n"
     ]
    }
   ],
   "source": [
    "# Five Coding Blocks of Dictionaries using values Lab 5 Homework 1\n",
    "top_populations_worldwide = {\n",
    "\"China\": 1444216107,\n",
    "\"India\": 1393409038,\n",
    "\"United States\": 332915073,\n",
    "\"Indonesia\": 276361783,\n",
    "\"Pakistan\": 225199937,\n",
    "\"Brazil\": 213993437,\n",
    "\"Nigeria\": 211400708,\n",
    "\"Bangladesh\": 166303498,\n",
    "\"Russia\": 145912025,\n",
    "\"Mexico\": 13026221\n",
    "}\n",
    "\n",
    "print(top_populations_worldwide.values())"
   ]
  },
  {
   "cell_type": "code",
   "execution_count": 42,
   "id": "f6d00f0d",
   "metadata": {},
   "outputs": [
    {
     "name": "stdout",
     "output_type": "stream",
     "text": [
      "dict_values(['Python', 'JavaScript', 'Java', 'C++', 'C#', 'TypeScript', 'Ruby', 'Swift', 'Go', 'Kotlin'])\n"
     ]
    }
   ],
   "source": [
    "# Five Coding Blocks of Dictionaries using values Lab 5 Homework 2\n",
    "top_programming_languages_2024_inverted = {\n",
    "1:\"Python\",\n",
    "2:\"JavaScript\",\n",
    "3:\"Java\",\n",
    "4:\"C++\",\n",
    "5:\"C#\",\n",
    "6:\"TypeScript\",\n",
    "7:\"Ruby\",\n",
    "8:\"Swift\",\n",
    "9:\"Go\",\n",
    "10:\"Kotlin\"\n",
    "}\n",
    "\n",
    "print(top_programming_languages_2024_inverted.values())"
   ]
  },
  {
   "cell_type": "code",
   "execution_count": 43,
   "id": "64be46b5",
   "metadata": {},
   "outputs": [
    {
     "name": "stdout",
     "output_type": "stream",
     "text": [
      "dict_values([1, 2, 3, 4, 5, 6, 7, 8, 9, 10])\n"
     ]
    }
   ],
   "source": [
    "# Five Coding Blocks of Dictionaries using values Lab 5 Homework 3\n",
    "top_nascar_racers = {\n",
    "\"Jimmie Johnson\": 1,\n",
    "\"Richard Petty\": 2,\n",
    "\"Dale Earnhardt\": 3,\n",
    "\"Jeff Gordon\": 4,\n",
    "\"David Pearson\": 5,\n",
    "\"Bobby Allison\": 6,\n",
    "\"Darrell Waltrip\": 7,\n",
    "\"Cale Yarborough\": 8,\n",
    "\"Lee Petty\": 9,\n",
    "\"Tony Stewart\": 10\n",
    "}\n",
    "\n",
    "print(top_nascar_racers.values())"
   ]
  },
  {
   "cell_type": "code",
   "execution_count": 44,
   "id": "905e3531",
   "metadata": {},
   "outputs": [
    {
     "name": "stdout",
     "output_type": "stream",
     "text": [
      "dict_values([800000000, 400000000, 400000000, 70000000, 320000000, 250000000, 110000000, 130000000, 120000000, 100000000])\n"
     ]
    }
   ],
   "source": [
    "# Five Coding Blocks of Dictionaries using values Lab 5 Homework 4\n",
    "top_golfers_salary = {\n",
    "\"Tiger Woods\" : 800000000,\n",
    "\"Phil Mickelson\": 400000000,\n",
    "\"Greg Norman\": 400000000,\n",
    "\"Arnold Palmer\": 70000000,\n",
    "\"Jack Nicklaus\": 320000000,\n",
    "\"Gary Player\": 250000000,\n",
    "\"Jordan Spieth\": 110000000,\n",
    "\"Rory McIlroy\": 130000000,\n",
    "\"Fred Couples\": 120000000,\n",
    "\"Ernie Els\": 100000000\n",
    "}\n",
    "\n",
    "print(top_golfers_salary.values())"
   ]
  },
  {
   "cell_type": "code",
   "execution_count": 45,
   "id": "4576d37b",
   "metadata": {},
   "outputs": [
    {
     "name": "stdout",
     "output_type": "stream",
     "text": [
      "dict_values([1, 2, 3, 4, 5, 6, 7, 8, 9, 10])\n"
     ]
    }
   ],
   "source": [
    "# Five Coding Blocks of Dictionaries using values Lab 5 Homework 5\n",
    "top_nascar_racers = {\n",
    "\"Jimmie Johnson\": 1,\n",
    "\"Richard Petty\": 2,\n",
    "\"Dale Earnhardt\": 3,\n",
    "\"Jeff Gordon\": 4,\n",
    "\"David Pearson\": 5,\n",
    "\"Bobby Allison\": 6,\n",
    "\"Darrell Waltrip\": 7,\n",
    "\"Cale Yarborough\": 8,\n",
    "\"Lee Petty\": 9,\n",
    "\"Tony Stewart\": 10\n",
    "}\n",
    "\n",
    "print(top_nascar_racers.values())"
   ]
  },
  {
   "cell_type": "markdown",
   "id": "3a69362e",
   "metadata": {},
   "source": [
    "# Five Coding Blocks of Dictionaries using keys"
   ]
  },
  {
   "cell_type": "code",
   "execution_count": 46,
   "id": "2fa47ef2",
   "metadata": {},
   "outputs": [
    {
     "name": "stdout",
     "output_type": "stream",
     "text": [
      "dict_keys(['Jimmie Johnson', 'Richard Petty', 'Dale Earnhardt', 'Jeff Gordon', 'David Pearson', 'Bobby Allison', 'Darrell Waltrip', 'Cale Yarborough', 'Lee Petty', 'Tony Stewart'])\n"
     ]
    }
   ],
   "source": [
    "#Dictionaries Lab 6 - using keys\n",
    "# Five Coding Blocks of Dictionaries using keys Lab 6 Homework 1\n",
    "top_nascar_racers = {\n",
    "\"Jimmie Johnson\": 1,\n",
    "\"Richard Petty\": 2,\n",
    "\"Dale Earnhardt\": 3,\n",
    "\"Jeff Gordon\": 4,\n",
    "\"David Pearson\": 5,\n",
    "\"Bobby Allison\": 6,\n",
    "\"Darrell Waltrip\": 7,\n",
    "\"Cale Yarborough\": 8,\n",
    "\"Lee Petty\": 9,\n",
    "\"Tony Stewart\": 10\n",
    "}\n",
    "\n",
    "print(top_nascar_racers.keys())"
   ]
  },
  {
   "cell_type": "code",
   "execution_count": 47,
   "id": "3d4c2223",
   "metadata": {},
   "outputs": [
    {
     "name": "stdout",
     "output_type": "stream",
     "text": [
      "dict_keys(['Tiger Woods', 'Phil Mickelson', 'Greg Norman', 'Arnold Palmer', 'Jack Nicklaus', 'Gary Player', 'Jordan Spieth', 'Rory McIlroy', 'Fred Couples', 'Ernie Els'])\n"
     ]
    }
   ],
   "source": [
    "# Five Coding Blocks of Dictionaries using keys Lab 6 Homework 2\n",
    "top_golfers_salary = {\n",
    "\"Tiger Woods\" : 800000000,\n",
    "\"Phil Mickelson\": 400000000,\n",
    "\"Greg Norman\": 400000000,\n",
    "\"Arnold Palmer\": 70000000,\n",
    "\"Jack Nicklaus\": 320000000,\n",
    "\"Gary Player\": 250000000,\n",
    "\"Jordan Spieth\": 110000000,\n",
    "\"Rory McIlroy\": 130000000,\n",
    "\"Fred Couples\": 120000000,\n",
    "\"Ernie Els\": 100000000\n",
    "}\n",
    "\n",
    "print(top_golfers_salary.keys())"
   ]
  },
  {
   "cell_type": "code",
   "execution_count": 48,
   "id": "f89b4da7",
   "metadata": {},
   "outputs": [
    {
     "name": "stdout",
     "output_type": "stream",
     "text": [
      "dict_keys(['Jimmie Johnson', 'Richard Petty', 'Dale Earnhardt', 'Jeff Gordon', 'David Pearson', 'Bobby Allison', 'Darrell Waltrip', 'Cale Yarborough', 'Lee Petty', 'Tony Stewart'])\n"
     ]
    }
   ],
   "source": [
    "# Five Coding Blocks of Dictionaries using keys Lab 6 Homework 3\n",
    "top_nascar_racers = {\n",
    "\"Jimmie Johnson\": 1,\n",
    "\"Richard Petty\": 2,\n",
    "\"Dale Earnhardt\": 3,\n",
    "\"Jeff Gordon\": 4,\n",
    "\"David Pearson\": 5,\n",
    "\"Bobby Allison\": 6,\n",
    "\"Darrell Waltrip\": 7,\n",
    "\"Cale Yarborough\": 8,\n",
    "\"Lee Petty\": 9,\n",
    "\"Tony Stewart\": 10\n",
    "}\n",
    "\n",
    "print(top_nascar_racers.keys())"
   ]
  },
  {
   "cell_type": "code",
   "execution_count": 50,
   "id": "05e022e0",
   "metadata": {},
   "outputs": [
    {
     "name": "stdout",
     "output_type": "stream",
     "text": [
      "dict_keys([1, 2, 3, 4, 5, 6, 7, 8, 9, 10])\n"
     ]
    }
   ],
   "source": [
    "# Five Coding Blocks of Dictionaries using keys Lab 6 Homework 4\n",
    "top_programming_languages_2024_inverted = {\n",
    "1:\"Python\",\n",
    "2:\"JavaScript\",\n",
    "3:\"Java\",\n",
    "4:\"C++\",\n",
    "5:\"C#\",\n",
    "6:\"TypeScript\",\n",
    "7:\"Ruby\",\n",
    "8:\"Swift\",\n",
    "9:\"Go\",\n",
    "10:\"Kotlin\"\n",
    "}\n",
    "\n",
    "print(top_programming_languages_2024_inverted.keys())"
   ]
  },
  {
   "cell_type": "code",
   "execution_count": 51,
   "id": "1d89d243",
   "metadata": {},
   "outputs": [
    {
     "name": "stdout",
     "output_type": "stream",
     "text": [
      "dict_keys(['Python', 'JavaScript', 'Java', 'C++', 'C#', 'TypeScript', 'Ruby', 'Swift', 'Go', 'Kotlin'])\n"
     ]
    }
   ],
   "source": [
    "# Five Coding Blocks of Dictionaries using keys Lab 6 Homework 5\n",
    "top_programming_languages_2024 = {\n",
    "\"Python\": 1,\n",
    "\"JavaScript\": 2,\n",
    "\"Java\": 3,\n",
    "\"C++\": 4,\n",
    "\"C#\": 5,\n",
    "\"TypeScript\": 6,\n",
    "\"Ruby\": 7,\n",
    "\"Swift\": 8,\n",
    "\"Go\": 9,\n",
    "\"Kotlin\": 10\n",
    "}\n",
    "\n",
    "print(top_programming_languages_2024.keys())"
   ]
  },
  {
   "cell_type": "markdown",
   "id": "60919f49",
   "metadata": {},
   "source": [
    "# Five Coding Blocks of Dictionaries using copy"
   ]
  },
  {
   "cell_type": "code",
   "execution_count": 52,
   "id": "fc6d48e6",
   "metadata": {},
   "outputs": [
    {
     "name": "stdout",
     "output_type": "stream",
     "text": [
      "{'Python': 1, 'JavaScript': 2, 'Java': 3, 'C++': 4, 'C#': 5, 'TypeScript': 6, 'Ruby': 7, 'Swift': 8, 'Go': 9, 'Kotlin': 10}\n"
     ]
    }
   ],
   "source": [
    "#Dictionaries Lab 7 - using copy\n",
    "# Five Coding Blocks of Dictionaries using copy Lab 7 Homework 1\n",
    "\n",
    "top_programming_languages_2024 = {\n",
    "\"Python\": 1,\n",
    "\"JavaScript\": 2,\n",
    "\"Java\": 3,\n",
    "\"C++\": 4,\n",
    "\"C#\": 5,\n",
    "\"TypeScript\": 6,\n",
    "\"Ruby\": 7,\n",
    "\"Swift\": 8,\n",
    "\"Go\": 9,\n",
    "\"Kotlin\": 10\n",
    "}\n",
    "\n",
    "print(top_programming_languages_2024.copy())"
   ]
  },
  {
   "cell_type": "code",
   "execution_count": 53,
   "id": "314e1a37",
   "metadata": {},
   "outputs": [
    {
     "name": "stdout",
     "output_type": "stream",
     "text": [
      "{'Jimmie Johnson': 1, 'Richard Petty': 2, 'Dale Earnhardt': 3, 'Jeff Gordon': 4, 'David Pearson': 5, 'Bobby Allison': 6, 'Darrell Waltrip': 7, 'Cale Yarborough': 8, 'Lee Petty': 9, 'Tony Stewart': 10}\n"
     ]
    }
   ],
   "source": [
    "# Five Coding Blocks of Dictionaries using copy Lab 7 Homework 2\n",
    "top_nascar_racers = {\n",
    "\"Jimmie Johnson\": 1,\n",
    "\"Richard Petty\": 2,\n",
    "\"Dale Earnhardt\": 3,\n",
    "\"Jeff Gordon\": 4,\n",
    "\"David Pearson\": 5,\n",
    "\"Bobby Allison\": 6,\n",
    "\"Darrell Waltrip\": 7,\n",
    "\"Cale Yarborough\": 8,\n",
    "\"Lee Petty\": 9,\n",
    "\"Tony Stewart\": 10\n",
    "}\n",
    "\n",
    "print(top_nascar_racers.copy())"
   ]
  },
  {
   "cell_type": "code",
   "execution_count": 54,
   "id": "03285973",
   "metadata": {},
   "outputs": [
    {
     "name": "stdout",
     "output_type": "stream",
     "text": [
      "{'Tiger Woods': 800000000, 'Phil Mickelson': 400000000, 'Greg Norman': 400000000, 'Arnold Palmer': 70000000, 'Jack Nicklaus': 320000000, 'Gary Player': 250000000, 'Jordan Spieth': 110000000, 'Rory McIlroy': 130000000, 'Fred Couples': 120000000, 'Ernie Els': 100000000}\n"
     ]
    }
   ],
   "source": [
    "# Five Coding Blocks of Dictionaries using copy Lab 7 Homework 3\n",
    "top_golfers_salary = {\n",
    "\"Tiger Woods\" : 800000000,\n",
    "\"Phil Mickelson\": 400000000,\n",
    "\"Greg Norman\": 400000000,\n",
    "\"Arnold Palmer\": 70000000,\n",
    "\"Jack Nicklaus\": 320000000,\n",
    "\"Gary Player\": 250000000,\n",
    "\"Jordan Spieth\": 110000000,\n",
    "\"Rory McIlroy\": 130000000,\n",
    "\"Fred Couples\": 120000000,\n",
    "\"Ernie Els\": 100000000\n",
    "}\n",
    "\n",
    "print(top_golfers_salary.copy())"
   ]
  },
  {
   "cell_type": "code",
   "execution_count": 55,
   "id": "56b859b4",
   "metadata": {},
   "outputs": [
    {
     "name": "stdout",
     "output_type": "stream",
     "text": [
      "{'China': 1444216107, 'India': 1393409038, 'United States': 332915073, 'Indonesia': 276361783, 'Pakistan': 225199937, 'Brazil': 213993437, 'Nigeria': 211400708, 'Bangladesh': 166303498, 'Russia': 145912025, 'Mexico': 13026221}\n"
     ]
    }
   ],
   "source": [
    "# Five Coding Blocks of Dictionaries using copy Lab 7 Homework 4\n",
    "top_populations_worldwide = {\n",
    "\"China\": 1444216107,\n",
    "\"India\": 1393409038,\n",
    "\"United States\": 332915073,\n",
    "\"Indonesia\": 276361783,\n",
    "\"Pakistan\": 225199937,\n",
    "\"Brazil\": 213993437,\n",
    "\"Nigeria\": 211400708,\n",
    "\"Bangladesh\": 166303498,\n",
    "\"Russia\": 145912025,\n",
    "\"Mexico\": 13026221\n",
    "}\n",
    "\n",
    "print(top_populations_worldwide.copy())"
   ]
  },
  {
   "cell_type": "code",
   "execution_count": 57,
   "id": "75552291",
   "metadata": {},
   "outputs": [
    {
     "name": "stdout",
     "output_type": "stream",
     "text": [
      "{'France': 89300000, 'Spain': 83500000, 'United States': 79500000, 'China': 65100000, 'Italy': 64200000, 'Turkey': 46000000, 'Germany': 37500000, 'Mexico': 34900000, 'Thailand': 32700000, 'United Kingdom': 32600000}\n"
     ]
    }
   ],
   "source": [
    "# Five Coding Blocks of Dictionaries using copy Lab 7 Homework 5\n",
    "top_populations_worldwide = {\n",
    "\"France\": 89300000,\n",
    "\"Spain\": 83500000,\n",
    "\"United States\": 79500000,\n",
    "\"China\": 65100000,\n",
    "\"Italy\": 64200000,\n",
    "\"Turkey\": 46000000,\n",
    "\"Germany\": 37500000,\n",
    "\"Mexico\": 34900000,\n",
    "\"Thailand\": 32700000,\n",
    "\"United Kingdom\": 32600000\n",
    "}\n",
    "\n",
    "print(top_populations_worldwide.copy())"
   ]
  },
  {
   "cell_type": "code",
   "execution_count": null,
   "id": "163e0d49",
   "metadata": {},
   "outputs": [],
   "source": [
    "\n"
   ]
  },
  {
   "cell_type": "code",
   "execution_count": null,
   "id": "f4f33ac5",
   "metadata": {},
   "outputs": [],
   "source": [
    "\n"
   ]
  },
  {
   "cell_type": "code",
   "execution_count": null,
   "id": "7f1afa02",
   "metadata": {},
   "outputs": [],
   "source": []
  }
 ],
 "metadata": {
  "kernelspec": {
   "display_name": "Python 3",
   "language": "python",
   "name": "python3"
  },
  "language_info": {
   "codemirror_mode": {
    "name": "ipython",
    "version": 3
   },
   "file_extension": ".py",
   "mimetype": "text/x-python",
   "name": "python",
   "nbconvert_exporter": "python",
   "pygments_lexer": "ipython3",
   "version": "3.8.8"
  }
 },
 "nbformat": 4,
 "nbformat_minor": 5
}
