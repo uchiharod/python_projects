{
 "cells": [
  {
   "cell_type": "code",
   "execution_count": 1,
   "id": "1b9d0286",
   "metadata": {},
   "outputs": [
    {
     "name": "stdout",
     "output_type": "stream",
     "text": [
      "Street Fighter\n",
      "Custard Creams\n",
      "Your favorite biscuits are Custard Creams\n",
      "Best TV Shows are Big Bang Theory\n",
      "Your favorite meals are Thai Curry\n"
     ]
    }
   ],
   "source": [
    "##Homework Week 4 Lab 2 Printing out a specific element or value from the list\n",
    "\n",
    "##*5\n",
    "\n",
    "#1\n",
    "\n",
    "films = [\"Ben and Ted\", \"Bad Boys\", \"Basic Instinct\", \"Street Fighter\"]\n",
    "\n",
    "print (films [3])\n",
    "\n",
    "#2\n",
    "\n",
    "biscuits = [\"Jaffa Cakes\", \"Rich Tea\", \"Custard Creams\", \"Malted cookies\"]\n",
    "\n",
    "print(biscuits [2])\n",
    "\n",
    "#3\n",
    "\n",
    "biscuits = [\"Jaffa Cakes\", \"Rich Tea\", \"Custard Creams\", \"Malted cookies\"]\n",
    "\n",
    "print(\"Your favorite biscuits are \" + biscuits [2])\n",
    "\n",
    "#4\n",
    "\n",
    "fav_tv_shows = [\"Big Bang Theory\", \"Breaking Bad\", \"Heroes\", \"Power\"]\n",
    "\n",
    "print(\"Best TV Shows are \" + (fav_tv_shows) [0])\n",
    "\n",
    "#5\n",
    "\n",
    "fav_meal = [\"Chicken Choi Mein\", \"Thai Curry\", \"Turkish Kebab\", \"Special fried rice\"]\n",
    "\n",
    "print(\"Your favorite meals are \" + fav_meal [1]) "
   ]
  },
  {
   "cell_type": "code",
   "execution_count": 2,
   "id": "d8a9936e",
   "metadata": {},
   "outputs": [
    {
     "name": "stdout",
     "output_type": "stream",
     "text": [
      "Street Fighter\n",
      "Blueberries\n",
      "Your favorite fruit is Watermelon\n",
      "Best movie is Matrix\n",
      "Your favorite meals are Salmon, Spinach, and Rice\n"
     ]
    }
   ],
   "source": [
    "##Homework Week 4 Lab 2 Printing out a specific element or value from the list\n",
    "\n",
    "##*5\n",
    "\n",
    "#1\n",
    "\n",
    "films = [\"Matrix\", \"Avengers\", \"Demolition Man\", \"Street Fighter\"]\n",
    "\n",
    "print (films [3])\n",
    "\n",
    "#2\n",
    "\n",
    "fruits = [\"Watermelon\", \"Mango\", \"Blueberries\", \"Pineapple\"]\n",
    "\n",
    "print(fruits [2])\n",
    "\n",
    "#3\n",
    "\n",
    "fruits = [\"Watermelon\", \"Mango\", \"Blueberries\", \"Pineapple\"]\n",
    "\n",
    "print(\"Your favorite fruit is \" + fruits[0])\n",
    "\n",
    "#4\n",
    "\n",
    "films = [\"Matrix\", \"Avengers\", \"Demolition Man\", \"Street Fighter\"]\n",
    "\n",
    "print(\"Best movie is \" + (films) [0])\n",
    "\n",
    "#5\n",
    "\n",
    "fav_meal = [\"Pizza and Fries\", \"Thai Curry\", \"Salmon, Spinach, and Rice\", \"Cheese Burger and Fries\"]\n",
    "\n",
    "print(\"Your favorite meals are \" + fav_meal [2]) "
   ]
  },
  {
   "cell_type": "code",
   "execution_count": null,
   "id": "20ba202f",
   "metadata": {},
   "outputs": [],
   "source": []
  }
 ],
 "metadata": {
  "kernelspec": {
   "display_name": "Python 3",
   "language": "python",
   "name": "python3"
  },
  "language_info": {
   "codemirror_mode": {
    "name": "ipython",
    "version": 3
   },
   "file_extension": ".py",
   "mimetype": "text/x-python",
   "name": "python",
   "nbconvert_exporter": "python",
   "pygments_lexer": "ipython3",
   "version": "3.8.8"
  }
 },
 "nbformat": 4,
 "nbformat_minor": 5
}
