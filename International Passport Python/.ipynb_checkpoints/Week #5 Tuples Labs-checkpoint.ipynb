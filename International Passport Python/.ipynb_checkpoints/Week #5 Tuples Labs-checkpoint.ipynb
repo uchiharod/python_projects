{
 "cells": [
  {
   "cell_type": "code",
   "execution_count": 1,
   "id": "80616ece",
   "metadata": {},
   "outputs": [
    {
     "name": "stdout",
     "output_type": "stream",
     "text": [
      "('Telsa', 'Bentley', 'Hummer', 'Jeep', 'Ferrari')\n",
      "Telsa\n",
      "Ferrari\n"
     ]
    }
   ],
   "source": [
    "#lab 1 printing your first tuple\n",
    "tuple = (\"Telsa\", \"Bentley\", \"Hummer\", \"Jeep\", \"Ferrari\")\n",
    "print(tuple)\n",
    "\n",
    "#lab 2 printing a single value from our tuple\n",
    "print(tuple[0])\n",
    "print(tuple[4])"
   ]
  },
  {
   "cell_type": "code",
   "execution_count": 2,
   "id": "021bd2ce",
   "metadata": {},
   "outputs": [
    {
     "ename": "TypeError",
     "evalue": "'tuple' object does not support item assignment",
     "output_type": "error",
     "traceback": [
      "\u001b[1;31m---------------------------------------------------------------------------\u001b[0m",
      "\u001b[1;31mTypeError\u001b[0m                                 Traceback (most recent call last)",
      "\u001b[1;32m<ipython-input-2-193ef648dae8>\u001b[0m in \u001b[0;36m<module>\u001b[1;34m\u001b[0m\n\u001b[0;32m      1\u001b[0m \u001b[1;31m#lab 3 examples why tuples are immutable (meaning that they can't be changed or modified)\u001b[0m\u001b[1;33m\u001b[0m\u001b[1;33m\u001b[0m\u001b[1;33m\u001b[0m\u001b[0m\n\u001b[0;32m      2\u001b[0m \u001b[0mtuple\u001b[0m \u001b[1;33m=\u001b[0m \u001b[1;33m(\u001b[0m\u001b[1;34m\"Telsa\"\u001b[0m\u001b[1;33m,\u001b[0m \u001b[1;34m\"Bentley\"\u001b[0m\u001b[1;33m,\u001b[0m \u001b[1;34m\"Hummer\"\u001b[0m\u001b[1;33m,\u001b[0m \u001b[1;34m\"Jeep\"\u001b[0m\u001b[1;33m,\u001b[0m \u001b[1;34m\"Ferrari\"\u001b[0m\u001b[1;33m)\u001b[0m\u001b[1;33m\u001b[0m\u001b[1;33m\u001b[0m\u001b[0m\n\u001b[1;32m----> 3\u001b[1;33m \u001b[0mtuple\u001b[0m\u001b[1;33m[\u001b[0m\u001b[1;36m1\u001b[0m\u001b[1;33m]\u001b[0m \u001b[1;33m=\u001b[0m \u001b[1;34m\"Nissan\"\u001b[0m\u001b[1;33m\u001b[0m\u001b[1;33m\u001b[0m\u001b[0m\n\u001b[0m\u001b[0;32m      4\u001b[0m \u001b[0mprint\u001b[0m\u001b[1;33m(\u001b[0m\u001b[0mtuple\u001b[0m\u001b[1;33m[\u001b[0m\u001b[1;36m1\u001b[0m\u001b[1;33m]\u001b[0m\u001b[1;33m)\u001b[0m\u001b[1;33m\u001b[0m\u001b[1;33m\u001b[0m\u001b[0m\n",
      "\u001b[1;31mTypeError\u001b[0m: 'tuple' object does not support item assignment"
     ]
    }
   ],
   "source": [
    "#lab 3 examples why tuples are immutable (meaning that they can't be changed or modified)\n",
    "tuple = (\"Telsa\", \"Bentley\", \"Hummer\", \"Jeep\", \"Ferrari\")\n",
    "tuple[1] = \"Nissan\"\n",
    "print(tuple[1])"
   ]
  },
  {
   "cell_type": "code",
   "execution_count": 3,
   "id": "dd2a98e1",
   "metadata": {},
   "outputs": [
    {
     "ename": "TypeError",
     "evalue": "'tuple' object does not support item assignment",
     "output_type": "error",
     "traceback": [
      "\u001b[1;31m---------------------------------------------------------------------------\u001b[0m",
      "\u001b[1;31mTypeError\u001b[0m                                 Traceback (most recent call last)",
      "\u001b[1;32m<ipython-input-3-2acd01c9312a>\u001b[0m in \u001b[0;36m<module>\u001b[1;34m\u001b[0m\n\u001b[0;32m      1\u001b[0m \u001b[1;31m#lab 3 examples why tuples are immutable (meaning that they can't be changed or modified)\u001b[0m\u001b[1;33m\u001b[0m\u001b[1;33m\u001b[0m\u001b[1;33m\u001b[0m\u001b[0m\n\u001b[0;32m      2\u001b[0m \u001b[0mtuple\u001b[0m \u001b[1;33m=\u001b[0m \u001b[1;33m(\u001b[0m\u001b[1;34m\"Telsa\"\u001b[0m\u001b[1;33m,\u001b[0m \u001b[1;34m\"Bentley\"\u001b[0m\u001b[1;33m,\u001b[0m \u001b[1;34m\"Hummer\"\u001b[0m\u001b[1;33m,\u001b[0m \u001b[1;34m\"Jeep\"\u001b[0m\u001b[1;33m,\u001b[0m \u001b[1;34m\"Ferrari\"\u001b[0m\u001b[1;33m)\u001b[0m\u001b[1;33m\u001b[0m\u001b[1;33m\u001b[0m\u001b[0m\n\u001b[1;32m----> 3\u001b[1;33m \u001b[0mtuple\u001b[0m\u001b[1;33m[\u001b[0m\u001b[1;36m1\u001b[0m\u001b[1;33m]\u001b[0m \u001b[1;33m=\u001b[0m \u001b[1;34m\"Nissan\"\u001b[0m\u001b[1;33m\u001b[0m\u001b[1;33m\u001b[0m\u001b[0m\n\u001b[0m\u001b[0;32m      4\u001b[0m \u001b[0mprint\u001b[0m\u001b[1;33m(\u001b[0m\u001b[0mtuple\u001b[0m\u001b[1;33m[\u001b[0m\u001b[1;36m2\u001b[0m\u001b[1;33m]\u001b[0m\u001b[1;33m)\u001b[0m\u001b[1;33m\u001b[0m\u001b[1;33m\u001b[0m\u001b[0m\n",
      "\u001b[1;31mTypeError\u001b[0m: 'tuple' object does not support item assignment"
     ]
    }
   ],
   "source": [
    "#lab 3 examples why tuples are immutable (meaning that they can't be changed or modified)\n",
    "tuple = (\"Telsa\", \"Bentley\", \"Hummer\", \"Jeep\", \"Ferrari\")\n",
    "tuple[1] = \"Nissan\"\n",
    "print(tuple[2])"
   ]
  },
  {
   "cell_type": "code",
   "execution_count": 4,
   "id": "2cb70260",
   "metadata": {},
   "outputs": [
    {
     "ename": "TypeError",
     "evalue": "'tuple' object does not support item assignment",
     "output_type": "error",
     "traceback": [
      "\u001b[1;31m---------------------------------------------------------------------------\u001b[0m",
      "\u001b[1;31mTypeError\u001b[0m                                 Traceback (most recent call last)",
      "\u001b[1;32m<ipython-input-4-92bf7ddbe4b2>\u001b[0m in \u001b[0;36m<module>\u001b[1;34m\u001b[0m\n\u001b[0;32m      1\u001b[0m \u001b[1;31m#lab 3 examples why tuples are immutable (meaning that they can't be changed or modified)\u001b[0m\u001b[1;33m\u001b[0m\u001b[1;33m\u001b[0m\u001b[1;33m\u001b[0m\u001b[0m\n\u001b[0;32m      2\u001b[0m \u001b[0mtuple\u001b[0m \u001b[1;33m=\u001b[0m \u001b[1;33m(\u001b[0m\u001b[1;34m\"Telsa\"\u001b[0m\u001b[1;33m,\u001b[0m \u001b[1;34m\"Bentley\"\u001b[0m\u001b[1;33m,\u001b[0m \u001b[1;34m\"Hummer\"\u001b[0m\u001b[1;33m,\u001b[0m \u001b[1;34m\"Jeep\"\u001b[0m\u001b[1;33m,\u001b[0m \u001b[1;34m\"Ferrari\"\u001b[0m\u001b[1;33m)\u001b[0m\u001b[1;33m\u001b[0m\u001b[1;33m\u001b[0m\u001b[0m\n\u001b[1;32m----> 3\u001b[1;33m \u001b[0mtuple\u001b[0m\u001b[1;33m[\u001b[0m\u001b[1;36m1\u001b[0m\u001b[1;33m]\u001b[0m \u001b[1;33m=\u001b[0m \u001b[1;34m\"Nissan\"\u001b[0m\u001b[1;33m\u001b[0m\u001b[1;33m\u001b[0m\u001b[0m\n\u001b[0m\u001b[0;32m      4\u001b[0m \u001b[0mprint\u001b[0m\u001b[1;33m(\u001b[0m\u001b[0mtuple\u001b[0m\u001b[1;33m[\u001b[0m\u001b[1;36m4\u001b[0m\u001b[1;33m]\u001b[0m\u001b[1;33m)\u001b[0m\u001b[1;33m\u001b[0m\u001b[1;33m\u001b[0m\u001b[0m\n",
      "\u001b[1;31mTypeError\u001b[0m: 'tuple' object does not support item assignment"
     ]
    }
   ],
   "source": [
    "#lab 3 examples why tuples are immutable (meaning that they can't be changed or modified)\n",
    "tuple = (\"Telsa\", \"Bentley\", \"Hummer\", \"Jeep\", \"Ferrari\")\n",
    "tuple[1] = \"Nissan\"\n",
    "print(tuple[4])"
   ]
  },
  {
   "cell_type": "code",
   "execution_count": 5,
   "id": "dd2bdeaa",
   "metadata": {},
   "outputs": [
    {
     "name": "stdout",
     "output_type": "stream",
     "text": [
      "Nissan\n"
     ]
    }
   ],
   "source": [
    "#lab 4 examples why lists are mutable\n",
    "tuple = [\"Telsa\", \"Bentley\", \"Hummer\", \"Jeep\", \"Ferrari\"]\n",
    "tuple[4] = \"Nissan\"\n",
    "print(tuple[4])"
   ]
  },
  {
   "cell_type": "code",
   "execution_count": 6,
   "id": "cf87c818",
   "metadata": {},
   "outputs": [
    {
     "name": "stdout",
     "output_type": "stream",
     "text": [
      "['Telsa', 'Bentley', 'Hummer', 'Jeep', 'Nissan']\n"
     ]
    }
   ],
   "source": [
    "#lab 4 examples why lists are mutable\n",
    "tuple = [\"Telsa\", \"Bentley\", \"Hummer\", \"Jeep\", \"Ferrari\"]\n",
    "tuple[4] = \"Nissan\"\n",
    "print(tuple)"
   ]
  },
  {
   "cell_type": "markdown",
   "id": "41e111a9",
   "metadata": {},
   "source": [
    "When you create your own functions, make them in lower case"
   ]
  },
  {
   "cell_type": "code",
   "execution_count": 7,
   "id": "730542a4",
   "metadata": {},
   "outputs": [
    {
     "name": "stdout",
     "output_type": "stream",
     "text": [
      "I drive a Tesla!\n"
     ]
    }
   ],
   "source": [
    "#Complex functions and the return statement\n",
    "#lab 1 - Create a function that asks what car you drive\n",
    "\n",
    "def what_car_you_drive():\n",
    "    print(\"I drive a Tesla!\") #This must always be indented\n",
    "    \n",
    "what_car_you_drive() #This calls the function"
   ]
  },
  {
   "cell_type": "code",
   "execution_count": 9,
   "id": "b64753a7",
   "metadata": {},
   "outputs": [],
   "source": [
    "#Complex functions and the return statement\n",
    "#lab 1 - Create a function that asks what car you drive\n",
    "\n",
    "#def print():\n",
    "    #print(\"I drive a Tesla!\") #This must always be indented\n",
    "    \n",
    "#print() #This calls the function"
   ]
  },
  {
   "cell_type": "code",
   "execution_count": 11,
   "id": "4fc7c4e5",
   "metadata": {},
   "outputs": [],
   "source": [
    "#Complex functions and the return statement\n",
    "#lab 1 - Create a function that asks what car you drive\n",
    "\n",
    "#def int():\n",
    "    #print(\"I drive a Tesla!\") #This must always be indented\n",
    "    \n",
    "#int() #This calls the function"
   ]
  },
  {
   "cell_type": "code",
   "execution_count": 12,
   "id": "6cada226",
   "metadata": {},
   "outputs": [
    {
     "name": "stdout",
     "output_type": "stream",
     "text": [
      "Blue Tesla\n",
      "Blue Nissan\n",
      "Blue Benz\n"
     ]
    }
   ],
   "source": [
    "#Complex functions and the return statement\n",
    "#lab 2 - Passing a parameter in our function\n",
    "\n",
    "def make(model): #<--This is a parameter that we pass in\n",
    "    print(\"Blue \" + model)\n",
    "    \n",
    "make(\"Tesla\")\n",
    "make(\"Nissan\")\n",
    "make(\"Benz\")"
   ]
  },
  {
   "cell_type": "code",
   "execution_count": 13,
   "id": "460c5632",
   "metadata": {},
   "outputs": [
    {
     "name": "stdout",
     "output_type": "stream",
     "text": [
      "Good Afternoon Edwin You work in IT and you are 20\n",
      "Good Afternoon Jason You work in IT and you are 85\n",
      "Good Afternoon Hannah You work in IT and you are 22\n",
      "Good Afternoon Keisha You work in IT and you are 50\n"
     ]
    }
   ],
   "source": [
    "#Complex functions and the return statement\n",
    "#lab 3 - complex function example\n",
    "\n",
    "def introductions(name, age): #<--This is a parameter that we pass in\n",
    "    print(\"Good Afternoon \" + name + \" You work in IT and you are \" + age)\n",
    "    \n",
    "introductions(\"Edwin\", \"20\")\n",
    "introductions(\"Jason\", \"85\")\n",
    "introductions(\"Hannah\", \"22\")\n",
    "introductions(\"Keisha\", \"50\")"
   ]
  },
  {
   "cell_type": "code",
   "execution_count": 15,
   "id": "04adec44",
   "metadata": {},
   "outputs": [
    {
     "data": {
      "text/plain": [
       "27"
      ]
     },
     "execution_count": 15,
     "metadata": {},
     "output_type": "execute_result"
    }
   ],
   "source": [
    "#Complex functions and the return statement\n",
    "#lab 4 - return statement example -adding numbers together using the return statement in our function\n",
    "\n",
    "def add(): \n",
    "    return 8+9+10\n",
    "\n",
    "add()"
   ]
  },
  {
   "cell_type": "code",
   "execution_count": null,
   "id": "64cdebe1",
   "metadata": {},
   "outputs": [],
   "source": []
  }
 ],
 "metadata": {
  "kernelspec": {
   "display_name": "Python 3",
   "language": "python",
   "name": "python3"
  },
  "language_info": {
   "codemirror_mode": {
    "name": "ipython",
    "version": 3
   },
   "file_extension": ".py",
   "mimetype": "text/x-python",
   "name": "python",
   "nbconvert_exporter": "python",
   "pygments_lexer": "ipython3",
   "version": "3.8.8"
  }
 },
 "nbformat": 4,
 "nbformat_minor": 5
}
