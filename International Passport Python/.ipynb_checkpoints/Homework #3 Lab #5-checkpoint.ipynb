{
 "cells": [
  {
   "cell_type": "code",
   "execution_count": 1,
   "id": "b6e8dc30",
   "metadata": {},
   "outputs": [
    {
     "name": "stdout",
     "output_type": "stream",
     "text": [
      "On a scale of 1-10 how do you rate your mood?\n",
      "2\n",
      "Your mood is 2. Thanks for the feedback! We'll consider this in the future.\n",
      "On a scale of 1-10 how strong are you? 1 Being Weakest 10 being Stronget! \n",
      "2\n",
      "Your Strength is 2.\n",
      "Are you a Patty McFatty (a fat person)? Tell us on a scale of 1-10. 1 being slimmest, 10 being the fattest\n",
      "3\n",
      "Your weight is 3.\n",
      "Enter Name: Rod\n",
      "Rod Your weight says 3. But in your mind, you're still a Patty McFatty.\n",
      "Enter your mood here from scale 1-10: 3\n",
      "Thank you, your mood score is 3\n",
      "How do you feel today?Good\n",
      "Enter Name: Rod\n",
      "Thanks Rod Your mood rating is Good. Where Happy is a 10 Sad is a 1\n"
     ]
    }
   ],
   "source": [
    "##Homework Week 3 Lab 5 using the input function to rate a user's mood 10/03/2024 Submission date 16/03/2024\n",
    "\n",
    "##*5\n",
    "\n",
    "#1\n",
    "\n",
    "print(\"On a scale of 1-10 how do you rate your mood?\")\n",
    "\n",
    "rating = input()\n",
    "\n",
    "print(\"Your mood is \" + rating + \". Thanks for the feedback! We'll consider this in the future.\" )\n",
    "\n",
    "#2\n",
    "\n",
    "print(\"On a scale of 1-10 how strong are you? 1 Being Weakest 10 being Stronget! \")\n",
    "\n",
    "strength = input()\n",
    "\n",
    "print(\"Your Strength is \" + strength + \".\")\n",
    "\n",
    "#3\n",
    "\n",
    "print(\"Are you a Patty McFatty (a fat person)? Tell us on a scale of 1-10. 1 being slimmest, 10 being the fattest\")\n",
    "\n",
    "weight = input()\n",
    "\n",
    "print(\"Your weight is \" + weight + \".\")\n",
    "\n",
    "name = input(\"Enter Name: \")\n",
    "\n",
    "print(name + \" Your weight says \" + weight + \".\" + \" But in your mind, you're still a Patty McFatty.\" )\n",
    "\n",
    "#4\n",
    "\n",
    "mood = input(\"Enter your mood here from scale 1-10: \")\n",
    "\n",
    "print(\"Thank you, your mood score is \" + mood )\n",
    "\n",
    "#5\n",
    "\n",
    "mood2 = input(\"How do you feel today?\")\n",
    "\n",
    "happy = 10\n",
    "\n",
    "sad = 1\n",
    "\n",
    "name2 = input(\"Enter Name: \")\n",
    "\n",
    "print(\"Thanks \" + name2 + \" Your mood rating is \" + mood2 + \".\" \" Where Happy is a \" + str(happy) + \" Sad is a \" + str(sad)) "
   ]
  },
  {
   "cell_type": "code",
   "execution_count": null,
   "id": "a91fcbde",
   "metadata": {},
   "outputs": [],
   "source": []
  }
 ],
 "metadata": {
  "kernelspec": {
   "display_name": "Python 3",
   "language": "python",
   "name": "python3"
  },
  "language_info": {
   "codemirror_mode": {
    "name": "ipython",
    "version": 3
   },
   "file_extension": ".py",
   "mimetype": "text/x-python",
   "name": "python",
   "nbconvert_exporter": "python",
   "pygments_lexer": "ipython3",
   "version": "3.8.8"
  }
 },
 "nbformat": 4,
 "nbformat_minor": 5
}
