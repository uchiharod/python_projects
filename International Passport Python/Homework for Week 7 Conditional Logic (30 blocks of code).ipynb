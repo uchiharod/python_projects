{
 "cells": [
  {
   "cell_type": "code",
   "execution_count": 6,
   "id": "12d20d56",
   "metadata": {},
   "outputs": [
    {
     "name": "stdout",
     "output_type": "stream",
     "text": [
      "B is greater than A\n"
     ]
    }
   ],
   "source": [
    "#conditional logic\n",
    "#If statement example - Lab 1 - Homework 1\n",
    "\n",
    "a = 50\n",
    "b = 400\n",
    "\n",
    "if a < b:\n",
    "    print(\"B is greater than A\")"
   ]
  },
  {
   "cell_type": "code",
   "execution_count": 7,
   "id": "588e581c",
   "metadata": {},
   "outputs": [
    {
     "name": "stdout",
     "output_type": "stream",
     "text": [
      "D is greater than C\n"
     ]
    }
   ],
   "source": [
    "#conditional logic\n",
    "#If statement example - Lab 1 - Homework 2\n",
    "\n",
    "c = 33\n",
    "d = 34\n",
    "\n",
    "if d > c:\n",
    "    print(\"D is greater than C\")"
   ]
  },
  {
   "cell_type": "code",
   "execution_count": 13,
   "id": "14b71613",
   "metadata": {},
   "outputs": [
    {
     "name": "stdout",
     "output_type": "stream",
     "text": [
      "Donald_Trump got more votes than Hillary_Clinton\n"
     ]
    }
   ],
   "source": [
    "#conditional logic\n",
    "#If statement example - Lab 1 - Homework 3\n",
    "\n",
    "Donald_Trump = 4578\n",
    "Hillary_Clinton = 400\n",
    "\n",
    "if Donald_Trump > Hillary_Clinton:\n",
    "    print(\"Donald_Trump got more votes than Hillary_Clinton\")"
   ]
  },
  {
   "cell_type": "code",
   "execution_count": 10,
   "id": "a231204b",
   "metadata": {},
   "outputs": [
    {
     "name": "stdout",
     "output_type": "stream",
     "text": [
      "G is greater than H\n"
     ]
    }
   ],
   "source": [
    "#conditional logic\n",
    "#If statement example - Lab 1 - Homework 4\n",
    "\n",
    "g = 5000\n",
    "h = 400\n",
    "\n",
    "if g > h:\n",
    "    print(\"G is greater than H\")"
   ]
  },
  {
   "cell_type": "code",
   "execution_count": 12,
   "id": "b5866a16",
   "metadata": {},
   "outputs": [
    {
     "name": "stdout",
     "output_type": "stream",
     "text": [
      "Jean_Grey is a more powerful mutant than Scott_Summers\n"
     ]
    }
   ],
   "source": [
    "#conditional logic\n",
    "#If statement example - Lab 1 - Homework 5\n",
    "\n",
    "Jean_Grey = 5000\n",
    "Scott_Summers = 400\n",
    "\n",
    "if Jean_Grey > Scott_Summers:\n",
    "    print(\"Jean_Grey is a more powerful mutant than Scott_Summers\")"
   ]
  },
  {
   "cell_type": "markdown",
   "id": "da32b727",
   "metadata": {},
   "source": [
    "# ----------------------------------------------------------------"
   ]
  },
  {
   "cell_type": "markdown",
   "id": "cfe10e35",
   "metadata": {},
   "source": [
    "# Complex if Statement Labs (Homework)"
   ]
  },
  {
   "cell_type": "code",
   "execution_count": 14,
   "id": "d8e3541f",
   "metadata": {},
   "outputs": [
    {
     "name": "stdout",
     "output_type": "stream",
     "text": [
      "how much did you pay for this girl?500\n",
      "Tax rate is: 0.25\n"
     ]
    }
   ],
   "source": [
    "#conditional logic\n",
    "#complex if statement example - Lab 1 - Homework 1\n",
    "\n",
    "price = input(\"how much did you pay for this girl?\")\n",
    "\n",
    "price = int(price)\n",
    "if price >= 100:\n",
    "    tax = .25\n",
    "    print(\"Tax rate is: \" + str(tax))"
   ]
  },
  {
   "cell_type": "code",
   "execution_count": null,
   "id": "4c375de1",
   "metadata": {},
   "outputs": [],
   "source": [
    "#conditional logic\n",
    "#complex if statement example - Lab 1 - Homework 2\n",
    "\n",
    "price = input(\"how much are the groceries?\")\n",
    "\n",
    "price = int(price)\n",
    "if price >= 400:\n",
    "    tax = .06\n",
    "    print(\"Tax rate is: \" + str(tax))"
   ]
  },
  {
   "cell_type": "code",
   "execution_count": null,
   "id": "0a12d0fb",
   "metadata": {},
   "outputs": [],
   "source": [
    "#conditional logic\n",
    "#complex if statement example - Lab 1 - Homework 3\n",
    "\n",
    "price = input(\"how much did you pay?\")\n",
    "\n",
    "price = int(price)\n",
    "if price >= 100:\n",
    "    tax = .07\n",
    "    print(\"Tax rate is: \" + str(tax))"
   ]
  },
  {
   "cell_type": "code",
   "execution_count": null,
   "id": "4082b139",
   "metadata": {},
   "outputs": [],
   "source": [
    "#conditional logic\n",
    "#complex if statement example - Lab 1 - Homework 4\n",
    "\n",
    "price = input(\"how much did you pay?\")\n",
    "\n",
    "price = int(price)\n",
    "if price >= 100:\n",
    "    tax = .07\n",
    "    print(\"Tax rate is: \" + str(tax))"
   ]
  },
  {
   "cell_type": "code",
   "execution_count": null,
   "id": "c8e3c23d",
   "metadata": {},
   "outputs": [],
   "source": [
    "#conditional logic\n",
    "#complex if statement example - Lab 1 - Homework 5\n",
    "\n",
    "price = input(\"how much did you pay?\")\n",
    "\n",
    "price = int(price)\n",
    "if price >= 100:\n",
    "    tax = .07\n",
    "    print(\"Tax rate is: \" + str(tax))"
   ]
  },
  {
   "cell_type": "markdown",
   "id": "d1c9e83b",
   "metadata": {},
   "source": [
    "# ----------------------------------------------------------------\n"
   ]
  },
  {
   "cell_type": "markdown",
   "id": "847a9041",
   "metadata": {},
   "source": [
    "# Else Statement Labs (Homework)"
   ]
  },
  {
   "cell_type": "code",
   "execution_count": null,
   "id": "01bd862c",
   "metadata": {},
   "outputs": [],
   "source": []
  },
  {
   "cell_type": "code",
   "execution_count": null,
   "id": "c351d10c",
   "metadata": {},
   "outputs": [],
   "source": []
  },
  {
   "cell_type": "code",
   "execution_count": null,
   "id": "e91a181a",
   "metadata": {},
   "outputs": [],
   "source": []
  },
  {
   "cell_type": "code",
   "execution_count": null,
   "id": "a4130d2e",
   "metadata": {},
   "outputs": [],
   "source": []
  },
  {
   "cell_type": "code",
   "execution_count": null,
   "id": "6287486f",
   "metadata": {},
   "outputs": [],
   "source": []
  },
  {
   "cell_type": "code",
   "execution_count": null,
   "id": "2d162c74",
   "metadata": {},
   "outputs": [],
   "source": []
  },
  {
   "cell_type": "code",
   "execution_count": null,
   "id": "e1bbbc42",
   "metadata": {},
   "outputs": [],
   "source": []
  },
  {
   "cell_type": "code",
   "execution_count": null,
   "id": "5c788718",
   "metadata": {},
   "outputs": [],
   "source": []
  }
 ],
 "metadata": {
  "kernelspec": {
   "display_name": "Python 3",
   "language": "python",
   "name": "python3"
  },
  "language_info": {
   "codemirror_mode": {
    "name": "ipython",
    "version": 3
   },
   "file_extension": ".py",
   "mimetype": "text/x-python",
   "name": "python",
   "nbconvert_exporter": "python",
   "pygments_lexer": "ipython3",
   "version": "3.8.8"
  }
 },
 "nbformat": 4,
 "nbformat_minor": 5
}
