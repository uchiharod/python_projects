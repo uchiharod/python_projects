{
 "cells": [
  {
   "cell_type": "code",
   "execution_count": 1,
   "id": "f6730383",
   "metadata": {},
   "outputs": [
    {
     "name": "stdout",
     "output_type": "stream",
     "text": [
      "D is greater than C\n"
     ]
    }
   ],
   "source": [
    "#conditional logic\n",
    "#If statement example - Lab 1\n",
    "\n",
    "c = 50\n",
    "d = 400\n",
    "\n",
    "if d > c:\n",
    "    print(\"D is greater than C\")"
   ]
  },
  {
   "cell_type": "code",
   "execution_count": 3,
   "id": "0cedc72a",
   "metadata": {},
   "outputs": [
    {
     "name": "stdout",
     "output_type": "stream",
     "text": [
      "how much did you pay?300\n",
      "Tax rate is: 0.07\n"
     ]
    }
   ],
   "source": [
    "#conditional logic\n",
    "#complex if statement example - Lab 2\n",
    "\n",
    "price = input(\"how much did you pay?\")\n",
    "\n",
    "price = int(price)\n",
    "if price >= 100:\n",
    "    tax = .07\n",
    "    print(\"Tax rate is: \" + str(tax))"
   ]
  },
  {
   "cell_type": "code",
   "execution_count": 5,
   "id": "01a220f5",
   "metadata": {},
   "outputs": [
    {
     "name": "stdout",
     "output_type": "stream",
     "text": [
      "C is greater than D\n"
     ]
    }
   ],
   "source": [
    "#conditional logic\n",
    "#else statement example - Lab 3\n",
    "\n",
    "c = 400\n",
    "d = 50\n",
    "\n",
    "if d > c:\n",
    "    print(\"D is greater than C\")\n",
    "else:\n",
    "    print(\"C is greater than D\")"
   ]
  },
  {
   "cell_type": "code",
   "execution_count": 8,
   "id": "6e33adcf",
   "metadata": {},
   "outputs": [
    {
     "name": "stdout",
     "output_type": "stream",
     "text": [
      "how much did you pay?20\n",
      "Tax rate is: 0\n"
     ]
    }
   ],
   "source": [
    "#conditional logic\n",
    "#Complex else statement example - Lab 4\n",
    "\n",
    "price = input(\"how much did you pay?\")\n",
    "\n",
    "price = int(price)\n",
    "if price >= 100:\n",
    "    tax = .07\n",
    "    print(\"Tax rate is: \" + str(tax))\n",
    "else: \n",
    "    tax = 0\n",
    "    print(\"Tax rate is: \" + str(tax))"
   ]
  },
  {
   "cell_type": "code",
   "execution_count": 10,
   "id": "df1eec9e",
   "metadata": {},
   "outputs": [
    {
     "name": "stdout",
     "output_type": "stream",
     "text": [
      "C and D are equal\n"
     ]
    }
   ],
   "source": [
    "#conditional logic\n",
    "#Elif statement example - Lab 5\n",
    "\n",
    "c = 50\n",
    "d = 50\n",
    "\n",
    "if d > c:\n",
    "    print(\"D is greater than C\")\n",
    "elif c == d:\n",
    "    print(\"C and D are equal\")"
   ]
  },
  {
   "cell_type": "code",
   "execution_count": 12,
   "id": "efc898d2",
   "metadata": {},
   "outputs": [
    {
     "name": "stdout",
     "output_type": "stream",
     "text": [
      "C is greater than D\n"
     ]
    }
   ],
   "source": [
    "#conditional logic\n",
    "#Bringing if, else, and elif together example - Lab 6\n",
    "\n",
    "c = 51\n",
    "d = 50\n",
    "\n",
    "if d > c:\n",
    "    print(\"D is greater than C\")\n",
    "elif c == d:\n",
    "    print(\"C and D are equal\")\n",
    "else:\n",
    "    print(\"C is greater than D\")"
   ]
  },
  {
   "cell_type": "code",
   "execution_count": 16,
   "id": "bdf3a87b",
   "metadata": {},
   "outputs": [
    {
     "name": "stdout",
     "output_type": "stream",
     "text": [
      "both conditionals are true!\n"
     ]
    }
   ],
   "source": [
    "#conditional logic\n",
    "#and operator example- Lab 7\n",
    "\n",
    "k = 500\n",
    "z = 200\n",
    "i = 800\n",
    "\n",
    "if i > k and i > z:\n",
    "    print(\"both conditionals are true!\")"
   ]
  },
  {
   "cell_type": "code",
   "execution_count": 17,
   "id": "1d5ab0ad",
   "metadata": {},
   "outputs": [
    {
     "name": "stdout",
     "output_type": "stream",
     "text": [
      "both conditionals are true!\n"
     ]
    }
   ],
   "source": [
    "#conditional logic\n",
    "#or operator example- Lab 8\n",
    "\n",
    "k = 500\n",
    "z = 200\n",
    "i = 800\n",
    "\n",
    "if i > k or i > z:\n",
    "    print(\"One condition is true!\")"
   ]
  },
  {
   "cell_type": "code",
   "execution_count": 18,
   "id": "e53125ff",
   "metadata": {},
   "outputs": [
    {
     "name": "stdout",
     "output_type": "stream",
     "text": [
      "both conditionals are true!\n"
     ]
    }
   ],
   "source": [
    "#conditional logic\n",
    "#not operator example- Lab 9\n",
    "\n",
    "k = 500\n",
    "z = 200\n",
    "i = 800\n",
    "\n",
    "if not k > i:\n",
    "    print(\"It appears K is not greater than I\")"
   ]
  },
  {
   "cell_type": "code",
   "execution_count": 21,
   "id": "22278224",
   "metadata": {},
   "outputs": [
    {
     "name": "stdout",
     "output_type": "stream",
     "text": [
      "Welcome to Passport Bros Gambling\n",
      "Please entere your age below to begin your gambling journey!\n",
      "How old are you? 12\n",
      "You aren't old enough to gamble. But at least you are old enough to watch naughty videos! (provided that you're 18.')\n"
     ]
    }
   ],
   "source": [
    "#conditional logic\n",
    "#Lab 10 - real life use scenario - creating a sign up code for 20 years and over\n",
    "\n",
    "print(\"Welcome to Passport Bros Gambling\")\n",
    "print(\"Please entere your age below to begin your gambling journey!\")\n",
    "legal_age_verficiation = input(\"How old are you? \")\n",
    "legal_age_verficiation = int(legal_age_verficiation)\n",
    "\n",
    "if legal_age_verficiation > 20:\n",
    "    print(\"Thanks for confirming your age. You are legally old enough to gamble. Have a nice time gambling.\")\n",
    "elif legal_age_verficiation == 20:\n",
    "    print(\"Thanks for confirming your age. You are legally old enough to gamble. Have a nice time gambling.\")\n",
    "else:\n",
    "    print(\"You aren\\'t old enough to gamble. But at least you are old enough to watch naughty videos! (provided that you\\'re 18.')\")\n",
    "        "
   ]
  },
  {
   "cell_type": "code",
   "execution_count": 23,
   "id": "fd8240d6",
   "metadata": {},
   "outputs": [
    {
     "name": "stdout",
     "output_type": "stream",
     "text": [
      "Enter a year in the last five years: 2022\n",
      "The winner of the 2022 MBA championships was Golden State Warriors\n"
     ]
    }
   ],
   "source": [
    "#conditional logic\n",
    "#Lab 11 - real life use scenario - Working for the NBA to create a database of winners\n",
    "\n",
    "#Dictionary\n",
    "NBA_Finals = {\n",
    "    \"2019\": \"Toronto Raptors\",\n",
    "    \"2020\": \"Los Angeles Lakers\",\n",
    "    \"2021\": \"Milwaukee Bucks\",\n",
    "    \"2022\": \"Golden State Warriors\",\n",
    "    \"2023\": \"Denver Nuggets\"\n",
    "}\n",
    "\n",
    "#function\n",
    "def year_nba(team):\n",
    "    if team in NBA_Finals:\n",
    "        return NBA_Finals[team]\n",
    "    else:\n",
    "        return \"Sorry Team not found in our database! Enter a year from 2019 to 2023!\"\n",
    "    \n",
    "def basket():\n",
    "    team = input(\"Enter a year in the last five years: \")\n",
    "    print(\"The winner of the\", team, \"MBA championships was\", year_nba(team))\n",
    "    \n",
    "basket()"
   ]
  },
  {
   "cell_type": "code",
   "execution_count": 24,
   "id": "fcaaf103",
   "metadata": {},
   "outputs": [],
   "source": [
    "# if, else, elif, and, or, not <-- 30 blocks of code"
   ]
  },
  {
   "cell_type": "code",
   "execution_count": null,
   "id": "e952d48e",
   "metadata": {},
   "outputs": [],
   "source": []
  }
 ],
 "metadata": {
  "kernelspec": {
   "display_name": "Python 3",
   "language": "python",
   "name": "python3"
  },
  "language_info": {
   "codemirror_mode": {
    "name": "ipython",
    "version": 3
   },
   "file_extension": ".py",
   "mimetype": "text/x-python",
   "name": "python",
   "nbconvert_exporter": "python",
   "pygments_lexer": "ipython3",
   "version": "3.8.8"
  }
 },
 "nbformat": 4,
 "nbformat_minor": 5
}
