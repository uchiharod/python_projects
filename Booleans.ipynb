{
 "cells": [
  {
   "cell_type": "code",
   "execution_count": 1,
   "id": "d489ec97",
   "metadata": {},
   "outputs": [
    {
     "name": "stdout",
     "output_type": "stream",
     "text": [
      "True\n",
      "False\n"
     ]
    }
   ],
   "source": [
    "a_boolean = True\n",
    "the_other_boolean = False\n",
    "print(a_boolean)\n",
    "print(the_other_boolean)"
   ]
  },
  {
   "cell_type": "code",
   "execution_count": 2,
   "id": "e25b61d3",
   "metadata": {},
   "outputs": [
    {
     "name": "stdout",
     "output_type": "stream",
     "text": [
      "False\n"
     ]
    }
   ],
   "source": [
    "is_one_equal_to_two = 1 == 2\n",
    "print(is_one_equal_to_two)"
   ]
  },
  {
   "cell_type": "code",
   "execution_count": 3,
   "id": "5f0fc7db",
   "metadata": {},
   "outputs": [
    {
     "name": "stdout",
     "output_type": "stream",
     "text": [
      "Thirty-seven is less than forty.\n"
     ]
    }
   ],
   "source": [
    "if 37 < 40:\n",
    "    print('Thirty-seven is less than forty.')"
   ]
  },
  {
   "cell_type": "code",
   "execution_count": 9,
   "id": "6172e7e5",
   "metadata": {},
   "outputs": [
    {
     "name": "stdout",
     "output_type": "stream",
     "text": [
      "Have a nice day!\n"
     ]
    }
   ],
   "source": [
    "age = 34\n",
    "if age >= 35:\n",
    "    print('You are old enough to be the President.')\n",
    "\n",
    "print('Have a nice day!')\n"
   ]
  },
  {
   "cell_type": "code",
   "execution_count": 12,
   "id": "0ad6c836",
   "metadata": {},
   "outputs": [
    {
     "name": "stdout",
     "output_type": "stream",
     "text": [
      "You are not old enough to be the President.\n",
      "Have a nice day!\n"
     ]
    }
   ],
   "source": [
    "age = 31\n",
    "if age >= 35:\n",
    "    print('You are old enough to be the President.')\n",
    "else:\n",
    "    print('You are not old enough to be the President.')\n",
    "\n",
    "print('Have a nice day!')"
   ]
  },
  {
   "cell_type": "code",
   "execution_count": 26,
   "id": "5fd6cb7a",
   "metadata": {},
   "outputs": [
    {
     "name": "stdout",
     "output_type": "stream",
     "text": [
      "You are old enough to drive.\n",
      "Don't try it!\n"
     ]
    }
   ],
   "source": [
    "age2 = 19\n",
    "if age2 > 18:\n",
    "    print('You are old enough to drive.')\n",
    "else:\n",
    "    print('You are not old enough to drive.')\n",
    "\n",
    "print('Don\\'t try it!')"
   ]
  },
  {
   "cell_type": "code",
   "execution_count": 6,
   "id": "bd5a5304",
   "metadata": {},
   "outputs": [
    {
     "name": "stdout",
     "output_type": "stream",
     "text": [
      "You are old enough to be a Senator.\n",
      "Have a nice day!\n"
     ]
    }
   ],
   "source": [
    "age = 31\n",
    "if age >= 35:\n",
    "    print('You are old enough to be a Senator or the President.')\n",
    "elif age >= 30:\n",
    "    print('You are old enough to be a Senator.')\n",
    "else:\n",
    "    print('You are not old enough to be a Senator or the President.')\n",
    "\n",
    "print('Have a nice day!')\n"
   ]
  },
  {
   "cell_type": "code",
   "execution_count": 7,
   "id": "f5ad84a2",
   "metadata": {},
   "outputs": [
    {
     "name": "stdout",
     "output_type": "stream",
     "text": [
      "You are old enough to be a Representative, Senator, or the President.\n",
      "Have a nice day!\n"
     ]
    }
   ],
   "source": [
    "age = 99\n",
    "if age >= 35:\n",
    "    print('You are old enough to be a Representative, Senator, or the President.')\n",
    "elif age >= 30:\n",
    "    print('You are old enough to be a Senator.')\n",
    "elif age >= 25:\n",
    "    print('You are old enough to be a Representative.')\n",
    "else:\n",
    "    print('You are not old enough to be a Representative, Senator, or the President.')\n",
    "\n",
    "print('Have a nice day!')"
   ]
  },
  {
   "cell_type": "code",
   "execution_count": null,
   "id": "0c461d2c",
   "metadata": {},
   "outputs": [],
   "source": [
    "age = 99\n",
    "if age >= 35:\n",
    "    print('You are old enough to be a Representative, Senator, or the President.')\n",
    "elif age >= 30:\n",
    "    print('You are old enough to be a Senator.')\n",
    "elif age >= 25:\n",
    "    print('You are old enough to be a Representative.')\n",
    "else:\n",
    "    print('You are not old enough to be a Representative, Senator, or the President.')\n",
    "\n",
    "print('Have a nice day!')"
   ]
  },
  {
   "cell_type": "code",
   "execution_count": 76,
   "id": "18d5ad53",
   "metadata": {},
   "outputs": [
    {
     "name": "stdout",
     "output_type": "stream",
     "text": [
      "Vegeta, what does the scouter say about his power level. It's OVER 9000!!!!!\n",
      "Take your ass home. Real fighters get it in here.\n"
     ]
    }
   ],
   "source": [
    "power_level = 9001\n",
    "if power_level < 50:\n",
    "    print(\"You\\'re a normal human. Not strong at all.\")\n",
    "elif power_level < 100:\n",
    "    print(\"You\\'re a normal human still. Not strong at all.\")\n",
    "elif power_level < 500:\n",
    "    print(\"You\\'re a normal human still.....But stronger than normal.\")\n",
    "elif power_level < 900:\n",
    "    print(\"You\\'re not human, what are you?\")\n",
    "elif power_level < 3000:\n",
    "    print(\"You\\'re a saiyan, but a weak one.\")\n",
    "elif power_level < 5000:\n",
    "    print(\"You\\'re a stronger than normal saiyan.\")\n",
    "elif power_level < 9000:\n",
    "    print(\"We need to watch this one Nappa!!!!\")\n",
    "else:\n",
    "    print(\"Vegeta, what does the scouter say about his power level. It\\'s OVER 9000!!!!!\")\n",
    "    \n",
    "print(\"Take your ass home. Real fighters get it in here.\")"
   ]
  },
  {
   "cell_type": "code",
   "execution_count": 105,
   "id": "ee2eb5dd",
   "metadata": {},
   "outputs": [
    {
     "name": "stdout",
     "output_type": "stream",
     "text": [
      "How far would you like to travel in miles? 301\n",
      "Mofo you better FLY!!!!!\n",
      "Have a nice christmas!!!\n"
     ]
    }
   ],
   "source": [
    "drivefly = int(input(\"How far would you like to travel in miles? \"))\n",
    "if drivefly <= 3:\n",
    "    print(\"Your ass needs to walk.\")\n",
    "elif drivefly <= 300:\n",
    "    print(\"Your ass needs to drive.\")\n",
    "else:\n",
    "    print(\"Mofo you better FLY!!!!!\")\n",
    "\n",
    "print(\"Have a nice christmas!!!\")\n"
   ]
  },
  {
   "cell_type": "code",
   "execution_count": null,
   "id": "a6da5c37",
   "metadata": {},
   "outputs": [],
   "source": []
  }
 ],
 "metadata": {
  "kernelspec": {
   "display_name": "Python 3",
   "language": "python",
   "name": "python3"
  },
  "language_info": {
   "codemirror_mode": {
    "name": "ipython",
    "version": 3
   },
   "file_extension": ".py",
   "mimetype": "text/x-python",
   "name": "python",
   "nbconvert_exporter": "python",
   "pygments_lexer": "ipython3",
   "version": "3.8.8"
  }
 },
 "nbformat": 4,
 "nbformat_minor": 5
}
