{
 "cells": [
  {
   "cell_type": "code",
   "execution_count": 2,
   "id": "7506e678",
   "metadata": {},
   "outputs": [
    {
     "name": "stdout",
     "output_type": "stream",
     "text": [
      "Enter your city: Cheyenne\n",
      "It's one of the cleanest cities\n"
     ]
    }
   ],
   "source": [
    "cleanest_cities = [\"Cheyenne\", \"cheyenne\", \"Santa Fe\", \"santa fe\", \"Tucson\", \"tucson\", \"Great Falls\", \"great falls\", \"Honolulu\", \"honolulu\"]\n",
    "\n",
    "city_to_check = input(\"Enter your city: \")\n",
    "city_to_check = city_to_check.lower() \n",
    "cleanest_cities = [\"cheyenne\", \"santa fe\", \"tucson\", \"great falls\", \"honolulu\"] \n",
    "for a_clean_city in cleanest_cities:\n",
    "    if city_to_check == a_clean_city: \n",
    "        print(\"It's one of the cleanest cities\")\n",
    "\n",
    " "
   ]
  },
  {
   "cell_type": "code",
   "execution_count": null,
   "id": "c2a2120b",
   "metadata": {},
   "outputs": [],
   "source": []
  }
 ],
 "metadata": {
  "kernelspec": {
   "display_name": "Python 3",
   "language": "python",
   "name": "python3"
  },
  "language_info": {
   "codemirror_mode": {
    "name": "ipython",
    "version": 3
   },
   "file_extension": ".py",
   "mimetype": "text/x-python",
   "name": "python",
   "nbconvert_exporter": "python",
   "pygments_lexer": "ipython3",
   "version": "3.8.8"
  }
 },
 "nbformat": 4,
 "nbformat_minor": 5
}
