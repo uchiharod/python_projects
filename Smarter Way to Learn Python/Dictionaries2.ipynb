{
 "cells": [
  {
   "cell_type": "code",
   "execution_count": 1,
   "id": "b332f546",
   "metadata": {},
   "outputs": [
    {
     "name": "stdout",
     "output_type": "stream",
     "text": [
      "1281\n"
     ]
    }
   ],
   "source": [
    "prices = {\n",
    "  \"ethanol\": 1.531,\n",
    "  \"natural gas\": 2.892,\n",
    "  \"gasoline\": 1.5646,\n",
    "}\n",
    "\n",
    "prices[\"gold\"] = 1281\n",
    "print(prices[\"gold\"])"
   ]
  },
  {
   "cell_type": "code",
   "execution_count": 1,
   "id": "c17f21aa",
   "metadata": {},
   "outputs": [
    {
     "name": "stdout",
     "output_type": "stream",
     "text": [
      "name Alice\n",
      "age 30\n",
      "city New York\n"
     ]
    }
   ],
   "source": [
    "my_dict = {'name': 'Alice', 'age': 30, 'city': 'New York'}\n",
    "\n",
    "for key in my_dict:\n",
    "    print(key, my_dict[key])\n"
   ]
  },
  {
   "cell_type": "code",
   "execution_count": 2,
   "id": "6e0e5248",
   "metadata": {},
   "outputs": [
    {
     "name": "stdout",
     "output_type": "stream",
     "text": [
      "name Bob\n",
      "age 25\n",
      "city Los Angeles\n"
     ]
    }
   ],
   "source": [
    "my_dict = {'name': 'Bob', 'age': 25, 'city': 'Los Angeles'}\n",
    "\n",
    "for key, value in my_dict.items():\n",
    "    print(key, value)\n"
   ]
  },
  {
   "cell_type": "code",
   "execution_count": 3,
   "id": "c6b44be4",
   "metadata": {},
   "outputs": [
    {
     "name": "stdout",
     "output_type": "stream",
     "text": [
      "name Charlie\n",
      "age 35\n",
      "city Chicago\n"
     ]
    }
   ],
   "source": [
    "my_dict = {'name': 'Charlie', 'age': 35, 'city': 'Chicago'}\n",
    "\n",
    "for key in my_dict:\n",
    "    value = my_dict[key]\n",
    "    print(key, value)\n"
   ]
  },
  {
   "cell_type": "code",
   "execution_count": 4,
   "id": "29ed03c2",
   "metadata": {},
   "outputs": [
    {
     "name": "stdout",
     "output_type": "stream",
     "text": [
      "[('name', 'David'), ('age', 40), ('city', 'San Francisco')]\n"
     ]
    }
   ],
   "source": [
    "my_dict = {'name': 'David', 'age': 40, 'city': 'San Francisco'}\n",
    "\n",
    "items = [(key, value) for key, value in my_dict.items()]\n",
    "print(items)\n"
   ]
  },
  {
   "cell_type": "code",
   "execution_count": 5,
   "id": "963559b6",
   "metadata": {},
   "outputs": [
    {
     "name": "stdout",
     "output_type": "stream",
     "text": [
      "name Eve\n",
      "age 28\n",
      "city Seattle\n"
     ]
    }
   ],
   "source": [
    "my_dict = {'name': 'Eve', 'age': 28, 'city': 'Seattle'}\n",
    "\n",
    "for key in my_dict:\n",
    "    value = my_dict.get(key)\n",
    "    print(key, value)\n"
   ]
  },
  {
   "cell_type": "code",
   "execution_count": 6,
   "id": "3e64b7fa",
   "metadata": {},
   "outputs": [
    {
     "name": "stdout",
     "output_type": "stream",
     "text": [
      "Frank\n",
      "45\n",
      "Boston\n"
     ]
    }
   ],
   "source": [
    "my_dict = {'name': 'Frank', 'age': 45, 'city': 'Boston'}\n",
    "\n",
    "for value in my_dict.values():\n",
    "    print(value)\n"
   ]
  },
  {
   "cell_type": "code",
   "execution_count": 7,
   "id": "06c27ec5",
   "metadata": {},
   "outputs": [
    {
     "name": "stdout",
     "output_type": "stream",
     "text": [
      "banana 5\n",
      "date 7\n"
     ]
    }
   ],
   "source": [
    "my_dict = {'apple': 3, 'banana': 5, 'cherry': 2, 'date': 7}\n",
    "\n",
    "for key in my_dict:\n",
    "    if my_dict[key] > 3:\n",
    "        print(key, my_dict[key])\n"
   ]
  },
  {
   "cell_type": "code",
   "execution_count": 9,
   "id": "9b45bc34",
   "metadata": {},
   "outputs": [
    {
     "name": "stdout",
     "output_type": "stream",
     "text": [
      "name\n",
      "age\n",
      "city\n"
     ]
    }
   ],
   "source": [
    "my_dict = {'name': 'Charlie', 'age': 35, 'city': 'Chicago'}\n",
    "\n",
    "for key in my_dict:\n",
    "    print(key)"
   ]
  },
  {
   "cell_type": "code",
   "execution_count": 17,
   "id": "ab20b62c",
   "metadata": {},
   "outputs": [
    {
     "name": "stdout",
     "output_type": "stream",
     "text": [
      "name Charlie\n",
      "age 35\n",
      "city Chicago\n"
     ]
    }
   ],
   "source": [
    "my_dict2 = {'name': 'Charlie', 'age': 35, 'city': 'Chicago'}\n",
    "\n",
    "for key in my_dict2:\n",
    "    value = my_dict2[key]\n",
    "    print(key, value)"
   ]
  },
  {
   "cell_type": "code",
   "execution_count": 18,
   "id": "421ac05c",
   "metadata": {},
   "outputs": [
    {
     "name": "stdout",
     "output_type": "stream",
     "text": [
      "Charlie\n",
      "35\n",
      "Chicago\n"
     ]
    }
   ],
   "source": [
    "my_dict2 = {'name': 'Charlie', 'age': 35, 'city': 'Chicago'}\n",
    "\n",
    "for key in my_dict2.values():\n",
    "    print(key)"
   ]
  },
  {
   "cell_type": "code",
   "execution_count": 20,
   "id": "9ae344e3",
   "metadata": {},
   "outputs": [
    {
     "name": "stdout",
     "output_type": "stream",
     "text": [
      "name\n",
      "age\n",
      "city\n"
     ]
    }
   ],
   "source": [
    "my_dict2 = {'name': 'Charlie', 'age': 35, 'city': 'Chicago'}\n",
    "\n",
    "for key in my_dict2.keys():\n",
    "    print(key)"
   ]
  },
  {
   "cell_type": "code",
   "execution_count": 21,
   "id": "1b4a73f2",
   "metadata": {},
   "outputs": [
    {
     "name": "stdout",
     "output_type": "stream",
     "text": [
      "name Chicago\n",
      "age Chicago\n",
      "city Chicago\n"
     ]
    }
   ],
   "source": [
    "my_dict2 = {'name': 'Charlie', 'age': 35, 'city': 'Chicago'}\n",
    "\n",
    "for key in my_dict2.keys():\n",
    "    print(key, value)"
   ]
  },
  {
   "cell_type": "code",
   "execution_count": 22,
   "id": "157567ee",
   "metadata": {},
   "outputs": [
    {
     "name": "stdout",
     "output_type": "stream",
     "text": [
      "['Argo', 'Argon', 'Altoona', 'Amazon']\n"
     ]
    }
   ],
   "source": [
    "'''\n",
    "Exercise 12\n",
    "\n",
    "Loop through the dictionary looking for \"Amazon\".\n",
    "If you find it, append the value to the list. (Use the variable, not the string, to append.)\n",
    "Break the loop.\n",
    "Display the list.\n",
    "Click the Run button    above your code. If you've coded correctly, the list with \"Amazon\" at the end of it will display in the right-hand panel. (You can click Instructions at the top of the right-hand panel to see the correct code.)\n",
    "'''\n",
    "\n",
    "a_list = [\"Argo\", \"Argon\", \"Altoona\"]\n",
    "sites = {\n",
    "  \"search\": \"Google\",\n",
    "  \"social\": \"Facebook\",\n",
    "  \"travel\": \"Travelocity\",\n",
    "  \"retail\": \"Amazon\",\n",
    "}\n",
    "for name in sites.values():\n",
    "  if name == \"Amazon\":\n",
    "    a_list.append(name)\n",
    "    break\n",
    "print(a_list)"
   ]
  },
  {
   "cell_type": "code",
   "execution_count": 23,
   "id": "e4e5b570",
   "metadata": {},
   "outputs": [
    {
     "name": "stdout",
     "output_type": "stream",
     "text": [
      "1\n",
      "3\n",
      "9\n"
     ]
    }
   ],
   "source": [
    "hardness_scale = {\n",
    "    \"talc\": 1,\n",
    "    \"gypsum\": 3,\n",
    "    \"calcite\": 9,\n",
    "}\n",
    "\n",
    "for each_scale in hardness_scale.keys():\n",
    "  value = hardness_scale[each_scale]\n",
    "  print(value)"
   ]
  },
  {
   "cell_type": "code",
   "execution_count": 27,
   "id": "bd2b8f82",
   "metadata": {},
   "outputs": [
    {
     "name": "stdout",
     "output_type": "stream",
     "text": [
      "{'talc': 1}\n",
      "{'talc': 1, 'gypsum': 3}\n",
      "{'talc': 1, 'gypsum': 3, 'calcite': 9}\n"
     ]
    }
   ],
   "source": [
    "'''\n",
    "Exercise 12\n",
    "\n",
    "Loop through the hardness_scale dictionary, adding each key-value pair in it to the minerals dictionary. Display the minerals dictionary.\n",
    "Click the Run button    above your code. If you've coded correctly, the minerals dictionary will display in the right-hand panel. (You can click Instructions at the top of the right-hand panel to see the correct code.)\n",
    "'''\n",
    "\n",
    "minerals = {}\n",
    "hardness_scale = {\n",
    "    \"talc\": 1,\n",
    "    \"gypsum\": 3,\n",
    "    \"calcite\": 9,\n",
    "}\n",
    "\n",
    "for scale in hardness_scale.keys():\n",
    "  minerals[scale] = hardness_scale[scale]\n",
    "  print(minerals)"
   ]
  },
  {
   "cell_type": "code",
   "execution_count": 25,
   "id": "76e79366",
   "metadata": {},
   "outputs": [
    {
     "name": "stdout",
     "output_type": "stream",
     "text": [
      "{'talc': 1, 'gypsum': 3, 'calcite': 9}\n"
     ]
    }
   ],
   "source": [
    "minerals = {}\n",
    "hardness_scale = {\n",
    "  \"talc\": 1,\n",
    "  \"gypsum\": 3,\n",
    "  \"calcite\": 9,\n",
    "}\n",
    "for a_key in hardness_scale.keys():\n",
    "  minerals[a_key] = hardness_scale[a_key]\n",
    "print(minerals)"
   ]
  },
  {
   "cell_type": "code",
   "execution_count": null,
   "id": "b945aa26",
   "metadata": {},
   "outputs": [],
   "source": []
  }
 ],
 "metadata": {
  "kernelspec": {
   "display_name": "Python 3",
   "language": "python",
   "name": "python3"
  },
  "language_info": {
   "codemirror_mode": {
    "name": "ipython",
    "version": 3
   },
   "file_extension": ".py",
   "mimetype": "text/x-python",
   "name": "python",
   "nbconvert_exporter": "python",
   "pygments_lexer": "ipython3",
   "version": "3.8.8"
  }
 },
 "nbformat": 4,
 "nbformat_minor": 5
}
