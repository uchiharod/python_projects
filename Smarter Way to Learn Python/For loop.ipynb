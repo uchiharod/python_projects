{
 "cells": [
  {
   "cell_type": "code",
   "execution_count": 2,
   "id": "aa3a0501",
   "metadata": {},
   "outputs": [
    {
     "name": "stdout",
     "output_type": "stream",
     "text": [
      "It's the letter A and it is a vowel!\n",
      "It's the letter E and it is a vowel!\n",
      "It's the letter I and it is a vowel!\n",
      "It's the letter O and it is a vowel!\n",
      "It's the letter U and it is a vowel!\n"
     ]
    }
   ],
   "source": [
    "vowels = [\"a\", \"e\", \"i\", \"o\", \"u\"]\n",
    "\n",
    "\n",
    "for x in vowels:\n",
    "    if x == \"a\":\n",
    "        print(\"It\\'s the letter A and it is a vowel!\")\n",
    "        \n",
    "    elif x == \"e\":\n",
    "        print(\"It\\'s the letter E and it is a vowel!\")\n",
    "        \n",
    "    elif x == \"i\":\n",
    "        print(\"It\\'s the letter I and it is a vowel!\")\n",
    "        \n",
    "    elif x == \"o\":\n",
    "        print(\"It\\'s the letter O and it is a vowel!\")\n",
    "        \n",
    "    elif x == \"u\":\n",
    "        print(\"It\\'s the letter U and it is a vowel!\")\n",
    "        \n",
    "    elif x not in vowels:\n",
    "        print(\"It\\'s not a vowel!\")"
   ]
  },
  {
   "cell_type": "code",
   "execution_count": 5,
   "id": "d304c862",
   "metadata": {},
   "outputs": [
    {
     "name": "stdout",
     "output_type": "stream",
     "text": [
      "We cool!\n",
      "BS!!\n",
      "BS!!\n",
      "BS!!\n",
      "BS!!\n"
     ]
    }
   ],
   "source": [
    "name_to_check = \"Rod\"\n",
    "names = [\"Rod\", \"Ann\", \"Jay\", \"Tom\", \"Sue\"]\n",
    "\n",
    "for right_name in names:    \n",
    "    if name_to_check == right_name:\n",
    "        print(\"We cool!\")\n",
    "    else: \n",
    "        print(\"BS!!\")"
   ]
  },
  {
   "cell_type": "code",
   "execution_count": 6,
   "id": "929000aa",
   "metadata": {},
   "outputs": [
    {
     "name": "stdout",
     "output_type": "stream",
     "text": [
      "We cool!\n"
     ]
    }
   ],
   "source": [
    "name_to_check = \"Rod\"\n",
    "names = [\"Rod\", \"Ann\", \"Jay\", \"Tom\", \"Sue\"]\n",
    "\n",
    "for right_name in names:    \n",
    "    if name_to_check == right_name:\n",
    "        print(\"We cool!\")\n",
    "        break  #If python finds a match, there is no need continuing the loop\n",
    "    else: \n",
    "        print(\"BS!!\")"
   ]
  },
  {
   "cell_type": "code",
   "execution_count": null,
   "id": "f1e49855",
   "metadata": {},
   "outputs": [],
   "source": []
  }
 ],
 "metadata": {
  "kernelspec": {
   "display_name": "Python 3",
   "language": "python",
   "name": "python3"
  },
  "language_info": {
   "codemirror_mode": {
    "name": "ipython",
    "version": 3
   },
   "file_extension": ".py",
   "mimetype": "text/x-python",
   "name": "python",
   "nbconvert_exporter": "python",
   "pygments_lexer": "ipython3",
   "version": "3.8.8"
  }
 },
 "nbformat": 4,
 "nbformat_minor": 5
}
