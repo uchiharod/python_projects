{
 "cells": [
  {
   "cell_type": "code",
   "execution_count": 1,
   "id": "74b1d092",
   "metadata": {},
   "outputs": [
    {
     "name": "stdout",
     "output_type": "stream",
     "text": [
      "Alice, that was a great trick!\n",
      "I can't wait to see your next trick, Alice.\n",
      "\n",
      "David, that was a great trick!\n",
      "I can't wait to see your next trick, David.\n",
      "\n",
      "Carolina, that was a great trick!\n",
      "I can't wait to see your next trick, Carolina.\n",
      "\n",
      "Thank you, everyone. That was a great magic show!\n"
     ]
    }
   ],
   "source": [
    "magicians = ['alice', 'david', 'carolina'] \n",
    "for magician in magicians: \n",
    "    print(f\"{magician.title()}, that was a great trick!\")\n",
    "    print(f\"I can't wait to see your next trick, {magician.title()}.\\n\")\n",
    "    \n",
    "print(\"Thank you, everyone. That was a great magic show!\")"
   ]
  },
  {
   "cell_type": "code",
   "execution_count": 2,
   "id": "e4cefd70",
   "metadata": {},
   "outputs": [
    {
     "name": "stdout",
     "output_type": "stream",
     "text": [
      "king tut, gotta have it.\n",
      "Let's do it over KING TUT.\n",
      "any mutant, gotta have it.\n",
      "Let's do it over ANY MUTANT.\n",
      "snake boss, gotta have it.\n",
      "Let's do it over SNAKE BOSS.\n",
      "That's all for now.\n"
     ]
    }
   ],
   "source": [
    "missions = ['King Tut', 'Any Mutant', 'Snake Boss']\n",
    "for mission in missions:\n",
    "    print(f\"{mission.lower()}, gotta have it.\")\n",
    "    print(f\"Let\\'s do it over {mission.upper()}.\")\n",
    "    \n",
    "print(\"That\\'s all for now.\")"
   ]
  },
  {
   "cell_type": "code",
   "execution_count": null,
   "id": "b687eb44",
   "metadata": {},
   "outputs": [],
   "source": []
  }
 ],
 "metadata": {
  "kernelspec": {
   "display_name": "Python 3",
   "language": "python",
   "name": "python3"
  },
  "language_info": {
   "codemirror_mode": {
    "name": "ipython",
    "version": 3
   },
   "file_extension": ".py",
   "mimetype": "text/x-python",
   "name": "python",
   "nbconvert_exporter": "python",
   "pygments_lexer": "ipython3",
   "version": "3.8.8"
  }
 },
 "nbformat": 4,
 "nbformat_minor": 5
}
