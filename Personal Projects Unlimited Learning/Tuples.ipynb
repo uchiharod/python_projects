{
 "cells": [
  {
   "cell_type": "code",
   "execution_count": 1,
   "id": "67153224",
   "metadata": {},
   "outputs": [
    {
     "name": "stdout",
     "output_type": "stream",
     "text": [
      "('red', 'green', 'blue')\n"
     ]
    }
   ],
   "source": [
    "# A tuple with three elements\n",
    "colors = ('red', 'green', 'blue')\n",
    "print(colors)  # Output: ('red', 'green', 'blue')"
   ]
  },
  {
   "cell_type": "code",
   "execution_count": 2,
   "id": "5de8133f",
   "metadata": {},
   "outputs": [
    {
     "name": "stdout",
     "output_type": "stream",
     "text": [
      "('hello',)\n"
     ]
    }
   ],
   "source": [
    "# A tuple with one element\n",
    "single_element_tuple = ('hello',)\n",
    "print(single_element_tuple)  # Output: ('hello',)"
   ]
  },
  {
   "cell_type": "code",
   "execution_count": 3,
   "id": "4f9682d2",
   "metadata": {},
   "outputs": [
    {
     "name": "stdout",
     "output_type": "stream",
     "text": [
      "()\n"
     ]
    }
   ],
   "source": [
    "# An empty tuple\n",
    "empty_tuple = ()\n",
    "print(empty_tuple)  # Output: ()"
   ]
  },
  {
   "cell_type": "code",
   "execution_count": 4,
   "id": "bff8fef8",
   "metadata": {},
   "outputs": [
    {
     "name": "stdout",
     "output_type": "stream",
     "text": [
      "1\n",
      "2\n",
      "3\n"
     ]
    }
   ],
   "source": [
    "# A tuple with three elements, and assigning each element to a separate variable\n",
    "x, y, z = (1, 2, 3)\n",
    "print(x)  # Output: 1\n",
    "print(y)  # Output: 2\n",
    "print(z)  # Output: 3"
   ]
  },
  {
   "cell_type": "code",
   "execution_count": null,
   "id": "caeb0baa",
   "metadata": {},
   "outputs": [],
   "source": []
  }
 ],
 "metadata": {
  "kernelspec": {
   "display_name": "Python 3",
   "language": "python",
   "name": "python3"
  },
  "language_info": {
   "codemirror_mode": {
    "name": "ipython",
    "version": 3
   },
   "file_extension": ".py",
   "mimetype": "text/x-python",
   "name": "python",
   "nbconvert_exporter": "python",
   "pygments_lexer": "ipython3",
   "version": "3.8.8"
  }
 },
 "nbformat": 4,
 "nbformat_minor": 5
}
