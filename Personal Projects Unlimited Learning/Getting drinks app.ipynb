{
 "cells": [
  {
   "cell_type": "code",
   "execution_count": 3,
   "id": "36699116",
   "metadata": {},
   "outputs": [
    {
     "name": "stdout",
     "output_type": "stream",
     "text": [
      "Enter your age: 12\n",
      "Enter the amount of money you have: 23\n",
      "Nice try, kid!\n"
     ]
    }
   ],
   "source": [
    "def get_drinks():\n",
    "  age = int(input(\"Enter your age: \"))\n",
    "  money = int(input(\"Enter the amount of money you have: \"))\n",
    "\n",
    "  if age > 21 and money > 5:\n",
    "    print(\"We're getting drinks!\")\n",
    "  elif age > 21 and money < 5:\n",
    "    print(\"Get your money up!\")\n",
    "  elif age < 21 and money >= 5:\n",
    "    print(\"Nice try, kid!\")\n",
    "  else:\n",
    "    print(\"You're too poor and not old enough\")\n",
    "\n",
    "get_drinks()"
   ]
  },
  {
   "cell_type": "code",
   "execution_count": null,
   "id": "ac52644c",
   "metadata": {},
   "outputs": [],
   "source": []
  }
 ],
 "metadata": {
  "kernelspec": {
   "display_name": "Python 3",
   "language": "python",
   "name": "python3"
  },
  "language_info": {
   "codemirror_mode": {
    "name": "ipython",
    "version": 3
   },
   "file_extension": ".py",
   "mimetype": "text/x-python",
   "name": "python",
   "nbconvert_exporter": "python",
   "pygments_lexer": "ipython3",
   "version": "3.8.8"
  }
 },
 "nbformat": 4,
 "nbformat_minor": 5
}
