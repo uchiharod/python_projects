{
 "cells": [
  {
   "cell_type": "code",
   "execution_count": 2,
   "id": "c87b8098",
   "metadata": {},
   "outputs": [
    {
     "name": "stdout",
     "output_type": "stream",
     "text": [
      "['The Shawshank Redemption', 'The Godfather', 'The Godfather: Part II']\n",
      "['The Departed', 'Fight Club']\n",
      "['The Godfather', 'The Godfather: Part II', 'The Dark Knight']\n",
      "['The Matrix', 'The Departed']\n"
     ]
    }
   ],
   "source": [
    "movies = ['The Shawshank Redemption', 'The Godfather', 'The Godfather: Part II', 'The Dark Knight', '12 Angry Men']\n",
    "\n",
    "# Splice the list to get the first three movies\n",
    "first_three_movies = movies[:3]\n",
    "print(first_three_movies)  # Output: ['The Shawshank Redemption', 'The Godfather', 'The Godfather: Part II']\n",
    "\n",
    "movies = ['Pulp Fiction', 'The Matrix', 'Inception', 'The Departed', 'Fight Club']\n",
    "# Splice the list to get the last two movies\n",
    "last_two_movies = movies[-2:]\n",
    "print(last_two_movies)  # Output: ['The Departed', 'Fight Club']\n",
    "\n",
    "\n",
    "movies = ['The Shawshank Redemption', 'The Godfather', 'The Godfather: Part II', 'The Dark Knight', '12 Angry Men']\n",
    "# Splice the list to get all the movies except the first and last\n",
    "middle_movies = movies[1:-1]\n",
    "print(middle_movies)  # Output: ['The Godfather', 'The Godfather: Part II', 'The Dark Knight']\n",
    "\n",
    "movies = ['Pulp Fiction', 'The Matrix', 'Inception', 'The Departed', 'Fight Club']\n",
    "# Splice the list to get every other movie, starting from the second movie\n",
    "every_other_movie = movies[1::2]\n",
    "print(every_other_movie)  # Output: ['The Matrix', 'The Departed']"
   ]
  },
  {
   "cell_type": "code",
   "execution_count": 3,
   "id": "d4489607",
   "metadata": {},
   "outputs": [
    {
     "name": "stdout",
     "output_type": "stream",
     "text": [
      "['The Shawshank Redemption', 'The Godfather', 'The Godfather: Part II', 'The Dark Knight', '12 Angry Men', 'Interstellar', 'Inception']\n",
      "['Pulp Fiction', 'The Matrix', 'Inception', 'The Departed', 'Fight Club', 'Django Unchained', 'The Hateful Eight']\n",
      "['The Shawshank Redemption', 'The Godfather', 'The Godfather: Part II', 'The Dark Knight', '12 Angry Men', 'Interstellar', 'Inception']\n"
     ]
    }
   ],
   "source": [
    "movies = ['The Shawshank Redemption', 'The Godfather', 'The Godfather: Part II', 'The Dark Knight', '12 Angry Men']\n",
    "\n",
    "# Append two new movies to the list\n",
    "movies.append('Interstellar')\n",
    "movies.append('Inception')\n",
    "\n",
    "# Print the modified list\n",
    "print(movies)  # Output: ['The Shawshank Redemption', 'The Godfather', 'The Godfather: Part II', 'The Dark Knight', '12 Angry Men', 'Interstellar', 'Inception']\n",
    "\n",
    "movies = ['Pulp Fiction', 'The Matrix', 'Inception', 'The Departed', 'Fight Club']\n",
    "\n",
    "# Append two new movies to the list\n",
    "movies.append('Django Unchained')\n",
    "movies.append('The Hateful Eight')\n",
    "\n",
    "# Print the modified list\n",
    "print(movies)  # Output: ['Pulp Fiction', 'The Matrix', 'Inception', 'The Departed', 'Fight Club', 'Django Unchained', 'The Hateful Eight']\n",
    "\n",
    "movies = ['The Shawshank Redemption', 'The Godfather', 'The Godfather: Part II', 'The Dark Knight', '12 Angry Men']\n",
    "\n",
    "# Append two new movies to the list\n",
    "movies.append('Interstellar')\n",
    "movies.append('Inception')\n",
    "\n",
    "# Print the modified list\n",
    "print(movies)  # Output: ['The Shawshank Redemption', 'The Godfather', 'The Godfather: Part II', 'The Dark Knight', '12 Angry Men', 'Interstellar', 'Inception']"
   ]
  },
  {
   "cell_type": "code",
   "execution_count": 4,
   "id": "8b650644",
   "metadata": {},
   "outputs": [
    {
     "name": "stdout",
     "output_type": "stream",
     "text": [
      "['The Shawshank Redemption', 'The Godfather', 'The Godfather: Part II', 'The Dark Knight', '12 Angry Men', 'Inception']\n"
     ]
    }
   ],
   "source": [
    "movies = ['The Shawshank Redemption', 'The Godfather', 'The Godfather: Part II', 'The Dark Knight', '12 Angry Men', 'Interstellar', 'Inception']\n",
    "\n",
    "# Remove one movie from the list using pop()\n",
    "movies.pop(5)  # Removes 'Interstellar' from the list\n",
    "\n",
    "# Print the modified list\n",
    "print(movies)  # Output: ['The Shawshank Redemption', 'The Godfather', 'The Godfather: Part II', 'The Dark Knight', '12 Angry Men', 'Inception']"
   ]
  },
  {
   "cell_type": "code",
   "execution_count": 5,
   "id": "78a17200",
   "metadata": {},
   "outputs": [
    {
     "name": "stdout",
     "output_type": "stream",
     "text": [
      "['Pulp Fiction', 'The Matrix', 'Inception', 'The Departed', 'The Hateful Eight']\n"
     ]
    }
   ],
   "source": [
    "movies = ['Pulp Fiction', 'The Matrix', 'Inception', 'The Departed', 'Fight Club', 'Django Unchained', 'The Hateful Eight']\n",
    "\n",
    "# Remove two movies from the list using pop()\n",
    "movies.pop(4)  # Removes 'Fight Club' from the list\n",
    "movies.pop(4)  # Removes 'Django Unchained' from the list\n",
    "\n",
    "# Print the modified list\n",
    "print(movies)  # Output: ['Pulp Fiction', 'The Matrix', 'Inception', 'The Departed', 'The Hateful Eight']"
   ]
  },
  {
   "cell_type": "code",
   "execution_count": 6,
   "id": "b476682f",
   "metadata": {},
   "outputs": [
    {
     "name": "stdout",
     "output_type": "stream",
     "text": [
      "['Pulp Fiction', 'The Matrix', 'Inception', 'The Departed', 'Fight Club', 'The Hateful Eight']\n"
     ]
    }
   ],
   "source": [
    "movies = ['Pulp Fiction', 'The Matrix', 'Inception', 'The Departed', 'Fight Club', 'Django Unchained', 'The Hateful Eight']\n",
    "\n",
    "# Remove one movie from the list using pop()\n",
    "movies.pop(5)  # Removes 'Django Unchained' from the list\n",
    "\n",
    "# Print the modified list\n",
    "print(movies)  # Output: ['Pulp Fiction', 'The Matrix', 'Inception', 'The Departed', 'Fight Club', 'The Hateful Eight']"
   ]
  },
  {
   "cell_type": "code",
   "execution_count": null,
   "id": "4c1cbd75",
   "metadata": {},
   "outputs": [],
   "source": []
  }
 ],
 "metadata": {
  "kernelspec": {
   "display_name": "Python 3",
   "language": "python",
   "name": "python3"
  },
  "language_info": {
   "codemirror_mode": {
    "name": "ipython",
    "version": 3
   },
   "file_extension": ".py",
   "mimetype": "text/x-python",
   "name": "python",
   "nbconvert_exporter": "python",
   "pygments_lexer": "ipython3",
   "version": "3.8.8"
  }
 },
 "nbformat": 4,
 "nbformat_minor": 5
}
