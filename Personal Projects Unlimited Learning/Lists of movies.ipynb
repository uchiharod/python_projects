{
 "cells": [
  {
   "cell_type": "code",
   "execution_count": 2,
   "id": "1cee215e",
   "metadata": {},
   "outputs": [
    {
     "name": "stdout",
     "output_type": "stream",
     "text": [
      "['The Shawshank Redemption', 'The Godfather', 'The Godfather: Part II']\n",
      "['The Departed', 'Fight Club']\n",
      "['The Godfather', 'The Godfather: Part II', 'The Dark Knight']\n",
      "['The Matrix', 'The Departed']\n"
     ]
    }
   ],
   "source": [
    "movies = ['The Shawshank Redemption', 'The Godfather', 'The Godfather: Part II', 'The Dark Knight', '12 Angry Men']\n",
    "\n",
    "# Splice the list to get the first three movies\n",
    "first_three_movies = movies[:3]\n",
    "print(first_three_movies)  # Output: ['The Shawshank Redemption', 'The Godfather', 'The Godfather: Part II']\n",
    "\n",
    "movies = ['Pulp Fiction', 'The Matrix', 'Inception', 'The Departed', 'Fight Club']\n",
    "# Splice the list to get the last two movies\n",
    "last_two_movies = movies[-2:]\n",
    "print(last_two_movies)  # Output: ['The Departed', 'Fight Club']\n",
    "\n",
    "\n",
    "movies = ['The Shawshank Redemption', 'The Godfather', 'The Godfather: Part II', 'The Dark Knight', '12 Angry Men']\n",
    "# Splice the list to get all the movies except the first and last\n",
    "middle_movies = movies[1:-1]\n",
    "print(middle_movies)  # Output: ['The Godfather', 'The Godfather: Part II', 'The Dark Knight']\n",
    "\n",
    "movies = ['Pulp Fiction', 'The Matrix', 'Inception', 'The Departed', 'Fight Club']\n",
    "# Splice the list to get every other movie, starting from the second movie\n",
    "every_other_movie = movies[1::2]\n",
    "print(every_other_movie)  # Output: ['The Matrix', 'The Departed']"
   ]
  },
  {
   "cell_type": "code",
   "execution_count": null,
   "id": "460f8aee",
   "metadata": {},
   "outputs": [],
   "source": []
  }
 ],
 "metadata": {
  "kernelspec": {
   "display_name": "Python 3",
   "language": "python",
   "name": "python3"
  },
  "language_info": {
   "codemirror_mode": {
    "name": "ipython",
    "version": 3
   },
   "file_extension": ".py",
   "mimetype": "text/x-python",
   "name": "python",
   "nbconvert_exporter": "python",
   "pygments_lexer": "ipython3",
   "version": "3.8.8"
  }
 },
 "nbformat": 4,
 "nbformat_minor": 5
}
