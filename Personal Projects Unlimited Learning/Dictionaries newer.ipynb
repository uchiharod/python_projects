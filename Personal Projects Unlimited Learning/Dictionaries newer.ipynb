{
 "cells": [
  {
   "cell_type": "code",
   "execution_count": 2,
   "id": "916bf1c0",
   "metadata": {},
   "outputs": [
    {
     "name": "stdout",
     "output_type": "stream",
     "text": [
      "{}\n",
      "{'one': 1, 'two': 2, 'three': 3}\n",
      "dict_keys(['one', 'two', 'three'])\n",
      "dict_values([1, 2, 3])\n",
      "dict_items([('one', 1), ('two', 2), ('three', 3)])\n",
      "{1: 'one', 2: 'two', 3: 'three'}\n",
      "{'a': 1, 'b': 'two', 3: [1, 2, 3]}\n"
     ]
    }
   ],
   "source": [
    "# Example 1: An empty dictionary\n",
    "empty_dict = {}\n",
    "\n",
    "# Example 2: A dictionary with string keys and integer values\n",
    "dict1 = {'one': 1, 'two': 2, 'three': 3}\n",
    "\n",
    "# Example 3: A dictionary with integer keys and string values\n",
    "dict2 = {1: 'one', 2: 'two', 3: 'three'}\n",
    "\n",
    "# Example 4: A dictionary with mixed keys and values\n",
    "dict3 = {'a': 1, 'b': 'two', 3: [1, 2, 3]}\n",
    "\n",
    "print(empty_dict)\n",
    "print(dict1)\n",
    "print(dict1.keys())\n",
    "print(dict1.values())\n",
    "print(dict1.items())\n",
    "print(dict2)\n",
    "print(dict3)"
   ]
  },
  {
   "cell_type": "code",
   "execution_count": 4,
   "id": "080f6272",
   "metadata": {},
   "outputs": [
    {
     "name": "stdout",
     "output_type": "stream",
     "text": [
      "{'one': 1, 'two': 2, 'three': 3, 'a': 1}\n",
      "{'one': 1, 'two': 2, 'three': 3, 'a': 2}\n"
     ]
    }
   ],
   "source": [
    "dict1[\"a\"] = 1\n",
    "print(dict1)\n",
    "\n",
    "dict1[\"a\"] = 2\n",
    "print(dict1)"
   ]
  },
  {
   "cell_type": "code",
   "execution_count": null,
   "id": "c84e9e05",
   "metadata": {},
   "outputs": [],
   "source": []
  }
 ],
 "metadata": {
  "kernelspec": {
   "display_name": "Python 3",
   "language": "python",
   "name": "python3"
  },
  "language_info": {
   "codemirror_mode": {
    "name": "ipython",
    "version": 3
   },
   "file_extension": ".py",
   "mimetype": "text/x-python",
   "name": "python",
   "nbconvert_exporter": "python",
   "pygments_lexer": "ipython3",
   "version": "3.8.8"
  }
 },
 "nbformat": 4,
 "nbformat_minor": 5
}
