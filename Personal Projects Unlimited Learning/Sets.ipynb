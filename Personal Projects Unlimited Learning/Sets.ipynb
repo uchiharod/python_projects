{
 "cells": [
  {
   "cell_type": "code",
   "execution_count": 1,
   "id": "ecfd3826",
   "metadata": {},
   "outputs": [],
   "source": [
    "# Example 1: An empty set\n",
    "empty_set = set()\n",
    "\n",
    "# Example 2: A set with integer values\n",
    "set1 = {1, 2, 3, 4, 5}\n",
    "\n",
    "# Example 3: A set with mixed values\n",
    "set2 = {1, 'two', 3.14, (4, 5, 6)}\n",
    "\n",
    "# Example 4: A set created from a list\n",
    "set3 = set([1, 2, 2, 3, 3, 3, 4, 4, 4, 4])"
   ]
  },
  {
   "cell_type": "code",
   "execution_count": 3,
   "id": "86d6e578",
   "metadata": {},
   "outputs": [
    {
     "name": "stdout",
     "output_type": "stream",
     "text": [
      "{'b', 1, False, 'a'}\n"
     ]
    }
   ],
   "source": [
    "set3 = {\"a\", 0, True}\n",
    "set4 = {\"b\", 1, False}\n",
    "\n",
    "set4.update(set3)\n",
    "print(set4)"
   ]
  },
  {
   "cell_type": "code",
   "execution_count": null,
   "id": "9f887db5",
   "metadata": {},
   "outputs": [],
   "source": []
  }
 ],
 "metadata": {
  "kernelspec": {
   "display_name": "Python 3",
   "language": "python",
   "name": "python3"
  },
  "language_info": {
   "codemirror_mode": {
    "name": "ipython",
    "version": 3
   },
   "file_extension": ".py",
   "mimetype": "text/x-python",
   "name": "python",
   "nbconvert_exporter": "python",
   "pygments_lexer": "ipython3",
   "version": "3.8.8"
  }
 },
 "nbformat": 4,
 "nbformat_minor": 5
}
