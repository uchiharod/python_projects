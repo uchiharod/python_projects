{
 "cells": [
  {
   "cell_type": "code",
   "execution_count": 1,
   "id": "1d1e7614",
   "metadata": {},
   "outputs": [
    {
     "name": "stdout",
     "output_type": "stream",
     "text": [
      "Requirement already satisfied: geopy in c:\\users\\graph\\anaconda3\\lib\\site-packages (2.3.0)\n",
      "Requirement already satisfied: geographiclib<3,>=1.52 in c:\\users\\graph\\anaconda3\\lib\\site-packages (from geopy) (2.0)\n",
      "Note: you may need to restart the kernel to use updated packages.\n"
     ]
    }
   ],
   "source": [
    "pip install geopy"
   ]
  },
  {
   "cell_type": "code",
   "execution_count": 2,
   "id": "63993437",
   "metadata": {},
   "outputs": [
    {
     "name": "stdout",
     "output_type": "stream",
     "text": [
      "[(38.9786401, -76.492786), (39.2908816, -76.610759), (39.1938429, -76.86460919353361), (39.1399187, -77.1929215), (39.0817985, -77.1516844), (38.9997621, -77.02403709829767), (39.396459050000004, -76.61481481790992)]\n"
     ]
    }
   ],
   "source": [
    "from geopy.geocoders import Nominatim\n",
    "\n",
    "# Create a geolocator object\n",
    "geolocator = Nominatim(user_agent=\"my_application\")\n",
    "\n",
    "# Define the locations you want to pinpoint on the map\n",
    "locations = [\n",
    "    \"Annapolis\",\n",
    "    \"Baltimore\",\n",
    "    \"Columbia\",\n",
    "    \"Gaithersburg\",\n",
    "    \"Rockville\",\n",
    "    \"Silver Spring\",\n",
    "    \"Towson\",\n",
    "]\n",
    "\n",
    "# Get the coordinates for each location\n",
    "coordinates = []\n",
    "for location in locations:\n",
    "    location_coordinates = geolocator.geocode(location + \", Maryland\")\n",
    "    coordinates.append((location_coordinates.latitude, location_coordinates.longitude))\n",
    "\n",
    "# Print the coordinates\n",
    "print(coordinates)"
   ]
  },
  {
   "cell_type": "code",
   "execution_count": 3,
   "id": "37629d58",
   "metadata": {},
   "outputs": [
    {
     "name": "stdout",
     "output_type": "stream",
     "text": [
      "Requirement already satisfied: folium in c:\\users\\graph\\anaconda3\\lib\\site-packages (0.12.1.post1)\n",
      "Requirement already satisfied: jinja2>=2.9 in c:\\users\\graph\\anaconda3\\lib\\site-packages (from folium) (2.11.3)\n",
      "Requirement already satisfied: branca>=0.3.0 in c:\\users\\graph\\anaconda3\\lib\\site-packages (from folium) (0.5.0)\n",
      "Requirement already satisfied: requests in c:\\users\\graph\\anaconda3\\lib\\site-packages (from folium) (2.25.1)\n",
      "Requirement already satisfied: numpy in c:\\users\\graph\\anaconda3\\lib\\site-packages (from folium) (1.20.1)\n",
      "Requirement already satisfied: MarkupSafe>=0.23 in c:\\users\\graph\\anaconda3\\lib\\site-packages (from jinja2>=2.9->folium) (1.1.1)\n",
      "Requirement already satisfied: urllib3<1.27,>=1.21.1 in c:\\users\\graph\\anaconda3\\lib\\site-packages (from requests->folium) (1.26.4)\n",
      "Requirement already satisfied: certifi>=2017.4.17 in c:\\users\\graph\\anaconda3\\lib\\site-packages (from requests->folium) (2020.12.5)\n",
      "Requirement already satisfied: chardet<5,>=3.0.2 in c:\\users\\graph\\anaconda3\\lib\\site-packages (from requests->folium) (4.0.0)\n",
      "Requirement already satisfied: idna<3,>=2.5 in c:\\users\\graph\\anaconda3\\lib\\site-packages (from requests->folium) (2.10)\n",
      "Note: you may need to restart the kernel to use updated packages.\n"
     ]
    }
   ],
   "source": [
    "pip install folium"
   ]
  },
  {
   "cell_type": "code",
   "execution_count": 4,
   "id": "973dba4a",
   "metadata": {},
   "outputs": [
    {
     "data": {
      "text/html": [
       "<div style=\"width:100%;\"><div style=\"position:relative;width:100%;height:0;padding-bottom:60%;\"><span style=\"color:#565656\">Make this Notebook Trusted to load map: File -> Trust Notebook</span><iframe srcdoc=\"&lt;!DOCTYPE html&gt;\n",
       "&lt;head&gt;    \n",
       "    &lt;meta http-equiv=&quot;content-type&quot; content=&quot;text/html; charset=UTF-8&quot; /&gt;\n",
       "    \n",
       "        &lt;script&gt;\n",
       "            L_NO_TOUCH = false;\n",
       "            L_DISABLE_3D = false;\n",
       "        &lt;/script&gt;\n",
       "    \n",
       "    &lt;style&gt;html, body {width: 100%;height: 100%;margin: 0;padding: 0;}&lt;/style&gt;\n",
       "    &lt;style&gt;#map {position:absolute;top:0;bottom:0;right:0;left:0;}&lt;/style&gt;\n",
       "    &lt;script src=&quot;https://cdn.jsdelivr.net/npm/leaflet@1.6.0/dist/leaflet.js&quot;&gt;&lt;/script&gt;\n",
       "    &lt;script src=&quot;https://code.jquery.com/jquery-1.12.4.min.js&quot;&gt;&lt;/script&gt;\n",
       "    &lt;script src=&quot;https://maxcdn.bootstrapcdn.com/bootstrap/3.2.0/js/bootstrap.min.js&quot;&gt;&lt;/script&gt;\n",
       "    &lt;script src=&quot;https://cdnjs.cloudflare.com/ajax/libs/Leaflet.awesome-markers/2.0.2/leaflet.awesome-markers.js&quot;&gt;&lt;/script&gt;\n",
       "    &lt;link rel=&quot;stylesheet&quot; href=&quot;https://cdn.jsdelivr.net/npm/leaflet@1.6.0/dist/leaflet.css&quot;/&gt;\n",
       "    &lt;link rel=&quot;stylesheet&quot; href=&quot;https://maxcdn.bootstrapcdn.com/bootstrap/3.2.0/css/bootstrap.min.css&quot;/&gt;\n",
       "    &lt;link rel=&quot;stylesheet&quot; href=&quot;https://maxcdn.bootstrapcdn.com/bootstrap/3.2.0/css/bootstrap-theme.min.css&quot;/&gt;\n",
       "    &lt;link rel=&quot;stylesheet&quot; href=&quot;https://maxcdn.bootstrapcdn.com/font-awesome/4.6.3/css/font-awesome.min.css&quot;/&gt;\n",
       "    &lt;link rel=&quot;stylesheet&quot; href=&quot;https://cdnjs.cloudflare.com/ajax/libs/Leaflet.awesome-markers/2.0.2/leaflet.awesome-markers.css&quot;/&gt;\n",
       "    &lt;link rel=&quot;stylesheet&quot; href=&quot;https://cdn.jsdelivr.net/gh/python-visualization/folium/folium/templates/leaflet.awesome.rotate.min.css&quot;/&gt;\n",
       "    \n",
       "            &lt;meta name=&quot;viewport&quot; content=&quot;width=device-width,\n",
       "                initial-scale=1.0, maximum-scale=1.0, user-scalable=no&quot; /&gt;\n",
       "            &lt;style&gt;\n",
       "                #map_fe7728c9b3f30112a11f27afa442d283 {\n",
       "                    position: relative;\n",
       "                    width: 100.0%;\n",
       "                    height: 100.0%;\n",
       "                    left: 0.0%;\n",
       "                    top: 0.0%;\n",
       "                }\n",
       "            &lt;/style&gt;\n",
       "        \n",
       "&lt;/head&gt;\n",
       "&lt;body&gt;    \n",
       "    \n",
       "            &lt;div class=&quot;folium-map&quot; id=&quot;map_fe7728c9b3f30112a11f27afa442d283&quot; &gt;&lt;/div&gt;\n",
       "        \n",
       "&lt;/body&gt;\n",
       "&lt;script&gt;    \n",
       "    \n",
       "            var map_fe7728c9b3f30112a11f27afa442d283 = L.map(\n",
       "                &quot;map_fe7728c9b3f30112a11f27afa442d283&quot;,\n",
       "                {\n",
       "                    center: [39.063946, -76.802101],\n",
       "                    crs: L.CRS.EPSG3857,\n",
       "                    zoom: 8,\n",
       "                    zoomControl: true,\n",
       "                    preferCanvas: false,\n",
       "                }\n",
       "            );\n",
       "\n",
       "            \n",
       "\n",
       "        \n",
       "    \n",
       "            var tile_layer_ec8075caa98ac35ecd86327505b7e661 = L.tileLayer(\n",
       "                &quot;https://{s}.tile.openstreetmap.org/{z}/{x}/{y}.png&quot;,\n",
       "                {&quot;attribution&quot;: &quot;Data by \\u0026copy; \\u003ca href=\\&quot;http://openstreetmap.org\\&quot;\\u003eOpenStreetMap\\u003c/a\\u003e, under \\u003ca href=\\&quot;http://www.openstreetmap.org/copyright\\&quot;\\u003eODbL\\u003c/a\\u003e.&quot;, &quot;detectRetina&quot;: false, &quot;maxNativeZoom&quot;: 18, &quot;maxZoom&quot;: 18, &quot;minZoom&quot;: 0, &quot;noWrap&quot;: false, &quot;opacity&quot;: 1, &quot;subdomains&quot;: &quot;abc&quot;, &quot;tms&quot;: false}\n",
       "            ).addTo(map_fe7728c9b3f30112a11f27afa442d283);\n",
       "        \n",
       "    \n",
       "            var marker_d3018dd928481f8e527f9e65b1d51cff = L.marker(\n",
       "                [39.063946, -76.802101],\n",
       "                {}\n",
       "            ).addTo(map_fe7728c9b3f30112a11f27afa442d283);\n",
       "        \n",
       "    \n",
       "            var marker_13ba5ee1e78849a62668651ff57f4720 = L.marker(\n",
       "                [39.290385, -76.612189],\n",
       "                {}\n",
       "            ).addTo(map_fe7728c9b3f30112a11f27afa442d283);\n",
       "        \n",
       "    \n",
       "            var marker_3496154e0ca0529464ba1797067b9719 = L.marker(\n",
       "                [38.907192, -77.036871],\n",
       "                {}\n",
       "            ).addTo(map_fe7728c9b3f30112a11f27afa442d283);\n",
       "        \n",
       "    \n",
       "            var marker_515f1970c3b18c80bc6fcfbee22fa297 = L.marker(\n",
       "                [39.457589, -75.718895],\n",
       "                {}\n",
       "            ).addTo(map_fe7728c9b3f30112a11f27afa442d283);\n",
       "        \n",
       "    \n",
       "            var marker_da6e3136bc397d47e17c0220d73f73df = L.marker(\n",
       "                [39.091133, -76.861046],\n",
       "                {}\n",
       "            ).addTo(map_fe7728c9b3f30112a11f27afa442d283);\n",
       "        \n",
       "    \n",
       "            var marker_cc3a5f76a6ac936c65a1f3991baa78a1 = L.marker(\n",
       "                [38.8051145, -76.9833755],\n",
       "                {}\n",
       "            ).addTo(map_fe7728c9b3f30112a11f27afa442d283);\n",
       "        \n",
       "    \n",
       "            var marker_a0c86b19837fa02363ba536ab80084c7 = L.marker(\n",
       "                [38.635895, -76.927934],\n",
       "                {}\n",
       "            ).addTo(map_fe7728c9b3f30112a11f27afa442d283);\n",
       "        \n",
       "&lt;/script&gt;\" style=\"position:absolute;width:100%;height:100%;left:0;top:0;border:none !important;\" allowfullscreen webkitallowfullscreen mozallowfullscreen></iframe></div></div>"
      ],
      "text/plain": [
       "<folium.folium.Map at 0x25d7a4202b0>"
      ]
     },
     "execution_count": 4,
     "metadata": {},
     "output_type": "execute_result"
    }
   ],
   "source": [
    "import folium\n",
    "\n",
    "# create map object centered on Maryland\n",
    "maryland_map = folium.Map(location=[39.063946, -76.802101], zoom_start=8)\n",
    "\n",
    "# define the coordinates to be plotted\n",
    "coordinates = [\n",
    "    [39.063946, -76.802101],  # Annapolis\n",
    "    [39.290385, -76.612189],  # Baltimore\n",
    "    [38.907192, -77.036871],  # Washington D.C.\n",
    "    [39.457589, -75.718895],  # Newark\n",
    "    [39.091133, -76.861046],  # Columbia\n",
    "    [38.8051145, -76.9833755],  # Waldorf\n",
    "    [38.635895, -76.927934]  # La Plata\n",
    "]\n",
    "\n",
    "# add the coordinates to the map as markers\n",
    "for coord in coordinates:\n",
    "    folium.Marker(coord).add_to(maryland_map)\n",
    "\n",
    "# display the map\n",
    "maryland_map"
   ]
  },
  {
   "cell_type": "code",
   "execution_count": null,
   "id": "97302dd5",
   "metadata": {},
   "outputs": [],
   "source": []
  }
 ],
 "metadata": {
  "kernelspec": {
   "display_name": "Python 3",
   "language": "python",
   "name": "python3"
  },
  "language_info": {
   "codemirror_mode": {
    "name": "ipython",
    "version": 3
   },
   "file_extension": ".py",
   "mimetype": "text/x-python",
   "name": "python",
   "nbconvert_exporter": "python",
   "pygments_lexer": "ipython3",
   "version": "3.8.8"
  }
 },
 "nbformat": 4,
 "nbformat_minor": 5
}
