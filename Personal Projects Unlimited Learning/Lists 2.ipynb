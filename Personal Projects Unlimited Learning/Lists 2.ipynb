{
 "cells": [
  {
   "cell_type": "code",
   "execution_count": 4,
   "id": "756450ba",
   "metadata": {},
   "outputs": [
    {
     "name": "stdout",
     "output_type": "stream",
     "text": [
      "4\n",
      "['Anna', 20, 28.12, True]\n"
     ]
    }
   ],
   "source": [
    "mixed = [\"Anna\", 20, 28.12, True]\n",
    "\n",
    "print(len(mixed))\n",
    "#print(max(mixed))\n",
    "#print(min(mixed))\n",
    "print(list(mixed))"
   ]
  },
  {
   "cell_type": "code",
   "execution_count": null,
   "id": "8647bf66",
   "metadata": {},
   "outputs": [],
   "source": []
  }
 ],
 "metadata": {
  "kernelspec": {
   "display_name": "Python 3",
   "language": "python",
   "name": "python3"
  },
  "language_info": {
   "codemirror_mode": {
    "name": "ipython",
    "version": 3
   },
   "file_extension": ".py",
   "mimetype": "text/x-python",
   "name": "python",
   "nbconvert_exporter": "python",
   "pygments_lexer": "ipython3",
   "version": "3.8.8"
  }
 },
 "nbformat": 4,
 "nbformat_minor": 5
}
