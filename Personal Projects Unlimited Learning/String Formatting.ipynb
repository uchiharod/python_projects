{
 "cells": [
  {
   "cell_type": "code",
   "execution_count": 1,
   "id": "33b4ca9b",
   "metadata": {},
   "outputs": [],
   "source": [
    "# String with single quotes\n",
    "string1 = 'This is a string with single quotes'\n",
    "\n",
    "# String with double quotes\n",
    "string2 = \"This is a string with double quotes\"\n",
    "\n",
    "# String with triple quotes\n",
    "string3 = \"\"\"This is a string with triple quotes\"\"\"\n"
   ]
  },
  {
   "cell_type": "code",
   "execution_count": 5,
   "id": "99485723",
   "metadata": {},
   "outputs": [
    {
     "name": "stdout",
     "output_type": "stream",
     "text": [
      "This is a string\n",
      " with triple quotes\n",
      "This is a string\n",
      " with triple quotes\n"
     ]
    }
   ],
   "source": [
    "# String with triple quotes\n",
    "string4 = \"\"\"This is a string\\n with triple quotes\"\"\"\n",
    "print(string4)\n",
    "print(string4.strip())"
   ]
  },
  {
   "cell_type": "code",
   "execution_count": 6,
   "id": "ee3673bd",
   "metadata": {},
   "outputs": [
    {
     "name": "stdout",
     "output_type": "stream",
     "text": [
      "False\n",
      "False\n"
     ]
    }
   ],
   "source": [
    "print(string4.startswith(\"I\"))\n",
    "print(string4.startswith(\"n\"))"
   ]
  },
  {
   "cell_type": "code",
   "execution_count": 7,
   "id": "3319536f",
   "metadata": {},
   "outputs": [
    {
     "name": "stdout",
     "output_type": "stream",
     "text": [
      "10\n",
      "THIS IS A STRING\n",
      " WITH TRIPLE QUOTES\n",
      "this is a string\n",
      " with triple quotes\n"
     ]
    }
   ],
   "source": [
    "print(string4.index(\"string\"))\n",
    "print(string4.upper())\n",
    "print(string4.lower())"
   ]
  },
  {
   "cell_type": "code",
   "execution_count": 8,
   "id": "5294936b",
   "metadata": {},
   "outputs": [
    {
     "name": "stdout",
     "output_type": "stream",
     "text": [
      "       Messy shit right here  \n"
     ]
    }
   ],
   "source": [
    "messy_string = \"       Messy shit right here  \"\n",
    "print(messy_string)"
   ]
  },
  {
   "cell_type": "code",
   "execution_count": 16,
   "id": "06de5f1d",
   "metadata": {},
   "outputs": [
    {
     "name": "stdout",
     "output_type": "stream",
     "text": [
      "       Messy string right here!  \n",
      "Messy string right here!\n",
      "Messy string right here?\n",
      "Messy example right here!\n"
     ]
    }
   ],
   "source": [
    "messy_string = \"       Messy string right here!  \"\n",
    "print(messy_string)\n",
    "print(messy_string.strip())\n",
    "print(messy_string.replace(\"!\", \"?\").strip())\n",
    "print(messy_string.replace(\"string\", \"example\").strip())"
   ]
  },
  {
   "cell_type": "code",
   "execution_count": 20,
   "id": "38b71cd2",
   "metadata": {},
   "outputs": [
    {
     "name": "stdout",
     "output_type": "stream",
     "text": [
      "['Messy', 'string', 'right', 'here!']\n"
     ]
    }
   ],
   "source": [
    "print(messy_string.split())"
   ]
  },
  {
   "cell_type": "code",
   "execution_count": 21,
   "id": "1a91e894",
   "metadata": {},
   "outputs": [
    {
     "name": "stdout",
     "output_type": "stream",
     "text": [
      "b'I am a string!'\n",
      "b'I am a string!'\n",
      "           I am a string!\n",
      "XXXXXXXXXXXI am a string!\n",
      "I am a string!           \n",
      "I am a string!XXXXXXXXXXX\n"
     ]
    }
   ],
   "source": [
    "string4 = \"I am a string!\"\n",
    "print(string4.encode())\n",
    "print(string4.encode(\"utf-8\"))\n",
    "\n",
    "print(string4.rjust(25))\n",
    "print(string4.rjust(25, \"X\"))\n",
    "\n",
    "print(string4.ljust(25))\n",
    "print(string4.ljust(25, \"X\"))"
   ]
  },
  {
   "cell_type": "code",
   "execution_count": 27,
   "id": "46311de0",
   "metadata": {},
   "outputs": [
    {
     "name": "stdout",
     "output_type": "stream",
     "text": [
      "The string \"I am the main one!\" has 18 characters.\n",
      "The string \"I am the main one!\" has 18.00 characters.\n",
      "The string \"I am the main one!\" has 18.000 characters.\n",
      "The string \"I am the main one!\" has 18.0000 characters.\n"
     ]
    }
   ],
   "source": [
    "# Define the string\n",
    "string = \"I am the main one!\"\n",
    "\n",
    "# Use the len() function to get the length of the string\n",
    "string_length = len(string)\n",
    "\n",
    "# Print the length of the string\n",
    "print(f'The string \"{string}\" has {string_length} characters.')\n",
    "print(f'The string \"{string}\" has {string_length:.2f} characters.')\n",
    "print(f'The string \"{string}\" has {string_length:.3f} characters.')\n",
    "print(f'The string \"{string}\" has {string_length:.4f} characters.')"
   ]
  },
  {
   "cell_type": "code",
   "execution_count": null,
   "id": "1ad63311",
   "metadata": {},
   "outputs": [],
   "source": []
  }
 ],
 "metadata": {
  "kernelspec": {
   "display_name": "Python 3",
   "language": "python",
   "name": "python3"
  },
  "language_info": {
   "codemirror_mode": {
    "name": "ipython",
    "version": 3
   },
   "file_extension": ".py",
   "mimetype": "text/x-python",
   "name": "python",
   "nbconvert_exporter": "python",
   "pygments_lexer": "ipython3",
   "version": "3.8.8"
  }
 },
 "nbformat": 4,
 "nbformat_minor": 5
}
