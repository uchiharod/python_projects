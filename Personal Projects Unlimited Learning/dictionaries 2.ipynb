{
 "cells": [
  {
   "cell_type": "code",
   "execution_count": 5,
   "id": "43c18cd8",
   "metadata": {},
   "outputs": [
    {
     "name": "stdout",
     "output_type": "stream",
     "text": [
      "John\n",
      "25\n",
      "6.1\n",
      "--------------\n",
      "3\n",
      "{'Name': 'John', 'Age': 25, 'Height': 6.1}\n"
     ]
    }
   ],
   "source": [
    "dct = {\"Name\": \"John\",\n",
    "      \"Age\": 25,\n",
    "      \"Height\": 6.1}\n",
    "\n",
    "print(dct[\"Name\"])\n",
    "print(dct[\"Age\"])\n",
    "print(dct[\"Height\"])\n",
    "print(\"--------------\")\n",
    "print(len(dct))\n",
    "print(str(dct))"
   ]
  },
  {
   "cell_type": "code",
   "execution_count": null,
   "id": "d858f125",
   "metadata": {},
   "outputs": [],
   "source": []
  }
 ],
 "metadata": {
  "kernelspec": {
   "display_name": "Python 3",
   "language": "python",
   "name": "python3"
  },
  "language_info": {
   "codemirror_mode": {
    "name": "ipython",
    "version": 3
   },
   "file_extension": ".py",
   "mimetype": "text/x-python",
   "name": "python",
   "nbconvert_exporter": "python",
   "pygments_lexer": "ipython3",
   "version": "3.8.8"
  }
 },
 "nbformat": 4,
 "nbformat_minor": 5
}
