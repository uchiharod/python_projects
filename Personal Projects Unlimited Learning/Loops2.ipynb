{
 "cells": [
  {
   "cell_type": "code",
   "execution_count": 1,
   "id": "20c3ba11",
   "metadata": {},
   "outputs": [
    {
     "name": "stdout",
     "output_type": "stream",
     "text": [
      "Please tell me your nameRod\n",
      "Rod\n"
     ]
    }
   ],
   "source": [
    "name = input(\"Please tell me your name\")\n",
    "print(name)"
   ]
  },
  {
   "cell_type": "code",
   "execution_count": 2,
   "id": "29e1c537",
   "metadata": {},
   "outputs": [
    {
     "name": "stdout",
     "output_type": "stream",
     "text": [
      "Please tell me your nameRod\n",
      "Rod\n",
      "Enter first number: 3\n",
      "Enter second number: 4\n",
      "Your number is odd.\n",
      "Result:  7\n"
     ]
    }
   ],
   "source": [
    "name = input(\"Please tell me your name\")\n",
    "print(name)\n",
    "\n",
    "number1 = input(\"Enter first number: \")\n",
    "number2 = input(\"Enter second number: \")\n",
    "\n",
    "sum = int(number1) + int(number2)\n",
    "\n",
    "if sum % 2 == 0:\n",
    "    if sum == 0:\n",
    "        print(\"Your number is even but zero.\")\n",
    "    else:\n",
    "        print(\"Your number is even.\")\n",
    "else: \n",
    "    print(\"Your number is odd.\")\n",
    "\n",
    "print(\"Result: \", sum)\n",
    "\n"
   ]
  },
  {
   "cell_type": "code",
   "execution_count": null,
   "id": "68f7e321",
   "metadata": {},
   "outputs": [],
   "source": []
  },
  {
   "cell_type": "code",
   "execution_count": null,
   "id": "5622080f",
   "metadata": {},
   "outputs": [],
   "source": []
  }
 ],
 "metadata": {
  "kernelspec": {
   "display_name": "Python 3",
   "language": "python",
   "name": "python3"
  },
  "language_info": {
   "codemirror_mode": {
    "name": "ipython",
    "version": 3
   },
   "file_extension": ".py",
   "mimetype": "text/x-python",
   "name": "python",
   "nbconvert_exporter": "python",
   "pygments_lexer": "ipython3",
   "version": "3.8.8"
  }
 },
 "nbformat": 4,
 "nbformat_minor": 5
}
