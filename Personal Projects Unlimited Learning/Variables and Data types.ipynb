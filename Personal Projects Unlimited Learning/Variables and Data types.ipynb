{
 "cells": [
  {
   "cell_type": "code",
   "execution_count": 5,
   "id": "b994e4a8",
   "metadata": {},
   "outputs": [
    {
     "name": "stdout",
     "output_type": "stream",
     "text": [
      "4\n",
      "<class 'int'>\n",
      "Hello, World!\n",
      "<class 'str'>\n",
      "42\n",
      "3.14159\n",
      "True\n",
      "[1, 2, 3, 4]\n",
      "(1, 2, 3, 4)\n",
      "{'a': 1, 'b': 2}\n",
      "Point(1, 2)\n"
     ]
    }
   ],
   "source": [
    "name_length = 4\n",
    "print(name_length)\n",
    "print(type(name_length))\n",
    "\n",
    "# Print a string\n",
    "name_greet = \"Hello, World!\"\n",
    "print(name_greet)\n",
    "print(type(name_greet))\n",
    "\n",
    "# Print an integer\n",
    "print(42)\n",
    "\n",
    "# Print a float\n",
    "print(3.14159)\n",
    "\n",
    "# Print a boolean\n",
    "print(True)\n",
    "\n",
    "# Print a list\n",
    "print([1, 2, 3, 4])\n",
    "\n",
    "# Print a tuple\n",
    "print((1, 2, 3, 4))\n",
    "\n",
    "# Print a dictionary\n",
    "print({'a': 1, 'b': 2})\n",
    "\n",
    "# Print an object\n",
    "class Point:\n",
    "    def __init__(self, x, y):\n",
    "        self.x = x\n",
    "        self.y = y\n",
    "    def __str__(self):\n",
    "        return f'Point({self.x}, {self.y})'\n",
    "print(Point(1, 2))"
   ]
  },
  {
   "cell_type": "code",
   "execution_count": 3,
   "id": "72959a62",
   "metadata": {},
   "outputs": [
    {
     "name": "stdout",
     "output_type": "stream",
     "text": [
      "4\n",
      "<class 'int'>\n"
     ]
    }
   ],
   "source": [
    "name_length = 4\n",
    "print(name_length)\n",
    "print(type(name_length))"
   ]
  },
  {
   "cell_type": "code",
   "execution_count": null,
   "id": "483bd955",
   "metadata": {},
   "outputs": [],
   "source": []
  }
 ],
 "metadata": {
  "kernelspec": {
   "display_name": "Python 3",
   "language": "python",
   "name": "python3"
  },
  "language_info": {
   "codemirror_mode": {
    "name": "ipython",
    "version": 3
   },
   "file_extension": ".py",
   "mimetype": "text/x-python",
   "name": "python",
   "nbconvert_exporter": "python",
   "pygments_lexer": "ipython3",
   "version": "3.8.8"
  }
 },
 "nbformat": 4,
 "nbformat_minor": 5
}
