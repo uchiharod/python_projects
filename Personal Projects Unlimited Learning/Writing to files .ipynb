{
 "cells": [
  {
   "cell_type": "code",
   "execution_count": 4,
   "id": "47f37f59",
   "metadata": {},
   "outputs": [],
   "source": [
    "# Open the file for writing, creating it if it does not already exist\n",
    "with open(\"hello2.txt\", \"w+\") as file:\n",
    "    # Write the string to the file\n",
    "    file.write(\"Hello, world!\")\n",
    "\n",
    "# The file will be closed automatically when the `with` block ends"
   ]
  },
  {
   "cell_type": "code",
   "execution_count": null,
   "id": "9a769db6",
   "metadata": {},
   "outputs": [],
   "source": []
  }
 ],
 "metadata": {
  "kernelspec": {
   "display_name": "Python 3",
   "language": "python",
   "name": "python3"
  },
  "language_info": {
   "codemirror_mode": {
    "name": "ipython",
    "version": 3
   },
   "file_extension": ".py",
   "mimetype": "text/x-python",
   "name": "python",
   "nbconvert_exporter": "python",
   "pygments_lexer": "ipython3",
   "version": "3.8.8"
  }
 },
 "nbformat": 4,
 "nbformat_minor": 5
}
