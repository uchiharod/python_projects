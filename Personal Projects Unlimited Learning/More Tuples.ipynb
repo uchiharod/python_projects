{
 "cells": [
  {
   "cell_type": "code",
   "execution_count": 1,
   "id": "237c5356",
   "metadata": {},
   "outputs": [
    {
     "name": "stdout",
     "output_type": "stream",
     "text": [
      "(1, 2, 3)\n",
      "((1, 2), (3, 4), (5, 6))\n",
      "(1, 2)\n",
      "(3, 4)\n",
      "(5, 6)\n"
     ]
    }
   ],
   "source": [
    "# Normal tuple\n",
    "tuple1 = (1, 2, 3)\n",
    "\n",
    "# Nested tuple\n",
    "tuple2 = ((1, 2), (3, 4), (5, 6))\n",
    "\n",
    "# Print the normal tuple\n",
    "print(tuple1)\n",
    "\n",
    "# Print the nested tuple\n",
    "print(tuple2)\n",
    "\n",
    "# Print the elements of the nested tuple\n",
    "for t in tuple2:\n",
    "  print(t)\n"
   ]
  },
  {
   "cell_type": "code",
   "execution_count": 5,
   "id": "e86f14d8",
   "metadata": {},
   "outputs": [
    {
     "name": "stdout",
     "output_type": "stream",
     "text": [
      "(1, 2)\n",
      "(3, 4)\n",
      "(5, 6)\n",
      "2\n",
      "(5, 6)\n",
      "(3, 4)\n"
     ]
    }
   ],
   "source": [
    "print(tuple2[0])\n",
    "print(tuple2[1])\n",
    "print(tuple2[2])\n",
    "print(tuple2[0][1])\n",
    "\n",
    "print(tuple2[-1])\n",
    "print(tuple2[-2])"
   ]
  },
  {
   "cell_type": "code",
   "execution_count": null,
   "id": "261d9aec",
   "metadata": {},
   "outputs": [],
   "source": []
  }
 ],
 "metadata": {
  "kernelspec": {
   "display_name": "Python 3",
   "language": "python",
   "name": "python3"
  },
  "language_info": {
   "codemirror_mode": {
    "name": "ipython",
    "version": 3
   },
   "file_extension": ".py",
   "mimetype": "text/x-python",
   "name": "python",
   "nbconvert_exporter": "python",
   "pygments_lexer": "ipython3",
   "version": "3.8.8"
  }
 },
 "nbformat": 4,
 "nbformat_minor": 5
}
