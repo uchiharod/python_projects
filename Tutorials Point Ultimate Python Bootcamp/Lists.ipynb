{
 "cells": [
  {
   "cell_type": "code",
   "execution_count": 1,
   "id": "df5148ae",
   "metadata": {},
   "outputs": [
    {
     "data": {
      "text/plain": [
       "['Apples', 'Milk', 'Bread', 'Crisps', 'Lettuce']"
      ]
     },
     "execution_count": 1,
     "metadata": {},
     "output_type": "execute_result"
    }
   ],
   "source": [
    "shopping_list = ['Apples', 'Milk','Bread', 'Crisps', 'Lettuce']\n",
    "shopping_list"
   ]
  },
  {
   "cell_type": "code",
   "execution_count": 2,
   "id": "a486e82f",
   "metadata": {},
   "outputs": [
    {
     "data": {
      "text/plain": [
       "list"
      ]
     },
     "execution_count": 2,
     "metadata": {},
     "output_type": "execute_result"
    }
   ],
   "source": [
    "type(shopping_list)"
   ]
  },
  {
   "cell_type": "code",
   "execution_count": 3,
   "id": "a5bfad61",
   "metadata": {},
   "outputs": [
    {
     "data": {
      "text/plain": [
       "[2, 4, 6, 8, 10]"
      ]
     },
     "execution_count": 3,
     "metadata": {},
     "output_type": "execute_result"
    }
   ],
   "source": [
    "number_list = [2, 4, 6, 8, 10]\n",
    "number_list"
   ]
  },
  {
   "cell_type": "code",
   "execution_count": 4,
   "id": "43c22203",
   "metadata": {},
   "outputs": [
    {
     "data": {
      "text/plain": [
       "['Hello', 10]"
      ]
     },
     "execution_count": 4,
     "metadata": {},
     "output_type": "execute_result"
    }
   ],
   "source": [
    "mixed_list = ['Hello', 10]\n",
    "mixed_list"
   ]
  },
  {
   "cell_type": "code",
   "execution_count": 6,
   "id": "f8ee09c0",
   "metadata": {},
   "outputs": [
    {
     "data": {
      "text/plain": [
       "['Hello', 10, 'Goodbye', 0.013]"
      ]
     },
     "execution_count": 6,
     "metadata": {},
     "output_type": "execute_result"
    }
   ],
   "source": [
    "mixed_list_all = ['Hello', 10, 'Goodbye', .013]\n",
    "mixed_list_all"
   ]
  },
  {
   "cell_type": "code",
   "execution_count": 7,
   "id": "a960cb6d",
   "metadata": {},
   "outputs": [
    {
     "data": {
      "text/plain": [
       "['Hello', 10, 'Goodbye', 0.013, [1, 2, 3, 4]]"
      ]
     },
     "execution_count": 7,
     "metadata": {},
     "output_type": "execute_result"
    }
   ],
   "source": [
    "mixed_list_allx = ['Hello', 10, 'Goodbye', .013, [1, 2, 3, 4]]\n",
    "mixed_list_allx"
   ]
  },
  {
   "cell_type": "markdown",
   "id": "cbeb15ef",
   "metadata": {},
   "source": [
    "# Tic, Tac, Toe"
   ]
  },
  {
   "cell_type": "code",
   "execution_count": 8,
   "id": "7271c884",
   "metadata": {},
   "outputs": [],
   "source": [
    "tic_tac_toe = [\n",
    "    [[\" \"], [\" \"], [\" \"]],\n",
    "    [[\" \"], [\" \"], [\" \"]],\n",
    "    [[\" \"], [\" \"], [\" \"]]\n",
    "]"
   ]
  },
  {
   "cell_type": "code",
   "execution_count": 9,
   "id": "d30423b7",
   "metadata": {},
   "outputs": [],
   "source": [
    "empty_list = []"
   ]
  },
  {
   "cell_type": "code",
   "execution_count": 10,
   "id": "e73abf6a",
   "metadata": {},
   "outputs": [],
   "source": [
    "shopping_list = ['Apples', 'Milk','Bread', 'Crisps', 'Lettuce']"
   ]
  },
  {
   "cell_type": "code",
   "execution_count": 11,
   "id": "901b3ba1",
   "metadata": {},
   "outputs": [
    {
     "data": {
      "text/plain": [
       "'Apples'"
      ]
     },
     "execution_count": 11,
     "metadata": {},
     "output_type": "execute_result"
    }
   ],
   "source": [
    "shopping_list[0]"
   ]
  },
  {
   "cell_type": "code",
   "execution_count": 12,
   "id": "0fa80ae6",
   "metadata": {},
   "outputs": [
    {
     "ename": "IndexError",
     "evalue": "list index out of range",
     "output_type": "error",
     "traceback": [
      "\u001b[1;31m---------------------------------------------------------------------------\u001b[0m",
      "\u001b[1;31mIndexError\u001b[0m                                Traceback (most recent call last)",
      "\u001b[1;32m<ipython-input-12-064c77b6476e>\u001b[0m in \u001b[0;36m<module>\u001b[1;34m\u001b[0m\n\u001b[1;32m----> 1\u001b[1;33m \u001b[0mshopping_list\u001b[0m\u001b[1;33m[\u001b[0m\u001b[1;36m7\u001b[0m\u001b[1;33m]\u001b[0m\u001b[1;33m\u001b[0m\u001b[1;33m\u001b[0m\u001b[0m\n\u001b[0m",
      "\u001b[1;31mIndexError\u001b[0m: list index out of range"
     ]
    }
   ],
   "source": [
    "shopping_list[7]"
   ]
  },
  {
   "cell_type": "code",
   "execution_count": 13,
   "id": "0a6c51d2",
   "metadata": {},
   "outputs": [
    {
     "ename": "TypeError",
     "evalue": "list indices must be integers or slices, not float",
     "output_type": "error",
     "traceback": [
      "\u001b[1;31m---------------------------------------------------------------------------\u001b[0m",
      "\u001b[1;31mTypeError\u001b[0m                                 Traceback (most recent call last)",
      "\u001b[1;32m<ipython-input-13-8f1aa28a9561>\u001b[0m in \u001b[0;36m<module>\u001b[1;34m\u001b[0m\n\u001b[1;32m----> 1\u001b[1;33m \u001b[0mshopping_list\u001b[0m\u001b[1;33m[\u001b[0m\u001b[1;36m1.4\u001b[0m\u001b[1;33m]\u001b[0m \u001b[1;31m#You can only use whole numbers\u001b[0m\u001b[1;33m\u001b[0m\u001b[1;33m\u001b[0m\u001b[0m\n\u001b[0m",
      "\u001b[1;31mTypeError\u001b[0m: list indices must be integers or slices, not float"
     ]
    }
   ],
   "source": [
    "shopping_list[1.4] #You can only use whole numbers"
   ]
  },
  {
   "cell_type": "code",
   "execution_count": 14,
   "id": "a477d99c",
   "metadata": {},
   "outputs": [],
   "source": [
    "position = [1,2,3,4,5,[6,7,8,9]]"
   ]
  },
  {
   "cell_type": "code",
   "execution_count": 20,
   "id": "28e63fc0",
   "metadata": {},
   "outputs": [
    {
     "data": {
      "text/plain": [
       "7"
      ]
     },
     "execution_count": 20,
     "metadata": {},
     "output_type": "execute_result"
    }
   ],
   "source": [
    "position[5][1]"
   ]
  },
  {
   "cell_type": "code",
   "execution_count": 23,
   "id": "2d06eec3",
   "metadata": {},
   "outputs": [
    {
     "data": {
      "text/plain": [
       "8"
      ]
     },
     "execution_count": 23,
     "metadata": {},
     "output_type": "execute_result"
    }
   ],
   "source": [
    "position[-1][-2]"
   ]
  },
  {
   "cell_type": "code",
   "execution_count": 24,
   "id": "c2647e3c",
   "metadata": {},
   "outputs": [],
   "source": [
    "shopping_list2 = ['Apples', 'Milk','Bread', 'Crisps', 'Lettuce', 'Chicken', 'Soup', 'Gravy', 'Sweets', 'Chocolate']"
   ]
  },
  {
   "cell_type": "code",
   "execution_count": 25,
   "id": "44129c96",
   "metadata": {},
   "outputs": [
    {
     "data": {
      "text/plain": [
       "['Apples', 'Milk', 'Bread', 'Crisps', 'Lettuce']"
      ]
     },
     "execution_count": 25,
     "metadata": {},
     "output_type": "execute_result"
    }
   ],
   "source": [
    "shopping_list2[0:5]"
   ]
  },
  {
   "cell_type": "code",
   "execution_count": 27,
   "id": "18262a72",
   "metadata": {},
   "outputs": [
    {
     "data": {
      "text/plain": [
       "['Chicken', 'Soup', 'Gravy', 'Sweets', 'Chocolate']"
      ]
     },
     "execution_count": 27,
     "metadata": {},
     "output_type": "execute_result"
    }
   ],
   "source": [
    "bens_shopping_list = shopping_list2[0:5]\n",
    "my_shopping_list = shopping_list2[5:10]\n",
    "\n",
    "my_shopping_list"
   ]
  },
  {
   "cell_type": "code",
   "execution_count": 28,
   "id": "bbe3e34b",
   "metadata": {},
   "outputs": [
    {
     "data": {
      "text/plain": [
       "['Apples', 'Milk', 'Bread', 'Crisps', 'Lettuce']"
      ]
     },
     "execution_count": 28,
     "metadata": {},
     "output_type": "execute_result"
    }
   ],
   "source": [
    "bens_shopping_list = shopping_list2[:5]\n",
    "bens_shopping_list"
   ]
  },
  {
   "cell_type": "code",
   "execution_count": 29,
   "id": "e01417cc",
   "metadata": {},
   "outputs": [
    {
     "data": {
      "text/plain": [
       "['Chicken', 'Soup', 'Gravy', 'Sweets', 'Chocolate']"
      ]
     },
     "execution_count": 29,
     "metadata": {},
     "output_type": "execute_result"
    }
   ],
   "source": [
    "bens_shopping_list = shopping_list2[5:]\n",
    "bens_shopping_list"
   ]
  },
  {
   "cell_type": "code",
   "execution_count": 30,
   "id": "d0ffb1c6",
   "metadata": {},
   "outputs": [
    {
     "data": {
      "text/plain": [
       "['Apples',\n",
       " 'Milk',\n",
       " 'Bread',\n",
       " 'Crisps',\n",
       " 'Lettuce',\n",
       " 'Chicken',\n",
       " 'Soup',\n",
       " 'Gravy',\n",
       " 'Sweets',\n",
       " 'Chocolate']"
      ]
     },
     "execution_count": 30,
     "metadata": {},
     "output_type": "execute_result"
    }
   ],
   "source": [
    "bens_shopping_list = shopping_list2[:]\n",
    "bens_shopping_list"
   ]
  },
  {
   "cell_type": "code",
   "execution_count": 31,
   "id": "5e9feef2",
   "metadata": {},
   "outputs": [
    {
     "data": {
      "text/plain": [
       "['Gravy', 'Sweets', 'Chocolate']"
      ]
     },
     "execution_count": 31,
     "metadata": {},
     "output_type": "execute_result"
    }
   ],
   "source": [
    "bens_shopping_list = shopping_list2[-3:]\n",
    "bens_shopping_list"
   ]
  },
  {
   "cell_type": "code",
   "execution_count": 32,
   "id": "4a0c4876",
   "metadata": {},
   "outputs": [
    {
     "data": {
      "text/plain": [
       "['Apples', 'Milk', 'Bread', 'Crisps', 'Lettuce', 'Chicken', 'Soup', 'Gravy']"
      ]
     },
     "execution_count": 32,
     "metadata": {},
     "output_type": "execute_result"
    }
   ],
   "source": [
    "bens_shopping_list = shopping_list2[:-2]\n",
    "bens_shopping_list"
   ]
  },
  {
   "cell_type": "code",
   "execution_count": null,
   "id": "9fc858ff",
   "metadata": {},
   "outputs": [],
   "source": []
  }
 ],
 "metadata": {
  "kernelspec": {
   "display_name": "Python 3",
   "language": "python",
   "name": "python3"
  },
  "language_info": {
   "codemirror_mode": {
    "name": "ipython",
    "version": 3
   },
   "file_extension": ".py",
   "mimetype": "text/x-python",
   "name": "python",
   "nbconvert_exporter": "python",
   "pygments_lexer": "ipython3",
   "version": "3.8.8"
  }
 },
 "nbformat": 4,
 "nbformat_minor": 5
}
