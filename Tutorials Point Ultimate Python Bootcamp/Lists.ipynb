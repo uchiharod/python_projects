{
 "cells": [
  {
   "cell_type": "code",
   "execution_count": 1,
   "id": "3c8fad7e",
   "metadata": {},
   "outputs": [
    {
     "data": {
      "text/plain": [
       "['Apples', 'Milk', 'Bread', 'Crisps', 'Lettuce']"
      ]
     },
     "execution_count": 1,
     "metadata": {},
     "output_type": "execute_result"
    }
   ],
   "source": [
    "shopping_list = ['Apples', 'Milk','Bread', 'Crisps', 'Lettuce']\n",
    "shopping_list"
   ]
  },
  {
   "cell_type": "code",
   "execution_count": 2,
   "id": "07642211",
   "metadata": {},
   "outputs": [
    {
     "data": {
      "text/plain": [
       "list"
      ]
     },
     "execution_count": 2,
     "metadata": {},
     "output_type": "execute_result"
    }
   ],
   "source": [
    "type(shopping_list)"
   ]
  },
  {
   "cell_type": "code",
   "execution_count": 3,
   "id": "cb8c5e38",
   "metadata": {},
   "outputs": [
    {
     "data": {
      "text/plain": [
       "[2, 4, 6, 8, 10]"
      ]
     },
     "execution_count": 3,
     "metadata": {},
     "output_type": "execute_result"
    }
   ],
   "source": [
    "number_list = [2, 4, 6, 8, 10]\n",
    "number_list"
   ]
  },
  {
   "cell_type": "code",
   "execution_count": 4,
   "id": "91c9a200",
   "metadata": {},
   "outputs": [
    {
     "data": {
      "text/plain": [
       "['Hello', 10]"
      ]
     },
     "execution_count": 4,
     "metadata": {},
     "output_type": "execute_result"
    }
   ],
   "source": [
    "mixed_list = ['Hello', 10]\n",
    "mixed_list"
   ]
  },
  {
   "cell_type": "code",
   "execution_count": 6,
   "id": "eb8d45b0",
   "metadata": {},
   "outputs": [
    {
     "data": {
      "text/plain": [
       "['Hello', 10, 'Goodbye', 0.013]"
      ]
     },
     "execution_count": 6,
     "metadata": {},
     "output_type": "execute_result"
    }
   ],
   "source": [
    "mixed_list_all = ['Hello', 10, 'Goodbye', .013]\n",
    "mixed_list_all"
   ]
  },
  {
   "cell_type": "code",
   "execution_count": 7,
   "id": "c1a3ba74",
   "metadata": {},
   "outputs": [
    {
     "data": {
      "text/plain": [
       "['Hello', 10, 'Goodbye', 0.013, [1, 2, 3, 4]]"
      ]
     },
     "execution_count": 7,
     "metadata": {},
     "output_type": "execute_result"
    }
   ],
   "source": [
    "mixed_list_allx = ['Hello', 10, 'Goodbye', .013, [1, 2, 3, 4]]\n",
    "mixed_list_allx"
   ]
  },
  {
   "cell_type": "markdown",
   "id": "d1379717",
   "metadata": {},
   "source": [
    "# Tic, Tac, Toe"
   ]
  },
  {
   "cell_type": "code",
   "execution_count": 8,
   "id": "dec4c3d6",
   "metadata": {},
   "outputs": [],
   "source": [
    "tic_tac_toe = [\n",
    "    [[\" \"], [\" \"], [\" \"]],\n",
    "    [[\" \"], [\" \"], [\" \"]],\n",
    "    [[\" \"], [\" \"], [\" \"]]\n",
    "]"
   ]
  },
  {
   "cell_type": "code",
   "execution_count": 9,
   "id": "ed7e3e69",
   "metadata": {},
   "outputs": [],
   "source": [
    "empty_list = []"
   ]
  },
  {
   "cell_type": "code",
   "execution_count": null,
   "id": "7aea7920",
   "metadata": {},
   "outputs": [],
   "source": []
  }
 ],
 "metadata": {
  "kernelspec": {
   "display_name": "Python 3",
   "language": "python",
   "name": "python3"
  },
  "language_info": {
   "codemirror_mode": {
    "name": "ipython",
    "version": 3
   },
   "file_extension": ".py",
   "mimetype": "text/x-python",
   "name": "python",
   "nbconvert_exporter": "python",
   "pygments_lexer": "ipython3",
   "version": "3.8.8"
  }
 },
 "nbformat": 4,
 "nbformat_minor": 5
}
