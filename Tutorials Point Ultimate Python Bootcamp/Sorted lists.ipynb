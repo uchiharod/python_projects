{
 "cells": [
  {
   "cell_type": "code",
   "execution_count": 1,
   "id": "6bf17af9",
   "metadata": {},
   "outputs": [],
   "source": [
    "shopping_list2 = ['Apples', 'Milk','Bread', 'Crisps', 'Lettuce', 'Chicken', 'Soup', 'Gravy', 'Sweets', 'Chocolate']"
   ]
  },
  {
   "cell_type": "code",
   "execution_count": 2,
   "id": "ac915241",
   "metadata": {},
   "outputs": [],
   "source": [
    "shopping_list2.sort()"
   ]
  },
  {
   "cell_type": "code",
   "execution_count": 3,
   "id": "f859f215",
   "metadata": {},
   "outputs": [
    {
     "data": {
      "text/plain": [
       "['Apples',\n",
       " 'Bread',\n",
       " 'Chicken',\n",
       " 'Chocolate',\n",
       " 'Crisps',\n",
       " 'Gravy',\n",
       " 'Lettuce',\n",
       " 'Milk',\n",
       " 'Soup',\n",
       " 'Sweets']"
      ]
     },
     "execution_count": 3,
     "metadata": {},
     "output_type": "execute_result"
    }
   ],
   "source": [
    "shopping_list2"
   ]
  },
  {
   "cell_type": "code",
   "execution_count": 6,
   "id": "1e452278",
   "metadata": {},
   "outputs": [],
   "source": [
    "shopping_list2.sort(reverse = True)"
   ]
  },
  {
   "cell_type": "code",
   "execution_count": 7,
   "id": "e079456a",
   "metadata": {},
   "outputs": [
    {
     "data": {
      "text/plain": [
       "['Sweets',\n",
       " 'Soup',\n",
       " 'Milk',\n",
       " 'Lettuce',\n",
       " 'Gravy',\n",
       " 'Crisps',\n",
       " 'Chocolate',\n",
       " 'Chicken',\n",
       " 'Bread',\n",
       " 'Apples']"
      ]
     },
     "execution_count": 7,
     "metadata": {},
     "output_type": "execute_result"
    }
   ],
   "source": [
    "shopping_list2"
   ]
  },
  {
   "cell_type": "code",
   "execution_count": 8,
   "id": "a05a0f66",
   "metadata": {},
   "outputs": [
    {
     "name": "stdout",
     "output_type": "stream",
     "text": [
      "['Sweets', 'Soup', 'Milk', 'Lettuce', 'Gravy', 'Crisps', 'Chocolate', 'Chicken', 'Bread', 'Apples']\n"
     ]
    }
   ],
   "source": [
    "print(shopping_list2)"
   ]
  },
  {
   "cell_type": "code",
   "execution_count": 12,
   "id": "59144d46",
   "metadata": {},
   "outputs": [],
   "source": [
    "shopping_list2 = sorted(shopping_list2, reverse = True)"
   ]
  },
  {
   "cell_type": "code",
   "execution_count": 13,
   "id": "c184a694",
   "metadata": {},
   "outputs": [
    {
     "data": {
      "text/plain": [
       "['Sweets',\n",
       " 'Soup',\n",
       " 'Milk',\n",
       " 'Lettuce',\n",
       " 'Gravy',\n",
       " 'Crisps',\n",
       " 'Chocolate',\n",
       " 'Chicken',\n",
       " 'Bread',\n",
       " 'Apples']"
      ]
     },
     "execution_count": 13,
     "metadata": {},
     "output_type": "execute_result"
    }
   ],
   "source": [
    "shopping_list2"
   ]
  },
  {
   "cell_type": "markdown",
   "id": "c45c1490",
   "metadata": {},
   "source": [
    "Remember that the sort method will change the original list. You can use the built in \"Sorted\" method."
   ]
  },
  {
   "cell_type": "code",
   "execution_count": null,
   "id": "056d6a75",
   "metadata": {},
   "outputs": [],
   "source": []
  }
 ],
 "metadata": {
  "kernelspec": {
   "display_name": "Python 3",
   "language": "python",
   "name": "python3"
  },
  "language_info": {
   "codemirror_mode": {
    "name": "ipython",
    "version": 3
   },
   "file_extension": ".py",
   "mimetype": "text/x-python",
   "name": "python",
   "nbconvert_exporter": "python",
   "pygments_lexer": "ipython3",
   "version": "3.8.8"
  }
 },
 "nbformat": 4,
 "nbformat_minor": 5
}
