{
 "cells": [
  {
   "cell_type": "code",
   "execution_count": 1,
   "id": "0b553235",
   "metadata": {},
   "outputs": [
    {
     "data": {
      "text/plain": [
       "True"
      ]
     },
     "execution_count": 1,
     "metadata": {},
     "output_type": "execute_result"
    }
   ],
   "source": [
    "'a' in 'Hamburger'"
   ]
  },
  {
   "cell_type": "code",
   "execution_count": 3,
   "id": "f908cb27",
   "metadata": {},
   "outputs": [
    {
     "data": {
      "text/plain": [
       "False"
      ]
     },
     "execution_count": 3,
     "metadata": {},
     "output_type": "execute_result"
    }
   ],
   "source": [
    "'e' not in 'Chicken'"
   ]
  },
  {
   "cell_type": "code",
   "execution_count": 4,
   "id": "87299f3a",
   "metadata": {},
   "outputs": [],
   "source": [
    "juice = 'Apple and Strawberry'"
   ]
  },
  {
   "cell_type": "code",
   "execution_count": 5,
   "id": "af35dc45",
   "metadata": {},
   "outputs": [
    {
     "data": {
      "text/plain": [
       "False"
      ]
     },
     "execution_count": 5,
     "metadata": {},
     "output_type": "execute_result"
    }
   ],
   "source": [
    "'apple' in juice"
   ]
  },
  {
   "cell_type": "code",
   "execution_count": 6,
   "id": "4bc6681c",
   "metadata": {},
   "outputs": [
    {
     "data": {
      "text/plain": [
       "True"
      ]
     },
     "execution_count": 6,
     "metadata": {},
     "output_type": "execute_result"
    }
   ],
   "source": [
    "'Apple' in juice"
   ]
  },
  {
   "cell_type": "code",
   "execution_count": 7,
   "id": "4739ca64",
   "metadata": {},
   "outputs": [],
   "source": [
    "raffle_ticket = '158A'\n",
    "winner = '158A'"
   ]
  },
  {
   "cell_type": "code",
   "execution_count": 8,
   "id": "590e8f5d",
   "metadata": {},
   "outputs": [
    {
     "data": {
      "text/plain": [
       "True"
      ]
     },
     "execution_count": 8,
     "metadata": {},
     "output_type": "execute_result"
    }
   ],
   "source": [
    "winner in raffle_ticket"
   ]
  },
  {
   "cell_type": "code",
   "execution_count": null,
   "id": "422e364a",
   "metadata": {},
   "outputs": [],
   "source": []
  }
 ],
 "metadata": {
  "kernelspec": {
   "display_name": "Python 3",
   "language": "python",
   "name": "python3"
  },
  "language_info": {
   "codemirror_mode": {
    "name": "ipython",
    "version": 3
   },
   "file_extension": ".py",
   "mimetype": "text/x-python",
   "name": "python",
   "nbconvert_exporter": "python",
   "pygments_lexer": "ipython3",
   "version": "3.8.8"
  }
 },
 "nbformat": 4,
 "nbformat_minor": 5
}
