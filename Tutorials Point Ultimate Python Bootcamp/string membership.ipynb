{
 "cells": [
  {
   "cell_type": "code",
   "execution_count": 3,
   "id": "dcc0062c",
   "metadata": {},
   "outputs": [
    {
     "data": {
      "text/plain": [
       "True"
      ]
     },
     "execution_count": 3,
     "metadata": {},
     "output_type": "execute_result"
    }
   ],
   "source": [
    "'a' in 'Hamburger'"
   ]
  },
  {
   "cell_type": "code",
   "execution_count": 4,
   "id": "3484067b",
   "metadata": {},
   "outputs": [
    {
     "data": {
      "text/plain": [
       "False"
      ]
     },
     "execution_count": 4,
     "metadata": {},
     "output_type": "execute_result"
    }
   ],
   "source": [
    "'e' not in 'Chicken'"
   ]
  },
  {
   "cell_type": "code",
   "execution_count": 5,
   "id": "db9436bc",
   "metadata": {},
   "outputs": [],
   "source": [
    "juice = 'Apple and Strawberry'"
   ]
  },
  {
   "cell_type": "code",
   "execution_count": 6,
   "id": "d55f14d5",
   "metadata": {},
   "outputs": [
    {
     "data": {
      "text/plain": [
       "False"
      ]
     },
     "execution_count": 6,
     "metadata": {},
     "output_type": "execute_result"
    }
   ],
   "source": [
    "'apple' in juice"
   ]
  },
  {
   "cell_type": "code",
   "execution_count": 7,
   "id": "6a556083",
   "metadata": {},
   "outputs": [
    {
     "data": {
      "text/plain": [
       "True"
      ]
     },
     "execution_count": 7,
     "metadata": {},
     "output_type": "execute_result"
    }
   ],
   "source": [
    "'Apple' in juice"
   ]
  },
  {
   "cell_type": "code",
   "execution_count": 8,
   "id": "a033195e",
   "metadata": {},
   "outputs": [],
   "source": [
    "raffle_ticket = '158A'\n",
    "winner = '158A'"
   ]
  },
  {
   "cell_type": "code",
   "execution_count": 9,
   "id": "25d60c1a",
   "metadata": {},
   "outputs": [
    {
     "data": {
      "text/plain": [
       "True"
      ]
     },
     "execution_count": 9,
     "metadata": {},
     "output_type": "execute_result"
    }
   ],
   "source": [
    "winner in raffle_ticket"
   ]
  },
  {
   "cell_type": "code",
   "execution_count": 4,
   "id": "24e14086",
   "metadata": {},
   "outputs": [],
   "source": [
    "sentence = \"I LOVE learning Python\""
   ]
  },
  {
   "cell_type": "code",
   "execution_count": 5,
   "id": "fe08735a",
   "metadata": {},
   "outputs": [
    {
     "data": {
      "text/plain": [
       "'I LOVE learning Python'"
      ]
     },
     "execution_count": 5,
     "metadata": {},
     "output_type": "execute_result"
    }
   ],
   "source": [
    "sentence"
   ]
  },
  {
   "cell_type": "code",
   "execution_count": 6,
   "id": "aedce163",
   "metadata": {},
   "outputs": [
    {
     "data": {
      "text/plain": [
       "str"
      ]
     },
     "execution_count": 6,
     "metadata": {},
     "output_type": "execute_result"
    }
   ],
   "source": [
    "type(sentence)"
   ]
  },
  {
   "cell_type": "code",
   "execution_count": 7,
   "id": "3b43c098",
   "metadata": {},
   "outputs": [
    {
     "data": {
      "text/plain": [
       "'I love learning python'"
      ]
     },
     "execution_count": 7,
     "metadata": {},
     "output_type": "execute_result"
    }
   ],
   "source": [
    "sentence.capitalize()"
   ]
  },
  {
   "cell_type": "code",
   "execution_count": 8,
   "id": "e90bf618",
   "metadata": {},
   "outputs": [],
   "source": [
    "sentence2 = \"i LoVe Learning Python\""
   ]
  },
  {
   "cell_type": "code",
   "execution_count": 9,
   "id": "8ce43a35",
   "metadata": {},
   "outputs": [
    {
     "data": {
      "text/plain": [
       "'I love learning python'"
      ]
     },
     "execution_count": 9,
     "metadata": {},
     "output_type": "execute_result"
    }
   ],
   "source": [
    "sentence2.capitalize()"
   ]
  },
  {
   "cell_type": "code",
   "execution_count": 10,
   "id": "70f42768",
   "metadata": {},
   "outputs": [
    {
     "data": {
      "text/plain": [
       "'I LOVE learning Python'"
      ]
     },
     "execution_count": 10,
     "metadata": {},
     "output_type": "execute_result"
    }
   ],
   "source": [
    "sentence"
   ]
  },
  {
   "cell_type": "code",
   "execution_count": 11,
   "id": "7c1c792b",
   "metadata": {},
   "outputs": [],
   "source": [
    "new_sentence = sentence.capitalize()"
   ]
  },
  {
   "cell_type": "code",
   "execution_count": 12,
   "id": "9f1311a5",
   "metadata": {},
   "outputs": [
    {
     "data": {
      "text/plain": [
       "3"
      ]
     },
     "execution_count": 12,
     "metadata": {},
     "output_type": "execute_result"
    }
   ],
   "source": [
    "sentence.count('n')"
   ]
  },
  {
   "cell_type": "code",
   "execution_count": 13,
   "id": "eb28f367",
   "metadata": {},
   "outputs": [
    {
     "data": {
      "text/plain": [
       "1"
      ]
     },
     "execution_count": 13,
     "metadata": {},
     "output_type": "execute_result"
    }
   ],
   "source": [
    "sentence.count('i')"
   ]
  },
  {
   "cell_type": "code",
   "execution_count": 14,
   "id": "a460c30d",
   "metadata": {},
   "outputs": [
    {
     "data": {
      "text/plain": [
       "3"
      ]
     },
     "execution_count": 14,
     "metadata": {},
     "output_type": "execute_result"
    }
   ],
   "source": [
    "sentence.count('n')"
   ]
  },
  {
   "cell_type": "code",
   "execution_count": 15,
   "id": "ff5e4fcc",
   "metadata": {},
   "outputs": [
    {
     "data": {
      "text/plain": [
       "False"
      ]
     },
     "execution_count": 15,
     "metadata": {},
     "output_type": "execute_result"
    }
   ],
   "source": [
    "sentence.endswith('N')"
   ]
  },
  {
   "cell_type": "code",
   "execution_count": 16,
   "id": "65345991",
   "metadata": {},
   "outputs": [
    {
     "data": {
      "text/plain": [
       "True"
      ]
     },
     "execution_count": 16,
     "metadata": {},
     "output_type": "execute_result"
    }
   ],
   "source": [
    "sentence.endswith('n')"
   ]
  },
  {
   "cell_type": "code",
   "execution_count": 17,
   "id": "b782c656",
   "metadata": {},
   "outputs": [
    {
     "data": {
      "text/plain": [
       "2"
      ]
     },
     "execution_count": 17,
     "metadata": {},
     "output_type": "execute_result"
    }
   ],
   "source": [
    "sentence.find('L')"
   ]
  },
  {
   "cell_type": "code",
   "execution_count": 18,
   "id": "955df0b6",
   "metadata": {},
   "outputs": [
    {
     "data": {
      "text/plain": [
       "True"
      ]
     },
     "execution_count": 18,
     "metadata": {},
     "output_type": "execute_result"
    }
   ],
   "source": [
    "sentence.startswith('I')"
   ]
  },
  {
   "cell_type": "code",
   "execution_count": 19,
   "id": "99799c81",
   "metadata": {},
   "outputs": [
    {
     "data": {
      "text/plain": [
       "-1"
      ]
     },
     "execution_count": 19,
     "metadata": {},
     "output_type": "execute_result"
    }
   ],
   "source": [
    "sentence.find('z') #means it wasn't found"
   ]
  },
  {
   "cell_type": "code",
   "execution_count": 20,
   "id": "1383dbe4",
   "metadata": {},
   "outputs": [
    {
     "data": {
      "text/plain": [
       "6"
      ]
     },
     "execution_count": 20,
     "metadata": {},
     "output_type": "execute_result"
    }
   ],
   "source": [
    "sentence.find(' ', 3) #Start from capital O, find the first instance of a blank space"
   ]
  },
  {
   "cell_type": "code",
   "execution_count": 21,
   "id": "0230252b",
   "metadata": {},
   "outputs": [
    {
     "data": {
      "text/plain": [
       "2"
      ]
     },
     "execution_count": 21,
     "metadata": {},
     "output_type": "execute_result"
    }
   ],
   "source": [
    "sentence.index('L')"
   ]
  },
  {
   "cell_type": "code",
   "execution_count": 22,
   "id": "6f76a72e",
   "metadata": {},
   "outputs": [
    {
     "data": {
      "text/plain": [
       "True"
      ]
     },
     "execution_count": 22,
     "metadata": {},
     "output_type": "execute_result"
    }
   ],
   "source": [
    "'10'.isdigit()"
   ]
  },
  {
   "cell_type": "code",
   "execution_count": 23,
   "id": "e06e7441",
   "metadata": {},
   "outputs": [
    {
     "data": {
      "text/plain": [
       "False"
      ]
     },
     "execution_count": 23,
     "metadata": {},
     "output_type": "execute_result"
    }
   ],
   "source": [
    "'10a'.isdigit()"
   ]
  },
  {
   "cell_type": "code",
   "execution_count": 24,
   "id": "f64fb9d3",
   "metadata": {},
   "outputs": [
    {
     "data": {
      "text/plain": [
       "False"
      ]
     },
     "execution_count": 24,
     "metadata": {},
     "output_type": "execute_result"
    }
   ],
   "source": [
    "sentence.isalpha() #Remember that empty spaces are not alphabetical"
   ]
  },
  {
   "cell_type": "code",
   "execution_count": 25,
   "id": "4ee4d084",
   "metadata": {},
   "outputs": [],
   "source": [
    "alpha = \"What the hell\"\n",
    "alpha2 = \"Whatthehell\""
   ]
  },
  {
   "cell_type": "code",
   "execution_count": 26,
   "id": "d07ebeb4",
   "metadata": {},
   "outputs": [
    {
     "data": {
      "text/plain": [
       "False"
      ]
     },
     "execution_count": 26,
     "metadata": {},
     "output_type": "execute_result"
    }
   ],
   "source": [
    "alpha.isalpha()"
   ]
  },
  {
   "cell_type": "code",
   "execution_count": 27,
   "id": "dc62e7a4",
   "metadata": {},
   "outputs": [
    {
     "data": {
      "text/plain": [
       "True"
      ]
     },
     "execution_count": 27,
     "metadata": {},
     "output_type": "execute_result"
    }
   ],
   "source": [
    "alpha2.isalpha()"
   ]
  },
  {
   "cell_type": "code",
   "execution_count": 28,
   "id": "ab60dc19",
   "metadata": {},
   "outputs": [
    {
     "data": {
      "text/plain": [
       "'what the hell'"
      ]
     },
     "execution_count": 28,
     "metadata": {},
     "output_type": "execute_result"
    }
   ],
   "source": [
    "alpha.lower()"
   ]
  },
  {
   "cell_type": "code",
   "execution_count": 29,
   "id": "3d97d73f",
   "metadata": {},
   "outputs": [
    {
     "data": {
      "text/plain": [
       "'WHAT THE HELL'"
      ]
     },
     "execution_count": 29,
     "metadata": {},
     "output_type": "execute_result"
    }
   ],
   "source": [
    "alpha.upper()"
   ]
  },
  {
   "cell_type": "code",
   "execution_count": 30,
   "id": "bd7730fc",
   "metadata": {},
   "outputs": [
    {
     "data": {
      "text/plain": [
       "'I LOVE learning to code'"
      ]
     },
     "execution_count": 30,
     "metadata": {},
     "output_type": "execute_result"
    }
   ],
   "source": [
    "sentence.replace('Python', 'to code')"
   ]
  },
  {
   "cell_type": "code",
   "execution_count": 31,
   "id": "77532228",
   "metadata": {},
   "outputs": [
    {
     "data": {
      "text/plain": [
       "'    Hello'"
      ]
     },
     "execution_count": 31,
     "metadata": {},
     "output_type": "execute_result"
    }
   ],
   "source": [
    "'    Hello    '.rstrip()"
   ]
  },
  {
   "cell_type": "code",
   "execution_count": null,
   "id": "143c4b30",
   "metadata": {},
   "outputs": [],
   "source": [
    "'    Hello    '."
   ]
  },
  {
   "cell_type": "code",
   "execution_count": null,
   "id": "377c5716",
   "metadata": {},
   "outputs": [],
   "source": [
    "'    Hello    '."
   ]
  }
 ],
 "metadata": {
  "kernelspec": {
   "display_name": "Python 3",
   "language": "python",
   "name": "python3"
  },
  "language_info": {
   "codemirror_mode": {
    "name": "ipython",
    "version": 3
   },
   "file_extension": ".py",
   "mimetype": "text/x-python",
   "name": "python",
   "nbconvert_exporter": "python",
   "pygments_lexer": "ipython3",
   "version": "3.8.8"
  }
 },
 "nbformat": 4,
 "nbformat_minor": 5
}
