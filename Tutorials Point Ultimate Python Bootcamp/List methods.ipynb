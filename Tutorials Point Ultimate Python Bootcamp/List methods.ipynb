{
 "cells": [
  {
   "cell_type": "code",
   "execution_count": 1,
   "id": "7fb7e9db",
   "metadata": {},
   "outputs": [],
   "source": [
    "greetings = ['Hello', 'Hi', 'Yo']"
   ]
  },
  {
   "cell_type": "code",
   "execution_count": 2,
   "id": "563e21a4",
   "metadata": {},
   "outputs": [
    {
     "data": {
      "text/plain": [
       "['Yo', 'Hi', 'Hello']"
      ]
     },
     "execution_count": 2,
     "metadata": {},
     "output_type": "execute_result"
    }
   ],
   "source": [
    "greetings.reverse()\n",
    "greetings"
   ]
  },
  {
   "cell_type": "code",
   "execution_count": null,
   "id": "3df2b88c",
   "metadata": {},
   "outputs": [],
   "source": []
  }
 ],
 "metadata": {
  "kernelspec": {
   "display_name": "Python 3",
   "language": "python",
   "name": "python3"
  },
  "language_info": {
   "codemirror_mode": {
    "name": "ipython",
    "version": 3
   },
   "file_extension": ".py",
   "mimetype": "text/x-python",
   "name": "python",
   "nbconvert_exporter": "python",
   "pygments_lexer": "ipython3",
   "version": "3.8.8"
  }
 },
 "nbformat": 4,
 "nbformat_minor": 5
}
