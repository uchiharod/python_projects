{
 "cells": [
  {
   "cell_type": "code",
   "execution_count": 1,
   "id": "7e507f9b",
   "metadata": {},
   "outputs": [
    {
     "data": {
      "text/plain": [
       "[0, 1, 2, 3, 4, 5, 6, 7, 8, 9]"
      ]
     },
     "execution_count": 1,
     "metadata": {},
     "output_type": "execute_result"
    }
   ],
   "source": [
    "list(range(10))"
   ]
  },
  {
   "cell_type": "code",
   "execution_count": 2,
   "id": "1aa1b019",
   "metadata": {},
   "outputs": [
    {
     "data": {
      "text/plain": [
       "[5, 6, 7, 8, 9, 10, 11, 12, 13, 14, 15]"
      ]
     },
     "execution_count": 2,
     "metadata": {},
     "output_type": "execute_result"
    }
   ],
   "source": [
    "list(range(5, 16))"
   ]
  },
  {
   "cell_type": "code",
   "execution_count": 3,
   "id": "c6bc2b4d",
   "metadata": {},
   "outputs": [
    {
     "data": {
      "text/plain": [
       "[0, 10, 20, 30, 40, 50, 60, 70, 80, 90, 100]"
      ]
     },
     "execution_count": 3,
     "metadata": {},
     "output_type": "execute_result"
    }
   ],
   "source": [
    "list(range(0, 101, 10))"
   ]
  },
  {
   "cell_type": "code",
   "execution_count": 4,
   "id": "8007998f",
   "metadata": {},
   "outputs": [],
   "source": [
    "names = ['Jane', 'Peter', 'Kim', 'Sam']\n",
    "ages = [24, 43, 32, 18]"
   ]
  },
  {
   "cell_type": "code",
   "execution_count": 5,
   "id": "f8239b90",
   "metadata": {},
   "outputs": [],
   "source": [
    "names_and_ages = zip(names, ages)"
   ]
  },
  {
   "cell_type": "code",
   "execution_count": 6,
   "id": "b7ec839a",
   "metadata": {},
   "outputs": [
    {
     "data": {
      "text/plain": [
       "<zip at 0x1b2840e12c0>"
      ]
     },
     "execution_count": 6,
     "metadata": {},
     "output_type": "execute_result"
    }
   ],
   "source": [
    "names_and_ages"
   ]
  },
  {
   "cell_type": "code",
   "execution_count": 7,
   "id": "76cf6b68",
   "metadata": {},
   "outputs": [],
   "source": [
    "names_ages_list = list(names_and_ages)"
   ]
  },
  {
   "cell_type": "code",
   "execution_count": 8,
   "id": "8fa8f853",
   "metadata": {},
   "outputs": [
    {
     "data": {
      "text/plain": [
       "[('Jane', 24), ('Peter', 43), ('Kim', 32), ('Sam', 18)]"
      ]
     },
     "execution_count": 8,
     "metadata": {},
     "output_type": "execute_result"
    }
   ],
   "source": [
    "names_ages_list"
   ]
  },
  {
   "cell_type": "code",
   "execution_count": 18,
   "id": "2ade4472",
   "metadata": {},
   "outputs": [],
   "source": [
    "fav_numbers = [1,2,3,4,5,6,7,8,3,9]"
   ]
  },
  {
   "cell_type": "code",
   "execution_count": 19,
   "id": "815e496d",
   "metadata": {},
   "outputs": [
    {
     "data": {
      "text/plain": [
       "2"
      ]
     },
     "execution_count": 19,
     "metadata": {},
     "output_type": "execute_result"
    }
   ],
   "source": [
    "fav_numbers.index(3)"
   ]
  },
  {
   "cell_type": "code",
   "execution_count": 20,
   "id": "ac710979",
   "metadata": {},
   "outputs": [
    {
     "data": {
      "text/plain": [
       "8"
      ]
     },
     "execution_count": 20,
     "metadata": {},
     "output_type": "execute_result"
    }
   ],
   "source": [
    "fav_numbers.index(3, 3)"
   ]
  },
  {
   "cell_type": "code",
   "execution_count": null,
   "id": "dcbf5263",
   "metadata": {},
   "outputs": [],
   "source": []
  }
 ],
 "metadata": {
  "kernelspec": {
   "display_name": "Python 3",
   "language": "python",
   "name": "python3"
  },
  "language_info": {
   "codemirror_mode": {
    "name": "ipython",
    "version": 3
   },
   "file_extension": ".py",
   "mimetype": "text/x-python",
   "name": "python",
   "nbconvert_exporter": "python",
   "pygments_lexer": "ipython3",
   "version": "3.8.8"
  }
 },
 "nbformat": 4,
 "nbformat_minor": 5
}
