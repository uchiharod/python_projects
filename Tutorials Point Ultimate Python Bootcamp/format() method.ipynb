{
 "cells": [
  {
   "cell_type": "code",
   "execution_count": 1,
   "id": "495a3ab7",
   "metadata": {},
   "outputs": [
    {
     "data": {
      "text/plain": [
       "'I like to play golf'"
      ]
     },
     "execution_count": 1,
     "metadata": {},
     "output_type": "execute_result"
    }
   ],
   "source": [
    "'I like to play {}'.format('golf')"
   ]
  },
  {
   "cell_type": "code",
   "execution_count": 2,
   "id": "41a90b05",
   "metadata": {},
   "outputs": [
    {
     "data": {
      "text/plain": [
       "'I am in a band with Tom, James, and Sally'"
      ]
     },
     "execution_count": 2,
     "metadata": {},
     "output_type": "execute_result"
    }
   ],
   "source": [
    "'I am in a band with {}, {}, and {}'.format('Tom', 'James', 'Sally')"
   ]
  },
  {
   "cell_type": "code",
   "execution_count": 3,
   "id": "1a4daf26",
   "metadata": {},
   "outputs": [
    {
     "ename": "IndexError",
     "evalue": "Replacement index 3 out of range for positional args tuple",
     "output_type": "error",
     "traceback": [
      "\u001b[1;31m---------------------------------------------------------------------------\u001b[0m",
      "\u001b[1;31mIndexError\u001b[0m                                Traceback (most recent call last)",
      "\u001b[1;32m<ipython-input-3-1b9739f0847a>\u001b[0m in \u001b[0;36m<module>\u001b[1;34m\u001b[0m\n\u001b[1;32m----> 1\u001b[1;33m \u001b[1;34m'I am in a band with {1}, {0}, and {3}'\u001b[0m\u001b[1;33m.\u001b[0m\u001b[0mformat\u001b[0m\u001b[1;33m(\u001b[0m\u001b[1;34m'Tom'\u001b[0m\u001b[1;33m,\u001b[0m \u001b[1;34m'James'\u001b[0m\u001b[1;33m,\u001b[0m \u001b[1;34m'Sally'\u001b[0m\u001b[1;33m)\u001b[0m\u001b[1;33m\u001b[0m\u001b[1;33m\u001b[0m\u001b[0m\n\u001b[0m",
      "\u001b[1;31mIndexError\u001b[0m: Replacement index 3 out of range for positional args tuple"
     ]
    }
   ],
   "source": [
    "'I am in a band with {1}, {0}, and {3}'.format('Tom', 'James', 'Sally')"
   ]
  },
  {
   "cell_type": "code",
   "execution_count": 4,
   "id": "4c305fd3",
   "metadata": {},
   "outputs": [
    {
     "data": {
      "text/plain": [
       "'I am in a band with James, Tom, and Sally'"
      ]
     },
     "execution_count": 4,
     "metadata": {},
     "output_type": "execute_result"
    }
   ],
   "source": [
    "'I am in a band with {1}, {0}, and {2}'.format('Tom', 'James', 'Sally')"
   ]
  },
  {
   "cell_type": "code",
   "execution_count": 5,
   "id": "a0454ae3",
   "metadata": {},
   "outputs": [
    {
     "data": {
      "text/plain": [
       "'I am in a band with Tom, James, and Sally'"
      ]
     },
     "execution_count": 5,
     "metadata": {},
     "output_type": "execute_result"
    }
   ],
   "source": [
    "'I am in a band with {a}, {b}, and {c}'.format(a='Tom', b='James', c='Sally')"
   ]
  },
  {
   "cell_type": "code",
   "execution_count": 6,
   "id": "99f7f001",
   "metadata": {},
   "outputs": [
    {
     "data": {
      "text/plain": [
       "'I am in a band with Sally, Tom, and James'"
      ]
     },
     "execution_count": 6,
     "metadata": {},
     "output_type": "execute_result"
    }
   ],
   "source": [
    "'I am in a band with {a}, {b}, and {c}'.format(b='Tom', c='James', a='Sally')"
   ]
  },
  {
   "cell_type": "code",
   "execution_count": null,
   "id": "39375a4c",
   "metadata": {},
   "outputs": [],
   "source": []
  }
 ],
 "metadata": {
  "kernelspec": {
   "display_name": "Python 3",
   "language": "python",
   "name": "python3"
  },
  "language_info": {
   "codemirror_mode": {
    "name": "ipython",
    "version": 3
   },
   "file_extension": ".py",
   "mimetype": "text/x-python",
   "name": "python",
   "nbconvert_exporter": "python",
   "pygments_lexer": "ipython3",
   "version": "3.8.8"
  }
 },
 "nbformat": 4,
 "nbformat_minor": 5
}
