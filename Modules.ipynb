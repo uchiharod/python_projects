{
 "cells": [
  {
   "cell_type": "code",
   "execution_count": 1,
   "id": "07fd3c2f",
   "metadata": {},
   "outputs": [
    {
     "name": "stdout",
     "output_type": "stream",
     "text": [
      "Fri Jan  7 23:55:13 2022\n",
      "18000\n"
     ]
    }
   ],
   "source": [
    "import time\n",
    "print(time.asctime())\n",
    "print(time.timezone)"
   ]
  },
  {
   "cell_type": "code",
   "execution_count": 2,
   "id": "4fee83a3",
   "metadata": {},
   "outputs": [
    {
     "name": "stdout",
     "output_type": "stream",
     "text": [
      "Fri Jan  7 23:55:57 2022\n"
     ]
    }
   ],
   "source": [
    "from time import asctime\n",
    "print(asctime())"
   ]
  },
  {
   "cell_type": "code",
   "execution_count": 3,
   "id": "86c2de4d",
   "metadata": {},
   "outputs": [
    {
     "name": "stdout",
     "output_type": "stream",
     "text": [
      "Fri Jan  7 23:56:37 2022\n",
      "Fri Jan  7 23:56:40 2022\n"
     ]
    }
   ],
   "source": [
    "from time import asctime, sleep\n",
    "print(asctime())\n",
    "sleep(3)\n",
    "print(asctime())"
   ]
  },
  {
   "cell_type": "code",
   "execution_count": null,
   "id": "e84423d0",
   "metadata": {},
   "outputs": [],
   "source": []
  }
 ],
 "metadata": {
  "kernelspec": {
   "display_name": "Python 3",
   "language": "python",
   "name": "python3"
  },
  "language_info": {
   "codemirror_mode": {
    "name": "ipython",
    "version": 3
   },
   "file_extension": ".py",
   "mimetype": "text/x-python",
   "name": "python",
   "nbconvert_exporter": "python",
   "pygments_lexer": "ipython3",
   "version": "3.8.8"
  }
 },
 "nbformat": 4,
 "nbformat_minor": 5
}
