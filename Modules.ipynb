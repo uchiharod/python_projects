{
 "cells": [
  {
   "cell_type": "code",
   "execution_count": 1,
   "id": "3cf71641",
   "metadata": {},
   "outputs": [
    {
     "name": "stdout",
     "output_type": "stream",
     "text": [
      "Fri Jan  7 23:55:13 2022\n",
      "18000\n"
     ]
    }
   ],
   "source": [
    "import time\n",
    "print(time.asctime())\n",
    "print(time.timezone)"
   ]
  },
  {
   "cell_type": "code",
   "execution_count": 2,
   "id": "ffb8516b",
   "metadata": {},
   "outputs": [
    {
     "name": "stdout",
     "output_type": "stream",
     "text": [
      "Fri Jan  7 23:55:57 2022\n"
     ]
    }
   ],
   "source": [
    "from time import asctime\n",
    "print(asctime())"
   ]
  },
  {
   "cell_type": "code",
   "execution_count": 3,
   "id": "78ebfc21",
   "metadata": {},
   "outputs": [
    {
     "name": "stdout",
     "output_type": "stream",
     "text": [
      "Fri Jan  7 23:56:37 2022\n",
      "Fri Jan  7 23:56:40 2022\n"
     ]
    }
   ],
   "source": [
    "from time import asctime, sleep\n",
    "print(asctime())\n",
    "sleep(3)\n",
    "print(asctime())"
   ]
  },
  {
   "cell_type": "code",
   "execution_count": 4,
   "id": "0905f9a5",
   "metadata": {},
   "outputs": [
    {
     "name": "stdout",
     "output_type": "stream",
     "text": [
      "18000\n",
      "Fri Jan  7 23:57:26 2022\n",
      "Fri Jan  7 23:57:29 2022\n"
     ]
    }
   ],
   "source": [
    "from time import *\n",
    "print(timezone)\n",
    "print(asctime())\n",
    "sleep(3)\n",
    "print(asctime())\n"
   ]
  },
  {
   "cell_type": "code",
   "execution_count": 5,
   "id": "533fb544",
   "metadata": {},
   "outputs": [
    {
     "name": "stdout",
     "output_type": "stream",
     "text": [
      "C:\\Users\\graph\\Python - Udemy\n",
      "C:\\Users\\graph\\anaconda3\\python38.zip\n",
      "C:\\Users\\graph\\anaconda3\\DLLs\n",
      "C:\\Users\\graph\\anaconda3\\lib\n",
      "C:\\Users\\graph\\anaconda3\n",
      "\n",
      "C:\\Users\\graph\\anaconda3\\lib\\site-packages\n",
      "C:\\Users\\graph\\anaconda3\\lib\\site-packages\\locket-0.2.1-py3.8.egg\n",
      "C:\\Users\\graph\\anaconda3\\lib\\site-packages\\win32\n",
      "C:\\Users\\graph\\anaconda3\\lib\\site-packages\\win32\\lib\n",
      "C:\\Users\\graph\\anaconda3\\lib\\site-packages\\Pythonwin\n",
      "C:\\Users\\graph\\anaconda3\\lib\\site-packages\\IPython\\extensions\n",
      "C:\\Users\\graph\\.ipython\n",
      "/Users/jason/python\n"
     ]
    }
   ],
   "source": [
    "import sys\n",
    "sys.path.append('/Users/jason/python')\n",
    "for path in sys.path:\n",
    "    print(path)"
   ]
  },
  {
   "cell_type": "code",
   "execution_count": 6,
   "id": "9f0257c1",
   "metadata": {},
   "outputs": [
    {
     "ename": "ModuleNotFoundError",
     "evalue": "No module named 'say_hi'",
     "output_type": "error",
     "traceback": [
      "\u001b[1;31m---------------------------------------------------------------------------\u001b[0m",
      "\u001b[1;31mModuleNotFoundError\u001b[0m                       Traceback (most recent call last)",
      "\u001b[1;32m<ipython-input-6-fa0ff0e016ab>\u001b[0m in \u001b[0;36m<module>\u001b[1;34m\u001b[0m\n\u001b[1;32m----> 1\u001b[1;33m \u001b[1;32mimport\u001b[0m \u001b[0msay_hi\u001b[0m\u001b[1;33m\u001b[0m\u001b[1;33m\u001b[0m\u001b[0m\n\u001b[0m",
      "\u001b[1;31mModuleNotFoundError\u001b[0m: No module named 'say_hi'"
     ]
    }
   ],
   "source": [
    "import say_hi"
   ]
  },
  {
   "cell_type": "code",
   "execution_count": null,
   "id": "c66bcfa4",
   "metadata": {},
   "outputs": [],
   "source": []
  }
 ],
 "metadata": {
  "kernelspec": {
   "display_name": "Python 3",
   "language": "python",
   "name": "python3"
  },
  "language_info": {
   "codemirror_mode": {
    "name": "ipython",
    "version": 3
   },
   "file_extension": ".py",
   "mimetype": "text/x-python",
   "name": "python",
   "nbconvert_exporter": "python",
   "pygments_lexer": "ipython3",
   "version": "3.8.8"
  }
 },
 "nbformat": 4,
 "nbformat_minor": 5
}
