{
 "cells": [
  {
   "cell_type": "code",
   "execution_count": 1,
   "id": "0ac15816",
   "metadata": {},
   "outputs": [
    {
     "name": "stdout",
     "output_type": "stream",
     "text": [
      "Fri Jan  7 23:55:13 2022\n",
      "18000\n"
     ]
    }
   ],
   "source": [
    "import time\n",
    "print(time.asctime())\n",
    "print(time.timezone)"
   ]
  },
  {
   "cell_type": "code",
   "execution_count": 2,
   "id": "bd6136a1",
   "metadata": {},
   "outputs": [
    {
     "name": "stdout",
     "output_type": "stream",
     "text": [
      "Fri Jan  7 23:55:57 2022\n"
     ]
    }
   ],
   "source": [
    "from time import asctime\n",
    "print(asctime())"
   ]
  },
  {
   "cell_type": "code",
   "execution_count": 3,
   "id": "e89fda56",
   "metadata": {},
   "outputs": [
    {
     "name": "stdout",
     "output_type": "stream",
     "text": [
      "Fri Jan  7 23:56:37 2022\n",
      "Fri Jan  7 23:56:40 2022\n"
     ]
    }
   ],
   "source": [
    "from time import asctime, sleep\n",
    "print(asctime())\n",
    "sleep(3)\n",
    "print(asctime())"
   ]
  },
  {
   "cell_type": "code",
   "execution_count": 4,
   "id": "125a15e1",
   "metadata": {},
   "outputs": [
    {
     "name": "stdout",
     "output_type": "stream",
     "text": [
      "18000\n",
      "Fri Jan  7 23:57:26 2022\n",
      "Fri Jan  7 23:57:29 2022\n"
     ]
    }
   ],
   "source": [
    "from time import *\n",
    "print(timezone)\n",
    "print(asctime())\n",
    "sleep(3)\n",
    "print(asctime())\n"
   ]
  },
  {
   "cell_type": "code",
   "execution_count": 5,
   "id": "7906c076",
   "metadata": {},
   "outputs": [
    {
     "name": "stdout",
     "output_type": "stream",
     "text": [
      "C:\\Users\\graph\\Python - Udemy\n",
      "C:\\Users\\graph\\anaconda3\\python38.zip\n",
      "C:\\Users\\graph\\anaconda3\\DLLs\n",
      "C:\\Users\\graph\\anaconda3\\lib\n",
      "C:\\Users\\graph\\anaconda3\n",
      "\n",
      "C:\\Users\\graph\\anaconda3\\lib\\site-packages\n",
      "C:\\Users\\graph\\anaconda3\\lib\\site-packages\\locket-0.2.1-py3.8.egg\n",
      "C:\\Users\\graph\\anaconda3\\lib\\site-packages\\win32\n",
      "C:\\Users\\graph\\anaconda3\\lib\\site-packages\\win32\\lib\n",
      "C:\\Users\\graph\\anaconda3\\lib\\site-packages\\Pythonwin\n",
      "C:\\Users\\graph\\anaconda3\\lib\\site-packages\\IPython\\extensions\n",
      "C:\\Users\\graph\\.ipython\n",
      "/Users/jason/python\n"
     ]
    }
   ],
   "source": [
    "import sys\n",
    "sys.path.append('/Users/jason/python')\n",
    "for path in sys.path:\n",
    "    print(path)"
   ]
  },
  {
   "cell_type": "code",
   "execution_count": null,
   "id": "4ce4b585",
   "metadata": {},
   "outputs": [],
   "source": []
  }
 ],
 "metadata": {
  "kernelspec": {
   "display_name": "Python 3",
   "language": "python",
   "name": "python3"
  },
  "language_info": {
   "codemirror_mode": {
    "name": "ipython",
    "version": 3
   },
   "file_extension": ".py",
   "mimetype": "text/x-python",
   "name": "python",
   "nbconvert_exporter": "python",
   "pygments_lexer": "ipython3",
   "version": "3.8.8"
  }
 },
 "nbformat": 4,
 "nbformat_minor": 5
}
