{
 "cells": [
  {
   "cell_type": "code",
   "execution_count": 1,
   "id": "7b36aab4",
   "metadata": {},
   "outputs": [
    {
     "name": "stdout",
     "output_type": "stream",
     "text": [
      "What year were you born? 1979\n",
      "<class 'str'>\n",
      "Your age is: 42\n"
     ]
    }
   ],
   "source": [
    "birth_year = input(\"What year were you born? \")\n",
    "print(type((birth_year)))\n",
    "age = 2021 - int(birth_year)\n",
    "\n",
    "print(f'Your age is: {age}' )\n",
    "\n",
    "#You may always have to convert data types to:\n",
    "\n",
    "#bool\n",
    "#int\n",
    "#float\n",
    "#complex\n",
    "#str\n",
    "#list\n",
    "#tuple\n",
    "#set\n",
    "#dictionary"
   ]
  },
  {
   "cell_type": "code",
   "execution_count": null,
   "id": "223a760c",
   "metadata": {},
   "outputs": [],
   "source": []
  }
 ],
 "metadata": {
  "kernelspec": {
   "display_name": "Python 3",
   "language": "python",
   "name": "python3"
  },
  "language_info": {
   "codemirror_mode": {
    "name": "ipython",
    "version": 3
   },
   "file_extension": ".py",
   "mimetype": "text/x-python",
   "name": "python",
   "nbconvert_exporter": "python",
   "pygments_lexer": "ipython3",
   "version": "3.8.8"
  }
 },
 "nbformat": 4,
 "nbformat_minor": 5
}
