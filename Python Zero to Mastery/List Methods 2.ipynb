{
 "cells": [
  {
   "cell_type": "code",
   "execution_count": 1,
   "id": "3229d2fe",
   "metadata": {},
   "outputs": [
    {
     "name": "stdout",
     "output_type": "stream",
     "text": [
      "1\n",
      "False\n",
      "True\n",
      "False\n",
      "3\n",
      "-----\n",
      "3\n"
     ]
    }
   ],
   "source": [
    "basket = [1, 2, 3, 4, 5, 5, 5]\n",
    "\n",
    "print(basket.index(2))\n",
    "print('d' in basket)\n",
    "print(2 in basket)\n",
    "print('2' in basket)\n",
    "print(basket.count(5))\n",
    "print(\"-----\")\n",
    "\n",
    "biscuit = ['a', 'b', 'c', 'd', 'e']\n",
    "\n",
    "print(biscuit.index('d'))"
   ]
  },
  {
   "cell_type": "code",
   "execution_count": null,
   "id": "35a69348",
   "metadata": {},
   "outputs": [],
   "source": []
  }
 ],
 "metadata": {
  "kernelspec": {
   "display_name": "Python 3",
   "language": "python",
   "name": "python3"
  },
  "language_info": {
   "codemirror_mode": {
    "name": "ipython",
    "version": 3
   },
   "file_extension": ".py",
   "mimetype": "text/x-python",
   "name": "python",
   "nbconvert_exporter": "python",
   "pygments_lexer": "ipython3",
   "version": "3.8.8"
  }
 },
 "nbformat": 4,
 "nbformat_minor": 5
}
