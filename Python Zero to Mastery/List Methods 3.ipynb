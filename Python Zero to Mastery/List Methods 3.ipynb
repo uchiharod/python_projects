{
 "cells": [
  {
   "cell_type": "code",
   "execution_count": 2,
   "id": "2fbd7239",
   "metadata": {},
   "outputs": [
    {
     "name": "stdout",
     "output_type": "stream",
     "text": [
      "['a', 'b', 'c', 'd', 'e', 'x']\n",
      "['a', 'x', 'b', 'c', 'e', 'd']\n",
      "['d', 'e', 'c', 'b', 'x', 'a']\n",
      "['x', 'e', 'd', 'c', 'b', 'a']\n"
     ]
    }
   ],
   "source": [
    "biscuit = ['a', 'x', 'b', 'c', 'e', 'd']\n",
    "\n",
    "# print(biscuit.sort())\n",
    "print(sorted(biscuit)) # creates a new copy of the biscuit and sorts it\n",
    "print(biscuit)\n",
    "\n",
    "basket = ['a', 'x', 'b', 'c', 'e', 'd']\n",
    "basket.reverse() #This switches the indexes, not sorts it. You sort first THEN reverse it\n",
    "print(basket)\n",
    "\n",
    "basket2 = ['a', 'x', 'b', 'c', 'e', 'd']\n",
    "basket2.sort()\n",
    "basket2.reverse() #This switches the indexes, not sorts it. You sort first THEN reverse it\n",
    "print(basket2)\n"
   ]
  },
  {
   "cell_type": "code",
   "execution_count": 3,
   "id": "093ea555",
   "metadata": {},
   "outputs": [
    {
     "ename": "TypeError",
     "evalue": "unsupported operand type(s) for +: 'NoneType' and 'list'",
     "output_type": "error",
     "traceback": [
      "\u001b[1;31m---------------------------------------------------------------------------\u001b[0m",
      "\u001b[1;31mTypeError\u001b[0m                                 Traceback (most recent call last)",
      "\u001b[1;32m<ipython-input-3-e9e5ec6efeff>\u001b[0m in \u001b[0;36m<module>\u001b[1;34m\u001b[0m\n\u001b[0;32m      3\u001b[0m \u001b[0mnew_friend\u001b[0m \u001b[1;33m=\u001b[0m \u001b[1;33m[\u001b[0m\u001b[1;34m'Stanley'\u001b[0m\u001b[1;33m]\u001b[0m\u001b[1;33m\u001b[0m\u001b[1;33m\u001b[0m\u001b[0m\n\u001b[0;32m      4\u001b[0m \u001b[1;33m\u001b[0m\u001b[0m\n\u001b[1;32m----> 5\u001b[1;33m \u001b[0mprint\u001b[0m\u001b[1;33m(\u001b[0m\u001b[0mfriends\u001b[0m\u001b[1;33m.\u001b[0m\u001b[0msort\u001b[0m\u001b[1;33m(\u001b[0m\u001b[1;33m)\u001b[0m \u001b[1;33m+\u001b[0m \u001b[0mnew_friend\u001b[0m\u001b[1;33m)\u001b[0m\u001b[1;33m\u001b[0m\u001b[1;33m\u001b[0m\u001b[0m\n\u001b[0m",
      "\u001b[1;31mTypeError\u001b[0m: unsupported operand type(s) for +: 'NoneType' and 'list'"
     ]
    }
   ],
   "source": [
    "friends = ['Simon', 'Patty', 'Joy', 'Carrie', 'Amira', 'Chu']\n",
    "\n",
    "new_friend = ['Stanley']\n",
    "\n",
    "print(friends.sort() + new_friend)"
   ]
  },
  {
   "cell_type": "code",
   "execution_count": null,
   "id": "f8e7c401",
   "metadata": {},
   "outputs": [],
   "source": []
  }
 ],
 "metadata": {
  "kernelspec": {
   "display_name": "Python 3",
   "language": "python",
   "name": "python3"
  },
  "language_info": {
   "codemirror_mode": {
    "name": "ipython",
    "version": 3
   },
   "file_extension": ".py",
   "mimetype": "text/x-python",
   "name": "python",
   "nbconvert_exporter": "python",
   "pygments_lexer": "ipython3",
   "version": "3.8.8"
  }
 },
 "nbformat": 4,
 "nbformat_minor": 5
}
