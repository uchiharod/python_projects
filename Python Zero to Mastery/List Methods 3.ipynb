{
 "cells": [
  {
   "cell_type": "code",
   "execution_count": 1,
   "id": "2fbd7239",
   "metadata": {},
   "outputs": [
    {
     "name": "stdout",
     "output_type": "stream",
     "text": [
      "['a', 'b', 'c', 'd', 'e', 'x']\n",
      "['a', 'x', 'b', 'c', 'e', 'd']\n",
      "['d', 'e', 'c', 'b', 'x', 'a']\n",
      "['x', 'e', 'd', 'c', 'b', 'a']\n"
     ]
    }
   ],
   "source": [
    "biscuit = ['a', 'x', 'b', 'c', 'e', 'd']\n",
    "\n",
    "# print(biscuit.sort())\n",
    "print(sorted(biscuit)) # creates a new copy of the biscuit and sorts it\n",
    "print(biscuit)\n",
    "\n",
    "basket = ['a', 'x', 'b', 'c', 'e', 'd']\n",
    "basket.reverse() #This switches the indexes, not sorts it. You sort first THEN reverse it\n",
    "print(basket)\n",
    "\n",
    "basket2 = ['a', 'x', 'b', 'c', 'e', 'd']\n",
    "basket2.sort()\n",
    "basket2.reverse() #This switches the indexes, not sorts it. You sort first THEN reverse it\n",
    "print(basket2)\n"
   ]
  },
  {
   "cell_type": "code",
   "execution_count": null,
   "id": "093ea555",
   "metadata": {},
   "outputs": [],
   "source": []
  }
 ],
 "metadata": {
  "kernelspec": {
   "display_name": "Python 3",
   "language": "python",
   "name": "python3"
  },
  "language_info": {
   "codemirror_mode": {
    "name": "ipython",
    "version": 3
   },
   "file_extension": ".py",
   "mimetype": "text/x-python",
   "name": "python",
   "nbconvert_exporter": "python",
   "pygments_lexer": "ipython3",
   "version": "3.8.8"
  }
 },
 "nbformat": 4,
 "nbformat_minor": 5
}
