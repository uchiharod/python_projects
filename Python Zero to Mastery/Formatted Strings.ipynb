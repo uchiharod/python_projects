{
 "cells": [
  {
   "cell_type": "code",
   "execution_count": 1,
   "id": "c20522aa",
   "metadata": {},
   "outputs": [
    {
     "name": "stdout",
     "output_type": "stream",
     "text": [
      "Hello Roddy. You are older than a mofo, but you still are so damned luxurious lookin'. You are now 42 years old.\n",
      "\n",
      "\n",
      "Hello Roddy. You are older than a mofo, but you still are so damned luxurious lookin'. You are now 42 years old.\n",
      "\n",
      "\n",
      "Hello Roddy. You are older than a mofo, but you still are so damned luxurious lookin'. You are now 42 years old.\n",
      "\n",
      "\n",
      "Hello 42. You are older than a mofo, but you still are so damned luxurious lookin'. You are now Roddy years old.\n"
     ]
    }
   ],
   "source": [
    "name = 'Roddy'\n",
    "age = 42\n",
    "\n",
    "print('Hello ' + name + '. You are older than a mofo, but you still are so damned luxurious lookin\\'. You are now ' + str(age) + ' years old.')\n",
    "\n",
    "print(\"\\n\")\n",
    "# There is a better way to do the above\n",
    "\n",
    "print(f'Hello {name}. You are older than a mofo, but you still are so damned luxurious lookin\\'. You are now {age} years old.')\n",
    "\n",
    "print(\"\\n\")\n",
    "\n",
    "print('Hello {}. You are older than a mofo, but you still are so damned luxurious lookin\\'. You are now {} years old.'.format(name, age))\n",
    "\n",
    "print(\"\\n\")\n",
    "\n",
    "print('Hello {1}. You are older than a mofo, but you still are so damned luxurious lookin\\'. You are now {0} years old.'.format(name, age))"
   ]
  },
  {
   "cell_type": "code",
   "execution_count": null,
   "id": "e1623bed",
   "metadata": {},
   "outputs": [],
   "source": []
  }
 ],
 "metadata": {
  "kernelspec": {
   "display_name": "Python 3",
   "language": "python",
   "name": "python3"
  },
  "language_info": {
   "codemirror_mode": {
    "name": "ipython",
    "version": 3
   },
   "file_extension": ".py",
   "mimetype": "text/x-python",
   "name": "python",
   "nbconvert_exporter": "python",
   "pygments_lexer": "ipython3",
   "version": "3.8.8"
  }
 },
 "nbformat": 4,
 "nbformat_minor": 5
}
