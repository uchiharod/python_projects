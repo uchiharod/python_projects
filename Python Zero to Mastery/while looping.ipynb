{
 "cells": [
  {
   "cell_type": "code",
   "execution_count": 1,
   "id": "9f84396f",
   "metadata": {},
   "outputs": [
    {
     "name": "stdout",
     "output_type": "stream",
     "text": [
      "0\n",
      "1\n",
      "2\n",
      "3\n",
      "4\n",
      "5\n",
      "6\n",
      "7\n",
      "8\n",
      "9\n",
      "10\n",
      "11\n",
      "12\n",
      "13\n",
      "14\n",
      "15\n",
      "16\n",
      "17\n",
      "18\n",
      "19\n",
      "20\n",
      "21\n",
      "22\n",
      "23\n",
      "24\n",
      "25\n",
      "26\n",
      "27\n",
      "28\n",
      "29\n",
      "30\n",
      "31\n",
      "32\n",
      "33\n",
      "34\n",
      "35\n",
      "36\n",
      "37\n",
      "38\n",
      "39\n",
      "40\n",
      "41\n",
      "42\n",
      "43\n",
      "44\n",
      "45\n",
      "46\n",
      "47\n",
      "48\n",
      "49\n",
      "done with all this work\n"
     ]
    }
   ],
   "source": [
    "i = 0 \n",
    "while i < 50:\n",
    "    print(i)\n",
    "    i += 1\n",
    "else: \n",
    "    print('done with all this work')"
   ]
  },
  {
   "cell_type": "code",
   "execution_count": 2,
   "id": "92d2ab45",
   "metadata": {},
   "outputs": [
    {
     "name": "stdout",
     "output_type": "stream",
     "text": [
      "0\n"
     ]
    }
   ],
   "source": [
    "i = 0 \n",
    "while i < 50:\n",
    "    print(i)\n",
    "    i += 1\n",
    "    break\n",
    "else: \n",
    "    print('done with all this work')"
   ]
  },
  {
   "cell_type": "code",
   "execution_count": 3,
   "id": "1a059c8a",
   "metadata": {},
   "outputs": [
    {
     "name": "stdout",
     "output_type": "stream",
     "text": [
      "say something: hey\n",
      "say something: what\n",
      "say something: yeah\n",
      "say something: by\n",
      "say something: bye\n"
     ]
    }
   ],
   "source": [
    "while True:\n",
    "    response = input(\"say something: \")\n",
    "    if (response == 'bye'):\n",
    "        break"
   ]
  },
  {
   "cell_type": "code",
   "execution_count": 4,
   "id": "eb80b5ff",
   "metadata": {},
   "outputs": [
    {
     "name": "stdout",
     "output_type": "stream",
     "text": [
      "['b', 'n']\n"
     ]
    }
   ],
   "source": [
    "some_list = ['a', 'b', 'c', 'b', 'd', 'm', 'n', 'n']\n",
    "\n",
    "duplicates = []\n",
    "for value in some_list:\n",
    "    if some_list.count(value) > 1:\n",
    "        if value not in duplicates:\n",
    "            duplicates.append(value)\n",
    "\n",
    "print(duplicates)"
   ]
  },
  {
   "cell_type": "code",
   "execution_count": null,
   "id": "fbc78900",
   "metadata": {},
   "outputs": [],
   "source": []
  }
 ],
 "metadata": {
  "kernelspec": {
   "display_name": "Python 3",
   "language": "python",
   "name": "python3"
  },
  "language_info": {
   "codemirror_mode": {
    "name": "ipython",
    "version": 3
   },
   "file_extension": ".py",
   "mimetype": "text/x-python",
   "name": "python",
   "nbconvert_exporter": "python",
   "pygments_lexer": "ipython3",
   "version": "3.8.8"
  }
 },
 "nbformat": 4,
 "nbformat_minor": 5
}
