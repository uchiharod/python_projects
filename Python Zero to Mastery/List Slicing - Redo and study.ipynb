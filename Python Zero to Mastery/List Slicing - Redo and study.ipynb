{
 "cells": [
  {
   "cell_type": "code",
   "execution_count": null,
   "id": "579fd607",
   "metadata": {},
   "outputs": [],
   "source": [
    "**#List slicing\n",
    "\n",
    "amazon_cart = [\n",
    "'notebooks',\n",
    "'glasses',\n",
    "'sunglasses',\n",
    "'sunscreen',\n",
    "'boba tea',\n",
    "]\n",
    "\n",
    "print(amazon_cart[0::2])\n",
    "\n",
    "#Remember lists are mutable, but the strings inside them are not\n",
    "\n",
    "amazon_cart[0] = 'laptop'\n",
    "new_cart = amazon_cart[0:3]\n",
    "new_cart[0] ='gum'\n",
    "print(new_cart)\n",
    "print(amazon_cart)"
   ]
  }
 ],
 "metadata": {
  "kernelspec": {
   "display_name": "Python 3",
   "language": "python",
   "name": "python3"
  },
  "language_info": {
   "codemirror_mode": {
    "name": "ipython",
    "version": 3
   },
   "file_extension": ".py",
   "mimetype": "text/x-python",
   "name": "python",
   "nbconvert_exporter": "python",
   "pygments_lexer": "ipython3",
   "version": "3.8.8"
  }
 },
 "nbformat": 4,
 "nbformat_minor": 5
}
