{
 "cells": [
  {
   "cell_type": "code",
   "execution_count": 1,
   "id": "191ecd29",
   "metadata": {},
   "outputs": [
    {
     "name": "stdout",
     "output_type": "stream",
     "text": [
      "3\n"
     ]
    }
   ],
   "source": [
    "#Fundamental Data Types\n",
    "# print(2 + 4)\n",
    "# print(2 - 4)\n",
    "# print(2 * 4)\n",
    "# print(2 / 4)\n",
    "\n",
    "#What's the data type\n",
    "# print(type(2 + 4))\n",
    "# print(type(2 - 4))\n",
    "# print(type(2 * 4))\n",
    "# print(type(2 / 4))\n",
    "\n",
    "# print(2 ** 3)\n",
    "# print(5 // 4)\n",
    "# print(6 % 4)\n",
    "\n",
    "#math functions\n",
    "print(round(3.1))\n"
   ]
  },
  {
   "cell_type": "code",
   "execution_count": null,
   "id": "ab6c9f62",
   "metadata": {},
   "outputs": [],
   "source": []
  }
 ],
 "metadata": {
  "kernelspec": {
   "display_name": "Python 3",
   "language": "python",
   "name": "python3"
  },
  "language_info": {
   "codemirror_mode": {
    "name": "ipython",
    "version": 3
   },
   "file_extension": ".py",
   "mimetype": "text/x-python",
   "name": "python",
   "nbconvert_exporter": "python",
   "pygments_lexer": "ipython3",
   "version": "3.8.8"
  }
 },
 "nbformat": 4,
 "nbformat_minor": 5
}
