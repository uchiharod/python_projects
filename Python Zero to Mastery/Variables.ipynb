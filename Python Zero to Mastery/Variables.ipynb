{
 "cells": [
  {
   "cell_type": "code",
   "execution_count": null,
   "id": "523abec1",
   "metadata": {},
   "outputs": [],
   "source": [
    "iq = 190\n",
    "\n",
    "print(iq)\n",
    "\n",
    "#Also known as binding. When you created variables, it means binding.\n",
    "\n",
    "user_age = iq/4\n",
    "print(user_age)\n",
    "\n",
    "#constants - SHould never be changed\n",
    "PI = 3.14\n",
    "\n",
    "# Quick shorthand way to code:\n",
    "a,b,c = 1,2,3\n",
    "print(a)\n",
    "print(b)\n",
    "print(c)"
   ]
  }
 ],
 "metadata": {
  "kernelspec": {
   "display_name": "Python 3",
   "language": "python",
   "name": "python3"
  },
  "language_info": {
   "codemirror_mode": {
    "name": "ipython",
    "version": 3
   },
   "file_extension": ".py",
   "mimetype": "text/x-python",
   "name": "python",
   "nbconvert_exporter": "python",
   "pygments_lexer": "ipython3",
   "version": "3.8.8"
  }
 },
 "nbformat": 4,
 "nbformat_minor": 5
}
