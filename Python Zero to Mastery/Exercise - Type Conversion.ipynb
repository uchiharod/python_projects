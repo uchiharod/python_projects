{
 "cells": [
  {
   "cell_type": "code",
   "execution_count": 4,
   "id": "cbab1e3e",
   "metadata": {},
   "outputs": [
    {
     "name": "stdout",
     "output_type": "stream",
     "text": [
      "What year were you born? 1979\n",
      "Your age is 44.\n"
     ]
    }
   ],
   "source": [
    "birth_year = input(\"What year were you born? \")\n",
    "year_now = 2023\n",
    "\n",
    "your_age = year_now - int(birth_year)\n",
    "\n",
    "print(\"Your age is \" + str(your_age) + \".\")"
   ]
  },
  {
   "cell_type": "code",
   "execution_count": null,
   "id": "b7bdef9f",
   "metadata": {},
   "outputs": [],
   "source": []
  }
 ],
 "metadata": {
  "kernelspec": {
   "display_name": "Python 3",
   "language": "python",
   "name": "python3"
  },
  "language_info": {
   "codemirror_mode": {
    "name": "ipython",
    "version": 3
   },
   "file_extension": ".py",
   "mimetype": "text/x-python",
   "name": "python",
   "nbconvert_exporter": "python",
   "pygments_lexer": "ipython3",
   "version": "3.8.8"
  }
 },
 "nbformat": 4,
 "nbformat_minor": 5
}
