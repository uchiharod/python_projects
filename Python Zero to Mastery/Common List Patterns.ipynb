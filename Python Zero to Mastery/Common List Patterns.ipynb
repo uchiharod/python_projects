{
 "cells": [
  {
   "cell_type": "markdown",
   "id": "319b73a3",
   "metadata": {},
   "source": [
    "# This is how you generate a list really quickly"
   ]
  },
  {
   "cell_type": "code",
   "execution_count": 2,
   "id": "d85ea7d3",
   "metadata": {},
   "outputs": [
    {
     "name": "stdout",
     "output_type": "stream",
     "text": [
      "['a', 'b', 'c', 'd', 'e', 'x']\n",
      "['x', 'e', 'd', 'c', 'b', 'a']\n"
     ]
    }
   ],
   "source": [
    "basket = ['a', 'x', 'b', 'c', 'e', 'd']\n",
    "\n",
    "basket.sort()\n",
    "basket.reverse()\n",
    "print(basket[::-1]) #This is a reverse of the list and make a new one\n",
    "print(basket)\n"
   ]
  },
  {
   "cell_type": "code",
   "execution_count": 3,
   "id": "644269b9",
   "metadata": {},
   "outputs": [
    {
     "name": "stdout",
     "output_type": "stream",
     "text": [
      "range(1, 100)\n"
     ]
    }
   ],
   "source": [
    "basket = ['a', 'x', 'b', 'c', 'e', 'd']\n",
    "\n",
    "basket.sort()\n",
    "basket.reverse()\n",
    "\n",
    "print(range(1,100))\n"
   ]
  },
  {
   "cell_type": "code",
   "execution_count": 4,
   "id": "bb1bfe6c",
   "metadata": {},
   "outputs": [
    {
     "name": "stdout",
     "output_type": "stream",
     "text": [
      "[1, 2, 3, 4, 5, 6, 7, 8, 9, 10, 11, 12, 13, 14, 15, 16, 17, 18, 19, 20, 21, 22, 23, 24, 25, 26, 27, 28, 29, 30, 31, 32, 33, 34, 35, 36, 37, 38, 39, 40, 41, 42, 43, 44, 45, 46, 47, 48, 49, 50, 51, 52, 53, 54, 55, 56, 57, 58, 59, 60, 61, 62, 63, 64, 65, 66, 67, 68, 69, 70, 71, 72, 73, 74, 75, 76, 77, 78, 79, 80, 81, 82, 83, 84, 85, 86, 87, 88, 89, 90, 91, 92, 93, 94, 95, 96, 97, 98, 99]\n"
     ]
    }
   ],
   "source": [
    "basket = ['a', 'x', 'b', 'c', 'e', 'd']\n",
    "\n",
    "basket.sort()\n",
    "basket.reverse()\n",
    "\n",
    "print(list(range(1,100)))"
   ]
  },
  {
   "cell_type": "code",
   "execution_count": 5,
   "id": "c6b11df9",
   "metadata": {},
   "outputs": [
    {
     "name": "stdout",
     "output_type": "stream",
     "text": [
      "[0, 1, 2, 3, 4, 5, 6, 7, 8, 9, 10, 11, 12, 13, 14, 15, 16, 17, 18, 19, 20, 21, 22, 23, 24, 25, 26, 27, 28, 29, 30, 31, 32, 33, 34, 35, 36, 37, 38, 39, 40, 41, 42, 43, 44, 45, 46, 47, 48, 49, 50, 51, 52, 53, 54, 55, 56, 57, 58, 59, 60, 61, 62, 63, 64, 65, 66, 67, 68, 69, 70, 71, 72, 73, 74, 75, 76, 77, 78, 79, 80, 81, 82, 83, 84, 85, 86, 87, 88, 89, 90, 91, 92, 93, 94, 95, 96, 97, 98, 99]\n"
     ]
    }
   ],
   "source": [
    "basket = ['a', 'x', 'b', 'c', 'e', 'd']\n",
    "\n",
    "basket.sort()\n",
    "basket.reverse()\n",
    "\n",
    "print(list(range(100)))"
   ]
  },
  {
   "cell_type": "code",
   "execution_count": 6,
   "id": "078c0eb4",
   "metadata": {},
   "outputs": [
    {
     "name": "stdout",
     "output_type": "stream",
     "text": [
      "[0, 1, 2, 3, 4, 5, 6, 7, 8, 9, 10, 11, 12, 13, 14, 15, 16, 17, 18, 19, 20, 21, 22, 23, 24, 25, 26, 27, 28, 29, 30, 31, 32, 33, 34, 35, 36, 37, 38, 39, 40, 41, 42, 43, 44, 45, 46, 47, 48, 49, 50, 51, 52, 53, 54, 55, 56, 57, 58, 59, 60, 61, 62, 63, 64, 65, 66, 67, 68, 69, 70, 71, 72, 73, 74, 75, 76, 77, 78, 79, 80, 81, 82, 83, 84, 85, 86, 87, 88, 89, 90, 91, 92, 93, 94, 95, 96, 97, 98, 99, 100]\n"
     ]
    }
   ],
   "source": [
    "basket = ['a', 'x', 'b', 'c', 'e', 'd']\n",
    "\n",
    "basket.sort()\n",
    "basket.reverse()\n",
    "\n",
    "print(list(range(101)))"
   ]
  },
  {
   "cell_type": "markdown",
   "id": "716fdc37",
   "metadata": {},
   "source": [
    "# Join Function"
   ]
  },
  {
   "cell_type": "code",
   "execution_count": null,
   "id": "c1629af2",
   "metadata": {},
   "outputs": [],
   "source": [
    "basket = ['a', 'x', 'b', 'c', 'e', 'd']\n",
    "\n",
    "basket.sort()\n",
    "basket.reverse()\n",
    "\n",
    "print(list(range(101)))"
   ]
  },
  {
   "cell_type": "code",
   "execution_count": 7,
   "id": "88486ba1",
   "metadata": {},
   "outputs": [
    {
     "name": "stdout",
     "output_type": "stream",
     "text": [
      "hi!my!name!is!Jody\n"
     ]
    }
   ],
   "source": [
    "basket = ['a', 'x', 'b', 'c', 'e', 'd']\n",
    "\n",
    "basket.sort()\n",
    "basket.reverse()\n",
    "\n",
    "sentence = '!'\n",
    "new_sentence = sentence.join(['hi', 'my', 'name', 'is', 'Jody'])\n",
    "\n",
    "print(new_sentence)"
   ]
  },
  {
   "cell_type": "code",
   "execution_count": 8,
   "id": "569686ce",
   "metadata": {},
   "outputs": [
    {
     "name": "stdout",
     "output_type": "stream",
     "text": [
      "himynameisJody\n"
     ]
    }
   ],
   "source": [
    "basket = ['a', 'x', 'b', 'c', 'e', 'd']\n",
    "\n",
    "basket.sort()\n",
    "basket.reverse()\n",
    "\n",
    "sentence = ''\n",
    "new_sentence = sentence.join(['hi', 'my', 'name', 'is', 'Jody'])\n",
    "\n",
    "print(new_sentence)"
   ]
  },
  {
   "cell_type": "code",
   "execution_count": 10,
   "id": "88dd5518",
   "metadata": {},
   "outputs": [
    {
     "name": "stdout",
     "output_type": "stream",
     "text": [
      "hi my name is Jody\n"
     ]
    }
   ],
   "source": [
    "basket = ['a', 'x', 'b', 'c', 'e', 'd']\n",
    "\n",
    "basket.sort()\n",
    "basket.reverse()\n",
    "\n",
    "sentence = ' '\n",
    "new_sentence = sentence.join(['hi', 'my', 'name', 'is', 'Jody'])\n",
    "\n",
    "print(new_sentence)"
   ]
  },
  {
   "cell_type": "code",
   "execution_count": 9,
   "id": "9f9906c7",
   "metadata": {},
   "outputs": [
    {
     "name": "stdout",
     "output_type": "stream",
     "text": [
      "hi my name is Jody\n"
     ]
    }
   ],
   "source": [
    "#Shorthand way of doing the above is this\n",
    "basket = ['a', 'x', 'b', 'c', 'e', 'd']\n",
    "\n",
    "basket.sort()\n",
    "basket.reverse()\n",
    "\n",
    "new_sentence = ' '.join(['hi', 'my', 'name', 'is', 'Jody'])\n",
    "\n",
    "print(new_sentence)"
   ]
  },
  {
   "cell_type": "code",
   "execution_count": null,
   "id": "8a8a5434",
   "metadata": {},
   "outputs": [],
   "source": []
  }
 ],
 "metadata": {
  "kernelspec": {
   "display_name": "Python 3",
   "language": "python",
   "name": "python3"
  },
  "language_info": {
   "codemirror_mode": {
    "name": "ipython",
    "version": 3
   },
   "file_extension": ".py",
   "mimetype": "text/x-python",
   "name": "python",
   "nbconvert_exporter": "python",
   "pygments_lexer": "ipython3",
   "version": "3.8.8"
  }
 },
 "nbformat": 4,
 "nbformat_minor": 5
}
