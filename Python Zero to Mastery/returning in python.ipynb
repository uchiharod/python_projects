{
 "cells": [
  {
   "cell_type": "code",
   "execution_count": null,
   "id": "cceea4b4",
   "metadata": {},
   "outputs": [],
   "source": [
    "def sum(num1, num2):\n",
    "    num1 + num2\n",
    "\n",
    "print(sum(4,5)) #Functions must always return something or else it will be \"NONE\""
   ]
  },
  {
   "cell_type": "code",
   "execution_count": null,
   "id": "8c237b54",
   "metadata": {},
   "outputs": [],
   "source": [
    "def sum(num1, num2):\n",
    "    return num1 + num2 #This means exit the function and I want you to return what this expression is\n",
    "\n",
    "print(sum(4,5)) #Functions must always return something or else it will be \"NONE\""
   ]
  },
  {
   "cell_type": "code",
   "execution_count": null,
   "id": "0c46e9fb",
   "metadata": {},
   "outputs": [],
   "source": [
    "def sum(num1, num2):\n",
    "    return num1 + num2 #This means exit the function and I want you to return what this expression is\n",
    "\n",
    "print(sum(10,5)) #Functions must always return something or else it will be \"NONE\""
   ]
  },
  {
   "cell_type": "markdown",
   "id": "8e2f0a88",
   "metadata": {},
   "source": [
    "Functions should do one thing really well\n",
    "Functions should always return something"
   ]
  },
  {
   "cell_type": "markdown",
   "id": "8a5e0583",
   "metadata": {},
   "source": [
    "Functions should always return something"
   ]
  },
  {
   "cell_type": "code",
   "execution_count": null,
   "id": "1ec042d3",
   "metadata": {},
   "outputs": [],
   "source": [
    "def sum(num1, num2):\n",
    "    return num1 + num2\n",
    "\n",
    "total = sum(10,5)\n",
    "\n",
    "print(sum(4,5)) #Functions must always return something or else it will be \"NONE\""
   ]
  },
  {
   "cell_type": "code",
   "execution_count": null,
   "id": "aed4857b",
   "metadata": {},
   "outputs": [],
   "source": [
    "def sum(num1, num2):\n",
    "    return num1 + num2\n",
    "\n",
    "total = sum(10,5)\n",
    "\n",
    "print(total) #Functions must always return something or else it will be \"NONE\""
   ]
  },
  {
   "cell_type": "code",
   "execution_count": null,
   "id": "4372186c",
   "metadata": {},
   "outputs": [],
   "source": [
    "def sum(num1, num2):\n",
    "    def another_func(n1, n2):\n",
    "        return n1 + n2\n",
    "    return another_func(num1, num2)\n",
    "\n",
    "total = sum(10, 20)\n",
    "print(total)"
   ]
  },
  {
   "cell_type": "markdown",
   "id": "02c1ffdf",
   "metadata": {},
   "source": [
    "# Exercise Time!!!"
   ]
  },
  {
   "cell_type": "code",
   "execution_count": 14,
   "id": "97060864",
   "metadata": {},
   "outputs": [],
   "source": [
    "def checkDriverAge():\n",
    "    age = input(\"What is your age?: \")\n",
    "    if int(age) < 18:\n",
    "        print(\"Sorry, you are too young to drive this car. Powering off\")\n",
    "    elif int(age) > 18:\n",
    "        print(\"Powering On. Enjoy the ride!\")\n",
    "    elif int(age) == 18:\n",
    "        print(\"Congratulations on your first year of driving. Enjoy the ride!\")"
   ]
  },
  {
   "cell_type": "code",
   "execution_count": 16,
   "id": "e6729b0d",
   "metadata": {},
   "outputs": [
    {
     "name": "stdout",
     "output_type": "stream",
     "text": [
      "What is your age?: 30\n",
      "Powering On. Enjoy the ride!\n"
     ]
    }
   ],
   "source": [
    "checkDriverAge()"
   ]
  },
  {
   "cell_type": "code",
   "execution_count": 18,
   "id": "20948fb1",
   "metadata": {},
   "outputs": [],
   "source": [
    "def checkDriverAge(age):\n",
    "    if int(age) < 18:\n",
    "        print(\"Sorry, you are too young to drive this car. Powering off\")\n",
    "    elif int(age) > 18:\n",
    "        print(\"Powering On. Enjoy the ride!\")\n",
    "    elif int(age) == 18:\n",
    "        print(\"Congratulations on your first year of driving. Enjoy the ride!\")\n",
    "        return age"
   ]
  },
  {
   "cell_type": "code",
   "execution_count": 19,
   "id": "0efc9802",
   "metadata": {},
   "outputs": [
    {
     "name": "stdout",
     "output_type": "stream",
     "text": [
      "Powering On. Enjoy the ride!\n"
     ]
    }
   ],
   "source": [
    "checkDriverAge(92)"
   ]
  },
  {
   "cell_type": "code",
   "execution_count": null,
   "id": "694bbbe1",
   "metadata": {},
   "outputs": [],
   "source": []
  }
 ],
 "metadata": {
  "kernelspec": {
   "display_name": "Python 3",
   "language": "python",
   "name": "python3"
  },
  "language_info": {
   "codemirror_mode": {
    "name": "ipython",
    "version": 3
   },
   "file_extension": ".py",
   "mimetype": "text/x-python",
   "name": "python",
   "nbconvert_exporter": "python",
   "pygments_lexer": "ipython3",
   "version": "3.8.8"
  }
 },
 "nbformat": 4,
 "nbformat_minor": 5
}
