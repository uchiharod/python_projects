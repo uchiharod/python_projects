{
 "cells": [
  {
   "cell_type": "code",
   "execution_count": 6,
   "id": "fd7fee85",
   "metadata": {},
   "outputs": [
    {
     "name": "stdout",
     "output_type": "stream",
     "text": [
      "Requirement already satisfied: selenium in c:\\users\\graph\\anaconda3\\lib\\site-packages (4.11.2)Note: you may need to restart the kernel to use updated packages.\n",
      "\n",
      "Requirement already satisfied: trio-websocket~=0.9 in c:\\users\\graph\\anaconda3\\lib\\site-packages (from selenium) (0.10.3)\n",
      "Requirement already satisfied: urllib3[socks]<3,>=1.26 in c:\\users\\graph\\anaconda3\\lib\\site-packages (from selenium) (1.26.4)\n",
      "Requirement already satisfied: trio~=0.17 in c:\\users\\graph\\anaconda3\\lib\\site-packages (from selenium) (0.22.2)\n",
      "Requirement already satisfied: certifi>=2021.10.8 in c:\\users\\graph\\anaconda3\\lib\\site-packages (from selenium) (2023.7.22)\n",
      "Requirement already satisfied: exceptiongroup>=1.0.0rc9 in c:\\users\\graph\\anaconda3\\lib\\site-packages (from trio~=0.17->selenium) (1.1.2)\n",
      "Requirement already satisfied: idna in c:\\users\\graph\\anaconda3\\lib\\site-packages (from trio~=0.17->selenium) (2.10)\n",
      "Requirement already satisfied: attrs>=20.1.0 in c:\\users\\graph\\anaconda3\\lib\\site-packages (from trio~=0.17->selenium) (20.3.0)\n",
      "Requirement already satisfied: cffi>=1.14 in c:\\users\\graph\\anaconda3\\lib\\site-packages (from trio~=0.17->selenium) (1.14.5)\n",
      "Requirement already satisfied: sortedcontainers in c:\\users\\graph\\anaconda3\\lib\\site-packages (from trio~=0.17->selenium) (2.3.0)\n",
      "Requirement already satisfied: sniffio in c:\\users\\graph\\anaconda3\\lib\\site-packages (from trio~=0.17->selenium) (1.2.0)\n",
      "Requirement already satisfied: outcome in c:\\users\\graph\\anaconda3\\lib\\site-packages (from trio~=0.17->selenium) (1.2.0)\n",
      "Requirement already satisfied: pycparser in c:\\users\\graph\\anaconda3\\lib\\site-packages (from cffi>=1.14->trio~=0.17->selenium) (2.20)\n",
      "Requirement already satisfied: wsproto>=0.14 in c:\\users\\graph\\anaconda3\\lib\\site-packages (from trio-websocket~=0.9->selenium) (1.2.0)\n",
      "Requirement already satisfied: PySocks!=1.5.7,<2.0,>=1.5.6 in c:\\users\\graph\\anaconda3\\lib\\site-packages (from urllib3[socks]<3,>=1.26->selenium) (1.7.1)\n",
      "Requirement already satisfied: h11<1,>=0.9.0 in c:\\users\\graph\\anaconda3\\lib\\site-packages (from wsproto>=0.14->trio-websocket~=0.9->selenium) (0.14.0)\n"
     ]
    }
   ],
   "source": [
    "pip install selenium"
   ]
  },
  {
   "cell_type": "code",
   "execution_count": 7,
   "id": "d0566374",
   "metadata": {},
   "outputs": [],
   "source": [
    "import selenium"
   ]
  },
  {
   "cell_type": "code",
   "execution_count": 67,
   "id": "5296c34d",
   "metadata": {},
   "outputs": [
    {
     "name": "stdout",
     "output_type": "stream",
     "text": [
      "<selenium.webdriver.remote.webelement.WebElement (session=\"5545fe2149d36c255ebb7622208eec75\", element=\"65EFC024DD2D0CB26E921984AE20C3F5_element_6\")>\n"
     ]
    }
   ],
   "source": [
    "from selenium import webdriver\n",
    "from selenium.webdriver.common.by import By\n",
    "\n",
    "chrome_browser = webdriver.Chrome()\n",
    "\n",
    "chrome_browser.maximize_window()\n",
    "#chrome_browser.get('https://www.saucedemo.com/?ref=hackernoon.com')\n",
    "chrome_browser.get('https://magento.softwaretestingboard.com/?ref=hackernoon.com')\n",
    "\n",
    "#print('Swag Labs 2' in chrome_browser.title)\n",
    "element = chrome_browser.find_element(\"id\",\"search\")\n",
    "#element = chrome_browser.find_element(By.CLASS_NAME, \"form_input\")\n",
    "\n",
    "print(element)\n",
    "\n",
    "#print(element)"
   ]
  },
  {
   "cell_type": "code",
   "execution_count": 71,
   "id": "697784cf",
   "metadata": {},
   "outputs": [],
   "source": [
    "from selenium import webdriver\n",
    "from selenium.webdriver.common.by import By\n",
    "\n",
    "chrome_browser = webdriver.Chrome()\n",
    "\n",
    "chrome_browser.maximize_window()\n",
    "chrome_browser.get('https://www.saucedemo.com/?ref=hackernoon.com')\n",
    "\n",
    "# Locate the input fields\n",
    "input_field1 = chrome_browser.find_element(By.ID, \"user-name\")\n",
    "input_field2 = chrome_browser.find_element(By.NAME, \"password\")\n",
    "\n",
    "input_field1.send_keys(\"standard_user\")\n",
    "input_field2.send_keys(\"secret_sauce\")\n",
    "\n",
    "login_button = chrome_browser.find_element(By.ID, \"login-button\")\n",
    "login_button.click()"
   ]
  },
  {
   "cell_type": "code",
   "execution_count": null,
   "id": "cb89fdaa",
   "metadata": {},
   "outputs": [],
   "source": [
    "69247143"
   ]
  }
 ],
 "metadata": {
  "kernelspec": {
   "display_name": "Python 3",
   "language": "python",
   "name": "python3"
  },
  "language_info": {
   "codemirror_mode": {
    "name": "ipython",
    "version": 3
   },
   "file_extension": ".py",
   "mimetype": "text/x-python",
   "name": "python",
   "nbconvert_exporter": "python",
   "pygments_lexer": "ipython3",
   "version": "3.8.8"
  }
 },
 "nbformat": 4,
 "nbformat_minor": 5
}
