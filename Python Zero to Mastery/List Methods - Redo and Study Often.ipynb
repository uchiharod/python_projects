{
 "cells": [
  {
   "cell_type": "code",
   "execution_count": 1,
   "id": "574cf378",
   "metadata": {},
   "outputs": [
    {
     "name": "stdout",
     "output_type": "stream",
     "text": [
      "[1, 2, 3, 4, 5, 100]\n",
      "[1, 2, 3, 4, 5, 100]\n",
      "---------------------------\n",
      "[1, 2, 3, 4, 5, 100, 100]\n",
      "None\n",
      "---------------------------\n",
      "[1, 2, 3, 4, 5, 100, 100, 101]\n",
      "None\n",
      "---------------------------\n",
      "[1, 2, 3, 4, 5, 100, 100, 101]\n",
      "None\n"
     ]
    }
   ],
   "source": [
    "# basket = [1,2,3,4,5]\n",
    "\n",
    "# #adding\n",
    "# new_list = basket.append(100)\n",
    "# print(basket)\n",
    "# print(new_list)\n",
    "\n",
    "#Remember that append changes the list in place. so to make the above run, you have to do this:\n",
    "\n",
    "basket = [1,2,3,4,5]\n",
    "\n",
    "#adding\n",
    "basket.append(100)\n",
    "new_list = basket\n",
    "print(basket)\n",
    "print(new_list)\n",
    "\n",
    "print('---------------------------')\n",
    "\n",
    "basket2 = [1,2,3,4,5]\n",
    "\n",
    "#insert modifies the list in place\n",
    "basket2.append(100)\n",
    "new_list2 = basket2.insert(5, 100)\n",
    "print(basket2)\n",
    "print(new_list2)\n",
    "\n",
    "print('---------------------------')\n",
    "\n",
    "basket3 = [1,2,3,4,5]\n",
    "\n",
    "#extend\n",
    "basket3.append(100)\n",
    "new_list3 = basket3.extend([100, 101])\n",
    "print(basket3)\n",
    "print(new_list3)\n",
    "\n",
    "print('---------------------------')\n",
    "\n",
    "basket4 = [1,2,3,4,5]\n",
    "\n",
    "#pop\n",
    "basket4.append(100)\n",
    "new_list4 = basket4.extend([100, 101])\n",
    "print(basket4)\n",
    "print(new_list4)"
   ]
  },
  {
   "cell_type": "code",
   "execution_count": null,
   "id": "b468ec01",
   "metadata": {},
   "outputs": [],
   "source": []
  }
 ],
 "metadata": {
  "kernelspec": {
   "display_name": "Python 3",
   "language": "python",
   "name": "python3"
  },
  "language_info": {
   "codemirror_mode": {
    "name": "ipython",
    "version": 3
   },
   "file_extension": ".py",
   "mimetype": "text/x-python",
   "name": "python",
   "nbconvert_exporter": "python",
   "pygments_lexer": "ipython3",
   "version": "3.8.8"
  }
 },
 "nbformat": 4,
 "nbformat_minor": 5
}
