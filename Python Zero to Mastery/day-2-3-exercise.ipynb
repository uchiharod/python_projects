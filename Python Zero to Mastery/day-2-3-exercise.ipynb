{
 "cells": [
  {
   "cell_type": "code",
   "execution_count": 1,
   "id": "7581e6fa",
   "metadata": {},
   "outputs": [
    {
     "name": "stdout",
     "output_type": "stream",
     "text": [
      "What is your current age?42\n",
      "Your old ass has 48 more years, you have 17520 days, you have 576 months, and 2496 weeks left.\n"
     ]
    }
   ],
   "source": [
    "# 🚨 Don't change the code below 👇\n",
    "age = input(\"What is your current age?\")\n",
    "# 🚨 Don't change the code above 👆\n",
    "\n",
    "#Write your code below this line 👇\n",
    "time_until_90 = 90 - int(age)\n",
    "days_until_90 = time_until_90 * 365\n",
    "months_until_90 = time_until_90 * 12\n",
    "weeks_until_90 = time_until_90 * 52\n",
    "\n",
    "print(f\"Your old ass has {time_until_90} more years, you have {days_until_90} days, you have {months_until_90} months, and {weeks_until_90} weeks left.\" )"
   ]
  },
  {
   "cell_type": "code",
   "execution_count": null,
   "id": "0c6b0928",
   "metadata": {},
   "outputs": [],
   "source": []
  }
 ],
 "metadata": {
  "kernelspec": {
   "display_name": "Python 3",
   "language": "python",
   "name": "python3"
  },
  "language_info": {
   "codemirror_mode": {
    "name": "ipython",
    "version": 3
   },
   "file_extension": ".py",
   "mimetype": "text/x-python",
   "name": "python",
   "nbconvert_exporter": "python",
   "pygments_lexer": "ipython3",
   "version": "3.8.8"
  }
 },
 "nbformat": 4,
 "nbformat_minor": 5
}
