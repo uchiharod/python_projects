{
 "cells": [
  {
   "cell_type": "code",
   "execution_count": 1,
   "id": "31678596",
   "metadata": {},
   "outputs": [
    {
     "name": "stdout",
     "output_type": "stream",
     "text": [
      "190\n",
      "47.5\n"
     ]
    }
   ],
   "source": [
    "iq = 190\n",
    "\n",
    "print(iq)\n",
    "\n",
    "#Also known as binding. When you created variables, it means binding.\n",
    "\n",
    "user_age = iq/4\n",
    "print(user_age)\n",
    "\n",
    "# WHen looking at this here: user_age = iq/4\n",
    "# An expression is this part of the code:  iq/4, it's a piece of code that produces a value. A statement is this entire line: user_age = iq/4. This is also a statment: iq = 190"
   ]
  },
  {
   "cell_type": "code",
   "execution_count": null,
   "id": "c8f8466d",
   "metadata": {},
   "outputs": [],
   "source": []
  }
 ],
 "metadata": {
  "kernelspec": {
   "display_name": "Python 3",
   "language": "python",
   "name": "python3"
  },
  "language_info": {
   "codemirror_mode": {
    "name": "ipython",
    "version": 3
   },
   "file_extension": ".py",
   "mimetype": "text/x-python",
   "name": "python",
   "nbconvert_exporter": "python",
   "pygments_lexer": "ipython3",
   "version": "3.8.8"
  }
 },
 "nbformat": 4,
 "nbformat_minor": 5
}
