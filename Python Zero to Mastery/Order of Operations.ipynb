{
 "cells": [
  {
   "cell_type": "code",
   "execution_count": 1,
   "id": "a63d9f51",
   "metadata": {},
   "outputs": [
    {
     "name": "stdout",
     "output_type": "stream",
     "text": [
      "4\n",
      "20\n",
      "8\n",
      "21\n"
     ]
    }
   ],
   "source": [
    "#Fundamental Data Types\n",
    "# print(2 + 4)\n",
    "# print(2 - 4)\n",
    "# print(2 * 4)\n",
    "# print(2 / 4)\n",
    "\n",
    "#What's the data type\n",
    "# print(type(2 + 4))\n",
    "# print(type(2 - 4))\n",
    "# print(type(2 * 4))\n",
    "# print(type(2 / 4))\n",
    "\n",
    "# print(2 ** 3)\n",
    "# print(5 // 4)\n",
    "# print(6 % 4)\n",
    "\n",
    "#math functions\n",
    "print(round(3.9))\n",
    "print(abs(-20))\n",
    "print(20 - 3 * 4)\n",
    "\n",
    "# THe double astericks mean to the power of 2\n",
    "print((20 - 3) + 2 ** 2)\n",
    "\n",
    "# Order of operations"
   ]
  },
  {
   "cell_type": "code",
   "execution_count": null,
   "id": "5a2e2b65",
   "metadata": {},
   "outputs": [],
   "source": []
  }
 ],
 "metadata": {
  "kernelspec": {
   "display_name": "Python 3",
   "language": "python",
   "name": "python3"
  },
  "language_info": {
   "codemirror_mode": {
    "name": "ipython",
    "version": 3
   },
   "file_extension": ".py",
   "mimetype": "text/x-python",
   "name": "python",
   "nbconvert_exporter": "python",
   "pygments_lexer": "ipython3",
   "version": "3.8.8"
  }
 },
 "nbformat": 4,
 "nbformat_minor": 5
}
