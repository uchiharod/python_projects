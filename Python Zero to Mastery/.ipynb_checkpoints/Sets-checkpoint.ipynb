{
 "cells": [
  {
   "cell_type": "code",
   "execution_count": 1,
   "id": "163e2bc7",
   "metadata": {},
   "outputs": [
    {
     "name": "stdout",
     "output_type": "stream",
     "text": [
      "{1, 2, 3, 4, 5}\n"
     ]
    }
   ],
   "source": [
    "my_set = {1, 2, 3, 4, 5}\n",
    "\n",
    "print(my_set)"
   ]
  },
  {
   "cell_type": "code",
   "execution_count": 2,
   "id": "149d497a",
   "metadata": {},
   "outputs": [
    {
     "name": "stdout",
     "output_type": "stream",
     "text": [
      "{1, 2, 3, 4, 5}\n"
     ]
    }
   ],
   "source": [
    "my_set = {1, 2, 3, 4, 5, 5}\n",
    "\n",
    "print(my_set)"
   ]
  },
  {
   "cell_type": "markdown",
   "id": "5a9a0f8e",
   "metadata": {},
   "source": [
    "# Sets have to be unique"
   ]
  },
  {
   "cell_type": "code",
   "execution_count": 3,
   "id": "53ebc824",
   "metadata": {},
   "outputs": [
    {
     "name": "stdout",
     "output_type": "stream",
     "text": [
      "{1, 2, 3, 4, 5}\n"
     ]
    }
   ],
   "source": [
    "my_set = {1, 2, 3, 4, 5, 5}\n",
    "\n",
    "print(my_set)"
   ]
  },
  {
   "cell_type": "code",
   "execution_count": 4,
   "id": "a84ee70c",
   "metadata": {},
   "outputs": [
    {
     "name": "stdout",
     "output_type": "stream",
     "text": [
      "{1, 2, 3, 4, 5}\n"
     ]
    }
   ],
   "source": [
    "my_list = [1, 2, 3, 4, 5, 5]\n",
    "\n",
    "print(set(my_list))\n",
    "#usernames or emails that we're collecting, we make them a set so we don't have \n",
    "#duplicates"
   ]
  },
  {
   "cell_type": "code",
   "execution_count": 5,
   "id": "8437adaa",
   "metadata": {},
   "outputs": [
    {
     "name": "stdout",
     "output_type": "stream",
     "text": [
      "{1, 2, 3, 4, 5, 100}\n"
     ]
    }
   ],
   "source": [
    "my_set = {1, 2, 3, 4, 5, 5}\n",
    "my_set.add(100)\n",
    "my_set.add(2)\n",
    "\n",
    "print(my_set)\n",
    "#100 got added but not 2 because 2 is already inside the set"
   ]
  },
  {
   "cell_type": "code",
   "execution_count": 7,
   "id": "a4ff2d1e",
   "metadata": {},
   "outputs": [
    {
     "ename": "TypeError",
     "evalue": "'set' object is not subscriptable",
     "output_type": "error",
     "traceback": [
      "\u001b[1;31m---------------------------------------------------------------------------\u001b[0m",
      "\u001b[1;31mTypeError\u001b[0m                                 Traceback (most recent call last)",
      "\u001b[1;32m<ipython-input-7-d88107fbbf06>\u001b[0m in \u001b[0;36m<module>\u001b[1;34m\u001b[0m\n\u001b[0;32m      1\u001b[0m \u001b[0mmy_set\u001b[0m \u001b[1;33m=\u001b[0m \u001b[1;33m{\u001b[0m\u001b[1;36m1\u001b[0m\u001b[1;33m,\u001b[0m \u001b[1;36m2\u001b[0m\u001b[1;33m,\u001b[0m \u001b[1;36m3\u001b[0m\u001b[1;33m,\u001b[0m \u001b[1;36m4\u001b[0m\u001b[1;33m,\u001b[0m \u001b[1;36m5\u001b[0m\u001b[1;33m,\u001b[0m \u001b[1;36m5\u001b[0m\u001b[1;33m}\u001b[0m\u001b[1;33m\u001b[0m\u001b[1;33m\u001b[0m\u001b[0m\n\u001b[0;32m      2\u001b[0m \u001b[1;33m\u001b[0m\u001b[0m\n\u001b[1;32m----> 3\u001b[1;33m \u001b[0mprint\u001b[0m\u001b[1;33m(\u001b[0m\u001b[0mmy_set\u001b[0m\u001b[1;33m[\u001b[0m\u001b[1;36m0\u001b[0m\u001b[1;33m]\u001b[0m\u001b[1;33m)\u001b[0m\u001b[1;33m\u001b[0m\u001b[1;33m\u001b[0m\u001b[0m\n\u001b[0m",
      "\u001b[1;31mTypeError\u001b[0m: 'set' object is not subscriptable"
     ]
    }
   ],
   "source": [
    "my_set = {1, 2, 3, 4, 5, 5}\n",
    "\n",
    "print(my_set[0])\n",
    "#This will not work"
   ]
  },
  {
   "cell_type": "code",
   "execution_count": 8,
   "id": "3564559f",
   "metadata": {},
   "outputs": [
    {
     "name": "stdout",
     "output_type": "stream",
     "text": [
      "True\n"
     ]
    }
   ],
   "source": [
    "my_set = {1, 2, 3, 4, 5, 5}\n",
    "\n",
    "print(1 in my_set)"
   ]
  },
  {
   "cell_type": "code",
   "execution_count": 9,
   "id": "cc41c2fe",
   "metadata": {},
   "outputs": [
    {
     "name": "stdout",
     "output_type": "stream",
     "text": [
      "5\n"
     ]
    }
   ],
   "source": [
    "my_set = {1, 2, 3, 4, 5, 5}\n",
    "\n",
    "print(len(my_set))"
   ]
  },
  {
   "cell_type": "code",
   "execution_count": 10,
   "id": "8be68c6d",
   "metadata": {},
   "outputs": [
    {
     "name": "stdout",
     "output_type": "stream",
     "text": [
      "[1, 2, 3, 4, 5]\n"
     ]
    }
   ],
   "source": [
    "my_set = {1, 2, 3, 4, 5, 5}\n",
    "new_set = my_set.copy()\n",
    "print(list(new_set))"
   ]
  },
  {
   "cell_type": "code",
   "execution_count": 12,
   "id": "48fc75d7",
   "metadata": {},
   "outputs": [
    {
     "name": "stdout",
     "output_type": "stream",
     "text": [
      "{1, 2, 3, 4, 5}\n",
      "set()\n"
     ]
    }
   ],
   "source": [
    "my_set = {1, 2, 3, 4, 5, 5}\n",
    "new_set = my_set.copy()\n",
    "my_set.clear()\n",
    "print(new_set)\n",
    "print(my_set)"
   ]
  },
  {
   "cell_type": "markdown",
   "id": "274f4366",
   "metadata": {},
   "source": [
    "# Part 2 "
   ]
  },
  {
   "cell_type": "code",
   "execution_count": 18,
   "id": "e2ed9811",
   "metadata": {},
   "outputs": [
    {
     "name": "stdout",
     "output_type": "stream",
     "text": [
      "{1, 2, 3}\n",
      "None\n",
      "{1, 2, 3, 4}\n",
      "None\n",
      "{1, 2, 3}\n",
      "set()\n"
     ]
    }
   ],
   "source": [
    "my_set = {1, 2, 3, 4, 5}\n",
    "your_set = {4,5,6,7,8,9,10}\n",
    "\n",
    "#.difference()\n",
    "#.discard()\n",
    "#.difference_update()\n",
    "#.intersection()\n",
    "#.isdisjoint()\n",
    "#.issubset()\n",
    "#.issuperset()\n",
    "#.union()\n",
    "\n",
    "print(my_set.difference(your_set))\n",
    "print(my_set.discard(5))\n",
    "print(my_set)\n",
    "print(my_set.difference_update(your_set))\n",
    "print(my_set)\n",
    "print(my_set.intersection(your_set))\n"
   ]
  },
  {
   "cell_type": "code",
   "execution_count": 20,
   "id": "e7599d1d",
   "metadata": {},
   "outputs": [
    {
     "name": "stdout",
     "output_type": "stream",
     "text": [
      "{1, 2, 3}\n",
      "None\n",
      "{1, 2, 3, 4}\n"
     ]
    }
   ],
   "source": [
    "my_set = {1, 2, 3, 4, 5}\n",
    "your_set = {4,5,6,7,8,9,10}\n",
    "\n",
    "print(my_set.difference(your_set))\n",
    "print(my_set.discard(5))\n",
    "print(my_set)"
   ]
  },
  {
   "cell_type": "code",
   "execution_count": 21,
   "id": "e0eae593",
   "metadata": {},
   "outputs": [
    {
     "name": "stdout",
     "output_type": "stream",
     "text": [
      "None\n",
      "{1, 2, 3}\n"
     ]
    }
   ],
   "source": [
    "my_set = {1, 2, 3, 4, 5}\n",
    "your_set = {4,5,6,7,8,9,10}\n",
    "\n",
    "print(my_set.difference_update(your_set))\n",
    "print(my_set)"
   ]
  },
  {
   "cell_type": "code",
   "execution_count": 28,
   "id": "4b8fd401",
   "metadata": {},
   "outputs": [
    {
     "name": "stdout",
     "output_type": "stream",
     "text": [
      "{4, 5}\n",
      "{4, 5}\n"
     ]
    }
   ],
   "source": [
    "my_set = {1, 2, 3, 4, 5}\n",
    "your_set = {4,5,6,7,8,9,10}\n",
    "\n",
    "print(my_set.intersection(your_set))\n",
    "print(my_set & your_set) #Short hand for Intersection"
   ]
  },
  {
   "cell_type": "code",
   "execution_count": 24,
   "id": "0de603f3",
   "metadata": {},
   "outputs": [
    {
     "name": "stdout",
     "output_type": "stream",
     "text": [
      "False\n"
     ]
    }
   ],
   "source": [
    "my_set = {1, 2, 3, 4, 5}\n",
    "your_set = {4,5,6,7,8,9,10}\n",
    "\n",
    "#.difference()\n",
    "#.discard()\n",
    "#.difference_update()\n",
    "#.intersection()\n",
    "#.isdisjoint()\n",
    "#.issubset()\n",
    "#.issuperset()\n",
    "#.union()\n",
    "\n",
    "print(my_set.isdisjoint(your_set))"
   ]
  },
  {
   "cell_type": "code",
   "execution_count": 27,
   "id": "6a1b4272",
   "metadata": {},
   "outputs": [
    {
     "name": "stdout",
     "output_type": "stream",
     "text": [
      "{1, 2, 3, 4, 5, 6, 7, 8, 9, 10}\n",
      "{1, 2, 3, 4, 5, 6, 7, 8, 9, 10}\n"
     ]
    }
   ],
   "source": [
    "my_set = {1, 2, 3, 4, 5}\n",
    "your_set = {4,5,6,7,8,9,10}\n",
    "\n",
    "#.difference()\n",
    "#.discard()\n",
    "#.difference_update()\n",
    "#.intersection()\n",
    "#.isdisjoint()\n",
    "#.issubset()\n",
    "#.issuperset()\n",
    "#.union()\n",
    "\n",
    "print(my_set.union(your_set))\n",
    "print(my_set | your_set) #Short hand for union"
   ]
  },
  {
   "cell_type": "code",
   "execution_count": 31,
   "id": "8132aa50",
   "metadata": {},
   "outputs": [
    {
     "name": "stdout",
     "output_type": "stream",
     "text": [
      "True\n",
      "False\n"
     ]
    }
   ],
   "source": [
    "my_set = {4,5}\n",
    "your_set = {4,5,6,7,8,9,10}\n",
    "\n",
    "#.difference()\n",
    "#.discard()\n",
    "#.difference_update()\n",
    "#.intersection()\n",
    "#.isdisjoint()\n",
    "#.issubset()\n",
    "#.issuperset()\n",
    "#.union()\n",
    "\n",
    "print(my_set.issubset(your_set))\n",
    "print(my_set.issuperset(your_set))"
   ]
  },
  {
   "cell_type": "code",
   "execution_count": null,
   "id": "9098d1ea",
   "metadata": {},
   "outputs": [],
   "source": []
  }
 ],
 "metadata": {
  "kernelspec": {
   "display_name": "Python 3",
   "language": "python",
   "name": "python3"
  },
  "language_info": {
   "codemirror_mode": {
    "name": "ipython",
    "version": 3
   },
   "file_extension": ".py",
   "mimetype": "text/x-python",
   "name": "python",
   "nbconvert_exporter": "python",
   "pygments_lexer": "ipython3",
   "version": "3.8.8"
  }
 },
 "nbformat": 4,
 "nbformat_minor": 5
}
