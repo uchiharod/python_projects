{
 "cells": [
  {
   "cell_type": "code",
   "execution_count": 1,
   "id": "610e2641",
   "metadata": {},
   "outputs": [
    {
     "data": {
      "text/plain": [
       "str"
      ]
     },
     "execution_count": 1,
     "metadata": {},
     "output_type": "execute_result"
    }
   ],
   "source": [
    "type('Helllooooo')"
   ]
  },
  {
   "cell_type": "code",
   "execution_count": 2,
   "id": "3cc0c675",
   "metadata": {},
   "outputs": [
    {
     "name": "stdout",
     "output_type": "stream",
     "text": [
      "I'm thirsty\n",
      "I'm thirsty\n"
     ]
    }
   ],
   "source": [
    "print('I\\'m thirsty')\n",
    "print(\"I'm thirsty\")\n"
   ]
  },
  {
   "cell_type": "code",
   "execution_count": 5,
   "id": "2710dfba",
   "metadata": {},
   "outputs": [
    {
     "name": "stdout",
     "output_type": "stream",
     "text": [
      "I'm thirsty \n",
      " \t I'm thirsty\n"
     ]
    }
   ],
   "source": [
    "print('I\\'m thirsty \\n \\t I\\'m thirsty')"
   ]
  },
  {
   "cell_type": "code",
   "execution_count": 7,
   "id": "c5fe1bea",
   "metadata": {},
   "outputs": [
    {
     "name": "stdout",
     "output_type": "stream",
     "text": [
      "I'm thirsty I'm thirsty I'm thirsty I'm thirsty \n"
     ]
    }
   ],
   "source": [
    "print(\"I'm thirsty \" * 4)"
   ]
  },
  {
   "cell_type": "code",
   "execution_count": 8,
   "id": "fea1654f",
   "metadata": {},
   "outputs": [
    {
     "data": {
      "text/plain": [
       "'y'"
      ]
     },
     "execution_count": 8,
     "metadata": {},
     "output_type": "execute_result"
    }
   ],
   "source": [
    "'Hey you!'[4]"
   ]
  },
  {
   "cell_type": "code",
   "execution_count": 9,
   "id": "06df3631",
   "metadata": {},
   "outputs": [
    {
     "data": {
      "text/plain": [
       "'a'"
      ]
     },
     "execution_count": 9,
     "metadata": {},
     "output_type": "execute_result"
    }
   ],
   "source": [
    "'MakiMonka'[8]"
   ]
  },
  {
   "cell_type": "code",
   "execution_count": 14,
   "id": "849c60da",
   "metadata": {},
   "outputs": [
    {
     "name": "stdout",
     "output_type": "stream",
     "text": [
      "R\n",
      "o\n",
      "d\n",
      "e\n",
      "r\n",
      "i\n",
      "c\n",
      "k\n",
      " \n",
      "M\n",
      "o\n",
      "o\n"
     ]
    }
   ],
   "source": [
    "name = \"Roderick Moore\"\n",
    "print(name[0])\n",
    "print(name[1])\n",
    "print(name[2])\n",
    "print(name[3])\n",
    "print(name[4])\n",
    "print(name[5])\n",
    "print(name[6])\n",
    "print(name[7])\n",
    "print(name[8])\n",
    "print(name[9])\n",
    "print(name[10])\n",
    "print(name[11])"
   ]
  },
  {
   "cell_type": "code",
   "execution_count": 15,
   "id": "59a177e7",
   "metadata": {},
   "outputs": [
    {
     "name": "stdout",
     "output_type": "stream",
     "text": [
      "r\n",
      "Roderick Moore\n",
      "oderick Moore\n",
      "R\n",
      "e\n",
      "Roderick Moore\n",
      "erooM kciredoR\n",
      "Rdrc \n",
      "Rr\n",
      "\n",
      "e\n",
      "d\n"
     ]
    }
   ],
   "source": [
    "#Practice Slicing [start : end : step]\n",
    "name = \"Roderick Moore\"\n",
    "print(name[4])\n",
    "print(name[:])\n",
    "print(name[1:])\n",
    "print(name[:1])\n",
    "print(name[-1])\n",
    "print(name[::1])\n",
    "print(name[::-1])\n",
    "print(name[0:10:2])\n",
    "print(name[0:6:4])\n",
    "print(name[10:2:3])\n",
    "print(name[3:5:6])\n",
    "print(name[2:7:5])"
   ]
  },
  {
   "cell_type": "code",
   "execution_count": null,
   "id": "be6b5e39",
   "metadata": {},
   "outputs": [],
   "source": []
  }
 ],
 "metadata": {
  "kernelspec": {
   "display_name": "Python 3",
   "language": "python",
   "name": "python3"
  },
  "language_info": {
   "codemirror_mode": {
    "name": "ipython",
    "version": 3
   },
   "file_extension": ".py",
   "mimetype": "text/x-python",
   "name": "python",
   "nbconvert_exporter": "python",
   "pygments_lexer": "ipython3",
   "version": "3.8.8"
  }
 },
 "nbformat": 4,
 "nbformat_minor": 5
}
