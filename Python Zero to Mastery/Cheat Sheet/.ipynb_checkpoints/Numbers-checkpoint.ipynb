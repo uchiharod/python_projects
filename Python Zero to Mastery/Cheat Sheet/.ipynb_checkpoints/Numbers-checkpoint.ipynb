{
 "cells": [
  {
   "cell_type": "code",
   "execution_count": 1,
   "id": "1afe0f6d",
   "metadata": {
    "scrolled": true
   },
   "outputs": [
    {
     "name": "stdout",
     "output_type": "stream",
     "text": [
      "<class 'int'>\n",
      "<class 'int'>\n",
      "<class 'int'>\n",
      "<class 'float'>\n",
      "<class 'float'>\n",
      "<class 'float'>\n"
     ]
    }
   ],
   "source": [
    "print(type(1))\n",
    "print(type(-10))\n",
    "print(type(0))\n",
    "print(type(0.0))\n",
    "print(type(2.2))\n",
    "print(type(4E2))"
   ]
  },
  {
   "cell_type": "code",
   "execution_count": 4,
   "id": "b2fd4653",
   "metadata": {},
   "outputs": [
    {
     "name": "stdout",
     "output_type": "stream",
     "text": [
      "13\n",
      "7\n",
      "30\n",
      "1000\n",
      "3.3333333333333335\n",
      "3\n",
      "1\n"
     ]
    }
   ],
   "source": [
    "print(10 + 3) \n",
    "print(10 - 3)\n",
    "print(10 * 3)\n",
    "print(10 ** 3)\n",
    "print(10 / 3)\n",
    "print(10 // 3)\n",
    "print(10 % 3)"
   ]
  },
  {
   "cell_type": "code",
   "execution_count": 6,
   "id": "8aa27269",
   "metadata": {},
   "outputs": [
    {
     "name": "stdout",
     "output_type": "stream",
     "text": [
      "25\n",
      "50\n",
      "5\n",
      "5.47\n",
      "0b1000000000\n",
      "0x200\n"
     ]
    }
   ],
   "source": [
    "print(pow(5, 2))\n",
    "print(abs(-50))\n",
    "print(round(5.46))\n",
    "print(round(5.468, 2))\n",
    "print(bin(512))\n",
    "print(hex(512))"
   ]
  },
  {
   "cell_type": "code",
   "execution_count": 8,
   "id": "9590d318",
   "metadata": {},
   "outputs": [
    {
     "name": "stdout",
     "output_type": "stream",
     "text": [
      "How old are you? 35\n",
      "What is the value of pi?3.14\n"
     ]
    }
   ],
   "source": [
    "#Converting Strings to Numbers\n",
    "age = input(\"How old are you? \")\n",
    "age = int(age)\n",
    "pi = input(\"What is the value of pi?\")\n",
    "pi = float(pi)"
   ]
  },
  {
   "cell_type": "code",
   "execution_count": null,
   "id": "67e59a3a",
   "metadata": {},
   "outputs": [],
   "source": []
  }
 ],
 "metadata": {
  "kernelspec": {
   "display_name": "Python 3",
   "language": "python",
   "name": "python3"
  },
  "language_info": {
   "codemirror_mode": {
    "name": "ipython",
    "version": 3
   },
   "file_extension": ".py",
   "mimetype": "text/x-python",
   "name": "python",
   "nbconvert_exporter": "python",
   "pygments_lexer": "ipython3",
   "version": "3.8.8"
  }
 },
 "nbformat": 4,
 "nbformat_minor": 5
}
