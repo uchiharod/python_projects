{
 "cells": [
  {
   "cell_type": "code",
   "execution_count": 1,
   "id": "40d7de38",
   "metadata": {},
   "outputs": [
    {
     "data": {
      "text/plain": [
       "str"
      ]
     },
     "execution_count": 1,
     "metadata": {},
     "output_type": "execute_result"
    }
   ],
   "source": [
    "type('Helllooooo')"
   ]
  },
  {
   "cell_type": "code",
   "execution_count": 2,
   "id": "900ddecc",
   "metadata": {},
   "outputs": [
    {
     "name": "stdout",
     "output_type": "stream",
     "text": [
      "I'm thirsty\n",
      "I'm thirsty\n"
     ]
    }
   ],
   "source": [
    "print('I\\'m thirsty')\n",
    "print(\"I'm thirsty\")\n"
   ]
  },
  {
   "cell_type": "code",
   "execution_count": 5,
   "id": "6487cd50",
   "metadata": {},
   "outputs": [
    {
     "name": "stdout",
     "output_type": "stream",
     "text": [
      "I'm thirsty \n",
      " \t I'm thirsty\n"
     ]
    }
   ],
   "source": [
    "print('I\\'m thirsty \\n \\t I\\'m thirsty')"
   ]
  },
  {
   "cell_type": "code",
   "execution_count": 7,
   "id": "68df7d63",
   "metadata": {},
   "outputs": [
    {
     "name": "stdout",
     "output_type": "stream",
     "text": [
      "I'm thirsty I'm thirsty I'm thirsty I'm thirsty \n"
     ]
    }
   ],
   "source": [
    "print(\"I'm thirsty \" * 4)"
   ]
  },
  {
   "cell_type": "code",
   "execution_count": 8,
   "id": "800db425",
   "metadata": {},
   "outputs": [
    {
     "data": {
      "text/plain": [
       "'y'"
      ]
     },
     "execution_count": 8,
     "metadata": {},
     "output_type": "execute_result"
    }
   ],
   "source": [
    "'Hey you!'[4]"
   ]
  },
  {
   "cell_type": "code",
   "execution_count": 9,
   "id": "75be4211",
   "metadata": {},
   "outputs": [
    {
     "data": {
      "text/plain": [
       "'a'"
      ]
     },
     "execution_count": 9,
     "metadata": {},
     "output_type": "execute_result"
    }
   ],
   "source": [
    "'MakiMonka'[8]"
   ]
  },
  {
   "cell_type": "code",
   "execution_count": 14,
   "id": "397854a6",
   "metadata": {},
   "outputs": [
    {
     "name": "stdout",
     "output_type": "stream",
     "text": [
      "R\n",
      "o\n",
      "d\n",
      "e\n",
      "r\n",
      "i\n",
      "c\n",
      "k\n",
      " \n",
      "M\n",
      "o\n",
      "o\n"
     ]
    }
   ],
   "source": [
    "name = \"Roderick Moore\"\n",
    "print(name[0])\n",
    "print(name[1])\n",
    "print(name[2])\n",
    "print(name[3])\n",
    "print(name[4])\n",
    "print(name[5])\n",
    "print(name[6])\n",
    "print(name[7])\n",
    "print(name[8])\n",
    "print(name[9])\n",
    "print(name[10])\n",
    "print(name[11])"
   ]
  },
  {
   "cell_type": "code",
   "execution_count": 19,
   "id": "fc7fa62a",
   "metadata": {},
   "outputs": [
    {
     "name": "stdout",
     "output_type": "stream",
     "text": [
      "1.r\n",
      "2.Roderick Moore\n",
      "3.oderick Moore\n",
      "4.R\n",
      "5.e\n",
      "6.Roderick Moore\n",
      "7.erooM kciredoR\n",
      "8.Rdrc \n",
      "9.Rr\n",
      "10.\n",
      "11.e\n",
      "12.d\n"
     ]
    }
   ],
   "source": [
    "#Practice Slicing [start : end : step]\n",
    "name = \"Roderick Moore\"\n",
    "print('1.' + name[4])\n",
    "print('2.' + name[:])\n",
    "print('3.' + name[1:])\n",
    "print('4.' + name[:1])\n",
    "print('5.' + name[-1])\n",
    "print('6.' + name[::1])\n",
    "print('7.' + name[::-1])\n",
    "print('8.' + name[0:10:2])\n",
    "print('9.' + name[0:6:4])\n",
    "print('10.' + name[10:2:3])\n",
    "print('11.' + name[3:5:6])\n",
    "print('12.' + name[2:7:5])"
   ]
  },
  {
   "cell_type": "code",
   "execution_count": 20,
   "id": "e63fa4dc",
   "metadata": {},
   "outputs": [
    {
     "data": {
      "text/plain": [
       "6"
      ]
     },
     "execution_count": 20,
     "metadata": {},
     "output_type": "execute_result"
    }
   ],
   "source": [
    "len('turtle')"
   ]
  },
  {
   "cell_type": "code",
   "execution_count": 21,
   "id": "e3be22f3",
   "metadata": {},
   "outputs": [
    {
     "data": {
      "text/plain": [
       "'I am alone'"
      ]
     },
     "execution_count": 21,
     "metadata": {},
     "output_type": "execute_result"
    }
   ],
   "source": [
    "' I am alone '.strip()"
   ]
  },
  {
   "cell_type": "code",
   "execution_count": 22,
   "id": "12ee581c",
   "metadata": {},
   "outputs": [
    {
     "data": {
      "text/plain": [
       "' I am alone on an islan'"
      ]
     },
     "execution_count": 22,
     "metadata": {},
     "output_type": "execute_result"
    }
   ],
   "source": [
    "' I am alone on an island'.strip('d')"
   ]
  },
  {
   "cell_type": "code",
   "execution_count": 30,
   "id": "dbe10285",
   "metadata": {},
   "outputs": [
    {
     "data": {
      "text/plain": [
       "' I got to go ther'"
      ]
     },
     "execution_count": 30,
     "metadata": {},
     "output_type": "execute_result"
    }
   ],
   "source": [
    "' I got to go there'.strip('e')"
   ]
  },
  {
   "cell_type": "code",
   "execution_count": 31,
   "id": "d42186a6",
   "metadata": {},
   "outputs": [
    {
     "data": {
      "text/plain": [
       "['but', 'life', 'is', 'good', 'as', 'a', 'mofo']"
      ]
     },
     "execution_count": 31,
     "metadata": {},
     "output_type": "execute_result"
    }
   ],
   "source": [
    "'but life is good as a mofo'.split()"
   ]
  },
  {
   "cell_type": "code",
   "execution_count": 32,
   "id": "21da2b44",
   "metadata": {},
   "outputs": [
    {
     "data": {
      "text/plain": [
       "'Help yogi'"
      ]
     },
     "execution_count": 32,
     "metadata": {},
     "output_type": "execute_result"
    }
   ],
   "source": [
    "'Help me'.replace('me', 'yogi')"
   ]
  },
  {
   "cell_type": "code",
   "execution_count": null,
   "id": "9f838f62",
   "metadata": {},
   "outputs": [],
   "source": []
  }
 ],
 "metadata": {
  "kernelspec": {
   "display_name": "Python 3",
   "language": "python",
   "name": "python3"
  },
  "language_info": {
   "codemirror_mode": {
    "name": "ipython",
    "version": 3
   },
   "file_extension": ".py",
   "mimetype": "text/x-python",
   "name": "python",
   "nbconvert_exporter": "python",
   "pygments_lexer": "ipython3",
   "version": "3.8.8"
  }
 },
 "nbformat": 4,
 "nbformat_minor": 5
}
