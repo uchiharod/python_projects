{
 "cells": [
  {
   "cell_type": "code",
   "execution_count": 12,
   "id": "8cc4d26c",
   "metadata": {},
   "outputs": [
    {
     "name": "stdout",
     "output_type": "stream",
     "text": [
      "moody\n",
      "You no longer suck at life.\n"
     ]
    }
   ],
   "source": [
    "is_old = False\n",
    "is_licensed = False\n",
    "\n",
    "if is_old:\n",
    "    print('You are old enough to drive mofo.')\n",
    "elif is_licensed:\n",
    "    print('You can drive mofo')\n",
    "else:\n",
    "    print('moody')\n",
    "    \n",
    "print('You no longer suck at life.')"
   ]
  },
  {
   "cell_type": "code",
   "execution_count": 1,
   "id": "228f5fbf",
   "metadata": {},
   "outputs": [
    {
     "name": "stdout",
     "output_type": "stream",
     "text": [
      "What is your age? 24\n",
      "Your age is 24 and you are old enough.\n"
     ]
    }
   ],
   "source": [
    "dudes_age = input('What is your age? ')\n",
    "if dudes_age < '18':\n",
    "    print('Your age is ' + str(dudes_age) + ' and you are too young.')\n",
    "else:\n",
    "    print('Your age is ' + str(dudes_age) + ' and you are old enough.')"
   ]
  },
  {
   "cell_type": "code",
   "execution_count": null,
   "id": "daedd5b6",
   "metadata": {},
   "outputs": [],
   "source": []
  }
 ],
 "metadata": {
  "kernelspec": {
   "display_name": "Python 3",
   "language": "python",
   "name": "python3"
  },
  "language_info": {
   "codemirror_mode": {
    "name": "ipython",
    "version": 3
   },
   "file_extension": ".py",
   "mimetype": "text/x-python",
   "name": "python",
   "nbconvert_exporter": "python",
   "pygments_lexer": "ipython3",
   "version": "3.8.8"
  }
 },
 "nbformat": 4,
 "nbformat_minor": 5
}
