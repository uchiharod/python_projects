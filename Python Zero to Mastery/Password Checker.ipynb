{
 "cells": [
  {
   "cell_type": "code",
   "execution_count": 1,
   "id": "a69821eb",
   "metadata": {},
   "outputs": [
    {
     "name": "stdout",
     "output_type": "stream",
     "text": [
      "What's your username son?roderick\n",
      "What's your password son?roderick\n",
      "roderick, your password ******** is 8 characters long.\n"
     ]
    }
   ],
   "source": [
    "username = input(\"What\\'s your username son?\")\n",
    "password = input(\"What\\'s your password son?\")\n",
    "password = ('*' * len(password))\n",
    "passwordlength = len(password) \n",
    "\n",
    "print(f'{username}, your password {password} is {passwordlength} characters long.')"
   ]
  },
  {
   "cell_type": "code",
   "execution_count": null,
   "id": "bdcf7a8f",
   "metadata": {},
   "outputs": [],
   "source": []
  }
 ],
 "metadata": {
  "kernelspec": {
   "display_name": "Python 3",
   "language": "python",
   "name": "python3"
  },
  "language_info": {
   "codemirror_mode": {
    "name": "ipython",
    "version": 3
   },
   "file_extension": ".py",
   "mimetype": "text/x-python",
   "name": "python",
   "nbconvert_exporter": "python",
   "pygments_lexer": "ipython3",
   "version": "3.8.8"
  }
 },
 "nbformat": 4,
 "nbformat_minor": 5
}
