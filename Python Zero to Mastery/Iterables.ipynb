{
 "cells": [
  {
   "cell_type": "markdown",
   "id": "f6673e58",
   "metadata": {},
   "source": [
    "# What can be iterable? \n",
    "A list, dictionary, tuples, set, string"
   ]
  },
  {
   "cell_type": "markdown",
   "id": "5a2baabe",
   "metadata": {},
   "source": [
    "Why are these things iterable? Because they can be interated. Meaning that in a one by one fashion, you can check each item in the collection. You're iterating over something, you're looping over something. "
   ]
  },
  {
   "cell_type": "code",
   "execution_count": 2,
   "id": "a7c4968f",
   "metadata": {},
   "outputs": [
    {
     "name": "stdout",
     "output_type": "stream",
     "text": [
      "name 1\n",
      "name 2\n",
      "name 3\n",
      "name 4\n",
      "name 5\n",
      "age 1\n",
      "age 2\n",
      "age 3\n",
      "age 4\n",
      "age 5\n",
      "can_swim 1\n",
      "can_swim 2\n",
      "can_swim 3\n",
      "can_swim 4\n",
      "can_swim 5\n"
     ]
    }
   ],
   "source": [
    "user = {\n",
    "    'name': 'Golem',\n",
    "    'age': 5006,\n",
    "    'can_swim': False\n",
    "}\n",
    "\n",
    "for item in user:\n",
    "    for x in [1, 2, 3, 4, 5]:\n",
    "        print(item, x)"
   ]
  },
  {
   "cell_type": "code",
   "execution_count": 3,
   "id": "7ef4eb3a",
   "metadata": {},
   "outputs": [
    {
     "name": "stdout",
     "output_type": "stream",
     "text": [
      "name\n",
      "age\n",
      "can_swim\n"
     ]
    }
   ],
   "source": [
    "user = {\n",
    "    'name': 'Golem',\n",
    "    'age': 5006,\n",
    "    'can_swim': False\n",
    "}\n",
    "\n",
    "for item in user:\n",
    "        print(item)"
   ]
  },
  {
   "cell_type": "code",
   "execution_count": 6,
   "id": "659d3f6a",
   "metadata": {},
   "outputs": [
    {
     "name": "stdout",
     "output_type": "stream",
     "text": [
      "('name', 'Golem')\n",
      "('age', 5006)\n",
      "('can_swim', False)\n"
     ]
    }
   ],
   "source": [
    "user = {\n",
    "    'name': 'Golem',\n",
    "    'age': 5006,\n",
    "    'can_swim': False\n",
    "}\n",
    "\n",
    "for item in user.items():\n",
    "        print(item)\n",
    "        \n",
    "#Output below is in Tuples"
   ]
  },
  {
   "cell_type": "code",
   "execution_count": 7,
   "id": "b022b9b8",
   "metadata": {},
   "outputs": [
    {
     "name": "stdout",
     "output_type": "stream",
     "text": [
      "Golem\n",
      "5006\n",
      "False\n"
     ]
    }
   ],
   "source": [
    "user = {\n",
    "    'name': 'Golem',\n",
    "    'age': 5006,\n",
    "    'can_swim': False\n",
    "}\n",
    "\n",
    "for item in user.values():\n",
    "        print(item)\n",
    "        \n",
    "#Output below is in Tuples"
   ]
  },
  {
   "cell_type": "code",
   "execution_count": 8,
   "id": "57002a8e",
   "metadata": {},
   "outputs": [
    {
     "name": "stdout",
     "output_type": "stream",
     "text": [
      "name\n",
      "age\n",
      "can_swim\n"
     ]
    }
   ],
   "source": [
    "user = {\n",
    "    'name': 'Golem',\n",
    "    'age': 5006,\n",
    "    'can_swim': False\n",
    "}\n",
    "\n",
    "for item in user.keys():\n",
    "        print(item)\n",
    "        \n",
    "#Output below is in Tuples"
   ]
  },
  {
   "cell_type": "code",
   "execution_count": null,
   "id": "957655f4",
   "metadata": {},
   "outputs": [],
   "source": []
  }
 ],
 "metadata": {
  "kernelspec": {
   "display_name": "Python 3",
   "language": "python",
   "name": "python3"
  },
  "language_info": {
   "codemirror_mode": {
    "name": "ipython",
    "version": 3
   },
   "file_extension": ".py",
   "mimetype": "text/x-python",
   "name": "python",
   "nbconvert_exporter": "python",
   "pygments_lexer": "ipython3",
   "version": "3.8.8"
  }
 },
 "nbformat": 4,
 "nbformat_minor": 5
}
