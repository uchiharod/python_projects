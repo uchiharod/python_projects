{
 "cells": [
  {
   "cell_type": "code",
   "execution_count": 1,
   "id": "2fdc0812",
   "metadata": {},
   "outputs": [
    {
     "name": "stdout",
     "output_type": "stream",
     "text": [
      "Welome to the tip calculator.\n",
      "What was the total bill? $3\n",
      "What percentage would you like to give? 10, 12, or 15? 12\n",
      "How many people to split the bill? 5\n",
      "Each person should pay: $0.67\n"
     ]
    }
   ],
   "source": [
    "#Format the result to 2 decimal places = 33.60\n",
    "#Tip: There are 2 ways to round a number. You might have to do some Googling to solve this.💪\n",
    "#HINT 1: https://www.google.com/search?q=how+to+round+number+to+2+decimal+places+python&oq=how+to+round+number+to+2+decimal\n",
    "#HINT 2: https://www.kite.com/python/answers/how-to-limit-a-float-to-two-decimal-places-in-python\n",
    "\n",
    "print(\"Welome to the tip calculator.\")\n",
    "total_bill = input(\"What was the total bill? $\")\n",
    "percentage_tip = input(\"What percentage would you like to give? 10, 12, or 15? \")\n",
    "people_split = input(\"How many people to split the bill? \")\n",
    "\n",
    "total_bill = (round(float(total_bill), 2))\n",
    "percentage_tip = (round(float(percentage_tip), 2))\n",
    "\n",
    "percentage_of_total_bill = percentage_tip / 100 * total_bill\n",
    "bill_with_tip_added = percentage_of_total_bill + float(total_bill)\n",
    "bill_with_tip_added = (round(float(bill_with_tip_added), 2))\n",
    "payout_per_person = bill_with_tip_added / float(people_split)\n",
    "true_payout = (round(payout_per_person, 2))\n",
    "true_payout = \"{:.2f}\".format(true_payout) \n",
    "\n",
    "print(f\"Each person should pay: ${true_payout}\")\n",
    "                    "
   ]
  },
  {
   "cell_type": "code",
   "execution_count": null,
   "id": "66b097dc",
   "metadata": {},
   "outputs": [],
   "source": []
  }
 ],
 "metadata": {
  "kernelspec": {
   "display_name": "Python 3",
   "language": "python",
   "name": "python3"
  },
  "language_info": {
   "codemirror_mode": {
    "name": "ipython",
    "version": 3
   },
   "file_extension": ".py",
   "mimetype": "text/x-python",
   "name": "python",
   "nbconvert_exporter": "python",
   "pygments_lexer": "ipython3",
   "version": "3.8.8"
  }
 },
 "nbformat": 4,
 "nbformat_minor": 5
}
