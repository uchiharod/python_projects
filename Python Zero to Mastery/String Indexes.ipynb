{
 "cells": [
  {
   "cell_type": "code",
   "execution_count": 1,
   "id": "b95e1358",
   "metadata": {},
   "outputs": [
    {
     "name": "stdout",
     "output_type": "stream",
     "text": [
      "1. me me me\n",
      "2. m\n",
      "3. e\n",
      "4. me\n",
      "5. me me m\n",
      "6. me me me\n",
      "7. me me me\n",
      "8. 0123456\n",
      "9. 01234567\n",
      "10. 01234567\n",
      "11. 0246\n",
      "12. 1234567\n",
      "13. 01234\n",
      "14. 01234567\n",
      "15. 7\n",
      "16. 6\n",
      "17. 5\n",
      "18. 76543210\n",
      "18. 7531\n"
     ]
    }
   ],
   "source": [
    "selfish = 'me me me'\n",
    "#          01234567\n",
    "print('1. ' + selfish)\n",
    "\n",
    "print('2. ' + selfish[0])\n",
    "print('3. ' + selfish[7])\n",
    "\n",
    "# Anytime we use [] in python, the first item we put in is the start, then the stop, then the stepover\n",
    "\n",
    "#Slicing\n",
    "#[start:stop:stepover]\n",
    "print('4. ' + selfish[0:2])\n",
    "print('5. ' + selfish[0:7])\n",
    "print('6. ' + selfish[0:8])\n",
    "\n",
    "print('7. ' + selfish[0:8:1])\n",
    "\n",
    "selfish = '01234567'\n",
    "print('8. ' + selfish[0:7])\n",
    "print('9. ' + selfish[0:8])\n",
    "print('10. ' + selfish[0:8:1])\n",
    "print('11. ' + selfish[0:8:2])\n",
    "print('12. ' + selfish[1:]) #there is no stop here so it's saying go all the way to the end\n",
    "print('13. ' + selfish[:5]) #there is no start here so that means \"Start at the Default\"\n",
    "print('14. ' + selfish[::1]) #starting at 0 when there is nothing, whenever the string ends when there is nothing, and then stepover by 1\n",
    "print('15. ' + selfish[-1]) #start at the end of the string\n",
    "print('16. ' + selfish[-2]) #start at the end of the string\n",
    "print('17. ' + selfish[-3]) #start at the end of the string\n",
    "print('18. ' + selfish[::-1]) #Memorize this because this is a common operation in python\n",
    "print('18. ' + selfish[::-2]) #Memorize this because this is a common operation in python"
   ]
  },
  {
   "cell_type": "code",
   "execution_count": null,
   "id": "60e8312b",
   "metadata": {},
   "outputs": [],
   "source": []
  }
 ],
 "metadata": {
  "kernelspec": {
   "display_name": "Python 3",
   "language": "python",
   "name": "python3"
  },
  "language_info": {
   "codemirror_mode": {
    "name": "ipython",
    "version": 3
   },
   "file_extension": ".py",
   "mimetype": "text/x-python",
   "name": "python",
   "nbconvert_exporter": "python",
   "pygments_lexer": "ipython3",
   "version": "3.8.8"
  }
 },
 "nbformat": 4,
 "nbformat_minor": 5
}
