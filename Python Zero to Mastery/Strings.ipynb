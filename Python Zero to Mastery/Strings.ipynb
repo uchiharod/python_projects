{
 "cells": [
  {
   "cell_type": "code",
   "execution_count": 1,
   "id": "b6c9abb0",
   "metadata": {},
   "outputs": [
    {
     "name": "stdout",
     "output_type": "stream",
     "text": [
      "What the hell?\n",
      "<class 'str'>\n",
      "\n",
      "WOW\n",
      "0 0\n",
      "---\n",
      "\n",
      "Roderick Moore\n",
      "Roderick Moore\n"
     ]
    }
   ],
   "source": [
    "print(\"What the hell?\")\n",
    "print(type(\"What the hell?\"))\n",
    "\n",
    "# Another way to write string\n",
    "username ='supercoder'\n",
    "password = 'supersecret'\n",
    "long_string = '''\n",
    "WOW\n",
    "0 0\n",
    "---\n",
    "'''\n",
    "print(long_string)\n",
    "\n",
    "first_name = \"Roderick\"\n",
    "last_name = \"Moore\"\n",
    "print(first_name + \" \" + last_name)\n",
    "\n",
    "first_name = \"Roderick\"\n",
    "last_name = \"Moore\"\n",
    "full_name = first_name + ' ' + last_name\n",
    "print(full_name)"
   ]
  },
  {
   "cell_type": "code",
   "execution_count": null,
   "id": "e0898fd6",
   "metadata": {},
   "outputs": [],
   "source": []
  }
 ],
 "metadata": {
  "kernelspec": {
   "display_name": "Python 3",
   "language": "python",
   "name": "python3"
  },
  "language_info": {
   "codemirror_mode": {
    "name": "ipython",
    "version": 3
   },
   "file_extension": ".py",
   "mimetype": "text/x-python",
   "name": "python",
   "nbconvert_exporter": "python",
   "pygments_lexer": "ipython3",
   "version": "3.8.8"
  }
 },
 "nbformat": 4,
 "nbformat_minor": 5
}
