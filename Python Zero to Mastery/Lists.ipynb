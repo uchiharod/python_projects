{
 "cells": [
  {
   "cell_type": "code",
   "execution_count": 1,
   "id": "4ecf73a4",
   "metadata": {},
   "outputs": [
    {
     "name": "stdout",
     "output_type": "stream",
     "text": [
      "gadgets\n",
      "notebooks\n"
     ]
    }
   ],
   "source": [
    "li = [1,2,3,4,5]\n",
    "li2 = ['a', 'b', 'c']\n",
    "li3 = [1, 2, 'a', True]\n",
    "\n",
    "#Data Structure\n",
    "\n",
    "amazon_cart = ['gadgets', 'notebooks', 'sunglasses']\n",
    "print(amazon_cart[0])\n",
    "print(amazon_cart[1])"
   ]
  },
  {
   "cell_type": "code",
   "execution_count": null,
   "id": "e4e3f927",
   "metadata": {},
   "outputs": [],
   "source": []
  }
 ],
 "metadata": {
  "kernelspec": {
   "display_name": "Python 3",
   "language": "python",
   "name": "python3"
  },
  "language_info": {
   "codemirror_mode": {
    "name": "ipython",
    "version": 3
   },
   "file_extension": ".py",
   "mimetype": "text/x-python",
   "name": "python",
   "nbconvert_exporter": "python",
   "pygments_lexer": "ipython3",
   "version": "3.8.8"
  }
 },
 "nbformat": 4,
 "nbformat_minor": 5
}
