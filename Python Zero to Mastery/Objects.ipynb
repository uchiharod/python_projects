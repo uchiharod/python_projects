{
 "cells": [
  {
   "cell_type": "code",
   "execution_count": 1,
   "id": "83c5c1fa",
   "metadata": {},
   "outputs": [
    {
     "name": "stdout",
     "output_type": "stream",
     "text": [
      "The oldest cat is 5 years old.\n"
     ]
    }
   ],
   "source": [
    "class Cat:\n",
    "    species = 'mammal'\n",
    "    def __init__(self, name, age):\n",
    "        self.name = name\n",
    "        self.age = age\n",
    "\n",
    "\n",
    "# Instantiate the Cat object with 3 cats\n",
    "peanut = Cat(\"Peanut\", 3)\n",
    "garfield = Cat(\"Garfield\", 5)\n",
    "snickers = Cat(\"Snickers\", 1)\n",
    "\n",
    "\n",
    "# Find the oldest cat\n",
    "def get_oldest_cat(*args):\n",
    "    return max(args)\n",
    "\n",
    "\n",
    "# Output\n",
    "print(f\"The oldest cat is {get_oldest_cat(peanut.age, garfield.age, snickers.age)} years old.\")"
   ]
  },
  {
   "cell_type": "code",
   "execution_count": null,
   "id": "e4cb3247",
   "metadata": {},
   "outputs": [],
   "source": []
  }
 ],
 "metadata": {
  "kernelspec": {
   "display_name": "Python 3",
   "language": "python",
   "name": "python3"
  },
  "language_info": {
   "codemirror_mode": {
    "name": "ipython",
    "version": 3
   },
   "file_extension": ".py",
   "mimetype": "text/x-python",
   "name": "python",
   "nbconvert_exporter": "python",
   "pygments_lexer": "ipython3",
   "version": "3.8.8"
  }
 },
 "nbformat": 4,
 "nbformat_minor": 5
}
