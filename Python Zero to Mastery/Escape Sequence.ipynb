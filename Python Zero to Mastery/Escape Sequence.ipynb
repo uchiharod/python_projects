{
 "cells": [
  {
   "cell_type": "code",
   "execution_count": 1,
   "id": "12668c79",
   "metadata": {},
   "outputs": [
    {
     "name": "stdout",
     "output_type": "stream",
     "text": [
      "It's sunny\n",
      "\t It's \"kind of\" sunny \n",
      " I hope your bitch ass gets some sunburn mofo.\n"
     ]
    }
   ],
   "source": [
    "weather = \"It\\'s sunny\"\n",
    "print(weather)\n",
    "\n",
    "better_weather = \"\\t It\\'s \\\"kind of\\\" sunny \\n I hope your bitch ass gets some sunburn mofo.\"\n",
    "print(better_weather)"
   ]
  },
  {
   "cell_type": "code",
   "execution_count": null,
   "id": "2a48f4ef",
   "metadata": {},
   "outputs": [],
   "source": []
  }
 ],
 "metadata": {
  "kernelspec": {
   "display_name": "Python 3",
   "language": "python",
   "name": "python3"
  },
  "language_info": {
   "codemirror_mode": {
    "name": "ipython",
    "version": 3
   },
   "file_extension": ".py",
   "mimetype": "text/x-python",
   "name": "python",
   "nbconvert_exporter": "python",
   "pygments_lexer": "ipython3",
   "version": "3.8.8"
  }
 },
 "nbformat": 4,
 "nbformat_minor": 5
}
