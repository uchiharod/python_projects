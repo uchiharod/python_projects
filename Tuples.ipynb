{
 "cells": [
  {
   "cell_type": "code",
   "execution_count": 1,
   "id": "ffb22aec",
   "metadata": {},
   "outputs": [
    {
     "name": "stdout",
     "output_type": "stream",
     "text": [
      "Monday\n",
      "\n",
      "Monday\n",
      "Tuesday\n",
      "Wednesday\n",
      "Thursday\n",
      "Friday\n",
      "Saturday\n",
      "Sunday\n"
     ]
    },
    {
     "ename": "TypeError",
     "evalue": "'tuple' object does not support item assignment",
     "output_type": "error",
     "traceback": [
      "\u001b[1;31m---------------------------------------------------------------------------\u001b[0m",
      "\u001b[1;31mTypeError\u001b[0m                                 Traceback (most recent call last)",
      "\u001b[1;32m<ipython-input-1-1f63e6aa8d22>\u001b[0m in \u001b[0;36m<module>\u001b[1;34m\u001b[0m\n\u001b[0;32m      8\u001b[0m \u001b[1;33m\u001b[0m\u001b[0m\n\u001b[0;32m      9\u001b[0m \u001b[1;31m# You cannot modify values in a tuple.  This will raise an exception.\u001b[0m\u001b[1;33m\u001b[0m\u001b[1;33m\u001b[0m\u001b[1;33m\u001b[0m\u001b[0m\n\u001b[1;32m---> 10\u001b[1;33m \u001b[0mdays_of_the_week\u001b[0m\u001b[1;33m[\u001b[0m\u001b[1;36m0\u001b[0m\u001b[1;33m]\u001b[0m \u001b[1;33m=\u001b[0m \u001b[1;34m'New Monday'\u001b[0m\u001b[1;33m\u001b[0m\u001b[1;33m\u001b[0m\u001b[0m\n\u001b[0m",
      "\u001b[1;31mTypeError\u001b[0m: 'tuple' object does not support item assignment"
     ]
    }
   ],
   "source": [
    "days_of_the_week = ('Monday', 'Tuesday', 'Wednesday', 'Thursday', 'Friday', 'Saturday', 'Sunday')\n",
    "monday = days_of_the_week[0]\n",
    "print(monday)\n",
    "print()\n",
    "\n",
    "for day in days_of_the_week:\n",
    "    print(day)\n",
    "\n",
    "# You cannot modify values in a tuple.  This will raise an exception.\n",
    "days_of_the_week[0] = 'New Monday'\n"
   ]
  },
  {
   "cell_type": "code",
   "execution_count": 2,
   "id": "749a8023",
   "metadata": {},
   "outputs": [
    {
     "name": "stdout",
     "output_type": "stream",
     "text": [
      "('Monday', 'Tuesday', 'Wednesday', 'Thursday', 'Friday', 'Saturday', 'Sunday')\n"
     ]
    },
    {
     "ename": "NameError",
     "evalue": "name 'days_of_the_week' is not defined",
     "output_type": "error",
     "traceback": [
      "\u001b[1;31m---------------------------------------------------------------------------\u001b[0m",
      "\u001b[1;31mNameError\u001b[0m                                 Traceback (most recent call last)",
      "\u001b[1;32m<ipython-input-2-966d8586af86>\u001b[0m in \u001b[0;36m<module>\u001b[1;34m\u001b[0m\n\u001b[0;32m      3\u001b[0m \u001b[1;32mdel\u001b[0m \u001b[0mdays_of_the_week\u001b[0m\u001b[1;33m\u001b[0m\u001b[1;33m\u001b[0m\u001b[0m\n\u001b[0;32m      4\u001b[0m \u001b[1;31m# This will raise an exception since the tuple was deleted.\u001b[0m\u001b[1;33m\u001b[0m\u001b[1;33m\u001b[0m\u001b[1;33m\u001b[0m\u001b[0m\n\u001b[1;32m----> 5\u001b[1;33m \u001b[0mprint\u001b[0m\u001b[1;33m(\u001b[0m\u001b[0mdays_of_the_week\u001b[0m\u001b[1;33m)\u001b[0m\u001b[1;33m\u001b[0m\u001b[1;33m\u001b[0m\u001b[0m\n\u001b[0m",
      "\u001b[1;31mNameError\u001b[0m: name 'days_of_the_week' is not defined"
     ]
    }
   ],
   "source": [
    "days_of_the_week = ('Monday', 'Tuesday', 'Wednesday', 'Thursday', 'Friday', 'Saturday', 'Sunday')\n",
    "print(days_of_the_week)\n",
    "del days_of_the_week\n",
    "# This will raise an exception since the tuple was deleted.\n",
    "print(days_of_the_week)"
   ]
  },
  {
   "cell_type": "code",
   "execution_count": 3,
   "id": "17d6fcf6",
   "metadata": {},
   "outputs": [
    {
     "name": "stdout",
     "output_type": "stream",
     "text": [
      "days_of_the_week_tuple is <class 'tuple'>.\n",
      "days_of_the_week_list is <class 'list'>.\n",
      "animals_list is <class 'list'>.\n",
      "animals_tuple is <class 'tuple'>.\n"
     ]
    }
   ],
   "source": [
    "days_of_the_week_tuple = ('Monday', 'Tuesday', 'Wednesday', 'Thursday', 'Friday', 'Saturday', 'Sunday')\n",
    "days_of_the_week_list = list(days_of_the_week_tuple)\n",
    "print('days_of_the_week_tuple is {}.'.format(type(days_of_the_week_tuple)))\n",
    "print('days_of_the_week_list is {}.'.format(type(days_of_the_week_list)))\n",
    "\n",
    "animals_list = ['man', 'bear', 'pig']\n",
    "animals_tuple = tuple(animals_list)\n",
    "print('animals_list is {}.'.format(type(animals_list)))\n",
    "print('animals_tuple is {}.'.format(type(animals_tuple)))"
   ]
  },
  {
   "cell_type": "code",
   "execution_count": 4,
   "id": "4a0292ae",
   "metadata": {
    "scrolled": true
   },
   "outputs": [
    {
     "name": "stdout",
     "output_type": "stream",
     "text": [
      "Monday\n",
      "Tuesday\n",
      "Wednesday\n",
      "Thursday\n",
      "Friday\n",
      "Saturday\n",
      "Sunday\n"
     ]
    }
   ],
   "source": [
    "days_of_the_week = ('Monday', 'Tuesday', 'Wednesday', 'Thursday', 'Friday', 'Saturday', 'Sunday')\n",
    "for day in days_of_the_week:\n",
    "    print(day)\n"
   ]
  },
  {
   "cell_type": "code",
   "execution_count": 5,
   "id": "e7ca798d",
   "metadata": {},
   "outputs": [
    {
     "name": "stdout",
     "output_type": "stream",
     "text": [
      "Monday\n",
      "Friday\n"
     ]
    }
   ],
   "source": [
    "days_of_the_week = ('Monday', 'Tuesday', 'Wednesday', 'Thursday', 'Friday', 'Saturday', 'Sunday')\n",
    "(mon, tue, wed, thr, fri, sat, sun) = days_of_the_week\n",
    "print(mon)\n",
    "print(fri)\n"
   ]
  },
  {
   "cell_type": "code",
   "execution_count": 6,
   "id": "bd582bc0",
   "metadata": {},
   "outputs": [
    {
     "name": "stdout",
     "output_type": "stream",
     "text": [
      "555-0123\n",
      "jason@example.com\n"
     ]
    }
   ],
   "source": [
    "contact_info = ['555-0123', 'jason@example.com']\n",
    "(phone, email) = contact_info\n",
    "print(phone)\n",
    "print(email)"
   ]
  },
  {
   "cell_type": "code",
   "execution_count": 7,
   "id": "d2d01eed",
   "metadata": {},
   "outputs": [
    {
     "name": "stdout",
     "output_type": "stream",
     "text": [
      "The highest number is: 42\n",
      "The lowest number is: 4\n"
     ]
    }
   ],
   "source": [
    "def high_and_low(numbers):\n",
    "    \"\"\"Determine the highest and lowest number\"\"\"\n",
    "    highest = max(numbers)\n",
    "    lowest = min(numbers)\n",
    "    return (highest, lowest)\n",
    "\n",
    "lottery_numbers = [16, 4, 42, 15, 23, 8]\n",
    "(highest, lowest) = high_and_low(lottery_numbers)\n",
    "print('The highest number is: {}'.format(highest))\n",
    "print('The lowest number is: {}'.format(lowest))"
   ]
  },
  {
   "cell_type": "code",
   "execution_count": 8,
   "id": "1ecc3796",
   "metadata": {},
   "outputs": [
    {
     "name": "stdout",
     "output_type": "stream",
     "text": [
      "Jason's phone number is 555-0123.\n",
      "Carl's phone number is 555-0987.\n"
     ]
    }
   ],
   "source": [
    "contacts = [('Jason', '555-0123'), ('Carl', '555-0987')]\n",
    "for (name, phone) in contacts:\n",
    "    print(\"{}'s phone number is {}.\".format(name, phone))"
   ]
  },
  {
   "cell_type": "code",
   "execution_count": null,
   "id": "a9e644ed",
   "metadata": {},
   "outputs": [],
   "source": []
  }
 ],
 "metadata": {
  "kernelspec": {
   "display_name": "Python 3",
   "language": "python",
   "name": "python3"
  },
  "language_info": {
   "codemirror_mode": {
    "name": "ipython",
    "version": 3
   },
   "file_extension": ".py",
   "mimetype": "text/x-python",
   "name": "python",
   "nbconvert_exporter": "python",
   "pygments_lexer": "ipython3",
   "version": "3.8.8"
  }
 },
 "nbformat": 4,
 "nbformat_minor": 5
}
