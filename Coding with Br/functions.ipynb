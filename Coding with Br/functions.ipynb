{
 "cells": [
  {
   "cell_type": "code",
   "execution_count": 10,
   "id": "b7851ecd",
   "metadata": {},
   "outputs": [
    {
     "name": "stdout",
     "output_type": "stream",
     "text": [
      "hello \n",
      "Have a nice day!\n",
      "hello \n",
      "Have a nice day!\n",
      "hello \n",
      "Have a nice day!\n"
     ]
    }
   ],
   "source": [
    "def hello():\n",
    "    print(\"hello \")\n",
    "    print(\"Have a nice day!\")\n",
    "    \n",
    "hello()\n",
    "hello()\n",
    "hello()"
   ]
  },
  {
   "cell_type": "code",
   "execution_count": 14,
   "id": "440af618",
   "metadata": {},
   "outputs": [
    {
     "name": "stdout",
     "output_type": "stream",
     "text": [
      "hello Bro\n",
      "Have a nice day!\n"
     ]
    }
   ],
   "source": [
    "def hello(name): # <-- Parameters will go here, this is the nickname to the value in the arguments\n",
    "    print(\"hello \" + name)\n",
    "    print(\"Have a nice day!\")\n",
    "    \n",
    "my_name = \"Bro\"\n",
    "    \n",
    "hello(my_name) #arguments\n"
   ]
  },
  {
   "cell_type": "code",
   "execution_count": 15,
   "id": "32c49739",
   "metadata": {},
   "outputs": [
    {
     "ename": "TypeError",
     "evalue": "hello() takes 1 positional argument but 2 were given",
     "output_type": "error",
     "traceback": [
      "\u001b[1;31m---------------------------------------------------------------------------\u001b[0m",
      "\u001b[1;31mTypeError\u001b[0m                                 Traceback (most recent call last)",
      "\u001b[1;32m<ipython-input-15-33b2cd753f96>\u001b[0m in \u001b[0;36m<module>\u001b[1;34m\u001b[0m\n\u001b[0;32m      5\u001b[0m \u001b[0mmy_name\u001b[0m \u001b[1;33m=\u001b[0m \u001b[1;34m\"Bro\"\u001b[0m\u001b[1;33m\u001b[0m\u001b[1;33m\u001b[0m\u001b[0m\n\u001b[0;32m      6\u001b[0m \u001b[1;33m\u001b[0m\u001b[0m\n\u001b[1;32m----> 7\u001b[1;33m \u001b[0mhello\u001b[0m\u001b[1;33m(\u001b[0m\u001b[1;34m\"Bro\"\u001b[0m\u001b[1;33m,\u001b[0m \u001b[1;34m\"Code\"\u001b[0m\u001b[1;33m)\u001b[0m \u001b[1;31m#arguments\u001b[0m\u001b[1;33m\u001b[0m\u001b[1;33m\u001b[0m\u001b[0m\n\u001b[0m\u001b[0;32m      8\u001b[0m \u001b[1;31m#This won't work because we do not have a matching set of arguments and parameters we're sending\u001b[0m\u001b[1;33m\u001b[0m\u001b[1;33m\u001b[0m\u001b[1;33m\u001b[0m\u001b[0m\n\u001b[0;32m      9\u001b[0m \u001b[1;31m#two arguments over but our function is only designed to accept one argument\u001b[0m\u001b[1;33m\u001b[0m\u001b[1;33m\u001b[0m\u001b[1;33m\u001b[0m\u001b[0m\n",
      "\u001b[1;31mTypeError\u001b[0m: hello() takes 1 positional argument but 2 were given"
     ]
    }
   ],
   "source": [
    "def hello(name): # <-- Parameters will go here, this is the nickname to the value in the arguments\n",
    "    print(\"hello \" + name)\n",
    "    print(\"Have a nice day!\")\n",
    "    \n",
    "my_name = \"Bro\"\n",
    "    \n",
    "hello(\"Bro\", \"Code\") #arguments\n",
    "#This won't work because we do not have a matching set of arguments and parameters we're sending \n",
    "#two arguments over but our function is only designed to accept one argument because we have one parameter"
   ]
  },
  {
   "cell_type": "code",
   "execution_count": 16,
   "id": "75160f41",
   "metadata": {},
   "outputs": [
    {
     "name": "stdout",
     "output_type": "stream",
     "text": [
      "hello Bro Code\n",
      "Have a nice day!\n"
     ]
    }
   ],
   "source": [
    "def hello(first_name, last_name): # <-- Parameters will go here, this is the nickname to the value in the arguments\n",
    "    print(\"hello \" + first_name + \" \" + last_name)\n",
    "    print(\"Have a nice day!\")\n",
    "    \n",
    "my_name = \"Bro\"\n",
    "    \n",
    "hello(\"Bro\", \"Code\") #arguments"
   ]
  },
  {
   "cell_type": "code",
   "execution_count": 17,
   "id": "cb0eddec",
   "metadata": {},
   "outputs": [
    {
     "name": "stdout",
     "output_type": "stream",
     "text": [
      "hello Bro Code\n",
      "You are 21 years old!\n",
      "Have a nice day!\n"
     ]
    }
   ],
   "source": [
    "def hello(first_name, last_name, age): # <-- Parameters will go here, this is the nickname to the value in the arguments\n",
    "    print(\"hello \" + first_name + \" \" + last_name)\n",
    "    print(\"You are \" + str(age) + \" years old!\")\n",
    "    print(\"Have a nice day!\")\n",
    "    \n",
    "my_name = \"Bro\"\n",
    "    \n",
    "hello(\"Bro\", \"Code\", 21) #arguments\n",
    "#This won't work because we do not have a matching set of arguments and parameters we're sending \n",
    "#two arguments over but our function is only designed to accept one argument because we have one parameter"
   ]
  },
  {
   "cell_type": "code",
   "execution_count": null,
   "id": "bee4ea0d",
   "metadata": {},
   "outputs": [],
   "source": []
  }
 ],
 "metadata": {
  "kernelspec": {
   "display_name": "Python 3",
   "language": "python",
   "name": "python3"
  },
  "language_info": {
   "codemirror_mode": {
    "name": "ipython",
    "version": 3
   },
   "file_extension": ".py",
   "mimetype": "text/x-python",
   "name": "python",
   "nbconvert_exporter": "python",
   "pygments_lexer": "ipython3",
   "version": "3.8.8"
  }
 },
 "nbformat": 4,
 "nbformat_minor": 5
}
