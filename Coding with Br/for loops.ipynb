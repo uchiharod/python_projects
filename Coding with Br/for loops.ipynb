{
 "cells": [
  {
   "cell_type": "code",
   "execution_count": 2,
   "id": "10bd4e9a",
   "metadata": {},
   "outputs": [
    {
     "name": "stdout",
     "output_type": "stream",
     "text": [
      "0\n",
      "1\n",
      "2\n",
      "3\n",
      "4\n",
      "5\n",
      "6\n",
      "7\n",
      "8\n",
      "9\n"
     ]
    }
   ],
   "source": [
    "import time \n",
    "\n",
    "# for loop\n",
    "#a statement that will execute it's block of code a limited amount of times \n",
    "    #while loop = unlimited \n",
    "    #for loop = limited \n",
    "for i in range(10): #Remember the 10 is exclusive so we can change that with the below code\n",
    "    print(i)  \n"
   ]
  },
  {
   "cell_type": "code",
   "execution_count": 3,
   "id": "ef64844f",
   "metadata": {},
   "outputs": [
    {
     "name": "stdout",
     "output_type": "stream",
     "text": [
      "1\n",
      "2\n",
      "3\n",
      "4\n",
      "5\n",
      "6\n",
      "7\n",
      "8\n",
      "9\n",
      "10\n"
     ]
    }
   ],
   "source": [
    "import time \n",
    "\n",
    "# for loop\n",
    "#a statement that will execute it's block of code a limited amount of times \n",
    "    #while loop = unlimited \n",
    "    #for loop = limited \n",
    "for i in range(10): #Remember the 10 is exclusive so we can change that with the below code\n",
    "    print(i+1) "
   ]
  },
  {
   "cell_type": "code",
   "execution_count": 8,
   "id": "6def4588",
   "metadata": {},
   "outputs": [
    {
     "name": "stdout",
     "output_type": "stream",
     "text": [
      "0 1 2 3 4 5 6 7 8 9 10 "
     ]
    }
   ],
   "source": [
    "import time \n",
    "\n",
    "# for loop\n",
    "#a statement that will execute it's block of code a limited amount of times \n",
    "    #while loop = unlimited \n",
    "    #for loop = limited \n",
    "for i in range(10+1): #Remember the 10 is exclusive so we can change that with the below code\n",
    "    print(i, end=\" \") "
   ]
  },
  {
   "cell_type": "code",
   "execution_count": 7,
   "id": "13ba1cbb",
   "metadata": {},
   "outputs": [
    {
     "name": "stdout",
     "output_type": "stream",
     "text": [
      "50 51 52 53 54 55 56 57 58 59 60 61 62 63 64 65 66 67 68 69 70 71 72 73 74 75 76 77 78 79 80 81 82 83 84 85 86 87 88 89 90 91 92 93 94 95 96 97 98 99 "
     ]
    }
   ],
   "source": [
    "import time \n",
    "\n",
    "# for loop\n",
    "#a statement that will execute it's block of code a limited amount of times \n",
    "    #while loop = unlimited \n",
    "    #for loop = limited \n",
    "\n",
    "for i in range(50,100): #Remember, first number is inclusive, the second number is exclusive\n",
    "    print(i, end=\" \")  "
   ]
  },
  {
   "cell_type": "code",
   "execution_count": 9,
   "id": "81f4b3d5",
   "metadata": {},
   "outputs": [
    {
     "name": "stdout",
     "output_type": "stream",
     "text": [
      "50 52 54 56 58 60 62 64 66 68 70 72 74 76 78 80 82 84 86 88 90 92 94 96 98 100 "
     ]
    }
   ],
   "source": [
    "import time \n",
    "\n",
    "# for loop\n",
    "#a statement that will execute it's block of code a limited amount of times \n",
    "    #while loop = unlimited \n",
    "    #for loop = limited \n",
    "\n",
    "for i in range(50,100+1,2): #Remember, first number is inclusive, the second number is exclusive\n",
    "    #you can also add a 3rd argument as a step\n",
    "    print(i, end=\" \")  "
   ]
  },
  {
   "cell_type": "code",
   "execution_count": 10,
   "id": "420a9756",
   "metadata": {},
   "outputs": [
    {
     "name": "stdout",
     "output_type": "stream",
     "text": [
      "R\n",
      "o\n",
      "d\n",
      "e\n",
      "r\n",
      "i\n",
      "c\n",
      "k\n",
      " \n",
      "M\n",
      "o\n",
      "o\n",
      "r\n",
      "e\n"
     ]
    }
   ],
   "source": [
    "import time \n",
    "\n",
    "# for loop\n",
    "#a statement that will execute it's block of code a limited amount of times \n",
    "    #while loop = unlimited \n",
    "    #for loop = limited \n",
    "\n",
    "for i in \"Roderick Moore\": \n",
    "    print(i)"
   ]
  },
  {
   "cell_type": "code",
   "execution_count": 11,
   "id": "176db981",
   "metadata": {},
   "outputs": [
    {
     "name": "stdout",
     "output_type": "stream",
     "text": [
      "R o d e r i c k   M o o r e "
     ]
    }
   ],
   "source": [
    "import time \n",
    "\n",
    "# for loop\n",
    "#a statement that will execute it's block of code a limited amount of times \n",
    "    #while loop = unlimited \n",
    "    #for loop = limited \n",
    "\n",
    "for i in \"Roderick Moore\": \n",
    "    print(i, end=\" \")"
   ]
  },
  {
   "cell_type": "code",
   "execution_count": null,
   "id": "bf422317",
   "metadata": {},
   "outputs": [],
   "source": [
    "import time \n",
    "\n",
    "# for loop\n",
    "#a statement that will execute it's block of code a limited amount of times \n",
    "    #while loop = unlimited \n",
    "    #for loop = limited \n",
    "\n",
    "for seconds in range(10,r0, -1):: \n",
    "    print(seconds)\n",
    "    time.sleep(1)\n",
    "print"
   ]
  }
 ],
 "metadata": {
  "kernelspec": {
   "display_name": "Python 3",
   "language": "python",
   "name": "python3"
  },
  "language_info": {
   "codemirror_mode": {
    "name": "ipython",
    "version": 3
   },
   "file_extension": ".py",
   "mimetype": "text/x-python",
   "name": "python",
   "nbconvert_exporter": "python",
   "pygments_lexer": "ipython3",
   "version": "3.8.8"
  }
 },
 "nbformat": 4,
 "nbformat_minor": 5
}
