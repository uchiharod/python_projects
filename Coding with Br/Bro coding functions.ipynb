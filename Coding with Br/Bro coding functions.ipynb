{
 "cells": [
  {
   "cell_type": "code",
   "execution_count": 4,
   "id": "1467930f",
   "metadata": {},
   "outputs": [
    {
     "name": "stdout",
     "output_type": "stream",
     "text": [
      "hello Bro\n",
      "Have a nice day!\n"
     ]
    }
   ],
   "source": [
    "def hello(name):\n",
    "    print(\"hello \" +name)\n",
    "    print(\"Have a nice day!\")\n",
    "    \n",
    "my_name = \"Bro\"\n",
    "    \n",
    "hello(my_name)"
   ]
  },
  {
   "cell_type": "code",
   "execution_count": 5,
   "id": "31864740",
   "metadata": {},
   "outputs": [
    {
     "ename": "TypeError",
     "evalue": "hello() takes 1 positional argument but 2 were given",
     "output_type": "error",
     "traceback": [
      "\u001b[1;31m---------------------------------------------------------------------------\u001b[0m",
      "\u001b[1;31mTypeError\u001b[0m                                 Traceback (most recent call last)",
      "\u001b[1;32m<ipython-input-5-4b650fbbde92>\u001b[0m in \u001b[0;36m<module>\u001b[1;34m\u001b[0m\n\u001b[0;32m      5\u001b[0m \u001b[0mmy_name\u001b[0m \u001b[1;33m=\u001b[0m \u001b[1;34m\"Bro\"\u001b[0m\u001b[1;33m\u001b[0m\u001b[1;33m\u001b[0m\u001b[0m\n\u001b[0;32m      6\u001b[0m \u001b[1;33m\u001b[0m\u001b[0m\n\u001b[1;32m----> 7\u001b[1;33m \u001b[0mhello\u001b[0m\u001b[1;33m(\u001b[0m\u001b[1;34m\"Bro\"\u001b[0m\u001b[1;33m,\u001b[0m \u001b[1;34m\"Code\"\u001b[0m\u001b[1;33m)\u001b[0m\u001b[1;33m\u001b[0m\u001b[1;33m\u001b[0m\u001b[0m\n\u001b[0m",
      "\u001b[1;31mTypeError\u001b[0m: hello() takes 1 positional argument but 2 were given"
     ]
    }
   ],
   "source": [
    "def hello(name):\n",
    "    print(\"hello \" +name)\n",
    "    print(\"Have a nice day!\")\n",
    "    \n",
    "my_name = \"Bro\"\n",
    "    \n",
    "hello(\"Bro\", \"Code\")\n",
    "\n",
    "#Sending 2 arguments when function is designed to accept one argument will ensure it fails"
   ]
  },
  {
   "cell_type": "code",
   "execution_count": 6,
   "id": "1b96603b",
   "metadata": {},
   "outputs": [
    {
     "name": "stdout",
     "output_type": "stream",
     "text": [
      "hello Bro Code\n",
      "Have a nice day!\n"
     ]
    }
   ],
   "source": [
    "def hello(first_name, last_name):\n",
    "    print(\"hello \" + first_name + \" \" + last_name)\n",
    "    print(\"Have a nice day!\")\n",
    "    \n",
    "my_name = \"Bro\"\n",
    "    \n",
    "hello(\"Bro\", \"Code\")"
   ]
  },
  {
   "cell_type": "code",
   "execution_count": 7,
   "id": "5499c6ca",
   "metadata": {},
   "outputs": [
    {
     "ename": "TypeError",
     "evalue": "hello() takes 2 positional arguments but 3 were given",
     "output_type": "error",
     "traceback": [
      "\u001b[1;31m---------------------------------------------------------------------------\u001b[0m",
      "\u001b[1;31mTypeError\u001b[0m                                 Traceback (most recent call last)",
      "\u001b[1;32m<ipython-input-7-7050c70ec447>\u001b[0m in \u001b[0;36m<module>\u001b[1;34m\u001b[0m\n\u001b[0;32m      5\u001b[0m \u001b[0mmy_name\u001b[0m \u001b[1;33m=\u001b[0m \u001b[1;34m\"Bro\"\u001b[0m\u001b[1;33m\u001b[0m\u001b[1;33m\u001b[0m\u001b[0m\n\u001b[0;32m      6\u001b[0m \u001b[1;33m\u001b[0m\u001b[0m\n\u001b[1;32m----> 7\u001b[1;33m \u001b[0mhello\u001b[0m\u001b[1;33m(\u001b[0m\u001b[1;34m\"Bro\"\u001b[0m\u001b[1;33m,\u001b[0m \u001b[1;34m\"Code\"\u001b[0m\u001b[1;33m,\u001b[0m \u001b[1;36m21\u001b[0m\u001b[1;33m)\u001b[0m\u001b[1;33m\u001b[0m\u001b[1;33m\u001b[0m\u001b[0m\n\u001b[0m",
      "\u001b[1;31mTypeError\u001b[0m: hello() takes 2 positional arguments but 3 were given"
     ]
    }
   ],
   "source": [
    "def hello(first_name, last_name):\n",
    "    print(\"hello \" + first_name + \" \" + last_name)\n",
    "    print(\"Have a nice day!\")\n",
    "    \n",
    "my_name = \"Bro\"\n",
    "    \n",
    "hello(\"Bro\", \"Code\", 21)"
   ]
  },
  {
   "cell_type": "code",
   "execution_count": 10,
   "id": "9ff35163",
   "metadata": {},
   "outputs": [
    {
     "name": "stdout",
     "output_type": "stream",
     "text": [
      "hello Bro Code\n",
      "You are 21 years old.\n",
      "Have a nice day!\n"
     ]
    }
   ],
   "source": [
    "def hello(first_name, last_name, age):\n",
    "    print(\"hello \" + first_name + \" \" + last_name)\n",
    "    print(\"You are \" + str(age) + \" years old.\")\n",
    "    print(\"Have a nice day!\")\n",
    "    \n",
    "my_name = \"Bro\"\n",
    "    \n",
    "hello(\"Bro\", \"Code\", 21)"
   ]
  },
  {
   "cell_type": "code",
   "execution_count": null,
   "id": "80249ae5",
   "metadata": {},
   "outputs": [],
   "source": []
  }
 ],
 "metadata": {
  "kernelspec": {
   "display_name": "Python 3",
   "language": "python",
   "name": "python3"
  },
  "language_info": {
   "codemirror_mode": {
    "name": "ipython",
    "version": 3
   },
   "file_extension": ".py",
   "mimetype": "text/x-python",
   "name": "python",
   "nbconvert_exporter": "python",
   "pygments_lexer": "ipython3",
   "version": "3.8.8"
  }
 },
 "nbformat": 4,
 "nbformat_minor": 5
}
