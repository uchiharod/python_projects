{
 "cells": [
  {
   "cell_type": "code",
   "execution_count": 37,
   "id": "58ada546",
   "metadata": {},
   "outputs": [
    {
     "name": "stdout",
     "output_type": "stream",
     "text": [
      "[['coffee', 'soda', 'tea'], ['pizza', 'hamburger', 'hotdog'], ['cake', 'ice cream']]\n"
     ]
    }
   ],
   "source": [
    "# 2D lists - a list of lists \n",
    "drinks = [\"coffee\", \"soda\", \"tea\"] \n",
    "dinner = [\"pizza\",\"hamburger\", \"hotdog\"] \n",
    "dessert = [\"cake\", \"ice cream\"] \n",
    "\n",
    "food = [drinks, dinner, dessert] \n",
    "\n",
    "print(food) "
   ]
  },
  {
   "cell_type": "code",
   "execution_count": 38,
   "id": "4631079c",
   "metadata": {},
   "outputs": [
    {
     "name": "stdout",
     "output_type": "stream",
     "text": [
      "coffee\n"
     ]
    }
   ],
   "source": [
    "print(food[0][0])"
   ]
  },
  {
   "cell_type": "code",
   "execution_count": 39,
   "id": "b427bf40",
   "metadata": {},
   "outputs": [
    {
     "name": "stdout",
     "output_type": "stream",
     "text": [
      "soda\n"
     ]
    }
   ],
   "source": [
    "print(food[0][1])"
   ]
  },
  {
   "cell_type": "code",
   "execution_count": 40,
   "id": "87aeccdb",
   "metadata": {},
   "outputs": [
    {
     "name": "stdout",
     "output_type": "stream",
     "text": [
      "tea\n"
     ]
    }
   ],
   "source": [
    "print(food[0][2])"
   ]
  },
  {
   "cell_type": "code",
   "execution_count": 41,
   "id": "aafcaa3d",
   "metadata": {},
   "outputs": [
    {
     "name": "stdout",
     "output_type": "stream",
     "text": [
      "hamburger\n"
     ]
    }
   ],
   "source": [
    "print(food[1][1])"
   ]
  },
  {
   "cell_type": "code",
   "execution_count": 42,
   "id": "4ef8f5ff",
   "metadata": {},
   "outputs": [
    {
     "name": "stdout",
     "output_type": "stream",
     "text": [
      "hotdog\n"
     ]
    }
   ],
   "source": [
    "print(food[1][2])"
   ]
  },
  {
   "cell_type": "code",
   "execution_count": 43,
   "id": "e016c58d",
   "metadata": {},
   "outputs": [
    {
     "ename": "IndexError",
     "evalue": "list index out of range",
     "output_type": "error",
     "traceback": [
      "\u001b[1;31m---------------------------------------------------------------------------\u001b[0m",
      "\u001b[1;31mIndexError\u001b[0m                                Traceback (most recent call last)",
      "\u001b[1;32m<ipython-input-43-5cab3c74f360>\u001b[0m in \u001b[0;36m<module>\u001b[1;34m\u001b[0m\n\u001b[1;32m----> 1\u001b[1;33m \u001b[0mprint\u001b[0m\u001b[1;33m(\u001b[0m\u001b[0mfood\u001b[0m\u001b[1;33m[\u001b[0m\u001b[1;36m2\u001b[0m\u001b[1;33m]\u001b[0m\u001b[1;33m[\u001b[0m\u001b[1;36m2\u001b[0m\u001b[1;33m]\u001b[0m\u001b[1;33m)\u001b[0m\u001b[1;33m\u001b[0m\u001b[1;33m\u001b[0m\u001b[0m\n\u001b[0m",
      "\u001b[1;31mIndexError\u001b[0m: list index out of range"
     ]
    }
   ],
   "source": [
    "print(food[2][2])"
   ]
  },
  {
   "cell_type": "code",
   "execution_count": null,
   "id": "8d688b76",
   "metadata": {},
   "outputs": [],
   "source": []
  }
 ],
 "metadata": {
  "kernelspec": {
   "display_name": "Python 3",
   "language": "python",
   "name": "python3"
  },
  "language_info": {
   "codemirror_mode": {
    "name": "ipython",
    "version": 3
   },
   "file_extension": ".py",
   "mimetype": "text/x-python",
   "name": "python",
   "nbconvert_exporter": "python",
   "pygments_lexer": "ipython3",
   "version": "3.8.8"
  }
 },
 "nbformat": 4,
 "nbformat_minor": 5
}
