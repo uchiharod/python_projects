{
 "cells": [
  {
   "cell_type": "code",
   "execution_count": 4,
   "id": "97d3f298",
   "metadata": {},
   "outputs": [
    {
     "name": "stdout",
     "output_type": "stream",
     "text": [
      "How old are you?: 3\n",
      "You are a child!\n"
     ]
    }
   ],
   "source": [
    "#if statement - a block of code that executes if its condition is true\n",
    "age = int(input(\"How old are you?: \"))\n",
    "\n",
    "if age >= 18:\n",
    "    print(\"You are an adult!\")\n",
    "elif age < 0:\n",
    "    print(\"You haven't been born yet!\")\n",
    "else: \n",
    "    print(\"You are a child!\")"
   ]
  },
  {
   "cell_type": "code",
   "execution_count": null,
   "id": "069c6484",
   "metadata": {},
   "outputs": [],
   "source": [
    "age = int(input(\"How old are you?: \"))\n",
    "\n",
    "if age >= 18:\n",
    "    print(\"You are an adult!\")\n",
    "elif age ==100:\n",
    "    print(\"You are a sage!\")\n",
    "elif age < 0:\n",
    "    print(\"You haven't been born yet!\")\n",
    "else: \n",
    "    print(\"You are a child!\")"
   ]
  }
 ],
 "metadata": {
  "kernelspec": {
   "display_name": "Python 3",
   "language": "python",
   "name": "python3"
  },
  "language_info": {
   "codemirror_mode": {
    "name": "ipython",
    "version": 3
   },
   "file_extension": ".py",
   "mimetype": "text/x-python",
   "name": "python",
   "nbconvert_exporter": "python",
   "pygments_lexer": "ipython3",
   "version": "3.8.8"
  }
 },
 "nbformat": 4,
 "nbformat_minor": 5
}
