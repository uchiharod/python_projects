{
 "cells": [
  {
   "cell_type": "code",
   "execution_count": 10,
   "id": "372918f9",
   "metadata": {},
   "outputs": [
    {
     "name": "stdout",
     "output_type": "stream",
     "text": [
      "The number pi is 1000.000\n",
      "The number is 1,000\n",
      "The number is 1111101000\n",
      "The number is 1750\n",
      "The number is 3E8\n",
      "The number is 1.000000E+03\n",
      "-------------------\n",
      "The cow jumped over the moon\n",
      "The cow jumped over the moon\n",
      "The moon jumped over the cow\n",
      "The sun jumped over the turtle\n",
      "The cow jumped over the moon\n"
     ]
    }
   ],
   "source": [
    "#\tstr.format = optional method that gives users more control when displaying output\n",
    "#\n",
    "number = 1000\n",
    "print(\"The number pi is {:.3f}\".format(number)) \n",
    "print(\"The number is {:,}\".format(number))\n",
    "print(\"The number is {:b}\".format(number)) \n",
    "print(\"The number is {:o}\".format(number)) \n",
    "print(\"The number is {:X}\".format(number)) \n",
    "print(\"The number is {:E}\".format(number))\n",
    "print(\"-------------------\")\n",
    "animal = \"cow\"\n",
    "item = \"moon\"\n",
    "\n",
    "print(\"The {} jumped over the {}\".format(animal,item))\n",
    "print(\"The {0} jumped over the {1}\".format(animal,item))\n",
    "print(\"The {1} jumped over the {0}\".format(animal,item))\n",
    "print(\"The {item2} jumped over the {animal2}\".format(animal2=\"turtle\",item2=\"sun\"))\n",
    "\n",
    "text = \"The {} jumped over the {}\"\n",
    "print(text.format(animal,item ))"
   ]
  },
  {
   "cell_type": "code",
   "execution_count": null,
   "id": "f16ff6c2",
   "metadata": {},
   "outputs": [],
   "source": []
  }
 ],
 "metadata": {
  "kernelspec": {
   "display_name": "Python 3",
   "language": "python",
   "name": "python3"
  },
  "language_info": {
   "codemirror_mode": {
    "name": "ipython",
    "version": 3
   },
   "file_extension": ".py",
   "mimetype": "text/x-python",
   "name": "python",
   "nbconvert_exporter": "python",
   "pygments_lexer": "ipython3",
   "version": "3.8.8"
  }
 },
 "nbformat": 4,
 "nbformat_minor": 5
}
