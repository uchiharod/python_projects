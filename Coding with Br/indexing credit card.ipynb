{
 "cells": [
  {
   "cell_type": "code",
   "execution_count": 1,
   "id": "ea020291",
   "metadata": {},
   "outputs": [
    {
     "name": "stdout",
     "output_type": "stream",
     "text": [
      "1\n",
      "1234\n",
      "1234\n",
      "-567\n",
      "-5678-9012-3456\n",
      "6\n",
      "3456\n",
      "13-6891-46\n",
      "146-136\n",
      "6543-2109-8765-4321\n"
     ]
    }
   ],
   "source": [
    "# indexing = accessing elements of a sequence using [] (indexing operator)\n",
    "#                     [start : end : step]\n",
    "\n",
    "credit_number = \"1234-5678-9012-3456\"\n",
    "\n",
    "print(credit_number[0])\n",
    "print(credit_number[0:4])\n",
    "print(credit_number[:4])\n",
    "print(credit_number[4:8])\n",
    "print(credit_number[4:])\n",
    "print(credit_number[-1])\n",
    "print(credit_number[-4:])\n",
    "print(credit_number[::2])\n",
    "print(credit_number[::3])\n",
    "\n",
    "# EXERCISE 1\n",
    "credit_number = \"1234-5678-9012-3456\"\n",
    "# last_digits = credit_number[-4:]\n",
    "# print(f\"XXXX-XXXX-XXXX-{last_digits}\")\n",
    "\n",
    "# EXERCISE 2\n",
    "credit_number = \"1234-5678-9012-3456\"\n",
    "credit_number = credit_number[::-1]\n",
    "print(credit_number)"
   ]
  },
  {
   "cell_type": "code",
   "execution_count": null,
   "id": "03b49ca4",
   "metadata": {},
   "outputs": [],
   "source": []
  }
 ],
 "metadata": {
  "kernelspec": {
   "display_name": "Python 3",
   "language": "python",
   "name": "python3"
  },
  "language_info": {
   "codemirror_mode": {
    "name": "ipython",
    "version": 3
   },
   "file_extension": ".py",
   "mimetype": "text/x-python",
   "name": "python",
   "nbconvert_exporter": "python",
   "pygments_lexer": "ipython3",
   "version": "3.8.8"
  }
 },
 "nbformat": 4,
 "nbformat_minor": 5
}
