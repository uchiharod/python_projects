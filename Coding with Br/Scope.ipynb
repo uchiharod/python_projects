{
 "cells": [
  {
   "cell_type": "code",
   "execution_count": null,
   "id": "d291a89a",
   "metadata": {},
   "outputs": [],
   "source": [
    "# scope = The region that a variable is recognized\n",
    "#\tA variable is only available from inside the region it is created.\n",
    "#\tA global and locally scoped versions of a variable can be created\n",
    "\n",
    "name = \"Bro\"# global scope (available inside & outside functions)\n",
    "\n",
    "def display_name():\n",
    "    name = \"Code\" #local scope (available only inside this function) \n",
    "    print(name)\n",
    "\n",
    "display_name()\n",
    "print(name)\n",
    "\n"
   ]
  },
  {
   "cell_type": "code",
   "execution_count": 2,
   "id": "5eed5c00",
   "metadata": {},
   "outputs": [
    {
     "name": "stdout",
     "output_type": "stream",
     "text": [
      "Bro\n"
     ]
    }
   ],
   "source": [
    "name = \"Bro\"# global scope (available inside & outside functions)\n",
    "\n",
    "def display_name():\n",
    "    name = \"Code\" #local scope (available only inside this function) \n",
    "    print(name)\n",
    "\n",
    "print(name)"
   ]
  },
  {
   "cell_type": "code",
   "execution_count": null,
   "id": "96dd3b6e",
   "metadata": {},
   "outputs": [],
   "source": [
    "#The above prints the global\n",
    "#Python uses LEGB rule\n",
    "#Local, Enclosing, global, built-in"
   ]
  },
  {
   "cell_type": "code",
   "execution_count": 3,
   "id": "b307d8ea",
   "metadata": {},
   "outputs": [
    {
     "name": "stdout",
     "output_type": "stream",
     "text": [
      "Bro\n",
      "Bro\n"
     ]
    }
   ],
   "source": [
    "name = \"Bro\" #global scope (available inside & outside functions)\n",
    "\n",
    "def display_name():\n",
    "    #name = \"Code\" #local scope (available only inside this function) \n",
    "    print(name)\n",
    "\n",
    "display_name()\n",
    "print(name)"
   ]
  },
  {
   "cell_type": "code",
   "execution_count": 4,
   "id": "1f97ea0c",
   "metadata": {},
   "outputs": [
    {
     "name": "stdout",
     "output_type": "stream",
     "text": [
      "Code\n",
      "Bro\n"
     ]
    }
   ],
   "source": [
    "name = \"Bro\" #global scope (available inside & outside functions)\n",
    "\n",
    "def display_name():\n",
    "    name = \"Code\" #local scope (available only inside this function) \n",
    "    print(name)\n",
    "\n",
    "display_name()\n",
    "print(name)"
   ]
  },
  {
   "cell_type": "code",
   "execution_count": null,
   "id": "0641b0e2",
   "metadata": {},
   "outputs": [],
   "source": []
  }
 ],
 "metadata": {
  "kernelspec": {
   "display_name": "Python 3",
   "language": "python",
   "name": "python3"
  },
  "language_info": {
   "codemirror_mode": {
    "name": "ipython",
    "version": 3
   },
   "file_extension": ".py",
   "mimetype": "text/x-python",
   "name": "python",
   "nbconvert_exporter": "python",
   "pygments_lexer": "ipython3",
   "version": "3.8.8"
  }
 },
 "nbformat": 4,
 "nbformat_minor": 5
}
