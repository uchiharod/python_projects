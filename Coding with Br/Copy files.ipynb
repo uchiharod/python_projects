{
 "cells": [
  {
   "cell_type": "code",
   "execution_count": null,
   "id": "9932b976",
   "metadata": {},
   "outputs": [],
   "source": [
    "#copyfile() = copies contents of a file\n",
    "#copy() =\tcopyfile() + permission mode + destination can be a directory\n",
    "#copy2() =\tcopy() + copies metadata (file’s creation and modification times)\n",
    "\n",
    "import shutil\n",
    "\n",
    "shutil.copyfile('test.txt','copy.txt') #src,dst\n",
    "\n"
   ]
  }
 ],
 "metadata": {
  "kernelspec": {
   "display_name": "Python 3",
   "language": "python",
   "name": "python3"
  },
  "language_info": {
   "codemirror_mode": {
    "name": "ipython",
    "version": 3
   },
   "file_extension": ".py",
   "mimetype": "text/x-python",
   "name": "python",
   "nbconvert_exporter": "python",
   "pygments_lexer": "ipython3",
   "version": "3.8.8"
  }
 },
 "nbformat": 4,
 "nbformat_minor": 5
}
