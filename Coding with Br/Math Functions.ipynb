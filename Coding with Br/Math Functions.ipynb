{
 "cells": [
  {
   "cell_type": "code",
   "execution_count": 1,
   "id": "b5b8d6ed",
   "metadata": {},
   "outputs": [
    {
     "name": "stdout",
     "output_type": "stream",
     "text": [
      "3\n"
     ]
    }
   ],
   "source": [
    "import math\n",
    "\n",
    "pi = 3.14\n",
    "\n",
    "print(round(pi))"
   ]
  },
  {
   "cell_type": "code",
   "execution_count": 2,
   "id": "5d29a62d",
   "metadata": {},
   "outputs": [
    {
     "name": "stdout",
     "output_type": "stream",
     "text": [
      "4\n"
     ]
    }
   ],
   "source": [
    "print(math.ceil(pi))"
   ]
  },
  {
   "cell_type": "code",
   "execution_count": 3,
   "id": "32b8d022",
   "metadata": {},
   "outputs": [
    {
     "name": "stdout",
     "output_type": "stream",
     "text": [
      "3\n"
     ]
    }
   ],
   "source": [
    "print(math.floor(pi))"
   ]
  },
  {
   "cell_type": "code",
   "execution_count": 5,
   "id": "26e662c2",
   "metadata": {},
   "outputs": [
    {
     "name": "stdout",
     "output_type": "stream",
     "text": [
      "3.14\n"
     ]
    }
   ],
   "source": [
    "print(abs(pi))"
   ]
  },
  {
   "cell_type": "code",
   "execution_count": 6,
   "id": "4c90c0f5",
   "metadata": {},
   "outputs": [
    {
     "name": "stdout",
     "output_type": "stream",
     "text": [
      "9.8596\n"
     ]
    }
   ],
   "source": [
    "print(pow(pi,2))"
   ]
  },
  {
   "cell_type": "code",
   "execution_count": 8,
   "id": "049cb307",
   "metadata": {},
   "outputs": [
    {
     "name": "stdout",
     "output_type": "stream",
     "text": [
      "20.493901531919196\n"
     ]
    }
   ],
   "source": [
    "print(math.sqrt(420))"
   ]
  },
  {
   "cell_type": "code",
   "execution_count": null,
   "id": "41865496",
   "metadata": {},
   "outputs": [],
   "source": []
  }
 ],
 "metadata": {
  "kernelspec": {
   "display_name": "Python 3",
   "language": "python",
   "name": "python3"
  },
  "language_info": {
   "codemirror_mode": {
    "name": "ipython",
    "version": 3
   },
   "file_extension": ".py",
   "mimetype": "text/x-python",
   "name": "python",
   "nbconvert_exporter": "python",
   "pygments_lexer": "ipython3",
   "version": "3.8.8"
  }
 },
 "nbformat": 4,
 "nbformat_minor": 5
}
