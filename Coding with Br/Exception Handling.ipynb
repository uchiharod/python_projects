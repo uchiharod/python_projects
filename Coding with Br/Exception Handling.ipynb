{
 "cells": [
  {
   "cell_type": "code",
   "execution_count": 6,
   "id": "e2b38179",
   "metadata": {},
   "outputs": [
    {
     "name": "stdout",
     "output_type": "stream",
     "text": [
      "Enter a number to divide: 8\n",
      "Enter a number to divide by: 0\n",
      "division by zero\n",
      "You can't divide by zero! idiot!\n",
      "This will always execute\n"
     ]
    }
   ],
   "source": [
    "# exception = events detected during execution that interrupt the flow of a prograr\n",
    "try:\n",
    "    numerator = int(input(\"Enter a number to divide: \")) \n",
    "    denominator = int(input(\"Enter a number to divide by: \")) \n",
    "    result = numerator / denominator \n",
    "    print(result)\n",
    "except ZeroDivisionError as e: \n",
    "    print(e)\n",
    "    print(\"You can't divide by zero! idiot!\") \n",
    "except ValueError as e: \n",
    "    print(e)\n",
    "    print(\"Enter only numbers plz\") \n",
    "except Exception as e: \n",
    "        print(e)\n",
    "        print(\"something went wrong :(\") \n",
    "else:\n",
    "    print(result)\n",
    "finally:\n",
    "    print(\"This will always execute\")\n",
    "\n"
   ]
  },
  {
   "cell_type": "code",
   "execution_count": null,
   "id": "25deb5fe",
   "metadata": {},
   "outputs": [],
   "source": []
  }
 ],
 "metadata": {
  "kernelspec": {
   "display_name": "Python 3",
   "language": "python",
   "name": "python3"
  },
  "language_info": {
   "codemirror_mode": {
    "name": "ipython",
    "version": 3
   },
   "file_extension": ".py",
   "mimetype": "text/x-python",
   "name": "python",
   "nbconvert_exporter": "python",
   "pygments_lexer": "ipython3",
   "version": "3.8.8"
  }
 },
 "nbformat": 4,
 "nbformat_minor": 5
}
