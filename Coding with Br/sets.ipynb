{
 "cells": [
  {
   "cell_type": "code",
   "execution_count": 14,
   "id": "3fcfcd1e",
   "metadata": {},
   "outputs": [
    {
     "name": "stdout",
     "output_type": "stream",
     "text": [
      "fork\n",
      "cup\n",
      "plate\n",
      "knife\n",
      "spoon\n",
      "bowl\n"
     ]
    }
   ],
   "source": [
    "#set - collection which is unordered, unindexed. No duplicate values \n",
    "utensils = {\"fork\", \"spoon\", \"knife\"} \n",
    "dishes = {\"bowl\", \"plate\", \"cup\", \"knife\"}\n",
    "\n",
    "#utensils.add(\"napkin\")\n",
    "#utensils.remove(\"fork\")\n",
    "#utensils.clear()\n",
    "#dishes.update(utensils)\n",
    "dinner_table = utensils.union(dishes) \n",
    "\n",
    "#print(dishes.difference(utensils))\n",
    "#print(utensils.intersection(dishes))\n",
    "for x in dinner_table: \n",
    "    print(x)\n",
    "\n",
    "\n",
    "#   List  = [] ordered and changeable. Duplicates OK\n",
    "#   Set   = {} unordered and immutable, but Add/Remove OK. NO duplicates\n",
    "#   Tuple = () ordered and unchangeable. Duplicates OK. FASTER"
   ]
  },
  {
   "cell_type": "code",
   "execution_count": 15,
   "id": "eee4fc99",
   "metadata": {},
   "outputs": [
    {
     "name": "stdout",
     "output_type": "stream",
     "text": [
      "knife\n",
      "spoon\n",
      "fork\n",
      "napkin\n"
     ]
    }
   ],
   "source": [
    "utensils.add(\"napkin\")\n",
    "for x in utensils: \n",
    "    print(x)"
   ]
  },
  {
   "cell_type": "code",
   "execution_count": 16,
   "id": "2b01fed0",
   "metadata": {},
   "outputs": [
    {
     "name": "stdout",
     "output_type": "stream",
     "text": [
      "knife\n",
      "spoon\n",
      "napkin\n"
     ]
    }
   ],
   "source": [
    "utensils.remove(\"fork\")\n",
    "for x in utensils: \n",
    "    print(x)"
   ]
  },
  {
   "cell_type": "code",
   "execution_count": 17,
   "id": "f71576e4",
   "metadata": {},
   "outputs": [
    {
     "name": "stdout",
     "output_type": "stream",
     "text": [
      "{'napkin', 'spoon'}\n"
     ]
    }
   ],
   "source": [
    "print(utensils.difference(dishes))\n",
    "print(dishes.difference(dishes))"
   ]
  },
  {
   "cell_type": "code",
   "execution_count": null,
   "id": "4036bc1f",
   "metadata": {},
   "outputs": [],
   "source": []
  }
 ],
 "metadata": {
  "kernelspec": {
   "display_name": "Python 3",
   "language": "python",
   "name": "python3"
  },
  "language_info": {
   "codemirror_mode": {
    "name": "ipython",
    "version": 3
   },
   "file_extension": ".py",
   "mimetype": "text/x-python",
   "name": "python",
   "nbconvert_exporter": "python",
   "pygments_lexer": "ipython3",
   "version": "3.8.8"
  }
 },
 "nbformat": 4,
 "nbformat_minor": 5
}
