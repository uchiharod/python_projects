{
 "cells": [
  {
   "cell_type": "code",
   "execution_count": 1,
   "id": "238dfed6",
   "metadata": {},
   "outputs": [
    {
     "name": "stdout",
     "output_type": "stream",
     "text": [
      "elarson\n",
      "bmoreno\n",
      "tshah\n",
      "sgilmore\n"
     ]
    }
   ],
   "source": [
    "for i in [\"elarson\", \"bmoreno\", \"tshah\", \"sgilmore\"]:\n",
    "    print(i)"
   ]
  },
  {
   "cell_type": "code",
   "execution_count": 2,
   "id": "1dc34253",
   "metadata": {},
   "outputs": [
    {
     "name": "stdout",
     "output_type": "stream",
     "text": [
      "laptop1\n",
      "desktop20\n",
      "smartphone03\n"
     ]
    }
   ],
   "source": [
    "computer_assets = [\"laptop1\", \"desktop20\", \"smartphone03\"]\n",
    "for asset in computer_assets:\n",
    "    print(asset)"
   ]
  },
  {
   "cell_type": "code",
   "execution_count": 3,
   "id": "09af0051",
   "metadata": {},
   "outputs": [
    {
     "name": "stdout",
     "output_type": "stream",
     "text": [
      "s\n",
      "e\n",
      "c\n",
      "u\n",
      "r\n",
      "i\n",
      "t\n",
      "y\n"
     ]
    }
   ],
   "source": [
    "string = \"security\"\n",
    "for character in string:\n",
    "    print(character)"
   ]
  },
  {
   "cell_type": "code",
   "execution_count": 4,
   "id": "b74a448d",
   "metadata": {},
   "outputs": [
    {
     "name": "stdout",
     "output_type": "stream",
     "text": [
      "security"
     ]
    }
   ],
   "source": [
    "string = \"security\"\n",
    "for character in string:\n",
    "    print(character, end=\"\")"
   ]
  },
  {
   "cell_type": "code",
   "execution_count": 5,
   "id": "ecb92a28",
   "metadata": {},
   "outputs": [
    {
     "name": "stdout",
     "output_type": "stream",
     "text": [
      "0\n",
      "1\n",
      "2\n",
      "3\n",
      "4\n"
     ]
    }
   ],
   "source": [
    "for i in range(0, 5, 1):\n",
    "    print(i)"
   ]
  },
  {
   "cell_type": "code",
   "execution_count": 10,
   "id": "e0065e15",
   "metadata": {},
   "outputs": [
    {
     "name": "stdout",
     "output_type": "stream",
     "text": [
      "0 1 2 3 4 "
     ]
    }
   ],
   "source": [
    "for i in range(5):\n",
    "    print(i, end=\" \")"
   ]
  },
  {
   "cell_type": "code",
   "execution_count": 11,
   "id": "2e79c200",
   "metadata": {},
   "outputs": [
    {
     "name": "stdout",
     "output_type": "stream",
     "text": [
      "0_1_2_3_4_"
     ]
    }
   ],
   "source": [
    "for i in range(5):\n",
    "    print(i, end=\"_\")"
   ]
  },
  {
   "cell_type": "code",
   "execution_count": 12,
   "id": "e49204dc",
   "metadata": {},
   "outputs": [
    {
     "name": "stdout",
     "output_type": "stream",
     "text": [
      "1\n",
      "2\n",
      "3\n",
      "4\n"
     ]
    }
   ],
   "source": [
    "i = 1\n",
    "while i < 5:\n",
    "    print(i)\n",
    "    i = i + 1"
   ]
  },
  {
   "cell_type": "code",
   "execution_count": 13,
   "id": "dcb7bf69",
   "metadata": {},
   "outputs": [
    {
     "name": "stdout",
     "output_type": "stream",
     "text": [
      "Login attempts: 0\n",
      "Login attempts: 1\n",
      "Login attempts: 2\n",
      "Login attempts: 3\n",
      "Login attempts: 4\n"
     ]
    }
   ],
   "source": [
    "login_attempts = 0\n",
    "while login_attempts < 5:\n",
    "    print(\"Login attempts:\", login_attempts)\n",
    "    login_attempts = login_attempts + 1"
   ]
  },
  {
   "cell_type": "code",
   "execution_count": 16,
   "id": "752d29c8",
   "metadata": {},
   "outputs": [
    {
     "name": "stdout",
     "output_type": "stream",
     "text": [
      "Login attempts:0\n",
      "Login attempts:1\n",
      "Login attempts:2\n",
      "Login attempts:3\n",
      "Login attempts:4\n"
     ]
    }
   ],
   "source": [
    "login_attempts = 0\n",
    "while login_attempts < 5:\n",
    "    print(\"Login attempts:\" + str(login_attempts))\n",
    "    login_attempts = login_attempts + 1"
   ]
  },
  {
   "cell_type": "code",
   "execution_count": 1,
   "id": "9d43637e",
   "metadata": {},
   "outputs": [
    {
     "name": "stdout",
     "output_type": "stream",
     "text": [
      "Try again.\n",
      "Try again.\n",
      "Try again.\n",
      "Try again.\n"
     ]
    }
   ],
   "source": [
    "count = 0\n",
    "login_status = True\n",
    "while login_status == True:\n",
    "    print(\"Try again.\")\n",
    "    count = count + 1\n",
    "    if count == 4:\n",
    "        login_status = False"
   ]
  },
  {
   "cell_type": "code",
   "execution_count": null,
   "id": "12d984f1",
   "metadata": {},
   "outputs": [],
   "source": []
  }
 ],
 "metadata": {
  "kernelspec": {
   "display_name": "Python 3",
   "language": "python",
   "name": "python3"
  },
  "language_info": {
   "codemirror_mode": {
    "name": "ipython",
    "version": 3
   },
   "file_extension": ".py",
   "mimetype": "text/x-python",
   "name": "python",
   "nbconvert_exporter": "python",
   "pygments_lexer": "ipython3",
   "version": "3.8.8"
  }
 },
 "nbformat": 4,
 "nbformat_minor": 5
}
