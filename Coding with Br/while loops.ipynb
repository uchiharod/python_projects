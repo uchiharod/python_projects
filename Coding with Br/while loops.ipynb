{
 "cells": [
  {
   "cell_type": "code",
   "execution_count": 3,
   "id": "3a049be3",
   "metadata": {},
   "outputs": [
    {
     "name": "stdout",
     "output_type": "stream",
     "text": [
      "Enter your name: \n",
      "Enter your name: \n",
      "Enter your name: \n",
      "Enter your name: \n",
      "Enter your name: Rod\n",
      "Hello Rod\n"
     ]
    }
   ],
   "source": [
    "# while loop = a statement that will execute it's block of code, as long as it's condition remains true \n",
    "name = \"\" \n",
    "while len(name) == 0: \n",
    "    name = input(\"Enter your name: \") \n",
    "    \n",
    "print(\"Hello \"+name) \n",
    "#This while loops makes the user have to type in something to prevent infinite looping"
   ]
  },
  {
   "cell_type": "code",
   "execution_count": null,
   "id": "278bbf39",
   "metadata": {},
   "outputs": [],
   "source": []
  }
 ],
 "metadata": {
  "kernelspec": {
   "display_name": "Python 3",
   "language": "python",
   "name": "python3"
  },
  "language_info": {
   "codemirror_mode": {
    "name": "ipython",
    "version": 3
   },
   "file_extension": ".py",
   "mimetype": "text/x-python",
   "name": "python",
   "nbconvert_exporter": "python",
   "pygments_lexer": "ipython3",
   "version": "3.8.8"
  }
 },
 "nbformat": 4,
 "nbformat_minor": 5
}
