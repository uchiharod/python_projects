{
 "cells": [
  {
   "cell_type": "code",
   "execution_count": 1,
   "id": "70caac0a",
   "metadata": {},
   "outputs": [
    {
     "name": "stdout",
     "output_type": "stream",
     "text": [
      "You are 21 years old\n",
      "There are 2 players online\n",
      "You would like to buy 5 items\n",
      "Your gpa is 3.2\n",
      "You ran 2.5Km\n",
      "The price is $10.99\n",
      "Hello Bro\n",
      "You like pizza\n",
      "Your email is: Bro123@gmail.com\n",
      "Are you online?: True\n",
      "Is the item for sale?: False\n",
      "Game running: False\n"
     ]
    }
   ],
   "source": [
    "# variable = a reusable container for storing a value\n",
    "#                   a variable behaves as if it were the value it contains\n",
    "\n",
    "# INTEGER\n",
    "age = 21\n",
    "players = 2\n",
    "quantity = 5\n",
    "\n",
    "print(f\"You are {age} years old\")\n",
    "print(f\"There are {players} players online\")\n",
    "print(f\"You would like to buy {quantity} items\")\n",
    "\n",
    "# FLOAT\n",
    "gpa = 3.2\n",
    "distance = 2.5\n",
    "price = 10.99\n",
    "\n",
    "print(f\"Your gpa is {gpa}\")\n",
    "print(f\"You ran {distance}Km\")\n",
    "print(f\"The price is ${price}\")\n",
    "\n",
    "# STRING\n",
    "name = \"Bro\"\n",
    "food = \"pizza\"\n",
    "email = \"Bro123@gmail.com\"\n",
    "\n",
    "print(f\"Hello {name}\")\n",
    "print(f\"You like {food}\")\n",
    "print(f\"Your email is: {email}\")\n",
    "\n",
    "# BOOLEAN\n",
    "online = True\n",
    "for_sale = False\n",
    "running = False\n",
    "\n",
    "print(f\"Are you online?: {online}\")\n",
    "print(f\"Is the item for sale?: {for_sale}\")\n",
    "print(f\"Game running: {running}\")"
   ]
  },
  {
   "cell_type": "code",
   "execution_count": null,
   "id": "16028a78",
   "metadata": {},
   "outputs": [],
   "source": []
  }
 ],
 "metadata": {
  "kernelspec": {
   "display_name": "Python 3",
   "language": "python",
   "name": "python3"
  },
  "language_info": {
   "codemirror_mode": {
    "name": "ipython",
    "version": 3
   },
   "file_extension": ".py",
   "mimetype": "text/x-python",
   "name": "python",
   "nbconvert_exporter": "python",
   "pygments_lexer": "ipython3",
   "version": "3.8.8"
  }
 },
 "nbformat": 4,
 "nbformat_minor": 5
}
