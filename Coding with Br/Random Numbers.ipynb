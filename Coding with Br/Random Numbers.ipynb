{
 "cells": [
  {
   "cell_type": "code",
   "execution_count": 6,
   "id": "2e358a1e",
   "metadata": {},
   "outputs": [
    {
     "name": "stdout",
     "output_type": "stream",
     "text": [
      "['K', 'J', 5, 7, 9, 4, 'Q', 3, 1, 6, 8, 2, 'A']\n"
     ]
    }
   ],
   "source": [
    "import random\n",
    "\n",
    "X = random.randint(1,6) \n",
    "y = random.random()\n",
    "\n",
    "myList = ['rock', 'paper', 'scissors']\n",
    "z = random.choice(myList)\n",
    "          \n",
    "cards = [1,2,3,4,5,6,7,8,9,\"J\",\"Q\",\"K\",\"A\"]\n",
    "         \n",
    "random.shuffle(cards)\n",
    "         \n",
    "print(cards)"
   ]
  },
  {
   "cell_type": "code",
   "execution_count": null,
   "id": "0ad34077",
   "metadata": {},
   "outputs": [],
   "source": []
  },
  {
   "cell_type": "code",
   "execution_count": null,
   "id": "184457f9",
   "metadata": {},
   "outputs": [],
   "source": []
  }
 ],
 "metadata": {
  "kernelspec": {
   "display_name": "Python 3",
   "language": "python",
   "name": "python3"
  },
  "language_info": {
   "codemirror_mode": {
    "name": "ipython",
    "version": 3
   },
   "file_extension": ".py",
   "mimetype": "text/x-python",
   "name": "python",
   "nbconvert_exporter": "python",
   "pygments_lexer": "ipython3",
   "version": "3.8.8"
  }
 },
 "nbformat": 4,
 "nbformat_minor": 5
}
