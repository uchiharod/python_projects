{
 "cells": [
  {
   "cell_type": "code",
   "execution_count": 2,
   "id": "5458395f",
   "metadata": {},
   "outputs": [
    {
     "name": "stdout",
     "output_type": "stream",
     "text": [
      "21.0\n",
      "1\n",
      "True\n",
      "True\n",
      "1\n"
     ]
    }
   ],
   "source": [
    "# type casting = The process of converting a value of one data type to another\n",
    "#                          (string, integer, float, boolean)\n",
    "#                          Explicit vs Implicit\n",
    "\n",
    "name = \"Bro\"\n",
    "age = 21\n",
    "gpa = 1.9\n",
    "student = True\n",
    "\n",
    "# print(type(name))\n",
    "# print(type(age))\n",
    "# print(type(gpa))\n",
    "# print(type(student)) \n",
    "\n",
    "age = float(age)\n",
    "print(age)\n",
    "\n",
    "gpa = int(gpa)\n",
    "print(gpa)\n",
    "\n",
    "student = str(student)\n",
    "print(student)\n",
    "\n",
    "name = bool(name)\n",
    "print(name)\n",
    "\n",
    "new_name = bool(gpa)\n",
    "print(new_name)"
   ]
  },
  {
   "cell_type": "code",
   "execution_count": null,
   "id": "f172fec5",
   "metadata": {},
   "outputs": [],
   "source": []
  }
 ],
 "metadata": {
  "kernelspec": {
   "display_name": "Python 3",
   "language": "python",
   "name": "python3"
  },
  "language_info": {
   "codemirror_mode": {
    "name": "ipython",
    "version": 3
   },
   "file_extension": ".py",
   "mimetype": "text/x-python",
   "name": "python",
   "nbconvert_exporter": "python",
   "pygments_lexer": "ipython3",
   "version": "3.8.8"
  }
 },
 "nbformat": 4,
 "nbformat_minor": 5
}
