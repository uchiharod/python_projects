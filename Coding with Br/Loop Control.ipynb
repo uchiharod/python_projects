{
 "cells": [
  {
   "cell_type": "code",
   "execution_count": 3,
   "id": "8ecc1e91",
   "metadata": {},
   "outputs": [
    {
     "name": "stdout",
     "output_type": "stream",
     "text": [
      "Enter your name: \n",
      "Enter your name: \n",
      "Enter your name: Rod\n"
     ]
    }
   ],
   "source": [
    "# Loop Control Statements = change a loops execution from its normal sequence) \n",
    "# The 3 types are break = # continue = # pass = \n",
    "# break = used to terminate the loop entirely \n",
    "# continue = skips to the next iteration of the loop. \n",
    "# pass = does nothing, acts as a placeholder \n",
    "\n",
    "#used to terminate the loop entirely skips to the next iteration of the loop. does nothing, acts as a placeholder \n",
    "while True: \n",
    "    name = input(\"Enter your name: \") \n",
    "    if name !=\"\": \n",
    "        break "
   ]
  },
  {
   "cell_type": "code",
   "execution_count": 4,
   "id": "04bb12c0",
   "metadata": {},
   "outputs": [
    {
     "name": "stdout",
     "output_type": "stream",
     "text": [
      "1234567890"
     ]
    }
   ],
   "source": [
    "phone_number = \"123-456-7890\" \n",
    "\n",
    "for i in phone_number:\n",
    "    if i == \"-\":\n",
    "        continue #skips over iteration of the loop\n",
    "    print(i, end=\"\")"
   ]
  },
  {
   "cell_type": "code",
   "execution_count": 5,
   "id": "0e4beca3",
   "metadata": {},
   "outputs": [
    {
     "name": "stdout",
     "output_type": "stream",
     "text": [
      "1\n",
      "2\n",
      "3\n",
      "4\n",
      "5\n",
      "6\n",
      "7\n",
      "8\n",
      "9\n",
      "10\n",
      "11\n",
      "12\n",
      "14\n",
      "15\n",
      "16\n",
      "17\n",
      "18\n",
      "19\n",
      "20\n"
     ]
    }
   ],
   "source": [
    "for i in range(1,21):\n",
    "    if i == 13:\n",
    "        pass\n",
    "    else:#skips over iteration of the loop\n",
    "        print(i)"
   ]
  },
  {
   "cell_type": "code",
   "execution_count": null,
   "id": "1045e1fc",
   "metadata": {},
   "outputs": [],
   "source": []
  }
 ],
 "metadata": {
  "kernelspec": {
   "display_name": "Python 3",
   "language": "python",
   "name": "python3"
  },
  "language_info": {
   "codemirror_mode": {
    "name": "ipython",
    "version": 3
   },
   "file_extension": ".py",
   "mimetype": "text/x-python",
   "name": "python",
   "nbconvert_exporter": "python",
   "pygments_lexer": "ipython3",
   "version": "3.8.8"
  }
 },
 "nbformat": 4,
 "nbformat_minor": 5
}
