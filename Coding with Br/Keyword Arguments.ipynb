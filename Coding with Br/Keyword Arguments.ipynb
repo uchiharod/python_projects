{
 "cells": [
  {
   "cell_type": "code",
   "execution_count": 1,
   "id": "17d9e0c0",
   "metadata": {},
   "outputs": [
    {
     "name": "stdout",
     "output_type": "stream",
     "text": [
      "Hello Bro Dude Code\n"
     ]
    }
   ],
   "source": [
    "#arguments preceded by an identifier when we pass them to a function The order \n",
    "#of the arguments doesn't matter, unlike positional arguments] Python knows the names of the \n",
    "#arguments that our function receives\n",
    "\n",
    "def hello(first,middle,last):\n",
    "    print(\"Hello \"+first+\" \"+middle+\" \"+last)\n",
    "    \n",
    "hello(last=\"Code\",middle=\"Dude\",first=\"Bro\")\n",
    "\n"
   ]
  },
  {
   "cell_type": "code",
   "execution_count": 2,
   "id": "68e13949",
   "metadata": {},
   "outputs": [
    {
     "name": "stdout",
     "output_type": "stream",
     "text": [
      "Hello Code Dude Bro\n"
     ]
    }
   ],
   "source": [
    "def hello(first,middle,last):\n",
    "    print(\"Hello \"+first+\" \"+middle+\" \"+last)\n",
    "    \n",
    "hello(\"Code\",\"Dude\",\"Bro\") #Order of arguments DOES matter, now let's do key arguments with keywords. Use identifiers"
   ]
  },
  {
   "cell_type": "code",
   "execution_count": 3,
   "id": "6cd4f935",
   "metadata": {},
   "outputs": [
    {
     "name": "stdout",
     "output_type": "stream",
     "text": [
      "Hello Bro Dude Code\n"
     ]
    }
   ],
   "source": [
    "def hello(first,middle,last):\n",
    "    print(\"Hello \"+first+\" \"+middle+\" \"+last)\n",
    "    \n",
    "hello(last=\"Code\",middle=\"Dude\",first=\"Bro\")"
   ]
  },
  {
   "cell_type": "code",
   "execution_count": null,
   "id": "595bfad0",
   "metadata": {},
   "outputs": [],
   "source": [
    "#they are arguments preceded with an identifier when we pass them to a function the order of the arguments doesn't\n",
    "#matter unlike positional arguments which do matter and then python knows the names of the arguments\n",
    "#that our function receives when we use keyword arguments so that's it for keyword arguments if"
   ]
  }
 ],
 "metadata": {
  "kernelspec": {
   "display_name": "Python 3",
   "language": "python",
   "name": "python3"
  },
  "language_info": {
   "codemirror_mode": {
    "name": "ipython",
    "version": 3
   },
   "file_extension": ".py",
   "mimetype": "text/x-python",
   "name": "python",
   "nbconvert_exporter": "python",
   "pygments_lexer": "ipython3",
   "version": "3.8.8"
  }
 },
 "nbformat": 4,
 "nbformat_minor": 5
}
