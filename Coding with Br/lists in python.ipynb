{
 "cells": [
  {
   "cell_type": "code",
   "execution_count": 2,
   "id": "98dad52c",
   "metadata": {},
   "outputs": [
    {
     "name": "stdout",
     "output_type": "stream",
     "text": [
      "sushi\n",
      "hamburger\n",
      "hotdog\n",
      "spaghetti\n",
      "pudding\n"
     ]
    }
   ],
   "source": [
    "# lists = used to store multiple items in a single variable • \n",
    "food = [\"pizza\",\"hamburger\",\"hotdog\",\"spaghetti\",\"pudding\"] \n",
    "\n",
    "food[0] = \"sushi\" \n",
    "\n",
    "#food.append(\"ice cream\") \n",
    "#food remove(\"hotdog\")  \n",
    "#food.pop()  \n",
    "#fopd.insert(0,\"cake\")  \n",
    "#food.sort()  \n",
    "#food.clear()  \n",
    "\n",
    "for x in food: \n",
    "    print(x)"
   ]
  },
  {
   "cell_type": "code",
   "execution_count": 3,
   "id": "cea67e00",
   "metadata": {},
   "outputs": [
    {
     "name": "stdout",
     "output_type": "stream",
     "text": [
      "sushi\n",
      "hamburger\n",
      "hotdog\n",
      "spaghetti\n",
      "pudding\n",
      "ice cream\n"
     ]
    }
   ],
   "source": [
    "# lists = used to store multiple items in a single variable • \n",
    "food = [\"pizza\",\"hamburger\",\"hotdog\",\"spaghetti\",\"pudding\"] \n",
    "\n",
    "food[0] = \"sushi\" \n",
    "\n",
    "food.append(\"ice cream\") \n",
    "#food.remove(\"hotdog\")  \n",
    "#food.pop()  \n",
    "#fopd.insert(0,\"cake\")  \n",
    "#food.sort()  \n",
    "#food.clear()  \n",
    "\n",
    "for x in food: \n",
    "    print(x)"
   ]
  },
  {
   "cell_type": "code",
   "execution_count": 5,
   "id": "bf1c65c3",
   "metadata": {},
   "outputs": [
    {
     "name": "stdout",
     "output_type": "stream",
     "text": [
      "sushi\n",
      "hamburger\n",
      "spaghetti\n",
      "pudding\n"
     ]
    }
   ],
   "source": [
    "# lists = used to store multiple items in a single variable • \n",
    "food = [\"pizza\",\"hamburger\",\"hotdog\",\"spaghetti\",\"pudding\"] \n",
    "\n",
    "food[0] = \"sushi\" \n",
    "\n",
    "#food.append(\"ice cream\") \n",
    "food.remove(\"hotdog\")  \n",
    "#food.pop()  \n",
    "#fopd.insert(0,\"cake\")  \n",
    "#food.sort()  \n",
    "#food.clear()  \n",
    "\n",
    "for x in food: \n",
    "    print(x)"
   ]
  },
  {
   "cell_type": "code",
   "execution_count": 6,
   "id": "501c5a70",
   "metadata": {},
   "outputs": [
    {
     "name": "stdout",
     "output_type": "stream",
     "text": [
      "sushi\n",
      "hamburger\n",
      "hotdog\n",
      "spaghetti\n"
     ]
    }
   ],
   "source": [
    "# lists = used to store multiple items in a single variable • \n",
    "food = [\"pizza\",\"hamburger\",\"hotdog\",\"spaghetti\",\"pudding\"] \n",
    "\n",
    "food[0] = \"sushi\" \n",
    "\n",
    "#food.append(\"ice cream\") \n",
    "#food.remove(\"hotdog\")  \n",
    "food.pop()  #removes last element\n",
    "#fopd.insert(0,\"cake\")  \n",
    "#food.sort()  \n",
    "#food.clear()  \n",
    "\n",
    "for x in food: \n",
    "    print(x)"
   ]
  },
  {
   "cell_type": "code",
   "execution_count": 7,
   "id": "2f0c29b8",
   "metadata": {},
   "outputs": [
    {
     "name": "stdout",
     "output_type": "stream",
     "text": [
      "cake\n",
      "sushi\n",
      "hamburger\n",
      "hotdog\n",
      "spaghetti\n",
      "pudding\n"
     ]
    }
   ],
   "source": [
    "# lists = used to store multiple items in a single variable • \n",
    "food = [\"pizza\",\"hamburger\",\"hotdog\",\"spaghetti\",\"pudding\"] \n",
    "\n",
    "food[0] = \"sushi\" \n",
    "\n",
    "#food.append(\"ice cream\") \n",
    "#food.remove(\"hotdog\")  \n",
    "#food.pop()  #removes last element\n",
    "food.insert(0,\"cake\")  \n",
    "#food.sort()  \n",
    "#food.clear()  \n",
    "\n",
    "for x in food: \n",
    "    print(x)"
   ]
  },
  {
   "cell_type": "code",
   "execution_count": 8,
   "id": "515b1181",
   "metadata": {},
   "outputs": [
    {
     "name": "stdout",
     "output_type": "stream",
     "text": [
      "hamburger\n",
      "hotdog\n",
      "pudding\n",
      "spaghetti\n",
      "sushi\n"
     ]
    }
   ],
   "source": [
    "# lists = used to store multiple items in a single variable • \n",
    "food = [\"pizza\",\"hamburger\",\"hotdog\",\"spaghetti\",\"pudding\"] \n",
    "\n",
    "food[0] = \"sushi\" \n",
    "\n",
    "#food.append(\"ice cream\") \n",
    "#food.remove(\"hotdog\")  \n",
    "#food.pop()  #removes last element\n",
    "#food.insert(0,\"cake\")  \n",
    "food.sort()  #sorts alphabetically\n",
    "#food.clear()  \n",
    "\n",
    "for x in food: \n",
    "    print(x)"
   ]
  },
  {
   "cell_type": "code",
   "execution_count": 9,
   "id": "d78f59b6",
   "metadata": {},
   "outputs": [],
   "source": [
    "# lists = used to store multiple items in a single variable • \n",
    "food = [\"pizza\",\"hamburger\",\"hotdog\",\"spaghetti\",\"pudding\"] \n",
    "\n",
    "food[0] = \"sushi\" \n",
    "\n",
    "#food.append(\"ice cream\") \n",
    "#food.remove(\"hotdog\")  \n",
    "#food.pop()  #removes last element\n",
    "#food.insert(0,\"cake\")  \n",
    "#food.sort()  #sorts alphabetically\n",
    "food.clear()  #removes everything from list\n",
    "\n",
    "for x in food: \n",
    "    print(x)"
   ]
  },
  {
   "cell_type": "code",
   "execution_count": null,
   "id": "c2315318",
   "metadata": {},
   "outputs": [],
   "source": []
  }
 ],
 "metadata": {
  "kernelspec": {
   "display_name": "Python 3",
   "language": "python",
   "name": "python3"
  },
  "language_info": {
   "codemirror_mode": {
    "name": "ipython",
    "version": 3
   },
   "file_extension": ".py",
   "mimetype": "text/x-python",
   "name": "python",
   "nbconvert_exporter": "python",
   "pygments_lexer": "ipython3",
   "version": "3.8.8"
  }
 },
 "nbformat": 4,
 "nbformat_minor": 5
}
