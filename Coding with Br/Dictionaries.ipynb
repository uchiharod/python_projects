{
 "cells": [
  {
   "cell_type": "code",
   "execution_count": 9,
   "id": "c925b8d8",
   "metadata": {},
   "outputs": [
    {
     "name": "stdout",
     "output_type": "stream",
     "text": [
      "None\n"
     ]
    }
   ],
   "source": [
    "# dictionary = A changeable, unordered collection of unique key:value pairs Fast because they use hashing, allow us to access a value quickly \n",
    "capitals = {'USA':'Washington DC', \n",
    "            'India':'New Dehli', \n",
    "            'China':'Beijing', \n",
    "            'Russia':'Moscow'}\n",
    "\n",
    "print(capitals.get('Germany'))\n",
    "#capitals.update({'German':'Berlin'})\n",
    "#capitals.update({'USA':'Las Vegas'})\n",
    "#capitals.pop({'China'})\n",
    "#capitals.clear()\n",
    "\n"
   ]
  },
  {
   "cell_type": "code",
   "execution_count": 10,
   "id": "e90d3b9f",
   "metadata": {},
   "outputs": [
    {
     "name": "stdout",
     "output_type": "stream",
     "text": [
      "dict_keys(['USA', 'India', 'China', 'Russia'])\n"
     ]
    }
   ],
   "source": [
    "# dictionary = A changeable, unordered collection of unique key:value pairs Fast because they use hashing, allow us to access a value quickly \n",
    "capitals = {'USA':'Washington DC', \n",
    "            'India':'New Dehli', \n",
    "            'China':'Beijing', \n",
    "            'Russia':'Moscow'}\n",
    "\n",
    "print(capitals.keys())\n",
    "#capitals.update({'German':'Berlin'})\n",
    "#capitals.update({'USA':'Las Vegas'})\n",
    "#capitals.pop({'China'})\n",
    "#capitals.clear()\n",
    "\n",
    "#print(capitals['Germany'])\n",
    "#print(capitals.get('Germany'))\n",
    "#print(capitals.keys())\n",
    "#print(capitals.values())\n",
    "#print(capitals.items())"
   ]
  },
  {
   "cell_type": "code",
   "execution_count": 11,
   "id": "e40e5bcf",
   "metadata": {},
   "outputs": [
    {
     "name": "stdout",
     "output_type": "stream",
     "text": [
      "dict_values(['Washington DC', 'New Dehli', 'Beijing', 'Moscow'])\n"
     ]
    }
   ],
   "source": [
    "# dictionary = A changeable, unordered collection of unique key:value pairs Fast because they use hashing, allow us to access a value quickly \n",
    "capitals = {'USA':'Washington DC', \n",
    "            'India':'New Dehli', \n",
    "            'China':'Beijing', \n",
    "            'Russia':'Moscow'}\n",
    "\n",
    "print(capitals.values())\n",
    "#capitals.update({'German':'Berlin'})\n",
    "#capitals.update({'USA':'Las Vegas'})\n",
    "#capitals.pop({'China'})\n",
    "#capitals.clear()\n",
    "\n",
    "#print(capitals['Germany'])\n",
    "#print(capitals.get('Germany'))\n",
    "#print(capitals.keys())\n",
    "#print(capitals.values())\n",
    "#print(capitals.items())"
   ]
  },
  {
   "cell_type": "code",
   "execution_count": 13,
   "id": "90c4df02",
   "metadata": {},
   "outputs": [
    {
     "name": "stdout",
     "output_type": "stream",
     "text": [
      "dict_items([('USA', 'Washington DC'), ('India', 'New Dehli'), ('China', 'Beijing'), ('Russia', 'Moscow')])\n",
      "USA Washington DC\n",
      "India New Dehli\n",
      "China Beijing\n",
      "Russia Moscow\n"
     ]
    }
   ],
   "source": [
    "# dictionary = A changeable, unordered collection of unique key:value pairs Fast because they use hashing, allow us to access a value quickly \n",
    "capitals = {'USA':'Washington DC', \n",
    "            'India':'New Dehli', \n",
    "            'China':'Beijing', \n",
    "            'Russia':'Moscow'}\n",
    "\n",
    "print(capitals.items())\n",
    "#capitals.update({'German':'Berlin'})\n",
    "#capitals.update({'USA':'Las Vegas'})\n",
    "#capitals.pop({'China'})\n",
    "#capitals.clear()\n",
    "\n",
    "#print(capitals['Germany'])\n",
    "#print(capitals.get('Germany'))\n",
    "#print(capitals.keys())\n",
    "#print(capitals.values())\n",
    "#print(capitals.items())\n",
    "\n",
    "for key, value in capitals.items():\n",
    "    print(key,value)"
   ]
  },
  {
   "cell_type": "code",
   "execution_count": null,
   "id": "d06c389d",
   "metadata": {},
   "outputs": [],
   "source": []
  }
 ],
 "metadata": {
  "kernelspec": {
   "display_name": "Python 3",
   "language": "python",
   "name": "python3"
  },
  "language_info": {
   "codemirror_mode": {
    "name": "ipython",
    "version": 3
   },
   "file_extension": ".py",
   "mimetype": "text/x-python",
   "name": "python",
   "nbconvert_exporter": "python",
   "pygments_lexer": "ipython3",
   "version": "3.8.8"
  }
 },
 "nbformat": 4,
 "nbformat_minor": 5
}
