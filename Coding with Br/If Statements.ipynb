{
 "cells": [
  {
   "cell_type": "code",
   "execution_count": 2,
   "id": "f9ce7ba3",
   "metadata": {},
   "outputs": [
    {
     "name": "stdout",
     "output_type": "stream",
     "text": [
      "Enter your age: 45\n",
      "You are now signed up\n",
      "Do you want food (Y/N)?: Y\n",
      "Have some food\n",
      "Enter your name: Rod\n",
      "Hello Rod\n",
      "You are offline\n"
     ]
    }
   ],
   "source": [
    "# if = Do some code IF condition is True\n",
    "# else = Do something else if above condition/s are False\n",
    "\n",
    "# —---------------------\n",
    "#   EXAMPLE 1\n",
    "# —---------------------\n",
    "age = int(input(\"Enter your age: \"))\n",
    "\n",
    "if age >= 100:\n",
    "   print(\"You are too old to sign up\")\n",
    "elif age >= 18:\n",
    "   print(\"You are now signed up\")\n",
    "elif age < 0:\n",
    "   print(\"You haven't been born yet\")\n",
    "else:\n",
    "   print(\"You must be 18+ sign up\")\n",
    "\n",
    "# —---------------------\n",
    "#   EXAMPLE 2\n",
    "# —---------------------\n",
    "response = input(\"Do you want food (Y/N)?: \")\n",
    "\n",
    "if response == \"Y\":\n",
    "   print(\"Have some food\")\n",
    "else:\n",
    "   print(\"No food for you!\")\n",
    "\n",
    "# —---------------------\n",
    "#   EXAMPLE 3\n",
    "# —---------------------\n",
    "name = input(\"Enter your name: \")\n",
    "\n",
    "if name == \"\":\n",
    "   print(\"You did not enter your name!\")\n",
    "else:\n",
    "   print(f\"Hello {name}\")\n",
    "\n",
    "# —---------------------\n",
    "#   EXAMPLE 4\n",
    "# —---------------------\n",
    "online = False\n",
    "\n",
    "if online :\n",
    "   print(\"You are online\")\n",
    "else:\n",
    "   print(\"You are offline\")"
   ]
  },
  {
   "cell_type": "code",
   "execution_count": null,
   "id": "89819690",
   "metadata": {},
   "outputs": [],
   "source": []
  }
 ],
 "metadata": {
  "kernelspec": {
   "display_name": "Python 3",
   "language": "python",
   "name": "python3"
  },
  "language_info": {
   "codemirror_mode": {
    "name": "ipython",
    "version": 3
   },
   "file_extension": ".py",
   "mimetype": "text/x-python",
   "name": "python",
   "nbconvert_exporter": "python",
   "pygments_lexer": "ipython3",
   "version": "3.8.8"
  }
 },
 "nbformat": 4,
 "nbformat_minor": 5
}
