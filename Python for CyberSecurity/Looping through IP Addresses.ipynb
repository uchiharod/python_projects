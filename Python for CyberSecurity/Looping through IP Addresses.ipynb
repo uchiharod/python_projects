{
 "cells": [
  {
   "cell_type": "code",
   "execution_count": 1,
   "id": "4eecea03",
   "metadata": {},
   "outputs": [
    {
     "name": "stdout",
     "output_type": "stream",
     "text": [
      "192.168.0.1\n",
      "192.168.0.2\n",
      "192.168.0.3\n",
      "192.168.0.4\n",
      "192.168.0.5\n",
      "192.168.0.6\n",
      "192.168.0.7\n",
      "192.168.0.8\n",
      "192.168.0.9\n",
      "192.168.0.10\n",
      "192.168.0.11\n",
      "192.168.0.12\n",
      "192.168.0.13\n",
      "192.168.0.14\n",
      "192.168.0.15\n",
      "192.168.0.16\n",
      "192.168.0.17\n",
      "192.168.0.18\n",
      "192.168.0.19\n",
      "192.168.0.20\n"
     ]
    }
   ],
   "source": [
    "for i in range(20):\n",
    "    print(\"192.168.0.{0}\".format(i + 1))"
   ]
  },
  {
   "cell_type": "code",
   "execution_count": null,
   "id": "a7cac379",
   "metadata": {},
   "outputs": [],
   "source": []
  }
 ],
 "metadata": {
  "kernelspec": {
   "display_name": "Python 3",
   "language": "python",
   "name": "python3"
  },
  "language_info": {
   "codemirror_mode": {
    "name": "ipython",
    "version": 3
   },
   "file_extension": ".py",
   "mimetype": "text/x-python",
   "name": "python",
   "nbconvert_exporter": "python",
   "pygments_lexer": "ipython3",
   "version": "3.8.8"
  }
 },
 "nbformat": 4,
 "nbformat_minor": 5
}
