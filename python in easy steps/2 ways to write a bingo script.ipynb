{
 "cells": [
  {
   "cell_type": "code",
   "execution_count": 4,
   "id": "1b3d8e51",
   "metadata": {},
   "outputs": [
    {
     "name": "stdout",
     "output_type": "stream",
     "text": [
      "\n",
      "Variable a is: Bingo\n"
     ]
    }
   ],
   "source": [
    "a = 1\n",
    "b = 3\n",
    "c = 5\n",
    "print('\\nVariable a is:', 'Bingo' if (a, b, c != 1) else 'No Bingo for you')"
   ]
  },
  {
   "cell_type": "code",
   "execution_count": 5,
   "id": "ff8d6cc5",
   "metadata": {},
   "outputs": [
    {
     "name": "stdout",
     "output_type": "stream",
     "text": [
      "\n",
      "Variable a is: Bingo\n"
     ]
    }
   ],
   "source": [
    "a = 1\n",
    "b = 3\n",
    "c = 5\n",
    "\n",
    "if (a, b, c == 1):\n",
    "    print('\\nVariable a is: Bingo')\n",
    "else:\n",
    "    print('\\nVariable a is: No Bingo for you mofo')"
   ]
  },
  {
   "cell_type": "code",
   "execution_count": null,
   "id": "4b3ba9cf",
   "metadata": {},
   "outputs": [],
   "source": []
  }
 ],
 "metadata": {
  "kernelspec": {
   "display_name": "Python 3",
   "language": "python",
   "name": "python3"
  },
  "language_info": {
   "codemirror_mode": {
    "name": "ipython",
    "version": 3
   },
   "file_extension": ".py",
   "mimetype": "text/x-python",
   "name": "python",
   "nbconvert_exporter": "python",
   "pygments_lexer": "ipython3",
   "version": "3.8.8"
  }
 },
 "nbformat": 4,
 "nbformat_minor": 5
}
