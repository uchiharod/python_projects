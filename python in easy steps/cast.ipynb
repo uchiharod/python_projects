{
 "cells": [
  {
   "cell_type": "code",
   "execution_count": 2,
   "id": "7cf5808d",
   "metadata": {},
   "outputs": [
    {
     "name": "stdout",
     "output_type": "stream",
     "text": [
      "Enter A Number: 456\n",
      "Now Enter Another Number: 432\n",
      "\n",
      "Data Type sum : 456432 <class 'str'>\n",
      "Data Type sum : 888 <class 'int'>\n",
      "Data Type sum : 888.0 <class 'float'>\n",
      "Data Type sum : ͸ <class 'str'>\n"
     ]
    }
   ],
   "source": [
    "a = input( 'Enter A Number: ' )\n",
    "b = input( 'Now Enter Another Number: ' )\n",
    "\n",
    "sum = a + b\n",
    "print( '\\nData Type sum :' , sum , type( sum ) )\n",
    "\n",
    "sum = int( a ) + int( b )\n",
    "print( 'Data Type sum :' , sum , type( sum ) )\n",
    "\n",
    "sum = float( sum )\n",
    "print( 'Data Type sum :' , sum , type( sum ) )\n",
    "\n",
    "sum = chr( int( sum ) )\n",
    "print( 'Data Type sum :' , sum , type( sum ) )"
   ]
  },
  {
   "cell_type": "code",
   "execution_count": null,
   "id": "46eab69a",
   "metadata": {},
   "outputs": [],
   "source": []
  }
 ],
 "metadata": {
  "kernelspec": {
   "display_name": "Python 3",
   "language": "python",
   "name": "python3"
  },
  "language_info": {
   "codemirror_mode": {
    "name": "ipython",
    "version": 3
   },
   "file_extension": ".py",
   "mimetype": "text/x-python",
   "name": "python",
   "nbconvert_exporter": "python",
   "pygments_lexer": "ipython3",
   "version": "3.8.8"
  }
 },
 "nbformat": 4,
 "nbformat_minor": 5
}
