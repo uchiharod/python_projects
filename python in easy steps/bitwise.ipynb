{
 "cells": [
  {
   "cell_type": "code",
   "execution_count": 6,
   "id": "5d89438c",
   "metadata": {},
   "outputs": [
    {
     "name": "stdout",
     "output_type": "stream",
     "text": [
      "a = 20 \tb = 15 \tc = 10 \td = 5\n",
      "a = 15 \tb = 20 \tc = 5 \td = 10\n"
     ]
    }
   ],
   "source": [
    "a = 20\n",
    "b = 15\n",
    "c = 10\n",
    "d = 5\n",
    "\n",
    "print( 'a =' , a , '\\tb =' , b , '\\tc =' , c , '\\td =' , d)\n",
    "\n",
    "# 1010 ^ 0101 = 1111 (decimal 15)\n",
    "a = a ^ b\n",
    "\n",
    "# 1111 ^ 0101 = 1010 (decimal 10)\n",
    "b = a ^ b\n",
    "\n",
    "# 1111 ^ 1010 = 0101 (decimal 5)\n",
    "a = a ^ b\n",
    "\n",
    "c = c ^ d\n",
    "\n",
    "d = c ^ d\n",
    "\n",
    "c = c ^ d\n",
    "\n",
    "print( 'a =' , a , '\\tb =' , b , '\\tc =' , c , '\\td =' , d )"
   ]
  },
  {
   "cell_type": "code",
   "execution_count": null,
   "id": "6f6a5068",
   "metadata": {},
   "outputs": [],
   "source": []
  }
 ],
 "metadata": {
  "kernelspec": {
   "display_name": "Python 3",
   "language": "python",
   "name": "python3"
  },
  "language_info": {
   "codemirror_mode": {
    "name": "ipython",
    "version": 3
   },
   "file_extension": ".py",
   "mimetype": "text/x-python",
   "name": "python",
   "nbconvert_exporter": "python",
   "pygments_lexer": "ipython3",
   "version": "3.8.8"
  }
 },
 "nbformat": 4,
 "nbformat_minor": 5
}
