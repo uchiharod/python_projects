{
 "cells": [
  {
   "cell_type": "code",
   "execution_count": 3,
   "id": "f42fbcc5",
   "metadata": {},
   "outputs": [
    {
     "name": "stdout",
     "output_type": "stream",
     "text": [
      "Equality :\t 0 == 0 True\n",
      "Equality :\t A == a False\n",
      "Inequality :\t 0 != 1 True\n",
      "Greater :\t 0 > 1 False\n",
      "Lesser :\t 0 < 1 True\n",
      "More Or Equal :\t 0 >= 0 True\n",
      "Less or Equal :\t 1 <= 0 False\n"
     ]
    }
   ],
   "source": [
    "nil = 0\n",
    "num = 0\n",
    "max = 1\n",
    "cap = 'A'\n",
    "low = 'a'\n",
    "\n",
    "print( 'Equality :\\t' , nil , '==' , num , nil == num )\n",
    "print( 'Equality :\\t' , cap , '==' , low , cap == low )\n",
    "print( 'Inequality :\\t' , nil , '!=' , max , nil != max )\n",
    "\n",
    "print( 'Greater :\\t' , nil , '>' , max , nil > max )\n",
    "print( 'Lesser :\\t' , nil , '<' , max , nil < max )\n",
    "\n",
    "print( 'More Or Equal :\\t' , nil , '>=' , num , nil >= num )\n",
    "print( 'Less or Equal :\\t' , max , '<=' , num , max <= num )"
   ]
  },
  {
   "cell_type": "code",
   "execution_count": 13,
   "id": "7ff5f036",
   "metadata": {},
   "outputs": [
    {
     "name": "stdout",
     "output_type": "stream",
     "text": [
      "Equality :\t 0 == 0 True\n",
      "Equality :\t A == a False\n",
      "Inequality :\t 0 != 1 True\n",
      "Greater :\t 0 > 1 False\n",
      "Lesser  :\t 0 < 1 True\n",
      "More Or Equal :\t 0 == 0 True\n",
      "Less or Equal :\t 1 == 0 False\n"
     ]
    }
   ],
   "source": [
    "nil = 0\n",
    "num = 0\n",
    "max = 1\n",
    "cap = 'A'\n",
    "low = 'a'\n",
    "\n",
    "print( 'Equality :\\t' + \" \" + str(nil) + \" \" + '==' + \" \" + str(num) + \" \" + str(nil == num)) \n",
    "print( 'Equality :\\t' + \" \" + str(cap) + \" \" + '==' + \" \" + str(low) + \" \" + str(cap == low))\n",
    "print( 'Inequality :\\t' + \" \" + str(nil) + \" \" + '!=' + \" \" + str(max) + \" \" + str(nil != max))\n",
    "\n",
    "print( 'Greater :\\t' + \" \" + str(nil) + \" \" + '>' + \" \" + str(max) + \" \" + str(nil > max))\n",
    "print( 'Lesser  :\\t' + \" \" + str(nil) + \" \" + '<' + \" \" + str(max) + \" \" + str(nil < max))\n",
    "\n",
    "print( 'More Or Equal :\\t' + \" \" + str(nil) + \" \" + '==' + \" \" + str(num) + \" \" + str(nil >= num))\n",
    "print( 'Less or Equal :\\t' + \" \" + str(max) + \" \" + '==' + \" \" + str(num) + \" \" + str(max <= num))"
   ]
  },
  {
   "cell_type": "code",
   "execution_count": null,
   "id": "fc53abf3",
   "metadata": {},
   "outputs": [],
   "source": []
  }
 ],
 "metadata": {
  "kernelspec": {
   "display_name": "Python 3",
   "language": "python",
   "name": "python3"
  },
  "language_info": {
   "codemirror_mode": {
    "name": "ipython",
    "version": 3
   },
   "file_extension": ".py",
   "mimetype": "text/x-python",
   "name": "python",
   "nbconvert_exporter": "python",
   "pygments_lexer": "ipython3",
   "version": "3.8.8"
  }
 },
 "nbformat": 4,
 "nbformat_minor": 5
}
