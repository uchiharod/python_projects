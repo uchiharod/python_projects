{
 "cells": [
  {
   "cell_type": "code",
   "execution_count": 4,
   "id": "fdd7d705",
   "metadata": {},
   "outputs": [
    {
     "name": "stdout",
     "output_type": "stream",
     "text": [
      "\n",
      "Variable a is: Not One\n",
      "\n",
      "Variable a is: Odd\n",
      "\n",
      "Variable b is: One\n",
      "\n",
      "Variable b is: Odd\n",
      "\n",
      "Greater Value Is: 5\n"
     ]
    }
   ],
   "source": [
    "a = 5\n",
    "b = 1\n",
    "\n",
    "print('\\nVariable a is:', 'One' if (a == 1) else 'Not One')\n",
    "print('\\nVariable a is:', 'One' if (a % 2 == 0) else 'Odd')\n",
    "print('\\nVariable b is:', 'One' if (b == 1) else 'Not One')\n",
    "print('\\nVariable b is:', 'One' if (b % 2 == 0) else 'Odd')\n",
    "\n",
    "max = a if (a > b) else b\n",
    "print('\\nGreater Value Is:', max)"
   ]
  },
  {
   "cell_type": "code",
   "execution_count": 5,
   "id": "9c17d21a",
   "metadata": {},
   "outputs": [
    {
     "name": "stdout",
     "output_type": "stream",
     "text": [
      "\n",
      "Variable a is: Not One\n",
      "\n",
      "Variable a is: Odd\n",
      "\n",
      "Variable b is: Not One\n",
      "\n",
      "Variable b is: Odd\n",
      "\n",
      "Greater Value Is: 13467\n"
     ]
    }
   ],
   "source": [
    "c = 5567\n",
    "d = 13467\n",
    "\n",
    "print('\\nVariable a is:', 'One' if (c == 1) else 'Not One')\n",
    "print('\\nVariable a is:', 'One' if (c % 2 == 0) else 'Odd')\n",
    "print('\\nVariable b is:', 'One' if (d == 1) else 'Not One')\n",
    "print('\\nVariable b is:', 'One' if (d % 2 == 0) else 'Odd')\n",
    "\n",
    "max = c if (c > d) else d\n",
    "print('\\nGreater Value Is:', max)"
   ]
  },
  {
   "cell_type": "code",
   "execution_count": null,
   "id": "c4b2284d",
   "metadata": {},
   "outputs": [],
   "source": []
  }
 ],
 "metadata": {
  "kernelspec": {
   "display_name": "Python 3",
   "language": "python",
   "name": "python3"
  },
  "language_info": {
   "codemirror_mode": {
    "name": "ipython",
    "version": 3
   },
   "file_extension": ".py",
   "mimetype": "text/x-python",
   "name": "python",
   "nbconvert_exporter": "python",
   "pygments_lexer": "ipython3",
   "version": "3.8.8"
  }
 },
 "nbformat": 4,
 "nbformat_minor": 5
}
