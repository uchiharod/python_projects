{
 "cells": [
  {
   "cell_type": "code",
   "execution_count": 1,
   "id": "da332b78",
   "metadata": {},
   "outputs": [
    {
     "name": "stdout",
     "output_type": "stream",
     "text": [
      "Favorite programming language?:Python\n",
      "Python*Is*Fun!\n"
     ]
    }
   ],
   "source": [
    "lang = input(\"Favorite programming language?:\")\n",
    "print(lang, 'Is', 'Fun', sep='*', end='!\\n')"
   ]
  },
  {
   "cell_type": "code",
   "execution_count": null,
   "id": "0ae735ee",
   "metadata": {},
   "outputs": [],
   "source": []
  }
 ],
 "metadata": {
  "kernelspec": {
   "display_name": "Python 3",
   "language": "python",
   "name": "python3"
  },
  "language_info": {
   "codemirror_mode": {
    "name": "ipython",
    "version": 3
   },
   "file_extension": ".py",
   "mimetype": "text/x-python",
   "name": "python",
   "nbconvert_exporter": "python",
   "pygments_lexer": "ipython3",
   "version": "3.8.8"
  }
 },
 "nbformat": 4,
 "nbformat_minor": 5
}
