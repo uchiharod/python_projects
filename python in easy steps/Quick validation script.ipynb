{
 "cells": [
  {
   "cell_type": "code",
   "execution_count": 18,
   "id": "a26ee6ae",
   "metadata": {},
   "outputs": [
    {
     "name": "stdout",
     "output_type": "stream",
     "text": [
      "What is your first name? Roderick\n",
      "What is your last name? Moore\n",
      "Roderick Moore\n"
     ]
    }
   ],
   "source": [
    "first_name = input(\"What is your first name? \")\n",
    "last_name = input(\"What is your last name? \")\n",
    "\n",
    "whole_name = first_name + \" \" + last_name if (first_name == 'Roderick' and last_name == 'Moore') else 'naw, he ain\\'t that kat'\n",
    "print(whole_name)"
   ]
  },
  {
   "cell_type": "code",
   "execution_count": null,
   "id": "e57fe091",
   "metadata": {},
   "outputs": [],
   "source": [
    "lets_ask = input(\"What is your whole name?\")\n",
    "\n",
    "first_name = if (first_name == 'Roderick') else 'naw, he ain\\'t that kat'\n",
    "last_name = if (last_name == 'Moore') else 'naw, he ain\\'t that kat'\n",
    "whole_name = if (first_name == 'Roderick' and last_name == 'Moore') else 'naw, he ain\\'t that kat'\n",
    "\n",
    "whole_name = 'Roderick Moore' if (first_name == 'Roderick' and last_name == 'Moore') else 'naw, he ain\\'t that kat'\n",
    "print('\\nWhole name is:', whole_name)"
   ]
  },
  {
   "cell_type": "code",
   "execution_count": null,
   "id": "d0df4068",
   "metadata": {},
   "outputs": [],
   "source": []
  }
 ],
 "metadata": {
  "kernelspec": {
   "display_name": "Python 3",
   "language": "python",
   "name": "python3"
  },
  "language_info": {
   "codemirror_mode": {
    "name": "ipython",
    "version": 3
   },
   "file_extension": ".py",
   "mimetype": "text/x-python",
   "name": "python",
   "nbconvert_exporter": "python",
   "pygments_lexer": "ipython3",
   "version": "3.8.8"
  }
 },
 "nbformat": 4,
 "nbformat_minor": 5
}
