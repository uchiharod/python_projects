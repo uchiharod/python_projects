{
 "cells": [
  {
   "cell_type": "code",
   "execution_count": 3,
   "id": "a023e13c",
   "metadata": {},
   "outputs": [
    {
     "name": "stdout",
     "output_type": "stream",
     "text": [
      "AND Logic:\n",
      "a and a = True\n",
      "a and b = False\n",
      "b and b = False\n",
      "\n",
      "OR Logic:\n",
      "a or a = True\n",
      "a or b = True\n",
      "b or b = False\n",
      "\n",
      "NOT Logic:\n",
      "a = True \tnot a = False\n",
      "b = False \tnot b = True\n"
     ]
    }
   ],
   "source": [
    "a = True\n",
    "b = False\n",
    "\n",
    "print( 'AND Logic:' )\n",
    "print( 'a and a =' , a and a )\n",
    "print( 'a and b =' , a and b )\n",
    "print( 'b and b =' , b and b )\n",
    "\n",
    "print( '\\nOR Logic:' )\n",
    "print( 'a or a =' , a or a )\n",
    "print( 'a or b =' , a or b )\n",
    "print( 'b or b =' , b or b )\n",
    "\n",
    "print( '\\nNOT Logic:' )\n",
    "print( 'a =' , a , '\\tnot a =' , not a )\n",
    "print( 'b =' , b , '\\tnot b =' , not b )"
   ]
  },
  {
   "cell_type": "code",
   "execution_count": 6,
   "id": "5467f466",
   "metadata": {},
   "outputs": [
    {
     "name": "stdout",
     "output_type": "stream",
     "text": [
      "AND Logic:\n",
      "a and a = True\n",
      "a and b = False\n",
      "b and b = False\n",
      "--------------------\n",
      "\n",
      "OR Logic:\n",
      "a or a = True\n",
      "a or b = True\n",
      "b or b = False\n",
      "--------------------\n",
      "\n",
      "NOT Logic:\n",
      "a = True \tnot a = False\n",
      "b = False \tnot b = True\n"
     ]
    }
   ],
   "source": [
    "a = True\n",
    "b = False\n",
    "\n",
    "print( 'AND Logic:' )\n",
    "print( 'a and a =' , a and a )\n",
    "print( 'a and b =' , a and b )\n",
    "print( 'b and b =' , b and b )\n",
    "print( '--------------------' )\n",
    "print( '\\nOR Logic:' )\n",
    "print( 'a or a =' , a or a )\n",
    "print( 'a or b =' , a or b )\n",
    "print( 'b or b =' , b or b )\n",
    "print( '--------------------' )\n",
    "print( '\\nNOT Logic:' )\n",
    "print( 'a =' , a , '\\tnot a =' , not a )\n",
    "print( 'b =' , b , '\\tnot b =' , not b )"
   ]
  },
  {
   "cell_type": "code",
   "execution_count": 9,
   "id": "605506e5",
   "metadata": {},
   "outputs": [
    {
     "name": "stdout",
     "output_type": "stream",
     "text": [
      "AND Logic:\n",
      "a and a = 2\n",
      "a and b = 3\n",
      "b and b = 4\n",
      "--------------------\n",
      "\n",
      "OR Logic:\n",
      "a or a = 2\n",
      "a or b = 3\n",
      "b or b = 4\n",
      "--------------------\n",
      "\n",
      "NOT Logic:\n",
      "a = 1 \tnot a = False\n",
      "b = 2 \tnot b = False\n"
     ]
    }
   ],
   "source": [
    "a = 1\n",
    "b = 2\n",
    "\n",
    "print( 'AND Logic:' )\n",
    "print( 'a and a =' , a + a )\n",
    "print( 'a and b =' , a + b )\n",
    "print( 'b and b =' , b + b )\n",
    "print( '--------------------' )\n",
    "print( '\\nOR Logic:' )\n",
    "print( 'a or a =' , a + a )\n",
    "print( 'a or b =' , a + b )\n",
    "print( 'b or b =' , b + b )\n",
    "print( '--------------------' )\n",
    "print( '\\nNOT Logic:' )\n",
    "print( 'a =' , a , '\\tnot a =' , not a )\n",
    "print( 'b =' , b , '\\tnot b =' , not b )"
   ]
  },
  {
   "cell_type": "code",
   "execution_count": null,
   "id": "4cfbfbeb",
   "metadata": {},
   "outputs": [],
   "source": []
  }
 ],
 "metadata": {
  "kernelspec": {
   "display_name": "Python 3",
   "language": "python",
   "name": "python3"
  },
  "language_info": {
   "codemirror_mode": {
    "name": "ipython",
    "version": 3
   },
   "file_extension": ".py",
   "mimetype": "text/x-python",
   "name": "python",
   "nbconvert_exporter": "python",
   "pygments_lexer": "ipython3",
   "version": "3.8.8"
  }
 },
 "nbformat": 4,
 "nbformat_minor": 5
}
