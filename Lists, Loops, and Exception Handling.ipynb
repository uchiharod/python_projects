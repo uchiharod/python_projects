{
 "cells": [
  {
   "cell_type": "code",
   "execution_count": 1,
   "id": "a0afaca5",
   "metadata": {},
   "outputs": [
    {
     "name": "stdout",
     "output_type": "stream",
     "text": [
      "man\n",
      "bear\n",
      "pig\n"
     ]
    }
   ],
   "source": [
    "animals = ['man', 'bear', 'pig']\n",
    "print(animals[0])\n",
    "print(animals[1])\n",
    "print(animals[2])\n"
   ]
  },
  {
   "cell_type": "code",
   "execution_count": 2,
   "id": "76279da4",
   "metadata": {},
   "outputs": [
    {
     "name": "stdout",
     "output_type": "stream",
     "text": [
      "man\n",
      "cat\n"
     ]
    }
   ],
   "source": [
    "animals = ['man', 'bear', 'pig']\n",
    "print(animals[0])\n",
    "animals[0] = 'cat'\n",
    "print(animals[0])"
   ]
  },
  {
   "cell_type": "code",
   "execution_count": 3,
   "id": "c1f26cae",
   "metadata": {},
   "outputs": [
    {
     "name": "stdout",
     "output_type": "stream",
     "text": [
      "pig\n",
      "bear\n",
      "man\n"
     ]
    }
   ],
   "source": [
    "animals = ['man', 'bear', 'pig']\n",
    "print(animals[-1])\n",
    "print(animals[-2])\n",
    "print(animals[-3])"
   ]
  },
  {
   "cell_type": "code",
   "execution_count": 6,
   "id": "d6d9c0aa",
   "metadata": {},
   "outputs": [
    {
     "name": "stdout",
     "output_type": "stream",
     "text": [
      "pig\n"
     ]
    }
   ],
   "source": [
    "animals = ['man', 'bear', 'pig']\n",
    "#animals.append('cow')\n",
    "print(animals[-1])"
   ]
  },
  {
   "cell_type": "code",
   "execution_count": 8,
   "id": "814f4047",
   "metadata": {},
   "outputs": [
    {
     "name": "stdout",
     "output_type": "stream",
     "text": [
      "['man', 'bear', 'pig', 'cow']\n"
     ]
    }
   ],
   "source": [
    "animals = ['man', 'bear', 'pig']\n",
    "animals.append('cow')\n",
    "print(animals)"
   ]
  },
  {
   "cell_type": "code",
   "execution_count": 5,
   "id": "5693b7a5",
   "metadata": {},
   "outputs": [
    {
     "name": "stdout",
     "output_type": "stream",
     "text": [
      "cow\n"
     ]
    }
   ],
   "source": [
    "animals = ['man', 'bear', 'pig']\n",
    "animals.append('cow')\n",
    "print(animals[-1])"
   ]
  },
  {
   "cell_type": "code",
   "execution_count": 9,
   "id": "5869171a",
   "metadata": {},
   "outputs": [
    {
     "name": "stdout",
     "output_type": "stream",
     "text": [
      "['man', 'bear', 'pig', 'cow', 'duck']\n",
      "['man', 'bear', 'pig', 'cow', 'duck', 'horse', 'dog']\n"
     ]
    }
   ],
   "source": [
    "animals = ['man', 'bear', 'pig']\n",
    "animals.extend(['cow', 'duck'])\n",
    "print(animals)\n",
    "\n",
    "more_animals = ['horse', 'dog']\n",
    "animals.extend(more_animals)\n",
    "print(animals)"
   ]
  },
  {
   "cell_type": "code",
   "execution_count": 10,
   "id": "e8c15957",
   "metadata": {},
   "outputs": [
    {
     "name": "stdout",
     "output_type": "stream",
     "text": [
      "['man', 'bear', 'pig', 'cow', 'duck', 'ox', 'chicken']\n",
      "['man', 'bear', 'pig', 'cow', 'duck', 'ox', 'chicken', 'horse', 'dog']\n"
     ]
    }
   ],
   "source": [
    "animals = ['man', 'bear', 'pig']\n",
    "animals.extend(['cow', 'duck', 'ox', 'chicken'])\n",
    "print(animals)\n",
    "\n",
    "more_animals = ['horse', 'dog']\n",
    "animals.extend(more_animals)\n",
    "print(animals)"
   ]
  },
  {
   "cell_type": "code",
   "execution_count": 12,
   "id": "5aa50d67",
   "metadata": {},
   "outputs": [
    {
     "name": "stdout",
     "output_type": "stream",
     "text": [
      "['horse', 'man', 'bear', 'pig']\n",
      "['horse', 'man', 'duck', 'bear', 'pig']\n",
      "['horse', 'man', 'duck', 'Boroshiki', 'bear', 'pig']\n"
     ]
    }
   ],
   "source": [
    "animals = ['man', 'bear', 'pig']\n",
    "animals.insert(0, 'horse')\n",
    "print(animals)\n",
    "\n",
    "animals.insert(2, 'duck')\n",
    "print(animals)\n",
    "\n",
    "animals.insert(3, 'Boroshiki')\n",
    "print(animals)\n"
   ]
  },
  {
   "cell_type": "code",
   "execution_count": 13,
   "id": "44ec848a",
   "metadata": {},
   "outputs": [
    {
     "name": "stdout",
     "output_type": "stream",
     "text": [
      "Some animals:      ['bear', 'pig', 'cow']\n",
      "First two animals: ['man', 'bear']\n",
      "First two animals: ['man', 'bear']\n",
      "Last two animals:  ['duck', 'horse']\n",
      "Last two animals:  ['duck', 'horse']\n"
     ]
    }
   ],
   "source": [
    "animals = ['man', 'bear', 'pig', 'cow', 'duck', 'horse']\n",
    "\n",
    "some_animals = animals[1:4]\n",
    "print('Some animals:      {}'.format(some_animals))\n",
    "\n",
    "first_two = animals[0:2]\n",
    "print('First two animals: {}'.format(first_two))\n",
    "\n",
    "first_two_again = animals[:2]\n",
    "print('First two animals: {}'.format(first_two_again))\n",
    "\n",
    "last_two = animals[4:6]\n",
    "print('Last two animals:  {}'.format(last_two))\n",
    "\n",
    "last_two_again = animals[-2:]\n",
    "print('Last two animals:  {}'.format(last_two_again))"
   ]
  },
  {
   "cell_type": "code",
   "execution_count": null,
   "id": "e0477e93",
   "metadata": {},
   "outputs": [],
   "source": []
  }
 ],
 "metadata": {
  "kernelspec": {
   "display_name": "Python 3",
   "language": "python",
   "name": "python3"
  },
  "language_info": {
   "codemirror_mode": {
    "name": "ipython",
    "version": 3
   },
   "file_extension": ".py",
   "mimetype": "text/x-python",
   "name": "python",
   "nbconvert_exporter": "python",
   "pygments_lexer": "ipython3",
   "version": "3.8.8"
  }
 },
 "nbformat": 4,
 "nbformat_minor": 5
}
