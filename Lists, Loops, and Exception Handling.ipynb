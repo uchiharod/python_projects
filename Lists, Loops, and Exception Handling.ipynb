{
 "cells": [
  {
   "cell_type": "code",
   "execution_count": 1,
   "id": "89be41b8",
   "metadata": {},
   "outputs": [
    {
     "name": "stdout",
     "output_type": "stream",
     "text": [
      "man\n",
      "bear\n",
      "pig\n"
     ]
    }
   ],
   "source": [
    "animals = ['man', 'bear', 'pig']\n",
    "print(animals[0])\n",
    "print(animals[1])\n",
    "print(animals[2])\n"
   ]
  },
  {
   "cell_type": "code",
   "execution_count": 2,
   "id": "e9b32def",
   "metadata": {},
   "outputs": [
    {
     "name": "stdout",
     "output_type": "stream",
     "text": [
      "man\n",
      "cat\n"
     ]
    }
   ],
   "source": [
    "animals = ['man', 'bear', 'pig']\n",
    "print(animals[0])\n",
    "animals[0] = 'cat'\n",
    "print(animals[0])"
   ]
  },
  {
   "cell_type": "code",
   "execution_count": null,
   "id": "726c8fc0",
   "metadata": {},
   "outputs": [],
   "source": []
  }
 ],
 "metadata": {
  "kernelspec": {
   "display_name": "Python 3",
   "language": "python",
   "name": "python3"
  },
  "language_info": {
   "codemirror_mode": {
    "name": "ipython",
    "version": 3
   },
   "file_extension": ".py",
   "mimetype": "text/x-python",
   "name": "python",
   "nbconvert_exporter": "python",
   "pygments_lexer": "ipython3",
   "version": "3.8.8"
  }
 },
 "nbformat": 4,
 "nbformat_minor": 5
}
