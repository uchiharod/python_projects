{
 "cells": [
  {
   "cell_type": "code",
   "execution_count": 1,
   "id": "20084a37",
   "metadata": {},
   "outputs": [
    {
     "name": "stdout",
     "output_type": "stream",
     "text": [
      "man\n",
      "bear\n",
      "pig\n"
     ]
    }
   ],
   "source": [
    "animals = ['man', 'bear', 'pig']\n",
    "print(animals[0])\n",
    "print(animals[1])\n",
    "print(animals[2])\n"
   ]
  },
  {
   "cell_type": "code",
   "execution_count": 2,
   "id": "730fd0b5",
   "metadata": {},
   "outputs": [
    {
     "name": "stdout",
     "output_type": "stream",
     "text": [
      "man\n",
      "cat\n"
     ]
    }
   ],
   "source": [
    "animals = ['man', 'bear', 'pig']\n",
    "print(animals[0])\n",
    "animals[0] = 'cat'\n",
    "print(animals[0])"
   ]
  },
  {
   "cell_type": "code",
   "execution_count": 3,
   "id": "ec8e3e40",
   "metadata": {},
   "outputs": [
    {
     "name": "stdout",
     "output_type": "stream",
     "text": [
      "pig\n",
      "bear\n",
      "man\n"
     ]
    }
   ],
   "source": [
    "animals = ['man', 'bear', 'pig']\n",
    "print(animals[-1])\n",
    "print(animals[-2])\n",
    "print(animals[-3])"
   ]
  },
  {
   "cell_type": "code",
   "execution_count": 6,
   "id": "10d25a3c",
   "metadata": {},
   "outputs": [
    {
     "name": "stdout",
     "output_type": "stream",
     "text": [
      "pig\n"
     ]
    }
   ],
   "source": [
    "animals = ['man', 'bear', 'pig']\n",
    "#animals.append('cow')\n",
    "print(animals[-1])"
   ]
  },
  {
   "cell_type": "code",
   "execution_count": 8,
   "id": "300bee0a",
   "metadata": {},
   "outputs": [
    {
     "name": "stdout",
     "output_type": "stream",
     "text": [
      "['man', 'bear', 'pig', 'cow']\n"
     ]
    }
   ],
   "source": [
    "animals = ['man', 'bear', 'pig']\n",
    "animals.append('cow')\n",
    "print(animals)"
   ]
  },
  {
   "cell_type": "code",
   "execution_count": 5,
   "id": "38a4ea8b",
   "metadata": {},
   "outputs": [
    {
     "name": "stdout",
     "output_type": "stream",
     "text": [
      "cow\n"
     ]
    }
   ],
   "source": [
    "animals = ['man', 'bear', 'pig']\n",
    "animals.append('cow')\n",
    "print(animals[-1])"
   ]
  },
  {
   "cell_type": "code",
   "execution_count": 9,
   "id": "b71c0db5",
   "metadata": {},
   "outputs": [
    {
     "name": "stdout",
     "output_type": "stream",
     "text": [
      "['man', 'bear', 'pig', 'cow', 'duck']\n",
      "['man', 'bear', 'pig', 'cow', 'duck', 'horse', 'dog']\n"
     ]
    }
   ],
   "source": [
    "animals = ['man', 'bear', 'pig']\n",
    "animals.extend(['cow', 'duck'])\n",
    "print(animals)\n",
    "\n",
    "more_animals = ['horse', 'dog']\n",
    "animals.extend(more_animals)\n",
    "print(animals)"
   ]
  },
  {
   "cell_type": "code",
   "execution_count": 10,
   "id": "ea38a47f",
   "metadata": {},
   "outputs": [
    {
     "name": "stdout",
     "output_type": "stream",
     "text": [
      "['man', 'bear', 'pig', 'cow', 'duck', 'ox', 'chicken']\n",
      "['man', 'bear', 'pig', 'cow', 'duck', 'ox', 'chicken', 'horse', 'dog']\n"
     ]
    }
   ],
   "source": [
    "animals = ['man', 'bear', 'pig']\n",
    "animals.extend(['cow', 'duck', 'ox', 'chicken'])\n",
    "print(animals)\n",
    "\n",
    "more_animals = ['horse', 'dog']\n",
    "animals.extend(more_animals)\n",
    "print(animals)"
   ]
  },
  {
   "cell_type": "code",
   "execution_count": 12,
   "id": "6ff303cf",
   "metadata": {},
   "outputs": [
    {
     "name": "stdout",
     "output_type": "stream",
     "text": [
      "['horse', 'man', 'bear', 'pig']\n",
      "['horse', 'man', 'duck', 'bear', 'pig']\n",
      "['horse', 'man', 'duck', 'Boroshiki', 'bear', 'pig']\n"
     ]
    }
   ],
   "source": [
    "animals = ['man', 'bear', 'pig']\n",
    "animals.insert(0, 'horse')\n",
    "print(animals)\n",
    "\n",
    "animals.insert(2, 'duck')\n",
    "print(animals)\n",
    "\n",
    "animals.insert(3, 'Boroshiki')\n",
    "print(animals)\n"
   ]
  },
  {
   "cell_type": "code",
   "execution_count": 13,
   "id": "f93daf03",
   "metadata": {},
   "outputs": [
    {
     "name": "stdout",
     "output_type": "stream",
     "text": [
      "Some animals:      ['bear', 'pig', 'cow']\n",
      "First two animals: ['man', 'bear']\n",
      "First two animals: ['man', 'bear']\n",
      "Last two animals:  ['duck', 'horse']\n",
      "Last two animals:  ['duck', 'horse']\n"
     ]
    }
   ],
   "source": [
    "animals = ['man', 'bear', 'pig', 'cow', 'duck', 'horse']\n",
    "\n",
    "some_animals = animals[1:4]\n",
    "print('Some animals:      {}'.format(some_animals))\n",
    "\n",
    "first_two = animals[0:2]\n",
    "print('First two animals: {}'.format(first_two))\n",
    "\n",
    "first_two_again = animals[:2]\n",
    "print('First two animals: {}'.format(first_two_again))\n",
    "\n",
    "last_two = animals[4:6]\n",
    "print('Last two animals:  {}'.format(last_two))\n",
    "\n",
    "last_two_again = animals[-2:]\n",
    "print('Last two animals:  {}'.format(last_two_again))"
   ]
  },
  {
   "cell_type": "code",
   "execution_count": 14,
   "id": "58f21e7b",
   "metadata": {},
   "outputs": [
    {
     "name": "stdout",
     "output_type": "stream",
     "text": [
      "Some animals:      ['bear', 'pig', 'cow', 'duck']\n",
      "First two animals: ['man', 'bear']\n",
      "First two animals: ['man', 'bear']\n",
      "Last two animals:  ['duck', 'horse']\n",
      "Last two animals:  ['duck', 'horse']\n"
     ]
    }
   ],
   "source": [
    "animals = ['man', 'bear', 'pig', 'cow', 'duck', 'horse']\n",
    "\n",
    "some_animals = animals[1:5]\n",
    "print('Some animals:      {}'.format(some_animals))\n",
    "\n",
    "first_two = animals[0:2]\n",
    "print('First two animals: {}'.format(first_two))\n",
    "\n",
    "first_two_again = animals[:2]\n",
    "print('First two animals: {}'.format(first_two_again))\n",
    "\n",
    "last_two = animals[4:6]\n",
    "print('Last two animals:  {}'.format(last_two))\n",
    "\n",
    "last_two_again = animals[-2:]\n",
    "print('Last two animals:  {}'.format(last_two_again))"
   ]
  },
  {
   "cell_type": "code",
   "execution_count": 16,
   "id": "5a085222",
   "metadata": {},
   "outputs": [
    {
     "name": "stdout",
     "output_type": "stream",
     "text": [
      "Some animals:      ['bear', 'pig', 'cow', 'duck', 'horse']\n",
      "First two animals: ['man', 'bear', 'pig']\n",
      "First two animals: ['man', 'bear']\n",
      "Last two animals:  ['duck', 'horse']\n",
      "Last two animals:  ['duck', 'horse']\n"
     ]
    }
   ],
   "source": [
    "animals = ['man', 'bear', 'pig', 'cow', 'duck', 'horse']\n",
    "\n",
    "some_animals = animals[1:6]\n",
    "print('Some animals:      {}'.format(some_animals))\n",
    "\n",
    "first_two = animals[0:3]\n",
    "print('First two animals: {}'.format(first_two))\n",
    "\n",
    "first_two_again = animals[:2]\n",
    "print('First two animals: {}'.format(first_two_again))\n",
    "\n",
    "last_two = animals[4:6]\n",
    "print('Last two animals:  {}'.format(last_two))\n",
    "\n",
    "last_two_again = animals[-2:]\n",
    "print('Last two animals:  {}'.format(last_two_again))"
   ]
  },
  {
   "cell_type": "code",
   "execution_count": 17,
   "id": "6814eb42",
   "metadata": {},
   "outputs": [
    {
     "name": "stdout",
     "output_type": "stream",
     "text": [
      "Some animals:      ['bear', 'pig', 'cow', 'duck', 'horse']\n",
      "First two animals: ['man', 'bear', 'pig']\n",
      "First two animals: ['man', 'bear']\n",
      "Last two animals:  ['duck', 'horse']\n",
      "Last two animals:  ['duck', 'horse']\n"
     ]
    }
   ],
   "source": [
    "animals = ['man', 'bear', 'pig', 'cow', 'duck', 'horse']\n",
    "\n",
    "some_animals = animals[1:6]\n",
    "print('Some animals:      {}'.format(some_animals))\n",
    "\n",
    "first_two = animals[0:3]\n",
    "print('First two animals: {}'.format(first_two))\n",
    "\n",
    "first_two_again = animals[:2]\n",
    "print('First two animals: {}'.format(first_two_again))\n",
    "\n",
    "last_two = animals[4:6]\n",
    "print('Last two animals:  {}'.format(last_two))\n",
    "\n",
    "last_two_again = animals[-2:]\n",
    "print('Last two animals:  {}'.format(last_two_again))"
   ]
  },
  {
   "cell_type": "code",
   "execution_count": 18,
   "id": "9ae08aad",
   "metadata": {},
   "outputs": [
    {
     "name": "stdout",
     "output_type": "stream",
     "text": [
      "or\n"
     ]
    }
   ],
   "source": [
    "part_of_a_horse = 'horse'[1:3]\n",
    "print(part_of_a_horse)\n"
   ]
  },
  {
   "cell_type": "code",
   "execution_count": 19,
   "id": "ad3de86f",
   "metadata": {},
   "outputs": [
    {
     "name": "stdout",
     "output_type": "stream",
     "text": [
      "1\n"
     ]
    }
   ],
   "source": [
    "animals = ['man', 'bear', 'pig']\n",
    "bear_index = animals.index('bear')\n",
    "print(bear_index)"
   ]
  },
  {
   "cell_type": "code",
   "execution_count": 20,
   "id": "6da756ef",
   "metadata": {},
   "outputs": [
    {
     "ename": "ValueError",
     "evalue": "'cat' is not in list",
     "output_type": "error",
     "traceback": [
      "\u001b[1;31m---------------------------------------------------------------------------\u001b[0m",
      "\u001b[1;31mValueError\u001b[0m                                Traceback (most recent call last)",
      "\u001b[1;32m<ipython-input-20-b7b3a24d14b3>\u001b[0m in \u001b[0;36m<module>\u001b[1;34m\u001b[0m\n\u001b[0;32m      1\u001b[0m \u001b[0manimals\u001b[0m \u001b[1;33m=\u001b[0m \u001b[1;33m[\u001b[0m\u001b[1;34m'man'\u001b[0m\u001b[1;33m,\u001b[0m \u001b[1;34m'bear'\u001b[0m\u001b[1;33m,\u001b[0m \u001b[1;34m'pig'\u001b[0m\u001b[1;33m]\u001b[0m\u001b[1;33m\u001b[0m\u001b[1;33m\u001b[0m\u001b[0m\n\u001b[1;32m----> 2\u001b[1;33m \u001b[0mcat_index\u001b[0m \u001b[1;33m=\u001b[0m \u001b[0manimals\u001b[0m\u001b[1;33m.\u001b[0m\u001b[0mindex\u001b[0m\u001b[1;33m(\u001b[0m\u001b[1;34m'cat'\u001b[0m\u001b[1;33m)\u001b[0m\u001b[1;33m\u001b[0m\u001b[1;33m\u001b[0m\u001b[0m\n\u001b[0m\u001b[0;32m      3\u001b[0m \u001b[0mprint\u001b[0m\u001b[1;33m(\u001b[0m\u001b[0mcat_index\u001b[0m\u001b[1;33m)\u001b[0m\u001b[1;33m\u001b[0m\u001b[1;33m\u001b[0m\u001b[0m\n",
      "\u001b[1;31mValueError\u001b[0m: 'cat' is not in list"
     ]
    }
   ],
   "source": [
    "animals = ['man', 'bear', 'pig']\n",
    "cat_index = animals.index('cat')\n",
    "print(cat_index)"
   ]
  },
  {
   "cell_type": "code",
   "execution_count": 21,
   "id": "90672509",
   "metadata": {},
   "outputs": [
    {
     "name": "stdout",
     "output_type": "stream",
     "text": [
      "No cats found.\n"
     ]
    }
   ],
   "source": [
    "\n",
    "animals = ['man', 'bear', 'pig']\n",
    "try:\n",
    "    cat_index = animals.index('cat')\n",
    "except:\n",
    "    cat_index = 'No cats found.'\n",
    "print(cat_index)"
   ]
  },
  {
   "cell_type": "code",
   "execution_count": 22,
   "id": "9a395346",
   "metadata": {},
   "outputs": [
    {
     "name": "stdout",
     "output_type": "stream",
     "text": [
      "MAN\n",
      "BEAR\n",
      "PIG\n"
     ]
    }
   ],
   "source": [
    "animals = ['man', 'bear', 'pig']\n",
    "for animal in animals:\n",
    "    print(animal.upper())"
   ]
  },
  {
   "cell_type": "code",
   "execution_count": 25,
   "id": "de22e592",
   "metadata": {},
   "outputs": [
    {
     "name": "stdout",
     "output_type": "stream",
     "text": [
      "man\n",
      "bear\n",
      "pig\n",
      "cow\n",
      "duck\n",
      "horse\n",
      "dog\n"
     ]
    }
   ],
   "source": [
    "animals = ['man', 'bear', 'pig', 'cow', 'duck', 'horse', 'dog']\n",
    "\n",
    "index = 0\n",
    "\n",
    "while index < len(animals):\n",
    "    print(animals[index])\n",
    "    index += 1"
   ]
  },
  {
   "cell_type": "code",
   "execution_count": 32,
   "id": "c2341ec3",
   "metadata": {},
   "outputs": [
    {
     "name": "stdout",
     "output_type": "stream",
     "text": [
      "JOJO\n",
      "Naruto\n",
      "Bleach\n",
      "Dragon Ball\n",
      "YuYU Hakusho\n",
      "Rurouni Kenshin\n",
      "Gundam Wing\n"
     ]
    }
   ],
   "source": [
    "anime = ['JOJO', 'Naruto', 'Bleach', 'Dragon Ball', 'YuYU Hakusho', 'Rurouni Kenshin', 'Gundam Wing']\n",
    "\n",
    "index = 0\n",
    "\n",
    "while index < len(anime):\n",
    "    print(anime[index])\n",
    "    index += 1"
   ]
  },
  {
   "cell_type": "code",
   "execution_count": 26,
   "id": "34fd5265",
   "metadata": {},
   "outputs": [
    {
     "name": "stdout",
     "output_type": "stream",
     "text": [
      "Animals list:              ['man', 'bear', 'pig']\n",
      "Sorted animals list:       ['bear', 'man', 'pig']\n",
      "Animals after sort method: ['bear', 'man', 'pig']\n"
     ]
    }
   ],
   "source": [
    "animals = ['man', 'bear', 'pig']\n",
    "sorted_animals = sorted(animals)\n",
    "print('Animals list:              {}'.format(animals))\n",
    "print('Sorted animals list:       {}'.format(sorted_animals))\n",
    "animals.sort()\n",
    "print('Animals after sort method: {}'.format(animals))\n"
   ]
  },
  {
   "cell_type": "code",
   "execution_count": 33,
   "id": "baecd729",
   "metadata": {},
   "outputs": [
    {
     "name": "stdout",
     "output_type": "stream",
     "text": [
      "['man', 'bear', 'pig', 'cow', 'duck', 'horse']\n"
     ]
    }
   ],
   "source": [
    "animals = ['man', 'bear', 'pig']\n",
    "more_animals = ['cow', 'duck', 'horse']\n",
    "all_animals = animals + more_animals\n",
    "print(all_animals)"
   ]
  },
  {
   "cell_type": "code",
   "execution_count": null,
   "id": "4137700b",
   "metadata": {},
   "outputs": [],
   "source": []
  }
 ],
 "metadata": {
  "kernelspec": {
   "display_name": "Python 3",
   "language": "python",
   "name": "python3"
  },
  "language_info": {
   "codemirror_mode": {
    "name": "ipython",
    "version": 3
   },
   "file_extension": ".py",
   "mimetype": "text/x-python",
   "name": "python",
   "nbconvert_exporter": "python",
   "pygments_lexer": "ipython3",
   "version": "3.8.8"
  }
 },
 "nbformat": 4,
 "nbformat_minor": 5
}
