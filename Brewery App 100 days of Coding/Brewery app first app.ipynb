{
 "cells": [
  {
   "cell_type": "code",
   "execution_count": 1,
   "id": "6eb8fe5e",
   "metadata": {},
   "outputs": [
    {
     "name": "stdout",
     "output_type": "stream",
     "text": [
      "What is my name?Roderick\n",
      "8\n"
     ]
    }
   ],
   "source": [
    "print(len(input(\"What is my name?\")))"
   ]
  },
  {
   "cell_type": "code",
   "execution_count": null,
   "id": "863bfdc4",
   "metadata": {},
   "outputs": [],
   "source": []
  }
 ],
 "metadata": {
  "kernelspec": {
   "display_name": "Python 3",
   "language": "python",
   "name": "python3"
  },
  "language_info": {
   "codemirror_mode": {
    "name": "ipython",
    "version": 3
   },
   "file_extension": ".py",
   "mimetype": "text/x-python",
   "name": "python",
   "nbconvert_exporter": "python",
   "pygments_lexer": "ipython3",
   "version": "3.8.8"
  }
 },
 "nbformat": 4,
 "nbformat_minor": 5
}
