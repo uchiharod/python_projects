{
 "cells": [
  {
   "cell_type": "code",
   "execution_count": 1,
   "id": "b824e2ec",
   "metadata": {},
   "outputs": [
    {
     "name": "stdout",
     "output_type": "stream",
     "text": [
      "Which year do you want to check? 1999\n",
      "Not leap year.\n"
     ]
    }
   ],
   "source": [
    "year = int(input(\"Which year do you want to check? \"))\n",
    "\n",
    "#Refer to the flow chart here: https://bit.ly/36BjS2D\n",
    "\n",
    "if year % 4 == 0:\n",
    "  if year % 100 == 0:\n",
    "    if year % 400 == 0:\n",
    "      print(\"Leap year.\")\n",
    "    else:\n",
    "      print(\"Not leap year.\")\n",
    "  else:\n",
    "    print(\"Leap year.\")\n",
    "else:\n",
    "  print(\"Not leap year.\")"
   ]
  },
  {
   "cell_type": "code",
   "execution_count": null,
   "id": "e016a414",
   "metadata": {},
   "outputs": [],
   "source": []
  }
 ],
 "metadata": {
  "kernelspec": {
   "display_name": "Python 3",
   "language": "python",
   "name": "python3"
  },
  "language_info": {
   "codemirror_mode": {
    "name": "ipython",
    "version": 3
   },
   "file_extension": ".py",
   "mimetype": "text/x-python",
   "name": "python",
   "nbconvert_exporter": "python",
   "pygments_lexer": "ipython3",
   "version": "3.8.8"
  }
 },
 "nbformat": 4,
 "nbformat_minor": 5
}
