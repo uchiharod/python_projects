{
 "cells": [
  {
   "cell_type": "code",
   "execution_count": 1,
   "id": "8945e2ef",
   "metadata": {},
   "outputs": [
    {
     "name": "stdout",
     "output_type": "stream",
     "text": [
      "2550\n"
     ]
    }
   ],
   "source": [
    "#Write your code below this row 👇\n",
    "\n",
    "even_sum = 0\n",
    "for number in range(2, 101, 2):\n",
    "  # print(number)\n",
    "  even_sum += number\n",
    "print(even_sum)\n",
    "  \n",
    "#or\n",
    "\n",
    "# alternative_sum = 0\n",
    "# for number in range(1, 101):\n",
    "#   if number % 2 == 0:\n",
    "#     # print(number)\n",
    "#     alternative_sum += number\n",
    "# print(alternative_sum)"
   ]
  },
  {
   "cell_type": "code",
   "execution_count": 13,
   "id": "f2d54951",
   "metadata": {},
   "outputs": [
    {
     "name": "stdout",
     "output_type": "stream",
     "text": [
      "2\n",
      "4\n",
      "6\n",
      "8\n",
      "10\n",
      "12\n",
      "14\n",
      "16\n",
      "18\n",
      "20\n",
      "22\n",
      "24\n",
      "26\n",
      "28\n",
      "30\n",
      "32\n",
      "34\n",
      "36\n",
      "38\n",
      "40\n",
      "42\n",
      "44\n",
      "46\n",
      "48\n",
      "50\n",
      "52\n",
      "54\n",
      "56\n",
      "58\n",
      "60\n",
      "62\n",
      "64\n",
      "66\n",
      "68\n",
      "70\n",
      "72\n",
      "74\n",
      "76\n",
      "78\n",
      "80\n",
      "82\n",
      "84\n",
      "86\n",
      "88\n",
      "90\n",
      "92\n",
      "94\n",
      "96\n",
      "98\n",
      "100\n"
     ]
    }
   ],
   "source": [
    "my_list = []\n",
    "number_printing = 0\n",
    "for number in range(2, 101, 2):\n",
    "  print(number)\n"
   ]
  },
  {
   "cell_type": "code",
   "execution_count": null,
   "id": "9ef3f338",
   "metadata": {},
   "outputs": [],
   "source": []
  }
 ],
 "metadata": {
  "kernelspec": {
   "display_name": "Python 3",
   "language": "python",
   "name": "python3"
  },
  "language_info": {
   "codemirror_mode": {
    "name": "ipython",
    "version": 3
   },
   "file_extension": ".py",
   "mimetype": "text/x-python",
   "name": "python",
   "nbconvert_exporter": "python",
   "pygments_lexer": "ipython3",
   "version": "3.8.8"
  }
 },
 "nbformat": 4,
 "nbformat_minor": 5
}
