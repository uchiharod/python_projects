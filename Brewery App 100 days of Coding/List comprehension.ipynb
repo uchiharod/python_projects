{
 "cells": [
  {
   "cell_type": "code",
   "execution_count": 1,
   "id": "1f7a1cf7",
   "metadata": {},
   "outputs": [],
   "source": [
    "numbers = [1, 2, 3]\n",
    "new_numbers = [n + 1 for n in numbers]"
   ]
  },
  {
   "cell_type": "code",
   "execution_count": 2,
   "id": "8367d478",
   "metadata": {},
   "outputs": [],
   "source": [
    "name = \"Roderick\"\n",
    "letters_list = [letter for letter in name]"
   ]
  },
  {
   "cell_type": "code",
   "execution_count": 3,
   "id": "0ac4a8a1",
   "metadata": {},
   "outputs": [
    {
     "name": "stdout",
     "output_type": "stream",
     "text": [
      "[1, 1, 4, 9, 25, 64, 169, 441, 1156, 3025]\n"
     ]
    }
   ],
   "source": [
    "numbers = [1, 1, 2, 3, 5, 8, 13, 21, 34, 55]\n",
    "# Do Not Change the code above 👆\n",
    "\n",
    "# Write your 1 line code below 👇\n",
    "squared_numbers = [num * num for num in numbers]\n",
    "# Write your code above 👆\n",
    "\n",
    "print(squared_numbers)\n"
   ]
  },
  {
   "cell_type": "code",
   "execution_count": null,
   "id": "6737b5b5",
   "metadata": {},
   "outputs": [],
   "source": []
  }
 ],
 "metadata": {
  "kernelspec": {
   "display_name": "Python 3",
   "language": "python",
   "name": "python3"
  },
  "language_info": {
   "codemirror_mode": {
    "name": "ipython",
    "version": 3
   },
   "file_extension": ".py",
   "mimetype": "text/x-python",
   "name": "python",
   "nbconvert_exporter": "python",
   "pygments_lexer": "ipython3",
   "version": "3.8.8"
  }
 },
 "nbformat": 4,
 "nbformat_minor": 5
}
