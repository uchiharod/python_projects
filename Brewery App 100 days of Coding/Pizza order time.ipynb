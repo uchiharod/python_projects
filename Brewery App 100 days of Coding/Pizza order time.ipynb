{
 "cells": [
  {
   "cell_type": "code",
   "execution_count": 1,
   "id": "ce2f8b47",
   "metadata": {},
   "outputs": [
    {
     "name": "stdout",
     "output_type": "stream",
     "text": [
      "Welcome to Python Pizza Deliveries!\n",
      "What size pizza do you want? S, M, or L l\n",
      "Do you want pepperoni? Y or N y\n",
      "Do you want extra cheese? Y or N y\n",
      "Your final bill is: $25.\n"
     ]
    }
   ],
   "source": [
    "print(\"Welcome to Python Pizza Deliveries!\")\n",
    "size = input(\"What size pizza do you want? S, M, or L \")\n",
    "add_pepperoni = input(\"Do you want pepperoni? Y or N \")\n",
    "extra_cheese = input(\"Do you want extra cheese? Y or N \")\n",
    "\n",
    "\n",
    "bill = 0\n",
    "\n",
    "if size == \"S\":\n",
    "  bill += 15\n",
    "elif size == \"M\":\n",
    "  bill += 20\n",
    "else:\n",
    "  bill += 25\n",
    "\n",
    "if add_pepperoni == \"Y\":\n",
    "  if size == \"S\":\n",
    "    bill += 2\n",
    "  else:\n",
    "    bill += 3\n",
    "    \n",
    "if extra_cheese == \"Y\":\n",
    "  bill += 1\n",
    "  \n",
    "print(f\"Your final bill is: ${bill}.\")"
   ]
  },
  {
   "cell_type": "code",
   "execution_count": null,
   "id": "255c1364",
   "metadata": {},
   "outputs": [],
   "source": []
  }
 ],
 "metadata": {
  "kernelspec": {
   "display_name": "Python 3",
   "language": "python",
   "name": "python3"
  },
  "language_info": {
   "codemirror_mode": {
    "name": "ipython",
    "version": 3
   },
   "file_extension": ".py",
   "mimetype": "text/x-python",
   "name": "python",
   "nbconvert_exporter": "python",
   "pygments_lexer": "ipython3",
   "version": "3.8.8"
  }
 },
 "nbformat": 4,
 "nbformat_minor": 5
}
