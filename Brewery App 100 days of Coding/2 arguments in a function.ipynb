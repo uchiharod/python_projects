{
 "cells": [
  {
   "cell_type": "code",
   "execution_count": 2,
   "id": "9a973644",
   "metadata": {},
   "outputs": [
    {
     "name": "stdout",
     "output_type": "stream",
     "text": [
      "Hello Roderick\n",
      "What is it like in Medellin?\n"
     ]
    }
   ],
   "source": [
    "def greet_with(name, location):\n",
    "    print(f\"Hello {name}\")\n",
    "    print(f\"What is it like in {location}?\")\n",
    "    \n",
    "greet_with(\"Roderick\", \"Medellin\")"
   ]
  },
  {
   "cell_type": "code",
   "execution_count": 4,
   "id": "3fb45e07",
   "metadata": {},
   "outputs": [
    {
     "name": "stdout",
     "output_type": "stream",
     "text": [
      "Hello Roderick\n",
      "What is it like in London?\n",
      "Hello London\n",
      "What is it like in Roderick?\n"
     ]
    }
   ],
   "source": [
    "def greet_with(name, location):\n",
    "    print(f\"Hello {name}\")\n",
    "    print(f\"What is it like in {location}?\")\n",
    "    \n",
    "greet_with(location=\"London\", name=\"Roderick\")\n",
    "greet_with(location=\"Roderick\", name=\"London\")"
   ]
  },
  {
   "cell_type": "code",
   "execution_count": null,
   "id": "87d2fbc8",
   "metadata": {},
   "outputs": [],
   "source": []
  }
 ],
 "metadata": {
  "kernelspec": {
   "display_name": "Python 3",
   "language": "python",
   "name": "python3"
  },
  "language_info": {
   "codemirror_mode": {
    "name": "ipython",
    "version": 3
   },
   "file_extension": ".py",
   "mimetype": "text/x-python",
   "name": "python",
   "nbconvert_exporter": "python",
   "pygments_lexer": "ipython3",
   "version": "3.8.8"
  }
 },
 "nbformat": 4,
 "nbformat_minor": 5
}
