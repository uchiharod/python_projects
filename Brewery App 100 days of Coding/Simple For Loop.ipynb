{
 "cells": [
  {
   "cell_type": "code",
   "execution_count": 1,
   "id": "e377d26b",
   "metadata": {},
   "outputs": [
    {
     "name": "stdout",
     "output_type": "stream",
     "text": [
      "Apples\n",
      "Apples Pie\n",
      "Oranges\n",
      "Oranges Pie\n",
      "Grapes\n",
      "Grapes Pie\n"
     ]
    }
   ],
   "source": [
    "fruits = [\"Apples\", \"Oranges\", \"Grapes\"]\n",
    "for fruit in fruits:\n",
    "    print(fruit)\n",
    "    print(fruit + \" Pie\")"
   ]
  },
  {
   "cell_type": "code",
   "execution_count": null,
   "id": "6d20bdf4",
   "metadata": {},
   "outputs": [],
   "source": []
  }
 ],
 "metadata": {
  "kernelspec": {
   "display_name": "Python 3",
   "language": "python",
   "name": "python3"
  },
  "language_info": {
   "codemirror_mode": {
    "name": "ipython",
    "version": 3
   },
   "file_extension": ".py",
   "mimetype": "text/x-python",
   "name": "python",
   "nbconvert_exporter": "python",
   "pygments_lexer": "ipython3",
   "version": "3.8.8"
  }
 },
 "nbformat": 4,
 "nbformat_minor": 5
}
