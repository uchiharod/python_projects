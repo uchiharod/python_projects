{
 "cells": [
  {
   "cell_type": "code",
   "execution_count": 4,
   "id": "c25d2399",
   "metadata": {},
   "outputs": [
    {
     "name": "stdout",
     "output_type": "stream",
     "text": [
      "apple\n"
     ]
    }
   ],
   "source": [
    "fruit = 'apple'\n",
    "fruit2 = 'orange'\n",
    "\n",
    "print(fruit)"
   ]
  },
  {
   "cell_type": "code",
   "execution_count": 5,
   "id": "28e11a38",
   "metadata": {},
   "outputs": [
    {
     "name": "stdout",
     "output_type": "stream",
     "text": [
      "orange\n"
     ]
    }
   ],
   "source": [
    "print(fruit2)"
   ]
  },
  {
   "cell_type": "code",
   "execution_count": 6,
   "id": "9b0e8aa7",
   "metadata": {},
   "outputs": [
    {
     "name": "stdout",
     "output_type": "stream",
     "text": [
      "She said gimme, gimme, gimme.\n",
      "She said, \"Gimme, Gimme, Gimme\"\n"
     ]
    }
   ],
   "source": [
    "sentence = 'She said gimme, gimme, gimme.'\n",
    "sentence2 = 'She said, \"Gimme, Gimme, Gimme\"'\n",
    "\n",
    "print(sentence)\n",
    "print(sentence2)"
   ]
  },
  {
   "cell_type": "code",
   "execution_count": 8,
   "id": "de346178",
   "metadata": {},
   "outputs": [
    {
     "name": "stdout",
     "output_type": "stream",
     "text": [
      "e\n"
     ]
    }
   ],
   "source": [
    "a = \"apple\"\n",
    "b = \"bears\"\n",
    "\n",
    "first_character = a[4]\n",
    "print(first_character)"
   ]
  },
  {
   "cell_type": "code",
   "execution_count": 11,
   "id": "e408eeec",
   "metadata": {},
   "outputs": [
    {
     "name": "stdout",
     "output_type": "stream",
     "text": [
      "5\n",
      "5\n"
     ]
    }
   ],
   "source": [
    "a = \"apple\"\n",
    "b = \"bears\"\n",
    "\n",
    "print(len(a))\n",
    "print(len(b))"
   ]
  },
  {
   "cell_type": "code",
   "execution_count": 22,
   "id": "e03d364e",
   "metadata": {},
   "outputs": [
    {
     "name": "stdout",
     "output_type": "stream",
     "text": [
      "A p P l E\n",
      "5\n"
     ]
    }
   ],
   "source": [
    "a = \"apple\"\n",
    "b = \"bears\"\n",
    "\n",
    "print(a[0].upper(),a[1].lower(),a[2].upper(),a[3].lower(),a[4].upper())\n",
    "print(len(b))"
   ]
  },
  {
   "cell_type": "code",
   "execution_count": 23,
   "id": "aa0c9b1a",
   "metadata": {},
   "outputs": [
    {
     "name": "stdout",
     "output_type": "stream",
     "text": [
      "IlovePython.\n"
     ]
    }
   ],
   "source": [
    "print('I' + 'love' + 'Python.')"
   ]
  },
  {
   "cell_type": "code",
   "execution_count": 25,
   "id": "2516f56c",
   "metadata": {},
   "outputs": [
    {
     "name": "stdout",
     "output_type": "stream",
     "text": [
      "I love Python.\n",
      "I love Python.\n"
     ]
    }
   ],
   "source": [
    "print('I ' + 'love ' + 'Python.')\n",
    "print('I' + \" \" + 'love' + \" \" + 'Python.')"
   ]
  },
  {
   "cell_type": "code",
   "execution_count": 26,
   "id": "83c7bee8",
   "metadata": {},
   "outputs": [
    {
     "name": "stdout",
     "output_type": "stream",
     "text": [
      "----------\n"
     ]
    }
   ],
   "source": [
    "print('-' * 10)"
   ]
  },
  {
   "cell_type": "code",
   "execution_count": 27,
   "id": "e62ccc1b",
   "metadata": {},
   "outputs": [
    {
     "name": "stdout",
     "output_type": "stream",
     "text": [
      "444444444\n"
     ]
    }
   ],
   "source": [
    "print('4' * 9)"
   ]
  },
  {
   "cell_type": "code",
   "execution_count": 29,
   "id": "c05da5b9",
   "metadata": {},
   "outputs": [
    {
     "name": "stdout",
     "output_type": "stream",
     "text": [
      "Stocking Up, Stocking Up, Stocking Up, \n"
     ]
    }
   ],
   "source": [
    "Stocked = \"Stocking Up, \" * 3\n",
    "print(Stocked)"
   ]
  },
  {
   "cell_type": "code",
   "execution_count": 30,
   "id": "baecdadb",
   "metadata": {},
   "outputs": [
    {
     "ename": "TypeError",
     "evalue": "can only concatenate str (not \"int\") to str",
     "output_type": "error",
     "traceback": [
      "\u001b[1;31m---------------------------------------------------------------------------\u001b[0m",
      "\u001b[1;31mTypeError\u001b[0m                                 Traceback (most recent call last)",
      "\u001b[1;32m<ipython-input-30-dff4c0d9c54a>\u001b[0m in \u001b[0;36m<module>\u001b[1;34m\u001b[0m\n\u001b[0;32m      1\u001b[0m \u001b[0mversion\u001b[0m \u001b[1;33m=\u001b[0m \u001b[1;36m3\u001b[0m\u001b[1;33m\u001b[0m\u001b[1;33m\u001b[0m\u001b[0m\n\u001b[1;32m----> 2\u001b[1;33m \u001b[0mprint\u001b[0m\u001b[1;33m(\u001b[0m\u001b[1;34m'I love Python '\u001b[0m \u001b[1;33m+\u001b[0m \u001b[0mversion\u001b[0m \u001b[1;33m+\u001b[0m \u001b[1;34m'.'\u001b[0m\u001b[1;33m)\u001b[0m\u001b[1;33m\u001b[0m\u001b[1;33m\u001b[0m\u001b[0m\n\u001b[0m",
      "\u001b[1;31mTypeError\u001b[0m: can only concatenate str (not \"int\") to str"
     ]
    }
   ],
   "source": [
    "version = 3\n",
    "print('I love Python ' + version + '.')"
   ]
  },
  {
   "cell_type": "code",
   "execution_count": 31,
   "id": "65a95c0c",
   "metadata": {},
   "outputs": [
    {
     "name": "stdout",
     "output_type": "stream",
     "text": [
      "I love Python 3.\n"
     ]
    }
   ],
   "source": [
    "version = 3\n",
    "print('I love Python ' + str(version) + '.')"
   ]
  },
  {
   "cell_type": "code",
   "execution_count": 32,
   "id": "6fc5dbe9",
   "metadata": {},
   "outputs": [
    {
     "name": "stdout",
     "output_type": "stream",
     "text": [
      "I love python.\n"
     ]
    }
   ],
   "source": [
    "print(\"I {} python.\".format('love'))"
   ]
  },
  {
   "cell_type": "code",
   "execution_count": 33,
   "id": "dfbf7d7c",
   "metadata": {},
   "outputs": [
    {
     "name": "stdout",
     "output_type": "stream",
     "text": [
      "I hate python.\n"
     ]
    }
   ],
   "source": [
    "print(\"I {} python.\".format('hate'))"
   ]
  },
  {
   "cell_type": "code",
   "execution_count": 34,
   "id": "9979fd30",
   "metadata": {},
   "outputs": [
    {
     "name": "stdout",
     "output_type": "stream",
     "text": [
      "Who are you?Rod\n",
      "I love you Rod.\n"
     ]
    }
   ],
   "source": [
    "greeting = input(\"Who are you?\")\n",
    "print(\"I love you {}.\".format(greeting))"
   ]
  },
  {
   "cell_type": "code",
   "execution_count": 40,
   "id": "46e62e18",
   "metadata": {},
   "outputs": [
    {
     "name": "stdout",
     "output_type": "stream",
     "text": [
      "You love me\n",
      "love me You\n",
      "me You love\n",
      "You love me\n",
      "love me You\n",
      "me You love\n"
     ]
    }
   ],
   "source": [
    "print('{0} {1} {2}'.format(\"You\", \"love\", \"me\"))\n",
    "print('{1} {2} {0}'.format(\"You\", \"love\", \"me\"))\n",
    "print('{2} {0} {1}'.format(\"You\", \"love\", \"me\"))\n",
    "\n",
    "first = \"jam\"\n",
    "second = \"jelly\"\n",
    "third = \"shake like that\"\n",
    "print('{0} {1} {2}'.format(\"You\", \"love\", \"me\"))\n",
    "print('{1} {2} {0}'.format(\"You\", \"love\", \"me\"))\n",
    "print('{2} {0} {1}'.format(\"You\", \"love\", \"me\"))"
   ]
  },
  {
   "cell_type": "code",
   "execution_count": null,
   "id": "3bf8a61e",
   "metadata": {},
   "outputs": [],
   "source": []
  }
 ],
 "metadata": {
  "kernelspec": {
   "display_name": "Python 3",
   "language": "python",
   "name": "python3"
  },
  "language_info": {
   "codemirror_mode": {
    "name": "ipython",
    "version": 3
   },
   "file_extension": ".py",
   "mimetype": "text/x-python",
   "name": "python",
   "nbconvert_exporter": "python",
   "pygments_lexer": "ipython3",
   "version": "3.8.8"
  }
 },
 "nbformat": 4,
 "nbformat_minor": 5
}
