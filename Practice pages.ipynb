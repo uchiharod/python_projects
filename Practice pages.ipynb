{
 "cells": [
  {
   "cell_type": "code",
   "execution_count": 4,
   "id": "deed67b5",
   "metadata": {},
   "outputs": [
    {
     "name": "stdout",
     "output_type": "stream",
     "text": [
      "apple\n"
     ]
    }
   ],
   "source": [
    "fruit = 'apple'\n",
    "fruit2 = 'orange'\n",
    "\n",
    "print(fruit)"
   ]
  },
  {
   "cell_type": "code",
   "execution_count": 5,
   "id": "485fb63c",
   "metadata": {},
   "outputs": [
    {
     "name": "stdout",
     "output_type": "stream",
     "text": [
      "orange\n"
     ]
    }
   ],
   "source": [
    "print(fruit2)"
   ]
  },
  {
   "cell_type": "code",
   "execution_count": 6,
   "id": "eae7c5e2",
   "metadata": {},
   "outputs": [
    {
     "name": "stdout",
     "output_type": "stream",
     "text": [
      "She said gimme, gimme, gimme.\n",
      "She said, \"Gimme, Gimme, Gimme\"\n"
     ]
    }
   ],
   "source": [
    "sentence = 'She said gimme, gimme, gimme.'\n",
    "sentence2 = 'She said, \"Gimme, Gimme, Gimme\"'\n",
    "\n",
    "print(sentence)\n",
    "print(sentence2)"
   ]
  },
  {
   "cell_type": "code",
   "execution_count": 8,
   "id": "b7890097",
   "metadata": {},
   "outputs": [
    {
     "name": "stdout",
     "output_type": "stream",
     "text": [
      "e\n"
     ]
    }
   ],
   "source": [
    "a = \"apple\"\n",
    "b = \"bears\"\n",
    "\n",
    "first_character = a[4]\n",
    "print(first_character)"
   ]
  },
  {
   "cell_type": "code",
   "execution_count": 11,
   "id": "67d8c5a1",
   "metadata": {},
   "outputs": [
    {
     "name": "stdout",
     "output_type": "stream",
     "text": [
      "5\n",
      "5\n"
     ]
    }
   ],
   "source": [
    "a = \"apple\"\n",
    "b = \"bears\"\n",
    "\n",
    "print(len(a))\n",
    "print(len(b))"
   ]
  },
  {
   "cell_type": "code",
   "execution_count": 22,
   "id": "83c2d980",
   "metadata": {},
   "outputs": [
    {
     "name": "stdout",
     "output_type": "stream",
     "text": [
      "A p P l E\n",
      "5\n"
     ]
    }
   ],
   "source": [
    "a = \"apple\"\n",
    "b = \"bears\"\n",
    "\n",
    "print(a[0].upper(),a[1].lower(),a[2].upper(),a[3].lower(),a[4].upper())\n",
    "print(len(b))"
   ]
  },
  {
   "cell_type": "code",
   "execution_count": 23,
   "id": "a64713bd",
   "metadata": {},
   "outputs": [
    {
     "name": "stdout",
     "output_type": "stream",
     "text": [
      "IlovePython.\n"
     ]
    }
   ],
   "source": [
    "print('I' + 'love' + 'Python.')"
   ]
  },
  {
   "cell_type": "code",
   "execution_count": 25,
   "id": "db3efcc5",
   "metadata": {},
   "outputs": [
    {
     "name": "stdout",
     "output_type": "stream",
     "text": [
      "I love Python.\n",
      "I love Python.\n"
     ]
    }
   ],
   "source": [
    "print('I ' + 'love ' + 'Python.')\n",
    "print('I' + \" \" + 'love' + \" \" + 'Python.')"
   ]
  },
  {
   "cell_type": "code",
   "execution_count": 26,
   "id": "2450f909",
   "metadata": {},
   "outputs": [
    {
     "name": "stdout",
     "output_type": "stream",
     "text": [
      "----------\n"
     ]
    }
   ],
   "source": [
    "print('-' * 10)"
   ]
  },
  {
   "cell_type": "code",
   "execution_count": 27,
   "id": "5fc1427b",
   "metadata": {},
   "outputs": [
    {
     "name": "stdout",
     "output_type": "stream",
     "text": [
      "444444444\n"
     ]
    }
   ],
   "source": [
    "print('4' * 9)"
   ]
  },
  {
   "cell_type": "code",
   "execution_count": 29,
   "id": "1b9a6ca8",
   "metadata": {},
   "outputs": [
    {
     "name": "stdout",
     "output_type": "stream",
     "text": [
      "Stocking Up, Stocking Up, Stocking Up, \n"
     ]
    }
   ],
   "source": [
    "Stocked = \"Stocking Up, \" * 3\n",
    "print(Stocked)"
   ]
  },
  {
   "cell_type": "code",
   "execution_count": 30,
   "id": "57fa4868",
   "metadata": {},
   "outputs": [
    {
     "ename": "TypeError",
     "evalue": "can only concatenate str (not \"int\") to str",
     "output_type": "error",
     "traceback": [
      "\u001b[1;31m---------------------------------------------------------------------------\u001b[0m",
      "\u001b[1;31mTypeError\u001b[0m                                 Traceback (most recent call last)",
      "\u001b[1;32m<ipython-input-30-dff4c0d9c54a>\u001b[0m in \u001b[0;36m<module>\u001b[1;34m\u001b[0m\n\u001b[0;32m      1\u001b[0m \u001b[0mversion\u001b[0m \u001b[1;33m=\u001b[0m \u001b[1;36m3\u001b[0m\u001b[1;33m\u001b[0m\u001b[1;33m\u001b[0m\u001b[0m\n\u001b[1;32m----> 2\u001b[1;33m \u001b[0mprint\u001b[0m\u001b[1;33m(\u001b[0m\u001b[1;34m'I love Python '\u001b[0m \u001b[1;33m+\u001b[0m \u001b[0mversion\u001b[0m \u001b[1;33m+\u001b[0m \u001b[1;34m'.'\u001b[0m\u001b[1;33m)\u001b[0m\u001b[1;33m\u001b[0m\u001b[1;33m\u001b[0m\u001b[0m\n\u001b[0m",
      "\u001b[1;31mTypeError\u001b[0m: can only concatenate str (not \"int\") to str"
     ]
    }
   ],
   "source": [
    "version = 3\n",
    "print('I love Python ' + version + '.')"
   ]
  },
  {
   "cell_type": "code",
   "execution_count": 31,
   "id": "787a767d",
   "metadata": {},
   "outputs": [
    {
     "name": "stdout",
     "output_type": "stream",
     "text": [
      "I love Python 3.\n"
     ]
    }
   ],
   "source": [
    "version = 3\n",
    "print('I love Python ' + str(version) + '.')"
   ]
  },
  {
   "cell_type": "code",
   "execution_count": 32,
   "id": "bf7e03b2",
   "metadata": {},
   "outputs": [
    {
     "name": "stdout",
     "output_type": "stream",
     "text": [
      "I love python.\n"
     ]
    }
   ],
   "source": [
    "print(\"I {} python.\".format('love'))"
   ]
  },
  {
   "cell_type": "code",
   "execution_count": 33,
   "id": "e76ff930",
   "metadata": {},
   "outputs": [
    {
     "name": "stdout",
     "output_type": "stream",
     "text": [
      "I hate python.\n"
     ]
    }
   ],
   "source": [
    "print(\"I {} python.\".format('hate'))"
   ]
  },
  {
   "cell_type": "code",
   "execution_count": 34,
   "id": "870169fa",
   "metadata": {},
   "outputs": [
    {
     "name": "stdout",
     "output_type": "stream",
     "text": [
      "Who are you?Rod\n",
      "I love you Rod.\n"
     ]
    }
   ],
   "source": [
    "greeting = input(\"Who are you?\")\n",
    "print(\"I love you {}.\".format(greeting))"
   ]
  },
  {
   "cell_type": "code",
   "execution_count": 41,
   "id": "f0eb0bb5",
   "metadata": {},
   "outputs": [
    {
     "name": "stdout",
     "output_type": "stream",
     "text": [
      "You love me\n",
      "love me You\n",
      "me You love\n",
      "jam jelly shake like that\n",
      "shake like that jam jelly\n",
      "jelly shake like that jam\n"
     ]
    }
   ],
   "source": [
    "print('{0} {1} {2}'.format(\"You\", \"love\", \"me\"))\n",
    "print('{1} {2} {0}'.format(\"You\", \"love\", \"me\"))\n",
    "print('{2} {0} {1}'.format(\"You\", \"love\", \"me\"))\n",
    "\n",
    "first = \"jam\"\n",
    "second = \"jelly\"\n",
    "third = \"shake like that\"\n",
    "print('{} {} {}'.format(first, second, third))\n",
    "print('{} {} {}'.format(third, first, second))\n",
    "print('{} {} {}'.format(second, third, first))"
   ]
  },
  {
   "cell_type": "code",
   "execution_count": 43,
   "id": "50c445cf",
   "metadata": {},
   "outputs": [
    {
     "name": "stdout",
     "output_type": "stream",
     "text": [
      "Fruit                | Quantity\n"
     ]
    }
   ],
   "source": [
    "print('{0:20} | {1:8}'.format('Fruit', 'Quantity'))"
   ]
  },
  {
   "cell_type": "code",
   "execution_count": 52,
   "id": "b67ad8c9",
   "metadata": {},
   "outputs": [
    {
     "name": "stdout",
     "output_type": "stream",
     "text": [
      "Fruit    | Quantity\n"
     ]
    }
   ],
   "source": [
    "print('{0:8} | {1:<8}'.format('Fruit', 'Quantity'))"
   ]
  },
  {
   "cell_type": "code",
   "execution_count": 53,
   "id": "8e631b82",
   "metadata": {},
   "outputs": [
    {
     "name": "stdout",
     "output_type": "stream",
     "text": [
      "Here is an animal, a vegetable, and a mineral.\n",
      "cat\n",
      "broccoli\n",
      "gold\n"
     ]
    }
   ],
   "source": [
    "animal = \"cat\"\n",
    "vegetable = \"broccoli\"\n",
    "mineral = \"gold\"\n",
    "\n",
    "print(\"Here is an animal, a vegetable, and a mineral.\")\n",
    "print(animal)\n",
    "print(vegetable)\n",
    "print(mineral)"
   ]
  },
  {
   "cell_type": "code",
   "execution_count": 54,
   "id": "2860990c",
   "metadata": {},
   "outputs": [
    {
     "name": "stdout",
     "output_type": "stream",
     "text": [
      "Please type something and press enter: Roderick\n",
      "You entered: Roderick\n",
      "Hello there! Roderick\n"
     ]
    }
   ],
   "source": [
    "something = input(\"Please type something and press enter: \")\n",
    "print(\"You entered: \" + something)\n",
    "print(\"Hello there! \" + something)\n"
   ]
  },
  {
   "cell_type": "code",
   "execution_count": 60,
   "id": "5ebc142a",
   "metadata": {},
   "outputs": [
    {
     "name": "stdout",
     "output_type": "stream",
     "text": [
      "Please type something and press enter: Pet me and I'll puuuuuuur \n",
      "Pet me and I'll puuuuuuur \n",
      "_______________________\n",
      "< Pet me and I'll puuuuuuur  >\n",
      "­­­­­­­­­­­­­­­­­­­­­­­\n",
      "/\n",
      "/\\_/\\ /\n",
      "( o.o )\n",
      "> ^ <\n",
      "\n"
     ]
    }
   ],
   "source": [
    "meower = input(\"Please type something and press enter: \")\n",
    "print(meower)\n",
    "print(\"_______________________\")\n",
    "print(\"< \" + meower + \" >\")\n",
    "print(\"­­­­­­­­­­­­­­­­­­­­­­­\")\n",
    "print(\"/\")\n",
    "print(\"/\\_/\\ /\")\n",
    "print(\"( o.o )\")\n",
    "print(\"> ^ <\")\n",
    "\n",
    "print(\"\")"
   ]
  },
  {
   "cell_type": "code",
   "execution_count": null,
   "id": "a48dcaab",
   "metadata": {},
   "outputs": [],
   "source": []
  }
 ],
 "metadata": {
  "kernelspec": {
   "display_name": "Python 3",
   "language": "python",
   "name": "python3"
  },
  "language_info": {
   "codemirror_mode": {
    "name": "ipython",
    "version": 3
   },
   "file_extension": ".py",
   "mimetype": "text/x-python",
   "name": "python",
   "nbconvert_exporter": "python",
   "pygments_lexer": "ipython3",
   "version": "3.8.8"
  }
 },
 "nbformat": 4,
 "nbformat_minor": 5
}
