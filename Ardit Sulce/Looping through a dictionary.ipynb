{
 "cells": [
  {
   "cell_type": "code",
   "execution_count": 1,
   "id": "000333d2",
   "metadata": {},
   "outputs": [
    {
     "name": "stdout",
     "output_type": "stream",
     "text": [
      "('Marry', 9.1)\n",
      "('Sim', 8.8)\n",
      "('John', 7.5)\n"
     ]
    }
   ],
   "source": [
    "student_grades = {\"Marry\": 9.1, \"Sim\": 8.8, \"John\": 7.5}\n",
    "\n",
    "for grades in student_grades.items():\n",
    "    print(grades)"
   ]
  },
  {
   "cell_type": "code",
   "execution_count": 2,
   "id": "043ab033",
   "metadata": {},
   "outputs": [
    {
     "name": "stdout",
     "output_type": "stream",
     "text": [
      "Marry\n",
      "Sim\n",
      "John\n"
     ]
    }
   ],
   "source": [
    "student_grades = {\"Marry\": 9.1, \"Sim\": 8.8, \"John\": 7.5}\n",
    "\n",
    "for grades in student_grades.keys():\n",
    "    print(grades)"
   ]
  },
  {
   "cell_type": "code",
   "execution_count": 3,
   "id": "baf8581d",
   "metadata": {},
   "outputs": [
    {
     "name": "stdout",
     "output_type": "stream",
     "text": [
      "9.1\n",
      "8.8\n",
      "7.5\n"
     ]
    }
   ],
   "source": [
    "student_grades = {\"Marry\": 9.1, \"Sim\": 8.8, \"John\": 7.5}\n",
    "\n",
    "for grades in student_grades.values():\n",
    "    print(grades)"
   ]
  },
  {
   "cell_type": "code",
   "execution_count": null,
   "id": "e2a1c7bd",
   "metadata": {},
   "outputs": [],
   "source": []
  }
 ],
 "metadata": {
  "kernelspec": {
   "display_name": "Python 3",
   "language": "python",
   "name": "python3"
  },
  "language_info": {
   "codemirror_mode": {
    "name": "ipython",
    "version": 3
   },
   "file_extension": ".py",
   "mimetype": "text/x-python",
   "name": "python",
   "nbconvert_exporter": "python",
   "pygments_lexer": "ipython3",
   "version": "3.8.8"
  }
 },
 "nbformat": 4,
 "nbformat_minor": 5
}
