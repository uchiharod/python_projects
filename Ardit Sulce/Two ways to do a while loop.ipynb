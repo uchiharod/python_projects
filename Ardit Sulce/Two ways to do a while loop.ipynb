{
 "cells": [
  {
   "cell_type": "code",
   "execution_count": 1,
   "id": "ebbabf3d",
   "metadata": {},
   "outputs": [
    {
     "name": "stdout",
     "output_type": "stream",
     "text": [
      "Enter username: You\n",
      "Enter username: Whoo\n",
      "Enter username: pypy\n"
     ]
    }
   ],
   "source": [
    "username = ''\n",
    "\n",
    "while username != \"pypy\":\n",
    "    username = input(\"Enter username: \")"
   ]
  },
  {
   "cell_type": "code",
   "execution_count": 3,
   "id": "94068ae9",
   "metadata": {},
   "outputs": [
    {
     "name": "stdout",
     "output_type": "stream",
     "text": [
      "Enter username: Rod\n",
      "Enter username: You\n",
      "Enter username: pypy\n"
     ]
    }
   ],
   "source": [
    "while True:\n",
    "    username = input(\"Enter username: \")\n",
    "    if username == 'pypy':\n",
    "        break\n",
    "    else:\n",
    "        continue"
   ]
  },
  {
   "cell_type": "code",
   "execution_count": null,
   "id": "6c6ef682",
   "metadata": {},
   "outputs": [],
   "source": []
  }
 ],
 "metadata": {
  "kernelspec": {
   "display_name": "Python 3",
   "language": "python",
   "name": "python3"
  },
  "language_info": {
   "codemirror_mode": {
    "name": "ipython",
    "version": 3
   },
   "file_extension": ".py",
   "mimetype": "text/x-python",
   "name": "python",
   "nbconvert_exporter": "python",
   "pygments_lexer": "ipython3",
   "version": "3.8.8"
  }
 },
 "nbformat": 4,
 "nbformat_minor": 5
}
