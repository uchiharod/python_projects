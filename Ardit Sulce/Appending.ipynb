{
 "cells": [
  {
   "cell_type": "code",
   "execution_count": 1,
   "id": "049a64bd",
   "metadata": {},
   "outputs": [
    {
     "name": "stdout",
     "output_type": "stream",
     "text": [
      "[1, 4, 5, 8.1]\n"
     ]
    }
   ],
   "source": [
    "monday_temperatures = [1, 4, 5]\n",
    "monday_temperatures.append(8.1)\n",
    "print(monday_temperatures)"
   ]
  },
  {
   "cell_type": "code",
   "execution_count": 4,
   "id": "44f731cd",
   "metadata": {},
   "outputs": [
    {
     "name": "stdout",
     "output_type": "stream",
     "text": [
      "[]\n"
     ]
    }
   ],
   "source": [
    "monday_temperatures.clear()\n",
    "print(monday_temperatures)"
   ]
  },
  {
   "cell_type": "code",
   "execution_count": 5,
   "id": "31c772a6",
   "metadata": {},
   "outputs": [
    {
     "name": "stdout",
     "output_type": "stream",
     "text": [
      "[1, 4, 5, 8.1]\n"
     ]
    }
   ],
   "source": [
    "monday_temperatures = [1, 4, 5]\n",
    "monday_temperatures.append(8.1)\n",
    "print(monday_temperatures)"
   ]
  },
  {
   "cell_type": "code",
   "execution_count": 6,
   "id": "9a51a5aa",
   "metadata": {},
   "outputs": [
    {
     "data": {
      "text/plain": [
       "['__add__',\n",
       " '__class__',\n",
       " '__contains__',\n",
       " '__delattr__',\n",
       " '__delitem__',\n",
       " '__dir__',\n",
       " '__doc__',\n",
       " '__eq__',\n",
       " '__format__',\n",
       " '__ge__',\n",
       " '__getattribute__',\n",
       " '__getitem__',\n",
       " '__gt__',\n",
       " '__hash__',\n",
       " '__iadd__',\n",
       " '__imul__',\n",
       " '__init__',\n",
       " '__init_subclass__',\n",
       " '__iter__',\n",
       " '__le__',\n",
       " '__len__',\n",
       " '__lt__',\n",
       " '__mul__',\n",
       " '__ne__',\n",
       " '__new__',\n",
       " '__reduce__',\n",
       " '__reduce_ex__',\n",
       " '__repr__',\n",
       " '__reversed__',\n",
       " '__rmul__',\n",
       " '__setattr__',\n",
       " '__setitem__',\n",
       " '__sizeof__',\n",
       " '__str__',\n",
       " '__subclasshook__',\n",
       " 'append',\n",
       " 'clear',\n",
       " 'copy',\n",
       " 'count',\n",
       " 'extend',\n",
       " 'index',\n",
       " 'insert',\n",
       " 'pop',\n",
       " 'remove',\n",
       " 'reverse',\n",
       " 'sort']"
      ]
     },
     "execution_count": 6,
     "metadata": {},
     "output_type": "execute_result"
    }
   ],
   "source": [
    "dir(list)"
   ]
  },
  {
   "cell_type": "code",
   "execution_count": 7,
   "id": "173986ba",
   "metadata": {},
   "outputs": [
    {
     "data": {
      "text/plain": [
       "1"
      ]
     },
     "execution_count": 7,
     "metadata": {},
     "output_type": "execute_result"
    }
   ],
   "source": [
    "monday_temperatures.index(4)"
   ]
  },
  {
   "cell_type": "code",
   "execution_count": 10,
   "id": "52f3c3aa",
   "metadata": {},
   "outputs": [
    {
     "data": {
      "text/plain": [
       "4"
      ]
     },
     "execution_count": 10,
     "metadata": {},
     "output_type": "execute_result"
    }
   ],
   "source": [
    "len(monday_temperatures)"
   ]
  },
  {
   "cell_type": "code",
   "execution_count": 12,
   "id": "0a3d5a52",
   "metadata": {},
   "outputs": [
    {
     "name": "stdout",
     "output_type": "stream",
     "text": [
      "[1, 4, 5, 8.1]\n"
     ]
    }
   ],
   "source": [
    "reversed(monday_temperatures)\n",
    "print(monday_temperatures)"
   ]
  },
  {
   "cell_type": "code",
   "execution_count": 24,
   "id": "22926d51",
   "metadata": {},
   "outputs": [
    {
     "data": {
      "text/plain": [
       "5"
      ]
     },
     "execution_count": 24,
     "metadata": {},
     "output_type": "execute_result"
    }
   ],
   "source": [
    "tuesday_temperatures = [9.1, 8.8, 7.5, 6.6, 9.9]\n",
    "len(tuesday_temperatures)"
   ]
  },
  {
   "cell_type": "code",
   "execution_count": 25,
   "id": "25e49803",
   "metadata": {},
   "outputs": [
    {
     "data": {
      "text/plain": [
       "6.6"
      ]
     },
     "execution_count": 25,
     "metadata": {},
     "output_type": "execute_result"
    }
   ],
   "source": [
    "tuesday_temperatures[3]"
   ]
  },
  {
   "cell_type": "code",
   "execution_count": 26,
   "id": "1f5635a3",
   "metadata": {},
   "outputs": [
    {
     "data": {
      "text/plain": [
       "[8.8, 7.5, 6.6]"
      ]
     },
     "execution_count": 26,
     "metadata": {},
     "output_type": "execute_result"
    }
   ],
   "source": [
    "tuesday_temperatures[1:4]"
   ]
  },
  {
   "cell_type": "code",
   "execution_count": 27,
   "id": "f149657a",
   "metadata": {},
   "outputs": [
    {
     "data": {
      "text/plain": [
       "[9.1, 8.8]"
      ]
     },
     "execution_count": 27,
     "metadata": {},
     "output_type": "execute_result"
    }
   ],
   "source": [
    "tuesday_temperatures[0:2]"
   ]
  },
  {
   "cell_type": "code",
   "execution_count": 28,
   "id": "c322999f",
   "metadata": {},
   "outputs": [
    {
     "data": {
      "text/plain": [
       "[9.1, 8.8]"
      ]
     },
     "execution_count": 28,
     "metadata": {},
     "output_type": "execute_result"
    }
   ],
   "source": [
    "tuesday_temperatures[:2]"
   ]
  },
  {
   "cell_type": "code",
   "execution_count": 32,
   "id": "fadd99e8",
   "metadata": {},
   "outputs": [
    {
     "data": {
      "text/plain": [
       "[6.6, 9.9]"
      ]
     },
     "execution_count": 32,
     "metadata": {},
     "output_type": "execute_result"
    }
   ],
   "source": [
    "tuesday_temperatures[3:]"
   ]
  },
  {
   "cell_type": "code",
   "execution_count": 33,
   "id": "f2364e55",
   "metadata": {},
   "outputs": [
    {
     "data": {
      "text/plain": [
       "[9.9]"
      ]
     },
     "execution_count": 33,
     "metadata": {},
     "output_type": "execute_result"
    }
   ],
   "source": [
    "tuesday_temperatures[4:]"
   ]
  },
  {
   "cell_type": "code",
   "execution_count": 35,
   "id": "c7ca33d2",
   "metadata": {},
   "outputs": [
    {
     "name": "stdout",
     "output_type": "stream",
     "text": [
      "9.1\n"
     ]
    }
   ],
   "source": [
    "tuesday_temperatures = [9.1, 8.8, 7.5, 6.6, 9.9]\n",
    "print(tuesday_temperatures[-5])"
   ]
  },
  {
   "cell_type": "code",
   "execution_count": 43,
   "id": "977abb51",
   "metadata": {},
   "outputs": [
    {
     "name": "stdout",
     "output_type": "stream",
     "text": [
      "[9.9]\n"
     ]
    }
   ],
   "source": [
    "print(tuesday_temperatures[-1:])"
   ]
  },
  {
   "cell_type": "code",
   "execution_count": 45,
   "id": "7e984288",
   "metadata": {},
   "outputs": [
    {
     "data": {
      "text/plain": [
       "[9.1, 8.8]"
      ]
     },
     "execution_count": 45,
     "metadata": {},
     "output_type": "execute_result"
    }
   ],
   "source": [
    "tuesday_temperatures[0:2]"
   ]
  },
  {
   "cell_type": "code",
   "execution_count": 46,
   "id": "5c0f1a50",
   "metadata": {},
   "outputs": [
    {
     "data": {
      "text/plain": [
       "[8.8]"
      ]
     },
     "execution_count": 46,
     "metadata": {},
     "output_type": "execute_result"
    }
   ],
   "source": [
    "tuesday_temperatures[1:2]"
   ]
  },
  {
   "cell_type": "code",
   "execution_count": 47,
   "id": "07395066",
   "metadata": {},
   "outputs": [
    {
     "data": {
      "text/plain": [
       "[7.5, 6.6, 9.9]"
      ]
     },
     "execution_count": 47,
     "metadata": {},
     "output_type": "execute_result"
    }
   ],
   "source": [
    "tuesday_temperatures[2:5]"
   ]
  },
  {
   "cell_type": "code",
   "execution_count": 48,
   "id": "5b1b472e",
   "metadata": {},
   "outputs": [
    {
     "data": {
      "text/plain": [
       "[6.6]"
      ]
     },
     "execution_count": 48,
     "metadata": {},
     "output_type": "execute_result"
    }
   ],
   "source": [
    "tuesday_temperatures[3:4]"
   ]
  },
  {
   "cell_type": "code",
   "execution_count": null,
   "id": "2265bfc0",
   "metadata": {},
   "outputs": [],
   "source": []
  }
 ],
 "metadata": {
  "kernelspec": {
   "display_name": "Python 3",
   "language": "python",
   "name": "python3"
  },
  "language_info": {
   "codemirror_mode": {
    "name": "ipython",
    "version": 3
   },
   "file_extension": ".py",
   "mimetype": "text/x-python",
   "name": "python",
   "nbconvert_exporter": "python",
   "pygments_lexer": "ipython3",
   "version": "3.8.8"
  }
 },
 "nbformat": 4,
 "nbformat_minor": 5
}
