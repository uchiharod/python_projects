{
 "cells": [
  {
   "cell_type": "code",
   "execution_count": 1,
   "id": "776a18ab",
   "metadata": {},
   "outputs": [
    {
     "name": "stdout",
     "output_type": "stream",
     "text": [
      "[1, 4, 5, 8.1]\n"
     ]
    }
   ],
   "source": [
    "monday_temperatures = [1, 4, 5]\n",
    "monday_temperatures.append(8.1)\n",
    "print(monday_temperatures)"
   ]
  },
  {
   "cell_type": "code",
   "execution_count": 4,
   "id": "2228a0a8",
   "metadata": {},
   "outputs": [
    {
     "name": "stdout",
     "output_type": "stream",
     "text": [
      "[]\n"
     ]
    }
   ],
   "source": [
    "monday_temperatures.clear()\n",
    "print(monday_temperatures)"
   ]
  },
  {
   "cell_type": "code",
   "execution_count": 5,
   "id": "1a5f70de",
   "metadata": {},
   "outputs": [
    {
     "name": "stdout",
     "output_type": "stream",
     "text": [
      "[1, 4, 5, 8.1]\n"
     ]
    }
   ],
   "source": [
    "monday_temperatures = [1, 4, 5]\n",
    "monday_temperatures.append(8.1)\n",
    "print(monday_temperatures)"
   ]
  },
  {
   "cell_type": "code",
   "execution_count": 6,
   "id": "4be734a6",
   "metadata": {},
   "outputs": [
    {
     "data": {
      "text/plain": [
       "['__add__',\n",
       " '__class__',\n",
       " '__contains__',\n",
       " '__delattr__',\n",
       " '__delitem__',\n",
       " '__dir__',\n",
       " '__doc__',\n",
       " '__eq__',\n",
       " '__format__',\n",
       " '__ge__',\n",
       " '__getattribute__',\n",
       " '__getitem__',\n",
       " '__gt__',\n",
       " '__hash__',\n",
       " '__iadd__',\n",
       " '__imul__',\n",
       " '__init__',\n",
       " '__init_subclass__',\n",
       " '__iter__',\n",
       " '__le__',\n",
       " '__len__',\n",
       " '__lt__',\n",
       " '__mul__',\n",
       " '__ne__',\n",
       " '__new__',\n",
       " '__reduce__',\n",
       " '__reduce_ex__',\n",
       " '__repr__',\n",
       " '__reversed__',\n",
       " '__rmul__',\n",
       " '__setattr__',\n",
       " '__setitem__',\n",
       " '__sizeof__',\n",
       " '__str__',\n",
       " '__subclasshook__',\n",
       " 'append',\n",
       " 'clear',\n",
       " 'copy',\n",
       " 'count',\n",
       " 'extend',\n",
       " 'index',\n",
       " 'insert',\n",
       " 'pop',\n",
       " 'remove',\n",
       " 'reverse',\n",
       " 'sort']"
      ]
     },
     "execution_count": 6,
     "metadata": {},
     "output_type": "execute_result"
    }
   ],
   "source": [
    "dir(list)"
   ]
  },
  {
   "cell_type": "code",
   "execution_count": 7,
   "id": "f0d30e22",
   "metadata": {},
   "outputs": [
    {
     "data": {
      "text/plain": [
       "1"
      ]
     },
     "execution_count": 7,
     "metadata": {},
     "output_type": "execute_result"
    }
   ],
   "source": [
    "monday_temperatures.index(4)"
   ]
  },
  {
   "cell_type": "code",
   "execution_count": 10,
   "id": "8cf288a0",
   "metadata": {},
   "outputs": [
    {
     "data": {
      "text/plain": [
       "4"
      ]
     },
     "execution_count": 10,
     "metadata": {},
     "output_type": "execute_result"
    }
   ],
   "source": [
    "len(monday_temperatures)"
   ]
  },
  {
   "cell_type": "code",
   "execution_count": 12,
   "id": "13825800",
   "metadata": {},
   "outputs": [
    {
     "name": "stdout",
     "output_type": "stream",
     "text": [
      "[1, 4, 5, 8.1]\n"
     ]
    }
   ],
   "source": [
    "reversed(monday_temperatures)\n",
    "print(monday_temperatures)"
   ]
  },
  {
   "cell_type": "code",
   "execution_count": 24,
   "id": "226fa854",
   "metadata": {},
   "outputs": [
    {
     "data": {
      "text/plain": [
       "5"
      ]
     },
     "execution_count": 24,
     "metadata": {},
     "output_type": "execute_result"
    }
   ],
   "source": [
    "tuesday_temperatures = [9.1, 8.8, 7.5, 6.6, 9.9]\n",
    "len(tuesday_temperatures)"
   ]
  },
  {
   "cell_type": "code",
   "execution_count": 25,
   "id": "9f0ac98a",
   "metadata": {},
   "outputs": [
    {
     "data": {
      "text/plain": [
       "6.6"
      ]
     },
     "execution_count": 25,
     "metadata": {},
     "output_type": "execute_result"
    }
   ],
   "source": [
    "tuesday_temperatures[3]"
   ]
  },
  {
   "cell_type": "code",
   "execution_count": 26,
   "id": "f1b87e20",
   "metadata": {},
   "outputs": [
    {
     "data": {
      "text/plain": [
       "[8.8, 7.5, 6.6]"
      ]
     },
     "execution_count": 26,
     "metadata": {},
     "output_type": "execute_result"
    }
   ],
   "source": [
    "tuesday_temperatures[1:4]"
   ]
  },
  {
   "cell_type": "code",
   "execution_count": 27,
   "id": "e22c4d51",
   "metadata": {},
   "outputs": [
    {
     "data": {
      "text/plain": [
       "[9.1, 8.8]"
      ]
     },
     "execution_count": 27,
     "metadata": {},
     "output_type": "execute_result"
    }
   ],
   "source": [
    "tuesday_temperatures[0:2]"
   ]
  },
  {
   "cell_type": "code",
   "execution_count": 28,
   "id": "25ffe869",
   "metadata": {},
   "outputs": [
    {
     "data": {
      "text/plain": [
       "[9.1, 8.8]"
      ]
     },
     "execution_count": 28,
     "metadata": {},
     "output_type": "execute_result"
    }
   ],
   "source": [
    "tuesday_temperatures[:2]"
   ]
  },
  {
   "cell_type": "code",
   "execution_count": 32,
   "id": "1bd329e0",
   "metadata": {},
   "outputs": [
    {
     "data": {
      "text/plain": [
       "[6.6, 9.9]"
      ]
     },
     "execution_count": 32,
     "metadata": {},
     "output_type": "execute_result"
    }
   ],
   "source": [
    "tuesday_temperatures[3:]"
   ]
  },
  {
   "cell_type": "code",
   "execution_count": 33,
   "id": "185b0861",
   "metadata": {},
   "outputs": [
    {
     "data": {
      "text/plain": [
       "[9.9]"
      ]
     },
     "execution_count": 33,
     "metadata": {},
     "output_type": "execute_result"
    }
   ],
   "source": [
    "tuesday_temperatures[4:]"
   ]
  },
  {
   "cell_type": "code",
   "execution_count": 35,
   "id": "387a222d",
   "metadata": {},
   "outputs": [
    {
     "name": "stdout",
     "output_type": "stream",
     "text": [
      "9.1\n"
     ]
    }
   ],
   "source": [
    "tuesday_temperatures = [9.1, 8.8, 7.5, 6.6, 9.9]\n",
    "print(tuesday_temperatures[-5])"
   ]
  },
  {
   "cell_type": "code",
   "execution_count": 43,
   "id": "c0d520b8",
   "metadata": {},
   "outputs": [
    {
     "name": "stdout",
     "output_type": "stream",
     "text": [
      "[9.9]\n"
     ]
    }
   ],
   "source": [
    "print(tuesday_temperatures[-1:])"
   ]
  },
  {
   "cell_type": "code",
   "execution_count": null,
   "id": "0238e204",
   "metadata": {},
   "outputs": [],
   "source": []
  }
 ],
 "metadata": {
  "kernelspec": {
   "display_name": "Python 3",
   "language": "python",
   "name": "python3"
  },
  "language_info": {
   "codemirror_mode": {
    "name": "ipython",
    "version": 3
   },
   "file_extension": ".py",
   "mimetype": "text/x-python",
   "name": "python",
   "nbconvert_exporter": "python",
   "pygments_lexer": "ipython3",
   "version": "3.8.8"
  }
 },
 "nbformat": 4,
 "nbformat_minor": 5
}
