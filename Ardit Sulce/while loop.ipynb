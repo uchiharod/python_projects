{
 "cells": [
  {
   "cell_type": "code",
   "execution_count": 1,
   "id": "bb1f36c5",
   "metadata": {},
   "outputs": [
    {
     "name": "stdout",
     "output_type": "stream",
     "text": [
      "Enter username: rod\n",
      "Enter username: rod\n",
      "Enter username: tot\n",
      "Enter username: pypy\n"
     ]
    }
   ],
   "source": [
    "username = ''\n",
    "\n",
    "while username != \"pypy\":\n",
    "    username = input(\"Enter username: \")"
   ]
  },
  {
   "cell_type": "code",
   "execution_count": 2,
   "id": "4879b135",
   "metadata": {},
   "outputs": [
    {
     "name": "stdout",
     "output_type": "stream",
     "text": [
      "1\n",
      "2\n",
      "3\n"
     ]
    }
   ],
   "source": [
    "for i in [1,2,3]: #list, string, tuple. The loop will go on and one until the container is exhausted\n",
    "    print(i)"
   ]
  },
  {
   "cell_type": "code",
   "execution_count": null,
   "id": "56ae5715",
   "metadata": {},
   "outputs": [],
   "source": [
    "a = 3\n",
    "\n",
    "while a > 0: #While loop runs as long as this is true\n",
    "    print(1) #This creates an endless loop\n",
    "    "
   ]
  }
 ],
 "metadata": {
  "kernelspec": {
   "display_name": "Python 3",
   "language": "python",
   "name": "python3"
  },
  "language_info": {
   "codemirror_mode": {
    "name": "ipython",
    "version": 3
   },
   "file_extension": ".py",
   "mimetype": "text/x-python",
   "name": "python",
   "nbconvert_exporter": "python",
   "pygments_lexer": "ipython3",
   "version": "3.8.8"
  }
 },
 "nbformat": 4,
 "nbformat_minor": 5
}
