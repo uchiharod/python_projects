{
 "cells": [
  {
   "cell_type": "code",
   "execution_count": 1,
   "id": "6574758e",
   "metadata": {},
   "outputs": [
    {
     "name": "stdout",
     "output_type": "stream",
     "text": [
      "[22.1, 23.4, 34.0, 23.0]\n"
     ]
    }
   ],
   "source": [
    "temps = [221, 234, 340, 230]\n",
    "\n",
    "new_temps = []\n",
    "for temp in temps:\n",
    "    new_temps.append(temp / 10)\n",
    "    \n",
    "print(new_temps)"
   ]
  },
  {
   "cell_type": "code",
   "execution_count": 3,
   "id": "8f465f4e",
   "metadata": {},
   "outputs": [
    {
     "name": "stdout",
     "output_type": "stream",
     "text": [
      "[22.1, 23.4, 34.0, 23.0]\n"
     ]
    }
   ],
   "source": [
    "temps = [221, 234, 340, 230]\n",
    "\n",
    "new_temps = [temp / 10 for temp in temps]\n",
    "\n",
    "print(new_temps)"
   ]
  },
  {
   "cell_type": "code",
   "execution_count": 4,
   "id": "6a7575b4",
   "metadata": {},
   "outputs": [
    {
     "name": "stdout",
     "output_type": "stream",
     "text": [
      "[22.1, 23.4, 34.0, 23.0]\n"
     ]
    }
   ],
   "source": [
    "temps = [221, 234, 340, 230]\n",
    "\n",
    "new_temps = [temp / 10 for temp in temps if temp != -9999]\n",
    "\n",
    "print(new_temps)"
   ]
  },
  {
   "cell_type": "code",
   "execution_count": 6,
   "id": "3b71f3fa",
   "metadata": {},
   "outputs": [
    {
     "name": "stdout",
     "output_type": "stream",
     "text": [
      "[22.1, 23.4, 34.0, 0, 23.0]\n"
     ]
    }
   ],
   "source": [
    "temps = [221, 234, 340, -9999, 230]\n",
    "\n",
    "new_temps = [temp / 10 if temp != -9999 else 0 for temp in temps]\n",
    "\n",
    "print(new_temps)"
   ]
  },
  {
   "cell_type": "code",
   "execution_count": null,
   "id": "ed186b8f",
   "metadata": {},
   "outputs": [],
   "source": []
  }
 ],
 "metadata": {
  "kernelspec": {
   "display_name": "Python 3",
   "language": "python",
   "name": "python3"
  },
  "language_info": {
   "codemirror_mode": {
    "name": "ipython",
    "version": 3
   },
   "file_extension": ".py",
   "mimetype": "text/x-python",
   "name": "python",
   "nbconvert_exporter": "python",
   "pygments_lexer": "ipython3",
   "version": "3.8.8"
  }
 },
 "nbformat": 4,
 "nbformat_minor": 5
}
