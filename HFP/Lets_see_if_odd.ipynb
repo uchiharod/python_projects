{
 "cells": [
  {
   "cell_type": "code",
   "execution_count": 3,
   "id": "45b5b7ea",
   "metadata": {},
   "outputs": [
    {
     "name": "stdout",
     "output_type": "stream",
     "text": [
      "Not as odd minute.\n"
     ]
    }
   ],
   "source": [
    "from datetime import datetime\n",
    "\n",
    "odds = [1, 3, 5, 7, 9, 11, 13, 15, 17, 19, 21, 23 ,25, 27, 29, 31, 33, 35, 37, 39, 41, 43, 45, 47, 49, 51, 53, 55, 57, 59]\n",
    "\n",
    "right_this_minute = datetime.today().minute\n",
    "\n",
    "if right_this_minute in odds:\n",
    "    print(\"This minute seems a little odd.\")\n",
    "else:\n",
    "    print(\"Not an odd minute.\")"
   ]
  },
  {
   "cell_type": "code",
   "execution_count": 5,
   "id": "7e8ce80f",
   "metadata": {},
   "outputs": [
    {
     "name": "stdout",
     "output_type": "stream",
     "text": [
      "3.8.8 (default, Apr 13 2021, 15:08:03) [MSC v.1916 64 bit (AMD64)]\n"
     ]
    }
   ],
   "source": [
    "import sys\n",
    "sys.platform\n",
    "print(sys.version)"
   ]
  },
  {
   "cell_type": "code",
   "execution_count": 6,
   "id": "75d64409",
   "metadata": {},
   "outputs": [
    {
     "data": {
      "text/plain": [
       "'C:\\\\Users\\\\graph\\\\HFP'"
      ]
     },
     "execution_count": 6,
     "metadata": {},
     "output_type": "execute_result"
    }
   ],
   "source": [
    "import os\n",
    "os.getcwd()"
   ]
  },
  {
   "cell_type": "code",
   "execution_count": 19,
   "id": "b24ea930",
   "metadata": {},
   "outputs": [
    {
     "name": "stdout",
     "output_type": "stream",
     "text": [
      "What day is it?Yo momma\n",
      "Yo momma\n",
      "You buggin.....Put in a day already!!!\n"
     ]
    }
   ],
   "source": [
    "what_day = input(\"What day is it?\")\n",
    "print(what_day)\n",
    "\n",
    "if what_day == \"Sunday\":\n",
    "    print(\"Time to see Jesus son!!!\")\n",
    "elif what_day == \"Monday\":\n",
    "    print(\"Work starts again!!!\")\n",
    "elif what_day == \"Tuesday\":\n",
    "    print(\"One more day until Hump Day!!!\")\n",
    "elif what_day == \"Wednesday\":\n",
    "    print(\"HUMP DAY BITCHES!!!\")\n",
    "elif what_day == \"Thursday\":\n",
    "    print(\"One more day until party time!!!\")\n",
    "elif what_day == \"Friday\":\n",
    "    print(\"PARTEEEEEEEY!!!\")\n",
    "elif what_day == \"Saturday\":\n",
    "    print(\"Wait!!! IT AIN'T OVAAAAA...PARTYYYYYY!!!\")\n",
    "else:\n",
    "    print(\"You buggin.....Put in a day already!!!\")"
   ]
  },
  {
   "cell_type": "code",
   "execution_count": 20,
   "id": "412d4d6c",
   "metadata": {},
   "outputs": [
    {
     "name": "stdout",
     "output_type": "stream",
     "text": [
      "1\n",
      "2\n",
      "3\n"
     ]
    }
   ],
   "source": [
    "for i in [1, 2, 3]:\n",
    "    print(i)"
   ]
  },
  {
   "cell_type": "code",
   "execution_count": 21,
   "id": "779700dc",
   "metadata": {},
   "outputs": [
    {
     "name": "stdout",
     "output_type": "stream",
     "text": [
      "1\n",
      "3\n",
      "5\n",
      "7\n",
      "9\n",
      "11\n",
      "13\n",
      "15\n",
      "17\n",
      "19\n",
      "21\n",
      "23\n",
      "25\n",
      "27\n",
      "29\n",
      "31\n",
      "33\n",
      "35\n",
      "37\n",
      "39\n",
      "41\n",
      "43\n",
      "45\n",
      "47\n",
      "49\n",
      "51\n",
      "53\n",
      "55\n",
      "57\n",
      "59\n"
     ]
    }
   ],
   "source": [
    "for i in [1, 3, 5, 7, 9, 11, 13, 15, 17, 19, 21, 23 ,25, 27, 29, 31, 33, 35, 37, 39, 41, 43, 45, 47, 49, 51, 53, 55, 57, 59]:\n",
    "    print(i)"
   ]
  },
  {
   "cell_type": "code",
   "execution_count": 5,
   "id": "42f38a2b",
   "metadata": {},
   "outputs": [
    {
     "name": "stdout",
     "output_type": "stream",
     "text": [
      "How many times do you want the computer to tell you to shut the f*ck up??? 29\n",
      "Shut the f*ck up!!!\n",
      "Shut the f*ck up!!!\n",
      "Shut the f*ck up!!!\n",
      "Shut the f*ck up!!!\n",
      "Shut the f*ck up!!!\n",
      "Shut the f*ck up!!!\n",
      "Shut the f*ck up!!!\n",
      "Shut the f*ck up!!!\n",
      "Shut the f*ck up!!!\n",
      "Shut the f*ck up!!!\n",
      "Shut the f*ck up!!!\n",
      "Shut the f*ck up!!!\n",
      "Shut the f*ck up!!!\n",
      "Shut the f*ck up!!!\n",
      "Shut the f*ck up!!!\n",
      "Shut the f*ck up!!!\n",
      "Shut the f*ck up!!!\n",
      "Shut the f*ck up!!!\n",
      "Shut the f*ck up!!!\n",
      "Shut the f*ck up!!!\n",
      "Shut the f*ck up!!!\n",
      "Shut the f*ck up!!!\n",
      "Shut the f*ck up!!!\n",
      "Shut the f*ck up!!!\n",
      "Shut the f*ck up!!!\n",
      "Shut the f*ck up!!!\n",
      "Shut the f*ck up!!!\n",
      "Shut the f*ck up!!!\n",
      "Shut the f*ck up!!!\n"
     ]
    }
   ],
   "source": [
    "stfu = input(\"How many times do you want the computer to tell you to shut the f*ck up??? \")\n",
    "\n",
    "for i in range(int(stfu)):\n",
    "    print(\"Shut the f*ck up!!!\")"
   ]
  },
  {
   "cell_type": "code",
   "execution_count": 6,
   "id": "73f28600",
   "metadata": {},
   "outputs": [
    {
     "name": "stdout",
     "output_type": "stream",
     "text": [
      "This minute seems a little even.\n"
     ]
    }
   ],
   "source": [
    "from datetime import datetime\n",
    "\n",
    "odds = [1, 3, 5, 7, 9, 11, 13, 15, 17, 19, 21, 23 ,25, 27, 29, 31, 33, 35, 37, 39, 41, 43, 45, 47, 49, 51, 53, 55, 57, 59]\n",
    "evens = [2, 4, 6, 8, 10, 12, 14, 16, 18, 20, 22, 24, 26, 28, 30, 32, 34, 36, 38 ,40, 42, 44, 46, 48, 50, 52, 54, 56, 58 ,60]\n",
    "\n",
    "right_this_minute = datetime.today().minute\n",
    "\n",
    "if right_this_minute in odds:\n",
    "    print(\"This minute seems a little odd.\")\n",
    "elif right_this_minute in evens:\n",
    "    print(\"This minute seems a little even.\")  \n",
    "else:\n",
    "    print(\"Sit yo' ass down\")"
   ]
  },
  {
   "cell_type": "code",
   "execution_count": 7,
   "id": "b9cb78f7",
   "metadata": {},
   "outputs": [
    {
     "name": "stdout",
     "output_type": "stream",
     "text": [
      "This minute seems a little even.\n"
     ]
    }
   ],
   "source": [
    "from datetime import datetime\n",
    "\n",
    "odds = [1, 3, 5, 7, 9, 11, 13, 15, 17, 19, 21, 23 ,25, 27, 29, 31, 33, 35, 37, 39, 41, 43, 45, 47, 49, 51, 53, 55, 57, 59]\n",
    "evens = [2, 4, 6, 8, 10, 12, 14, 16, 18, 20, 22, 24, 26, 28, 30, 32, 34, 36, 38 ,40, 42, 44, 46, 48, 50, 52, 54, 56, 58 ,60]\n",
    "\n",
    "right_this_minute = datetime.today().minute\n",
    "\n",
    "if right_this_minute in odds:\n",
    "    print(\"This minute seems a little odd.\")\n",
    "elif right_this_minute in evens:\n",
    "    print(\"This minute seems a little even.\")  \n",
    "else:\n",
    "    print(\"Sit yo' ass down\")"
   ]
  },
  {
   "cell_type": "code",
   "execution_count": 8,
   "id": "de6b8c7c",
   "metadata": {},
   "outputs": [
    {
     "name": "stdout",
     "output_type": "stream",
     "text": [
      "This minute seems a little even.\n"
     ]
    }
   ],
   "source": [
    "from datetime import datetime\n",
    "\n",
    "odds = [1, 3, 5, 7, 9, 11, 13, 15, 17, 19, 21, 23 ,25, 27, 29, 31, 33, 35, 37, 39, 41, 43, 45, 47, 49, 51, 53, 55, 57, 59]\n",
    "evens = [2, 4, 6, 8, 10, 12, 14, 16, 18, 20, 22, 24, 26, 28, 30, 32, 34, 36, 38 ,40, 42, 44, 46, 48, 50, 52, 54, 56, 58 ,60]\n",
    "\n",
    "right_this_minute = datetime.today().minute\n",
    "\n",
    "if right_this_minute in odds:\n",
    "    print(\"This minute seems a little odd.\")\n",
    "elif right_this_minute in evens:\n",
    "    print(\"This minute seems a little even.\")  \n",
    "else:\n",
    "    print(\"Sit yo' ass down\")"
   ]
  },
  {
   "cell_type": "code",
   "execution_count": 9,
   "id": "a7ac0a4c",
   "metadata": {},
   "outputs": [
    {
     "name": "stdout",
     "output_type": "stream",
     "text": [
      "This minute seems a little odd.\n"
     ]
    }
   ],
   "source": [
    "from datetime import datetime\n",
    "\n",
    "odds = [1, 3, 5, 7, 9, 11, 13, 15, 17, 19, 21, 23 ,25, 27, 29, 31, 33, 35, 37, 39, 41, 43, 45, 47, 49, 51, 53, 55, 57, 59]\n",
    "evens = [2, 4, 6, 8, 10, 12, 14, 16, 18, 20, 22, 24, 26, 28, 30, 32, 34, 36, 38 ,40, 42, 44, 46, 48, 50, 52, 54, 56, 58 ,60]\n",
    "\n",
    "right_this_minute = datetime.today().minute\n",
    "\n",
    "if right_this_minute in odds:\n",
    "    print(\"This minute seems a little odd.\")\n",
    "elif right_this_minute in evens:\n",
    "    print(\"This minute seems a little even.\")  \n",
    "else:\n",
    "    print(\"Sit yo' ass down\")"
   ]
  },
  {
   "cell_type": "code",
   "execution_count": null,
   "id": "18fc352c",
   "metadata": {},
   "outputs": [],
   "source": []
  }
 ],
 "metadata": {
  "kernelspec": {
   "display_name": "Python 3",
   "language": "python",
   "name": "python3"
  },
  "language_info": {
   "codemirror_mode": {
    "name": "ipython",
    "version": 3
   },
   "file_extension": ".py",
   "mimetype": "text/x-python",
   "name": "python",
   "nbconvert_exporter": "python",
   "pygments_lexer": "ipython3",
   "version": "3.8.8"
  }
 },
 "nbformat": 4,
 "nbformat_minor": 5
}
