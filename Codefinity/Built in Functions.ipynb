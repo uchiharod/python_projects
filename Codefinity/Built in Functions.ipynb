{
 "cells": [
  {
   "cell_type": "code",
   "execution_count": 2,
   "id": "c69c56d6",
   "metadata": {},
   "outputs": [
    {
     "name": "stdout",
     "output_type": "stream",
     "text": [
      "Alex has height of 70.08 inches\n",
      "Noah has height of 74.41 inches\n",
      "Peter has height of 68.9 inches\n",
      "John has height of 72.83 inches\n",
      "Michelle has height of 64.96 inches\n"
     ]
    }
   ],
   "source": [
    "# Data\n",
    "people = [[\"Alex\", 178], [\"Noah\", 189], [\"Peter\", 175], [\"John\", 185], [\"Michelle\", 165]]\n",
    "# Print all the heights in inches with names\n",
    "for i in range(len(people)):\n",
    "    if type(people[i]) is list:\n",
    "        print(people[i][0], 'has height of', round(people[i][1]/2.54, 2) , 'inches')"
   ]
  },
  {
   "cell_type": "code",
   "execution_count": null,
   "id": "0b3e7565",
   "metadata": {},
   "outputs": [],
   "source": []
  }
 ],
 "metadata": {
  "kernelspec": {
   "display_name": "Python 3",
   "language": "python",
   "name": "python3"
  },
  "language_info": {
   "codemirror_mode": {
    "name": "ipython",
    "version": 3
   },
   "file_extension": ".py",
   "mimetype": "text/x-python",
   "name": "python",
   "nbconvert_exporter": "python",
   "pygments_lexer": "ipython3",
   "version": "3.8.8"
  }
 },
 "nbformat": 4,
 "nbformat_minor": 5
}
