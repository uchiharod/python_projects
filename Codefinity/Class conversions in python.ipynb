{
 "cells": [
  {
   "cell_type": "code",
   "execution_count": 1,
   "id": "53a1329b",
   "metadata": {},
   "outputs": [
    {
     "name": "stdout",
     "output_type": "stream",
     "text": [
      "Type of sec_in_hour is <class 'int'>\n",
      "Type of days is <class 'float'>\n"
     ]
    }
   ],
   "source": [
    "# Variables\n",
    "days = 792/24\n",
    "sec_in_hour = 60*60\n",
    "\n",
    "# Check types of sec_in_hour and days\n",
    "print(\"Type of sec_in_hour is\", (type(sec_in_hour)))\n",
    "print(\"Type of days is\", (type(days)))"
   ]
  },
  {
   "cell_type": "code",
   "execution_count": null,
   "id": "cc4459cc",
   "metadata": {},
   "outputs": [],
   "source": []
  }
 ],
 "metadata": {
  "kernelspec": {
   "display_name": "Python 3",
   "language": "python",
   "name": "python3"
  },
  "language_info": {
   "codemirror_mode": {
    "name": "ipython",
    "version": 3
   },
   "file_extension": ".py",
   "mimetype": "text/x-python",
   "name": "python",
   "nbconvert_exporter": "python",
   "pygments_lexer": "ipython3",
   "version": "3.8.8"
  }
 },
 "nbformat": 4,
 "nbformat_minor": 5
}
