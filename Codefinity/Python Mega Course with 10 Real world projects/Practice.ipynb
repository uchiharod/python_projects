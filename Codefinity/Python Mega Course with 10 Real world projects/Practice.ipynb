{
 "cells": [
  {
   "cell_type": "code",
   "execution_count": 1,
   "id": "cc1793fd",
   "metadata": {},
   "outputs": [
    {
     "name": "stdout",
     "output_type": "stream",
     "text": [
      "[9, 'hello', [1, 2, 3, 4, 5], 9, 'hello', [1, 2, 3, 4, 5], 9, 'hello', [1, 2, 3, 4, 5]]\n"
     ]
    }
   ],
   "source": [
    "student_grades = [9, \"hello\", [1,2,3,4,5]]\n",
    "\n",
    "print(student_grades * 3)"
   ]
  },
  {
   "cell_type": "code",
   "execution_count": 2,
   "id": "494c5da6",
   "metadata": {},
   "outputs": [
    {
     "name": "stdout",
     "output_type": "stream",
     "text": [
      "[9, 'hello', [1, 2, 3, 4, 5], 9, 'hello', [1, 2, 3, 4, 5]]\n"
     ]
    }
   ],
   "source": [
    "print(student_grades + student_grades)"
   ]
  },
  {
   "cell_type": "code",
   "execution_count": 3,
   "id": "c7389461",
   "metadata": {},
   "outputs": [
    {
     "name": "stdout",
     "output_type": "stream",
     "text": [
      "[0, 1, 2, 3, 4, 5, 6, 7, 8, 9, 10, 11, 12, 13, 14, 15, 16, 17, 18]\n"
     ]
    }
   ],
   "source": [
    "student_grades = list(range(0, 19))\n",
    "print(student_grades)"
   ]
  },
  {
   "cell_type": "code",
   "execution_count": 4,
   "id": "1dbfb562",
   "metadata": {},
   "outputs": [
    {
     "name": "stdout",
     "output_type": "stream",
     "text": [
      "[0, 2, 4, 6, 8, 10, 12, 14, 16, 18]\n"
     ]
    }
   ],
   "source": [
    "student_grades = list(range(0, 19, 2))\n",
    "print(student_grades)"
   ]
  },
  {
   "cell_type": "code",
   "execution_count": 5,
   "id": "87407c19",
   "metadata": {},
   "outputs": [
    {
     "name": "stdout",
     "output_type": "stream",
     "text": [
      "9.1\n"
     ]
    }
   ],
   "source": [
    "student_grades = [9.1, 8.8, 7.5]\n",
    "max_value = max(student_grades)\n",
    "print(max_value)"
   ]
  },
  {
   "cell_type": "code",
   "execution_count": 6,
   "id": "ac35b7f7",
   "metadata": {},
   "outputs": [
    {
     "name": "stdout",
     "output_type": "stream",
     "text": [
      "3\n"
     ]
    }
   ],
   "source": [
    "student_grades = [9.1, 8.8, 10.0, 7.7, 6.8, 8.0, 10.0, 8.1, 10.0, 9.9]\n",
    "print(student_grades.count(10.0))"
   ]
  },
  {
   "cell_type": "code",
   "execution_count": 7,
   "id": "7e1f215e",
   "metadata": {},
   "outputs": [
    {
     "name": "stdout",
     "output_type": "stream",
     "text": [
      "2\n"
     ]
    }
   ],
   "source": [
    "student_said = ['what', 'in the hell', 'that', 'in the hell']\n",
    "print(student_said.count('in the hell'))"
   ]
  },
  {
   "cell_type": "code",
   "execution_count": null,
   "id": "9a9cc5d0",
   "metadata": {},
   "outputs": [],
   "source": []
  }
 ],
 "metadata": {
  "kernelspec": {
   "display_name": "Python 3",
   "language": "python",
   "name": "python3"
  },
  "language_info": {
   "codemirror_mode": {
    "name": "ipython",
    "version": 3
   },
   "file_extension": ".py",
   "mimetype": "text/x-python",
   "name": "python",
   "nbconvert_exporter": "python",
   "pygments_lexer": "ipython3",
   "version": "3.8.8"
  }
 },
 "nbformat": 4,
 "nbformat_minor": 5
}
