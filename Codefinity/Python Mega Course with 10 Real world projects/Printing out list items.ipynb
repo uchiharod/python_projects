{
 "cells": [
  {
   "cell_type": "code",
   "execution_count": 1,
   "id": "7cf05840",
   "metadata": {},
   "outputs": [
    {
     "name": "stdout",
     "output_type": "stream",
     "text": [
      "XYSA9099400\n"
     ]
    }
   ],
   "source": [
    "serials = [\"RH80810A\", \"AA899819A\", \"XYSA9099400\", \"OOP8988459\", \"EEO8904882\", \"KOC9889482\"]\n",
    "print(serials[2])"
   ]
  },
  {
   "cell_type": "code",
   "execution_count": 2,
   "id": "6736e2ca",
   "metadata": {},
   "outputs": [
    {
     "name": "stdout",
     "output_type": "stream",
     "text": [
      "RH80810A XYSA9099400 KOC9889482\n"
     ]
    }
   ],
   "source": [
    "serials = [\"RH80810A\", \"AA899819A\", \"XYSA9099400\", \"OOP8988459\", \"EEO8904882\", \"KOC9889482\"]\n",
    "print(serials[0], serials[2], serials[5])"
   ]
  },
  {
   "cell_type": "code",
   "execution_count": null,
   "id": "6687b27e",
   "metadata": {},
   "outputs": [],
   "source": []
  }
 ],
 "metadata": {
  "kernelspec": {
   "display_name": "Python 3",
   "language": "python",
   "name": "python3"
  },
  "language_info": {
   "codemirror_mode": {
    "name": "ipython",
    "version": 3
   },
   "file_extension": ".py",
   "mimetype": "text/x-python",
   "name": "python",
   "nbconvert_exporter": "python",
   "pygments_lexer": "ipython3",
   "version": "3.8.8"
  }
 },
 "nbformat": 4,
 "nbformat_minor": 5
}
