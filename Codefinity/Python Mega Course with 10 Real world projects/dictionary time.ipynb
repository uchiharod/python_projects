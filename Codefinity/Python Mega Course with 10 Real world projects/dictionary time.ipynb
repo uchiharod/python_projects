{
 "cells": [
  {
   "cell_type": "code",
   "execution_count": 1,
   "id": "dfe223db",
   "metadata": {},
   "outputs": [
    {
     "name": "stdout",
     "output_type": "stream",
     "text": [
      "8.466666666666667\n"
     ]
    }
   ],
   "source": [
    "monday_temperatures = [9.1, 8.8, 7.5]\n",
    "student_grades = {\"Marry\": 9.1, \"Sim\": 8.8, \"John\": 7.5}\n",
    "\n",
    "mysum = sum(student_grades.values())\n",
    "length = len(student_grades)\n",
    "mean = mysum / length\n",
    "print(mean)"
   ]
  },
  {
   "cell_type": "code",
   "execution_count": 2,
   "id": "43113e4e",
   "metadata": {},
   "outputs": [
    {
     "name": "stdout",
     "output_type": "stream",
     "text": [
      "dict_values([9.1, 8.8, 7.5])\n"
     ]
    }
   ],
   "source": [
    "print(student_grades.values())"
   ]
  },
  {
   "cell_type": "code",
   "execution_count": 3,
   "id": "4a64211e",
   "metadata": {},
   "outputs": [
    {
     "name": "stdout",
     "output_type": "stream",
     "text": [
      "dict_keys(['Marry', 'Sim', 'John'])\n"
     ]
    }
   ],
   "source": [
    "print(student_grades.keys())"
   ]
  },
  {
   "cell_type": "code",
   "execution_count": null,
   "id": "d6119cc7",
   "metadata": {},
   "outputs": [],
   "source": []
  }
 ],
 "metadata": {
  "kernelspec": {
   "display_name": "Python 3",
   "language": "python",
   "name": "python3"
  },
  "language_info": {
   "codemirror_mode": {
    "name": "ipython",
    "version": 3
   },
   "file_extension": ".py",
   "mimetype": "text/x-python",
   "name": "python",
   "nbconvert_exporter": "python",
   "pygments_lexer": "ipython3",
   "version": "3.8.8"
  }
 },
 "nbformat": 4,
 "nbformat_minor": 5
}
