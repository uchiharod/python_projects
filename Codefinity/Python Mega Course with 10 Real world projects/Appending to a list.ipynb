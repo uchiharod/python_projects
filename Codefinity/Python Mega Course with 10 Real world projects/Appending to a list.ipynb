{
 "cells": [
  {
   "cell_type": "code",
   "execution_count": 2,
   "id": "35251593",
   "metadata": {},
   "outputs": [
    {
     "name": "stdout",
     "output_type": "stream",
     "text": [
      "[1.23, 1.45, 1.02, 1.11]\n"
     ]
    }
   ],
   "source": [
    "seconds = [1.23, 1.45, 1.02]\n",
    "current = 1.11\n",
    "seconds.append(current)\n",
    "print(seconds)"
   ]
  },
  {
   "cell_type": "code",
   "execution_count": 3,
   "id": "107d032c",
   "metadata": {},
   "outputs": [],
   "source": [
    "currents = 1.112\n",
    "seconds.append(currents)"
   ]
  },
  {
   "cell_type": "code",
   "execution_count": 4,
   "id": "de1604ee",
   "metadata": {},
   "outputs": [
    {
     "name": "stdout",
     "output_type": "stream",
     "text": [
      "[1.23, 1.45, 1.02, 1.11, 1.112]\n"
     ]
    }
   ],
   "source": [
    "print(seconds)"
   ]
  },
  {
   "cell_type": "code",
   "execution_count": null,
   "id": "3a5c4b7c",
   "metadata": {},
   "outputs": [],
   "source": []
  }
 ],
 "metadata": {
  "kernelspec": {
   "display_name": "Python 3",
   "language": "python",
   "name": "python3"
  },
  "language_info": {
   "codemirror_mode": {
    "name": "ipython",
    "version": 3
   },
   "file_extension": ".py",
   "mimetype": "text/x-python",
   "name": "python",
   "nbconvert_exporter": "python",
   "pygments_lexer": "ipython3",
   "version": "3.8.8"
  }
 },
 "nbformat": 4,
 "nbformat_minor": 5
}
