{
 "cells": [
  {
   "cell_type": "code",
   "execution_count": 2,
   "id": "62149c7b",
   "metadata": {},
   "outputs": [
    {
     "name": "stdout",
     "output_type": "stream",
     "text": [
      "11\n",
      "34\n",
      "98\n",
      "43\n",
      "45\n",
      "54\n",
      "54\n"
     ]
    }
   ],
   "source": [
    "colors = [11, 34, 98, 43, 45, 54, 54]\n",
    "\n",
    "for color in colors:\n",
    "    print(color)"
   ]
  },
  {
   "cell_type": "code",
   "execution_count": 7,
   "id": "ef179527",
   "metadata": {},
   "outputs": [
    {
     "name": "stdout",
     "output_type": "stream",
     "text": [
      "98\n",
      "54\n",
      "54\n"
     ]
    }
   ],
   "source": [
    "colors = [11, 34, 98, 43, 45, 54, 54]\n",
    "\n",
    "for color in colors:\n",
    "    if color > 50:\n",
    "        print(color)"
   ]
  },
  {
   "cell_type": "code",
   "execution_count": 9,
   "id": "5c7aaa7b",
   "metadata": {},
   "outputs": [
    {
     "name": "stdout",
     "output_type": "stream",
     "text": [
      "11\n",
      "34\n",
      "98\n",
      "43\n",
      "45\n",
      "54\n",
      "54\n"
     ]
    }
   ],
   "source": [
    "colors = [11, 34, 98, 43, 45, 54, 54]\n",
    "\n",
    "for color in colors:\n",
    "    if color in colors:\n",
    "        print(color)"
   ]
  },
  {
   "cell_type": "code",
   "execution_count": null,
   "id": "0f2a2740",
   "metadata": {},
   "outputs": [],
   "source": []
  }
 ],
 "metadata": {
  "kernelspec": {
   "display_name": "Python 3",
   "language": "python",
   "name": "python3"
  },
  "language_info": {
   "codemirror_mode": {
    "name": "ipython",
    "version": 3
   },
   "file_extension": ".py",
   "mimetype": "text/x-python",
   "name": "python",
   "nbconvert_exporter": "python",
   "pygments_lexer": "ipython3",
   "version": "3.8.8"
  }
 },
 "nbformat": 4,
 "nbformat_minor": 5
}
