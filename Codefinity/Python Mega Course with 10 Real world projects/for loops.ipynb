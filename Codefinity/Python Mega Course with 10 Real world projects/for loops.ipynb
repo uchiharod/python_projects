{
 "cells": [
  {
   "cell_type": "code",
   "execution_count": 2,
   "id": "299d2ffe",
   "metadata": {},
   "outputs": [
    {
     "name": "stdout",
     "output_type": "stream",
     "text": [
      "11\n",
      "34\n",
      "98\n",
      "43\n",
      "45\n",
      "54\n",
      "54\n"
     ]
    }
   ],
   "source": [
    "colors = [11, 34, 98, 43, 45, 54, 54]\n",
    "\n",
    "for color in colors:\n",
    "    print(color)"
   ]
  },
  {
   "cell_type": "code",
   "execution_count": 7,
   "id": "5758775f",
   "metadata": {},
   "outputs": [
    {
     "name": "stdout",
     "output_type": "stream",
     "text": [
      "98\n",
      "54\n",
      "54\n"
     ]
    }
   ],
   "source": [
    "colors = [11, 34, 98, 43, 45, 54, 54]\n",
    "\n",
    "for color in colors:\n",
    "    if color > 50:\n",
    "        print(color)"
   ]
  },
  {
   "cell_type": "code",
   "execution_count": 9,
   "id": "ec3e144e",
   "metadata": {},
   "outputs": [
    {
     "name": "stdout",
     "output_type": "stream",
     "text": [
      "11\n",
      "34\n",
      "98\n",
      "43\n",
      "45\n",
      "54\n",
      "54\n"
     ]
    }
   ],
   "source": [
    "colors = [11, 34, 98, 43, 45, 54, 54]\n",
    "\n",
    "for color in colors:\n",
    "    if color in colors:\n",
    "        print(color)"
   ]
  },
  {
   "cell_type": "code",
   "execution_count": 12,
   "id": "12713d33",
   "metadata": {},
   "outputs": [
    {
     "name": "stdout",
     "output_type": "stream",
     "text": [
      "11\n",
      "43\n",
      "54\n",
      "54\n"
     ]
    }
   ],
   "source": [
    "colors = [11, 34.1, 98.2, 43, 45.1, 54, 54]\n",
    "\n",
    "for color in colors:\n",
    "    if isinstance(color, int):\n",
    "        print(color)"
   ]
  },
  {
   "cell_type": "code",
   "execution_count": 15,
   "id": "a24e8a09",
   "metadata": {},
   "outputs": [
    {
     "name": "stdout",
     "output_type": "stream",
     "text": [
      "54\n",
      "54\n"
     ]
    }
   ],
   "source": [
    "colors = [11, 34.1, 98.2, 43, 45.1, 54, 54]\n",
    "\n",
    "for color in colors:\n",
    "    if isinstance(color, int) and color > 50:\n",
    "        print(color)"
   ]
  },
  {
   "cell_type": "markdown",
   "id": "02da557c",
   "metadata": {},
   "source": [
    "# Good way to use for loops"
   ]
  },
  {
   "cell_type": "code",
   "execution_count": 16,
   "id": "5af4584d",
   "metadata": {},
   "outputs": [
    {
     "name": "stdout",
     "output_type": "stream",
     "text": [
      "282.25\n",
      "281.95\n",
      "3.0\n"
     ]
    }
   ],
   "source": [
    "def celsius_to_kelvin(cels):\n",
    "    return cels + 273.15\n",
    " \n",
    "for temperature in [9.1, 8.8, -270.15]:\n",
    "    print(celsius_to_kelvin(temperature))"
   ]
  },
  {
   "cell_type": "markdown",
   "id": "e119f0a5",
   "metadata": {},
   "source": [
    "# Use below for Storytelling"
   ]
  },
  {
   "cell_type": "code",
   "execution_count": 17,
   "id": "2692ca51",
   "metadata": {},
   "outputs": [
    {
     "name": "stdout",
     "output_type": "stream",
     "text": [
      "John has as phone number +37682929928\n",
      "Marry has as phone number +423998200919\n"
     ]
    }
   ],
   "source": [
    "phone_numbers = {\"John\": \"+37682929928\", \"Marry\": \"+423998200919\"}\n",
    " \n",
    "for pair in phone_numbers.items():\n",
    "    print(f\"{pair[0]} has as phone number {pair[1]}\")\n"
   ]
  },
  {
   "cell_type": "code",
   "execution_count": 18,
   "id": "020c0df1",
   "metadata": {},
   "outputs": [
    {
     "name": "stdout",
     "output_type": "stream",
     "text": [
      "John has as phone number +37682929928\n",
      "Marry has as phone number +423998200919\n"
     ]
    }
   ],
   "source": [
    "phone_numbers = {\"John\": \"+37682929928\", \"Marry\": \"+423998200919\"}\n",
    " \n",
    "for key, value in phone_numbers.items():\n",
    "    print(f\"{key} has as phone number {value}\")\n"
   ]
  },
  {
   "cell_type": "code",
   "execution_count": 21,
   "id": "347de13c",
   "metadata": {},
   "outputs": [
    {
     "name": "stdout",
     "output_type": "stream",
     "text": [
      "John Smith: +37682929928\n",
      "Marry Simpons: +423998200919\n"
     ]
    }
   ],
   "source": [
    "phone_numbers = {\"John Smith\": \"+37682929928\", \"Marry Simpons\": \"+423998200919\"}\n",
    " \n",
    "for key, value in phone_numbers.items():\n",
    "    print(f\"{key}: {value}\")\n"
   ]
  },
  {
   "cell_type": "code",
   "execution_count": 22,
   "id": "7a24ff3a",
   "metadata": {},
   "outputs": [
    {
     "name": "stdout",
     "output_type": "stream",
     "text": [
      "0037682929928\n",
      "00423998200919\n"
     ]
    }
   ],
   "source": [
    "phone_numbers = {\"John Smith\": \"+37682929928\", \"Marry Simpons\": \"+423998200919\"}\n",
    "\n",
    "for value in phone_numbers.values():\n",
    "    print(value.replace(\"+\", \"00\"))"
   ]
  },
  {
   "cell_type": "code",
   "execution_count": null,
   "id": "5d1bd49e",
   "metadata": {},
   "outputs": [],
   "source": []
  }
 ],
 "metadata": {
  "kernelspec": {
   "display_name": "Python 3",
   "language": "python",
   "name": "python3"
  },
  "language_info": {
   "codemirror_mode": {
    "name": "ipython",
    "version": 3
   },
   "file_extension": ".py",
   "mimetype": "text/x-python",
   "name": "python",
   "nbconvert_exporter": "python",
   "pygments_lexer": "ipython3",
   "version": "3.8.8"
  }
 },
 "nbformat": 4,
 "nbformat_minor": 5
}
