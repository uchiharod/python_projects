{
 "cells": [
  {
   "cell_type": "code",
   "execution_count": 5,
   "id": "2bf149dc",
   "metadata": {},
   "outputs": [
    {
     "name": "stdout",
     "output_type": "stream",
     "text": [
      "How are you?\n",
      "Say something: What are you doing?\n",
      "Say something: Are you done?\n",
      "Say something: \\end\n",
      "What are you doing?. Are you done?.\n"
     ]
    }
   ],
   "source": [
    "def sentence_maker(phrase):\n",
    "    interrogatives = ('how', 'what', 'why')\n",
    "    capitalized = phrase.capitalize()\n",
    "    if phrase.startswith(interrogatives):\n",
    "        return\"{}?\".format(capitalized)\n",
    "    else:\n",
    "        return \"{}.\".format(capitalized)\n",
    "    \n",
    "print(sentence_maker(\"how are you\"))\n",
    "\n",
    "results = []\n",
    "while True:\n",
    "    user_input = input(\"Say something: \")\n",
    "    if user_input == \"\\end\":\n",
    "        break\n",
    "    else:\n",
    "        results.append(sentence_maker(user_input))\n",
    "        \n",
    "print(\" \".join(results))"
   ]
  },
  {
   "cell_type": "code",
   "execution_count": null,
   "id": "ac5edbec",
   "metadata": {},
   "outputs": [],
   "source": []
  }
 ],
 "metadata": {
  "kernelspec": {
   "display_name": "Python 3",
   "language": "python",
   "name": "python3"
  },
  "language_info": {
   "codemirror_mode": {
    "name": "ipython",
    "version": 3
   },
   "file_extension": ".py",
   "mimetype": "text/x-python",
   "name": "python",
   "nbconvert_exporter": "python",
   "pygments_lexer": "ipython3",
   "version": "3.8.8"
  }
 },
 "nbformat": 4,
 "nbformat_minor": 5
}
