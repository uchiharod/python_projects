{
 "cells": [
  {
   "cell_type": "code",
   "execution_count": 3,
   "id": "9fb17a81",
   "metadata": {},
   "outputs": [
    {
     "name": "stdout",
     "output_type": "stream",
     "text": [
      "91.0\n"
     ]
    }
   ],
   "source": [
    "def convert(amount):\n",
    "    output = amount * 1.75\n",
    "    return output\n",
    " \n",
    "print(convert(52))"
   ]
  },
  {
   "cell_type": "code",
   "execution_count": 4,
   "id": "51a15511",
   "metadata": {},
   "outputs": [
    {
     "name": "stdout",
     "output_type": "stream",
     "text": [
      "9\n"
     ]
    }
   ],
   "source": [
    "def foo(howmuch):\n",
    "    output = howmuch ** 2\n",
    "    return output\n",
    " \n",
    "print(foo(3))"
   ]
  },
  {
   "cell_type": "code",
   "execution_count": 8,
   "id": "8482409d",
   "metadata": {},
   "outputs": [
    {
     "name": "stdout",
     "output_type": "stream",
     "text": [
      "147.86765\n"
     ]
    }
   ],
   "source": [
    "def foo(oz):\n",
    "    fo = 29.57353\n",
    "    output = oz * fo\n",
    "    return output\n",
    " \n",
    "print(foo(5))"
   ]
  },
  {
   "cell_type": "code",
   "execution_count": 12,
   "id": "7fec9718",
   "metadata": {},
   "outputs": [
    {
     "name": "stdout",
     "output_type": "stream",
     "text": [
      "Warm\n"
     ]
    }
   ],
   "source": [
    "def foo(temperature):\n",
    "    if temperature > 7 :\n",
    "        return \"Warm\"\n",
    "    else:\n",
    "        return \"Cold\"\n",
    "    return temperature\n",
    "\n",
    "print(foo(8))"
   ]
  },
  {
   "cell_type": "code",
   "execution_count": 33,
   "id": "a1737d77",
   "metadata": {},
   "outputs": [
    {
     "name": "stdout",
     "output_type": "stream",
     "text": [
      "Hot\n"
     ]
    }
   ],
   "source": [
    "def foo(temperature):\n",
    "    if temperature > 25 :\n",
    "        return \"Hot\"\n",
    "    elif 25 >= temperature >= 15:\n",
    "        return \"Warm\"\n",
    "    else:\n",
    "        return \"Cold\"\n",
    "    \n",
    "print(foo(26))"
   ]
  },
  {
   "cell_type": "code",
   "execution_count": null,
   "id": "54a70878",
   "metadata": {},
   "outputs": [],
   "source": []
  },
  {
   "cell_type": "code",
   "execution_count": null,
   "id": "780b0eac",
   "metadata": {},
   "outputs": [],
   "source": []
  }
 ],
 "metadata": {
  "kernelspec": {
   "display_name": "Python 3",
   "language": "python",
   "name": "python3"
  },
  "language_info": {
   "codemirror_mode": {
    "name": "ipython",
    "version": 3
   },
   "file_extension": ".py",
   "mimetype": "text/x-python",
   "name": "python",
   "nbconvert_exporter": "python",
   "pygments_lexer": "ipython3",
   "version": "3.8.8"
  }
 },
 "nbformat": 4,
 "nbformat_minor": 5
}
