{
 "cells": [
  {
   "cell_type": "code",
   "execution_count": 1,
   "id": "1c14c8cf",
   "metadata": {},
   "outputs": [
    {
     "name": "stdout",
     "output_type": "stream",
     "text": [
      "Dial 555-0123 to call Jason.\n",
      "Dial 555-0987 to call Carl.\n"
     ]
    }
   ],
   "source": [
    "contacts = {'Jason': '555-0123', 'Carl': '555-0987'}\n",
    "jasons_phone = contacts['Jason']\n",
    "carls_phone = contacts['Carl']\n",
    "\n",
    "print('Dial {} to call Jason.'.format(jasons_phone))\n",
    "print('Dial {} to call Carl.'.format(carls_phone))"
   ]
  },
  {
   "cell_type": "code",
   "execution_count": null,
   "id": "522092c4",
   "metadata": {},
   "outputs": [],
   "source": []
  }
 ],
 "metadata": {
  "kernelspec": {
   "display_name": "Python 3",
   "language": "python",
   "name": "python3"
  },
  "language_info": {
   "codemirror_mode": {
    "name": "ipython",
    "version": 3
   },
   "file_extension": ".py",
   "mimetype": "text/x-python",
   "name": "python",
   "nbconvert_exporter": "python",
   "pygments_lexer": "ipython3",
   "version": "3.8.8"
  }
 },
 "nbformat": 4,
 "nbformat_minor": 5
}
