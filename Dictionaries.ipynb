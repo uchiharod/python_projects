{
 "cells": [
  {
   "cell_type": "code",
   "execution_count": 1,
   "id": "197da309",
   "metadata": {},
   "outputs": [
    {
     "name": "stdout",
     "output_type": "stream",
     "text": [
      "Dial 555-0123 to call Jason.\n",
      "Dial 555-0987 to call Carl.\n"
     ]
    }
   ],
   "source": [
    "contacts = {'Jason': '555-0123', 'Carl': '555-0987'}\n",
    "jasons_phone = contacts['Jason']\n",
    "carls_phone = contacts['Carl']\n",
    "\n",
    "print('Dial {} to call Jason.'.format(jasons_phone))\n",
    "print('Dial {} to call Carl.'.format(carls_phone))"
   ]
  },
  {
   "cell_type": "code",
   "execution_count": 2,
   "id": "75df3a77",
   "metadata": {},
   "outputs": [
    {
     "name": "stdout",
     "output_type": "stream",
     "text": [
      "Dial 555-0000 to call Jason.\n"
     ]
    }
   ],
   "source": [
    "contacts = {'Jason': '555-0123', 'Carl': '555-0987'}\n",
    "contacts['Jason'] = '555-0000'\n",
    "jasons_phone = contacts['Jason']\n",
    "print('Dial {} to call Jason.'.format(jasons_phone))"
   ]
  },
  {
   "cell_type": "code",
   "execution_count": 3,
   "id": "b809e0e0",
   "metadata": {},
   "outputs": [
    {
     "name": "stdout",
     "output_type": "stream",
     "text": [
      "{'Jason': '555-0123', 'Carl': '555-0987', 'Tony': '555-0570'}\n",
      "3\n"
     ]
    }
   ],
   "source": [
    "contacts = {'Jason': '555-0123', 'Carl': '555-0987'}\n",
    "contacts['Tony'] = '555-0570'\n",
    "print(contacts)\n",
    "print(len(contacts))"
   ]
  },
  {
   "cell_type": "code",
   "execution_count": 4,
   "id": "cf2ba9ab",
   "metadata": {},
   "outputs": [
    {
     "name": "stdout",
     "output_type": "stream",
     "text": [
      "{'Carl': '555-0987'}\n"
     ]
    }
   ],
   "source": [
    "contacts = {'Jason': '555-0123', 'Carl': '555-0987'}\n",
    "del contacts['Jason']\n",
    "print(contacts)"
   ]
  },
  {
   "cell_type": "code",
   "execution_count": 5,
   "id": "62ee72fe",
   "metadata": {},
   "outputs": [
    {
     "name": "stdout",
     "output_type": "stream",
     "text": [
      "Jason:\n",
      "['555-0123', '555-0000']\n",
      "Carl:\n",
      "555-0987\n"
     ]
    }
   ],
   "source": [
    "contacts = {\n",
    "    'Jason': ['555-0123', '555-0000'],\n",
    "    'Carl': '555-0987'\n",
    "}\n",
    "print('Jason:')\n",
    "print(contacts['Jason'])\n",
    "print('Carl:')\n",
    "print(contacts['Carl'])"
   ]
  },
  {
   "cell_type": "code",
   "execution_count": 6,
   "id": "e35ac614",
   "metadata": {},
   "outputs": [
    {
     "name": "stdout",
     "output_type": "stream",
     "text": [
      "Phone: 555-0123\n",
      "Phone: 555-0000\n"
     ]
    }
   ],
   "source": [
    "contacts = {\n",
    "    'Jason': ['555-0123', '555-0000'],\n",
    "    'Carl': '555-0987'\n",
    "}\n",
    "\n",
    "for number in contacts['Jason']:\n",
    "    print('Phone: {}'.format(number))"
   ]
  },
  {
   "cell_type": "code",
   "execution_count": 7,
   "id": "8f9e9fa2",
   "metadata": {},
   "outputs": [
    {
     "name": "stdout",
     "output_type": "stream",
     "text": [
      "Jason's phone number is:\n",
      "555-0123\n"
     ]
    }
   ],
   "source": [
    "contacts = {\n",
    "    'Jason': ['555-0123', '555-0000'],\n",
    "    'Carl': '555-0987'\n",
    "}\n",
    "\n",
    "if 'Jason' in contacts.keys():\n",
    "    print(\"Jason's phone number is:\")\n",
    "    print(contacts['Jason'][0])\n",
    "\n",
    "if 'Tony' in contacts.keys():\n",
    "    print(\"Tony's phone number is:\")\n",
    "    print(contacts['Tony'][0])"
   ]
  },
  {
   "cell_type": "code",
   "execution_count": 8,
   "id": "aa4bf9a2",
   "metadata": {},
   "outputs": [
    {
     "name": "stdout",
     "output_type": "stream",
     "text": [
      "True\n"
     ]
    }
   ],
   "source": [
    "contacts = {\n",
    "    'Jason': ['555-0123', '555-0000'],\n",
    "    'Carl': '555-0987'\n",
    "}\n",
    "\n",
    "print ('555-0987' in contacts.values())"
   ]
  },
  {
   "cell_type": "code",
   "execution_count": 9,
   "id": "f0c2ecdd",
   "metadata": {},
   "outputs": [
    {
     "name": "stdout",
     "output_type": "stream",
     "text": [
      "The number for Jason is 555-0123.\n",
      "The number for Carl is 555-0987.\n"
     ]
    }
   ],
   "source": [
    "contacts = {\n",
    "    'Jason': '555-0123',\n",
    "    'Carl': '555-0987'\n",
    "}\n",
    "for contact in contacts:\n",
    "    print('The number for {0} is {1}.'.format(contact, contacts[contact]))"
   ]
  },
  {
   "cell_type": "code",
   "execution_count": 10,
   "id": "cd2b30e8",
   "metadata": {},
   "outputs": [
    {
     "name": "stdout",
     "output_type": "stream",
     "text": [
      "The number for Jason is 555-0123.\n",
      "The number for Carl is 555-0987.\n"
     ]
    }
   ],
   "source": [
    "contacts = {'Jason': '555-0123', 'Carl': '555-0987'}\n",
    "for person, phone_number in contacts.items():\n",
    "    print('The number for {0} is {1}.'.format(person, phone_number))"
   ]
  },
  {
   "cell_type": "code",
   "execution_count": 11,
   "id": "4ad54490",
   "metadata": {},
   "outputs": [
    {
     "name": "stdout",
     "output_type": "stream",
     "text": [
      "Jason's contact info:\n",
      "555-0123\n",
      "jason@example.com\n",
      "Carl's contact info:\n",
      "555-0987\n",
      "carl@example.com\n"
     ]
    }
   ],
   "source": [
    "contacts = {\n",
    "    'Jason': {\n",
    "        'phone': '555-0123',\n",
    "        'email': 'jason@example.com'\n",
    "    },\n",
    "    'Carl': {\n",
    "        'phone': '555-0987',\n",
    "        'email': 'carl@example.com'\n",
    "    }\n",
    "}\n",
    "\n",
    "for contact in contacts:\n",
    "    print(\"{}'s contact info:\".format(contact))\n",
    "    print(contacts[contact]['phone'])\n",
    "    print(contacts[contact]['email'])"
   ]
  },
  {
   "cell_type": "code",
   "execution_count": null,
   "id": "acadc65d",
   "metadata": {},
   "outputs": [],
   "source": []
  }
 ],
 "metadata": {
  "kernelspec": {
   "display_name": "Python 3",
   "language": "python",
   "name": "python3"
  },
  "language_info": {
   "codemirror_mode": {
    "name": "ipython",
    "version": 3
   },
   "file_extension": ".py",
   "mimetype": "text/x-python",
   "name": "python",
   "nbconvert_exporter": "python",
   "pygments_lexer": "ipython3",
   "version": "3.8.8"
  }
 },
 "nbformat": 4,
 "nbformat_minor": 5
}
