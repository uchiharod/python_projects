{
 "cells": [
  {
   "cell_type": "markdown",
   "id": "fd677004-a15c-4204-adfe-762fc09da96a",
   "metadata": {},
   "source": [
    "# 1-1: Cells\n",
    "\n",
    "In Jupyter, every section of code or writing is known as a **cell**. Cells are moveable and editable. They execute independently of each other, but contribute to the state of the entire Notebook.\n",
    "\n",
    "This here is a **Markdown** cell. Markdown is a simplified markup syntax that allows easy creation of rich text.\n",
    "\n",
    "To learn a _lot_ more about Markdown, visit the [commmonmark](https://commonmark.org/) page. Maybe take their tutorial!"
   ]
  },
  {
   "attachments": {
    "a41a690b-5fc5-4de7-ab5a-6542e48bc916.png": {
     "image/png": "[encoded data removed]"
    }
   },
   "cell_type": "markdown",
   "id": "79aeebf4-ed9e-49f1-8f46-ad92e48a0019",
   "metadata": {},
   "source": [
    "But of course, not every cell can be plaintext, can it? The next cell is going to be code. Click into, then press the \"play\" button in the top bar, or press `Ctrl+Enter` to run it.\n",
    "\n",
    "_This is the play button_ ![Screenshot_20220809_194104.png](attachment:a41a690b-5fc5-4de7-ab5a-6542e48bc916.png)"
   ]
  },
  {
   "cell_type": "code",
   "execution_count": null,
   "id": "fdfd97df-8c28-4c95-9eb6-eb4a8bacead5",
   "metadata": {},
   "outputs": [],
   "source": [
    "# See this? It's a comment inside of code. It is just for humans like you.\n",
    "# The lines below are for the computer.\n",
    "name: str = input(\"Hey! What's your name?\")\n",
    "print(\"Nice to meetcha, \" + name)"
   ]
  },
  {
   "cell_type": "markdown",
   "id": "6eb5ae3b-610e-48c5-8ed1-737f37d7fecf",
   "metadata": {},
   "source": [
    "So a lot just happened there. Let's break it down piece by piece.\n",
    "\n",
    "```python\n",
    "name: str = input(\"Hey! What's your name?\")\n",
    "```\n",
    "\n",
    "On the left of the `=` is the name of a **variable**—appropriately, called `name`. **Variables** are buckets to hold information that we want to refer to later.\n",
    "\n",
    "We _assign_ values to variables with the `=` operator. \n",
    "\n",
    "You'll also notice there's a `: str` on there. That is a **type hint**. It tells us, the programmers, a little about the kind of data stored in the variable. In this case, the hint informs us that `name` contains a string, or `str`. Strings are text data.\n",
    "\n",
    "Before we go any further, I want to be very clear: **TYPE HINTS ARE OPTIONAL!** The following would have worked just as well:\n",
    "\n",
    "```python\n",
    "name = input(\"Hey! What's your name?\")\n",
    "```\n",
    "\n",
    "Python doesn't care either way. So why use type hints? I am an advocate of type hints because they serve as in-line documentation. They help us understand what kinds of data we're working with as we go. Yeah it's a little more syntax, but I think the clarity is well worth it. And for this course, we'll be using type hints as a standard.\n",
    "\n",
    "On the right of the `=` is a **function call**. The `input()` function is built into Python, and reads input from the user with the provided prompt. Functions are _called_ with the function name, parentheses, and any **arguments** to the function inside those parens. Once that function has executed, the resulting value is saved in `name`.\n",
    "\n",
    "```python\n",
    "print(\"Nice to meetcha, \" + name)\n",
    "```\n",
    "\n",
    "Finally, we use the `print()` function to print our greeting. The greeting is a combination of 2 strings: `\"Nice to meetcha, \"` and our `name` variable. The `+` operator works on strings in Python as well as numbers. On strings, in _concatenates_, or joins, the strings together. That's why we left that extra space after the comma."
   ]
  },
  {
   "cell_type": "markdown",
   "id": "0fe839b3-496e-45b1-a28d-4e92a89ed8e0",
   "metadata": {},
   "source": [
    "## Your Turn\n",
    "\n",
    "Now it's your turn! In the next cell, you have 2 objectives:\n",
    "\n",
    "1. Create a `str` variable called `whiz` and assign it the value `\"Bang!\"`\n",
    "2. Call the function `testme()`, passing `whiz` as an argument.\n",
    "\n",
    "If all goes according to plan, you'll see a passed test!"
   ]
  },
  {
   "cell_type": "code",
   "execution_count": null,
   "id": "bf8c4fd2-9d5e-47ba-876b-e00df6a469be",
   "metadata": {},
   "outputs": [],
   "source": [
    "# Don't delete this line!\n",
    "from testme import testme\n",
    "\n",
    "# Define a str variable called whiz\n",
    "\n",
    "whiz = \"\"\n",
    "\n",
    "# Call testme() with whiz as an argument\n",
    "\n",
    "______(____)"
   ]
  }
 ],
 "metadata": {
  "kernelspec": {
   "display_name": "Python 3 (ipykernel)",
   "language": "python",
   "name": "python3"
  },
  "language_info": {
   "codemirror_mode": {
    "name": "ipython",
    "version": 3
   },
   "file_extension": ".py",
   "mimetype": "text/x-python",
   "name": "python",
   "nbconvert_exporter": "python",
   "pygments_lexer": "ipython3",
   "version": "3.8.10"
  }
 },
 "nbformat": 4,
 "nbformat_minor": 5
}
