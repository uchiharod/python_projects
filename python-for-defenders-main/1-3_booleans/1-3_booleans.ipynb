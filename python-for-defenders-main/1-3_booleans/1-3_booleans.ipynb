{
 "cells": [
  {
   "cell_type": "markdown",
   "id": "a846f100-5e09-4f44-b77f-a687026c9769",
   "metadata": {},
   "source": [
    "# 1-3: Booleans\n",
    "\n",
    "This may be the simplest data type to explain, but also the most versatile.\n",
    "\n",
    "**Booleans** (`bool`)have 2 possible values: `True` or `False`. Arguably, booleans are the core of computing logic.\n",
    "\n",
    "Although bools are easy to grasp, deriving these 2 values gets a little more complicated. Booleans result from **comparisons**, and they come in many forms.\n",
    "\n",
    "Let's check out some comparisons"
   ]
  },
  {
   "cell_type": "code",
   "execution_count": 1,
   "id": "4609e63f-a235-4be2-9fae-e1cf83357271",
   "metadata": {},
   "outputs": [
    {
     "data": {
      "text/plain": [
       "True"
      ]
     },
     "execution_count": 1,
     "metadata": {},
     "output_type": "execute_result"
    }
   ],
   "source": [
    "# Equivalence\n",
    "\n",
    "2 == 2"
   ]
  },
  {
   "cell_type": "code",
   "execution_count": 4,
   "id": "93697f6e-25b8-462d-b5ea-5f33633b19ee",
   "metadata": {},
   "outputs": [
    {
     "data": {
      "text/plain": [
       "False"
      ]
     },
     "execution_count": 4,
     "metadata": {},
     "output_type": "execute_result"
    }
   ],
   "source": [
    "# Negated equivalence\n",
    "\n",
    "10 % 2 != 0"
   ]
  },
  {
   "cell_type": "code",
   "execution_count": 5,
   "id": "306543b7-de02-4cab-92e1-a51e97354597",
   "metadata": {},
   "outputs": [
    {
     "data": {
      "text/plain": [
       "True"
      ]
     },
     "execution_count": 5,
     "metadata": {},
     "output_type": "execute_result"
    }
   ],
   "source": [
    "# Inequality\n",
    "\n",
    "10 > 3"
   ]
  },
  {
   "cell_type": "markdown",
   "id": "d7c599d1-96c6-4c22-9204-f94a44d694fd",
   "metadata": {},
   "source": [
    "## Boolean Operators"
   ]
  },
  {
   "cell_type": "markdown",
   "id": "9c260c7b-aecf-46a2-866d-7f7f9136d353",
   "metadata": {},
   "source": [
    "In addition to the comparison operators, Python supports traditional boolean operators `and`, `or`, and `not`. These can be used to combine boolean expressions to create a new one. Much like in mathematical operations, parentheses can really matter!"
   ]
  },
  {
   "cell_type": "code",
   "execution_count": 8,
   "id": "b1da94a7-405a-4cd0-a0f6-2644fe42228a",
   "metadata": {},
   "outputs": [
    {
     "data": {
      "text/plain": [
       "True"
      ]
     },
     "execution_count": 8,
     "metadata": {},
     "output_type": "execute_result"
    }
   ],
   "source": [
    "True and True"
   ]
  },
  {
   "cell_type": "code",
   "execution_count": 9,
   "id": "38d175dc-84d9-4937-91ff-ba3b8b4b18f7",
   "metadata": {},
   "outputs": [
    {
     "data": {
      "text/plain": [
       "True"
      ]
     },
     "execution_count": 9,
     "metadata": {},
     "output_type": "execute_result"
    }
   ],
   "source": [
    "True and (False or True)"
   ]
  },
  {
   "cell_type": "code",
   "execution_count": 12,
   "id": "9121d06f-5c2b-4761-84df-1328b302b339",
   "metadata": {},
   "outputs": [
    {
     "data": {
      "text/plain": [
       "False"
      ]
     },
     "execution_count": 12,
     "metadata": {},
     "output_type": "execute_result"
    }
   ],
   "source": [
    "not True and (False or True)"
   ]
  },
  {
   "cell_type": "markdown",
   "id": "57a13f6d-56cf-49dc-b8ff-20da7624b679",
   "metadata": {},
   "source": [
    "## `None` \n",
    "\n",
    "`None` is its own type (`NoneType`) in Python, but I mention it here because it is \"falsy.\" That means it will evaluate as `False`. Many functions will return `None` if there was no result. This can be a gotcha, but it can also be used in combination with `or` for assigning fallback values.\n",
    "\n",
    "Check it out:\n"
   ]
  },
  {
   "cell_type": "code",
   "execution_count": 18,
   "id": "848ff547-1c94-435e-9c8a-7904fbcd66de",
   "metadata": {},
   "outputs": [
    {
     "data": {
      "text/plain": [
       "10"
      ]
     },
     "execution_count": 18,
     "metadata": {},
     "output_type": "execute_result"
    }
   ],
   "source": [
    "x: int = None # Python doesn't care that the type hint doesn't match the value!\n",
    "results = x or 10 # Or will favor the \"truthy\" item, which is 10 in this case\n",
    "results"
   ]
  },
  {
   "cell_type": "markdown",
   "id": "35be208b-0a49-418e-9367-bcb37e80d685",
   "metadata": {},
   "source": [
    "No test necessary for this one. Let's move on to strings!"
   ]
  }
 ],
 "metadata": {
  "kernelspec": {
   "display_name": "Python 3 (ipykernel)",
   "language": "python",
   "name": "python3"
  },
  "language_info": {
   "codemirror_mode": {
    "name": "ipython",
    "version": 3
   },
   "file_extension": ".py",
   "mimetype": "text/x-python",
   "name": "python",
   "nbconvert_exporter": "python",
   "pygments_lexer": "ipython3",
   "version": "3.8.10"
  }
 },
 "nbformat": 4,
 "nbformat_minor": 5
}
