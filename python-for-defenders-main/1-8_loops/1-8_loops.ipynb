{
 "cells": [
  {
   "cell_type": "markdown",
   "id": "dc83e89a-2fde-4eb1-ac34-2f5a2e35f4df",
   "metadata": {},
   "source": [
    "# 1-8: Loops\n",
    "\n",
    "We've encountered **flow control** already in the form of conditionals. In a conditional, our program's flow branches depending on our test(s). But very often, we need to repeat tasks in our program. That's what **loops** are for.\n",
    "\n",
    "Loops are ways to tell a program to repeat a set of instructions. We can repeat until a condition is met (or no longer met), or for a predetermined number of iterations.\n"
   ]
  },
  {
   "cell_type": "markdown",
   "id": "1df1a513-fe15-4b24-aefe-d7f529856727",
   "metadata": {},
   "source": [
    "## `for` Loops\n",
    "\n",
    "When we know how many times we need to repeat our operations, a `for` loop is best. We can use `for` loops with either a predefined sequence (`list`, `tuple`, `str`), or we can specify a number of times to repeat with a `range()`.\n",
    "\n",
    "Let's review the syntax for both."
   ]
  },
  {
   "cell_type": "markdown",
   "id": "dd3ce83d-ce8f-499b-913d-96207810c6db",
   "metadata": {},
   "source": [
    "### Over a Sequence"
   ]
  },
  {
   "cell_type": "code",
   "execution_count": 1,
   "id": "f85b9862-098a-4543-abf7-5867b6944fc5",
   "metadata": {},
   "outputs": [
    {
     "name": "stdout",
     "output_type": "stream",
     "text": [
      "milk\n",
      "eggs\n",
      "oranges\n",
      "rice\n"
     ]
    }
   ],
   "source": [
    "# Looping over a sequence\n",
    "groceries: list = [\"milk\", \"eggs\", \"oranges\", \"rice\"]\n",
    "\n",
    "# Build the loop\n",
    "for g in groceries:\n",
    "    print(g)"
   ]
  },
  {
   "cell_type": "markdown",
   "id": "2c6385cd-0fdf-4235-a6df-a312cc16a0a7",
   "metadata": {},
   "source": [
    "So the loop begins with the `for` keyword—no surprise there. Then we create a temporary variable, known as an **iterator** to keep track of the current element of the sequence. Each time we repeat the loop, the value of the iterator will update to the next value in the sequence."
   ]
  },
  {
   "cell_type": "markdown",
   "id": "c04333bf-e048-4518-97ea-9b529f78d161",
   "metadata": {},
   "source": [
    "### Over a `range`"
   ]
  },
  {
   "cell_type": "code",
   "execution_count": 3,
   "id": "814ac5a5-b1a5-4a2f-9f00-4c6437fcb106",
   "metadata": {},
   "outputs": [
    {
     "name": "stdout",
     "output_type": "stream",
     "text": [
      "0\n",
      "1\n",
      "2\n",
      "3\n",
      "4\n",
      "5\n",
      "6\n",
      "7\n",
      "8\n",
      "9\n"
     ]
    }
   ],
   "source": [
    "# A simple range, starting at 0\n",
    "for i in range(10):\n",
    "    print(i)"
   ]
  },
  {
   "cell_type": "code",
   "execution_count": 4,
   "id": "f75ce5e4-429f-44d4-9a0a-f18a15e66f46",
   "metadata": {},
   "outputs": [
    {
     "name": "stdout",
     "output_type": "stream",
     "text": [
      "20\n",
      "21\n",
      "22\n",
      "23\n",
      "24\n",
      "25\n",
      "26\n",
      "27\n",
      "28\n",
      "29\n",
      "30\n"
     ]
    }
   ],
   "source": [
    "# A range that doesn't start at 0\n",
    "for i in range(20, 31):\n",
    "    print(i)"
   ]
  },
  {
   "cell_type": "markdown",
   "id": "6b047cd6-e3c6-4995-9fed-5a3c31c80e38",
   "metadata": {},
   "source": [
    "`range()` produces a `range` object that produces integers either up to, but not including, a single argument, or from a start and up to an end when given 2 arguments.\n",
    "\n",
    "Ranges are super handy for when we need a raw index number for one reason or another."
   ]
  },
  {
   "cell_type": "markdown",
   "id": "fdaa5a45-59bf-4ea6-a801-a2b22ec6ed5e",
   "metadata": {},
   "source": [
    "### Building Lists/Strings\n",
    "\n",
    "It's a common pattern to use loops to create new lists or sequences from existing ones. The basic approach looks like this:\n",
    "\n",
    "1. Create an empty list.\n",
    "2. Loop over an existing list.\n",
    "3. Append a modified/calculated value to the new list based on the original element.\n",
    "\n",
    "Like so:"
   ]
  },
  {
   "cell_type": "code",
   "execution_count": 20,
   "id": "128b0467-63ce-4246-90c6-d23d7cd741dd",
   "metadata": {},
   "outputs": [
    {
     "data": {
      "text/plain": [
       "['Milk!', 'Eggs!', 'Oranges!', 'Rice!']"
      ]
     },
     "execution_count": 20,
     "metadata": {},
     "output_type": "execute_result"
    }
   ],
   "source": [
    "# A list of capitalized/exclaimed groceries\n",
    "exclaimed: list = []\n",
    "for g in groceries:\n",
    "    exclaimed.append(g.capitalize() + \"!\")\n",
    "exclaimed"
   ]
  },
  {
   "cell_type": "markdown",
   "id": "7e65699c-333b-4f0f-9dad-1a8c12bfd7c6",
   "metadata": {},
   "source": [
    "## `while` Loops\n",
    "\n",
    "If we don't necessarily know how many times we need to repeat an operation, but we know when we want to stop, a `while` loop is appropriate. \n",
    "\n",
    "`while`, like `if`, requires a test that must evaluate to `True` for the loop to continue. That means we have to be extra careful when writing that test to prevent **infinite loops**. "
   ]
  },
  {
   "cell_type": "markdown",
   "id": "e254e1b3-d68f-4d0b-8b2c-01ff926013f6",
   "metadata": {},
   "source": [
    "### External Iterators\n",
    "\n",
    "It's very common to use external variables to keep track of what's up with a `while` loop. Either as a counter, or a \"switch\" type variable that we turn from `False` to `True` or vice-versa once we have what we need.\n",
    "\n",
    "But don't forget, we have to manually update this variable, as the loop won't do it for us!"
   ]
  },
  {
   "cell_type": "code",
   "execution_count": 8,
   "id": "881cd4d1-77fd-4e8c-9161-1c926877f859",
   "metadata": {},
   "outputs": [
    {
     "name": "stdout",
     "output_type": "stream",
     "text": [
      "10\n",
      "9\n",
      "8\n",
      "7\n",
      "6\n",
      "5\n",
      "4\n",
      "3\n",
      "2\n",
      "1\n",
      "0\n",
      "Liftoff!\n"
     ]
    }
   ],
   "source": [
    "# While loop with external counter\n",
    "count: int = 10\n",
    "while count >= 0:\n",
    "    print(count)\n",
    "    # Manually update the count\n",
    "    count -= 1\n",
    "print(\"Liftoff!\")"
   ]
  },
  {
   "cell_type": "code",
   "execution_count": 12,
   "id": "3816c47f-a560-4de0-9e08-e778b938f325",
   "metadata": {},
   "outputs": [
    {
     "name": "stdout",
     "output_type": "stream",
     "text": [
      "iridium\n",
      "osmium\n",
      "tantalum\n",
      "Found it!\n"
     ]
    }
   ],
   "source": [
    "# While loop with a switch\n",
    "elements: list = [\"iridium\", \"osmium\", \"tantalum\", \"manganese\"]\n",
    "\n",
    "found: bool = False\n",
    "count: int = 0\n",
    "while not found:\n",
    "    el: str = elements[count]\n",
    "    print(el)\n",
    "    count += 1\n",
    "    if el == \"tantalum\":\n",
    "        found = True\n",
    "        print(\"Found it!\")\n",
    "    "
   ]
  },
  {
   "cell_type": "markdown",
   "id": "6a3bdfe2-6e83-45f0-8824-bb0a6e24bfb8",
   "metadata": {},
   "source": [
    "## Loop Tricks\n",
    "\n",
    "There are lots of more advanced techniques available for us in Python to make loops a little more efficient. Let's discuss 2 of them: `in` and **list comprehensions**."
   ]
  },
  {
   "cell_type": "markdown",
   "id": "df4b6b95-0e84-4552-86c4-113a389ad77a",
   "metadata": {},
   "source": [
    "### `in`\n",
    "\n",
    "We've already seen `in`: `for i in range(30)`, for example. But `in` has some other powers in Python. It can be used to test for membership in sequences."
   ]
  },
  {
   "cell_type": "code",
   "execution_count": 13,
   "id": "e61c0e77-5960-4053-ae90-42df542756e4",
   "metadata": {},
   "outputs": [
    {
     "data": {
      "text/plain": [
       "True"
      ]
     },
     "execution_count": 13,
     "metadata": {},
     "output_type": "execute_result"
    }
   ],
   "source": [
    "# Using in to test for membership\n",
    "\"F\" in \"Fhgwgads\""
   ]
  },
  {
   "cell_type": "code",
   "execution_count": 16,
   "id": "fc4cac26-5eef-4799-bf2b-93c992b72cab",
   "metadata": {},
   "outputs": [
    {
     "data": {
      "text/plain": [
       "True"
      ]
     },
     "execution_count": 16,
     "metadata": {},
     "output_type": "execute_result"
    }
   ],
   "source": [
    "# With lists\n",
    "\"a\" in [\"a\", \"b\", \"c\"]"
   ]
  },
  {
   "cell_type": "code",
   "execution_count": 18,
   "id": "321ae44b-f6b8-443d-907e-7c935f038bf8",
   "metadata": {},
   "outputs": [
    {
     "data": {
      "text/plain": [
       "True"
      ]
     },
     "execution_count": 18,
     "metadata": {},
     "output_type": "execute_result"
    }
   ],
   "source": [
    "# Even with dicts (tests keys)\n",
    "\"bob\" in {\"bob\": \"test123\", \"alice\": \"password123\"}"
   ]
  },
  {
   "cell_type": "markdown",
   "id": "d3bd335b-3e15-492a-8d0f-267660e3051b",
   "metadata": {},
   "source": [
    "### List Comprehensions\n",
    "\n",
    "We've demonstrated the \"classic\" pattern for generated lists from pre-existing sequences, but there's a faster way. **List comprehensions** are \"syntactical sugar\" that put that entire construction into a single expression. Let's revisit those exclaimed groceries:"
   ]
  },
  {
   "cell_type": "code",
   "execution_count": 21,
   "id": "72989b29-26b6-4397-9e62-42435613d9eb",
   "metadata": {},
   "outputs": [
    {
     "data": {
      "text/plain": [
       "['Milk!', 'Eggs!', 'Oranges!', 'Rice!']"
      ]
     },
     "execution_count": 21,
     "metadata": {},
     "output_type": "execute_result"
    }
   ],
   "source": [
    "# What took 3 lines now takes 1!\n",
    "exclaimed: list = [ g.capitalize() + \"!\" for g in groceries ]\n",
    "exclaimed"
   ]
  },
  {
   "cell_type": "markdown",
   "id": "a63cff66-a7ad-430c-94fc-b4d1aa7b8854",
   "metadata": {},
   "source": [
    "List comprehensions are common in Jupyter notebooks given their ease of use. Use them instead of `for` loops whenever possible."
   ]
  },
  {
   "cell_type": "markdown",
   "id": "5e9e784b-b529-46e0-9a50-13553da96a2d",
   "metadata": {},
   "source": [
    "## Check for Understanding\n",
    "\n",
    "For this check, we're going to perform a real-world operation. We have in our position a credential dump of potential usernames and passwords. These have been provided for you as the list `cred_dump`, which contains tuples of shape `(username, password)`. Not all of the users may exist, and who knows which passwords are legit?\n",
    "\n",
    "You also have a function called `authenticate()` that takes a username and a password. It returns a tuple of shape (`bool`, `str`). The `bool` is whether the authentication was successful, and and the `str` will be any error message, if it exists.\n",
    "\n",
    "For example, a successful auth will return `(True, None)` and a bad password will return `(False, 'Password is incorrect')`.\n",
    "\n",
    "### Objectives\n",
    "\n",
    "1. Make two lists: `valid_users` and `authenticated_users`. We need to discover which usernames are real _and_ which username/password combos are real.\n",
    "2. Loop through `cred_dump`. If the username exists but the auth fails, add the user to the `valid_users` list. If the username exists and the auth succeeds, add the username to both lists.\n",
    "3. Send `valid_users` to `testme_1()`.\n",
    "4. Send `authenticated_users` to `testme_2()`.\n",
    "\n",
    "**Note: This test will use different usernames/passwords every time the kernel is restarted.**\n"
   ]
  },
  {
   "cell_type": "code",
   "execution_count": null,
   "id": "e5001494-2ec2-4e11-8348-7deea3fc1304",
   "metadata": {},
   "outputs": [],
   "source": [
    "from testme import cred_dump, authenticate, testme_1, testme_2\n",
    "\n"
   ]
  },
  {
   "cell_type": "markdown",
   "id": "bfbe5230-c1f1-4de4-921c-91c2d6a9b03b",
   "metadata": {},
   "source": [
    "That does it for loops! On to (my favorite topic) functions!"
   ]
  }
 ],
 "metadata": {
  "kernelspec": {
   "display_name": "Python 3 (ipykernel)",
   "language": "python",
   "name": "python3"
  },
  "language_info": {
   "codemirror_mode": {
    "name": "ipython",
    "version": 3
   },
   "file_extension": ".py",
   "mimetype": "text/x-python",
   "name": "python",
   "nbconvert_exporter": "python",
   "pygments_lexer": "ipython3",
   "version": "3.8.10"
  }
 },
 "nbformat": 4,
 "nbformat_minor": 5
}
