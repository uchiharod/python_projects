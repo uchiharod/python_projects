{
 "cells": [
  {
   "cell_type": "markdown",
   "id": "d990c0f4-da9a-4643-9e66-34100343a2b5",
   "metadata": {},
   "source": [
    "# 1-10: Classes\n",
    "\n",
    "Python is what's known as an **Object-Oriented** language. When we work with Python code, we deal with structures meant to usefully describe our data with characteristics and capabilities that make data easier to reason about.\n",
    "\n",
    "Computers don't know anything. At the very base, a computer is only good at detecting the presence or absence of electicity. Everything else is just layers of abstraction above that. But that's not how people think about the universe, and modern programming languages have concepts that seek to more closely align computer mechanics with human thought. That's what objects are.\n",
    "\n",
    "Think of a kind of object. Let's take a car, for example. What makes a car a car?\n",
    "\n",
    "**A Meditation on Carness**\n",
    "\n",
    "* Has 4 wheels\n",
    "* Was built in a year\n",
    "* Was built by a company\n",
    "* Has a model name\n",
    "* Has a top speed, probably\n",
    "* Can move\n",
    "\n",
    "Most, if not all, cars are going to have these characteristics. If we wanted to define cars in Python, we would start by creating a car **Class**. \n",
    "\n",
    "Classes are blueprints for objects in Python. Any given individual object, like a specific car, would be an **instance** of the class.\n",
    "\n",
    "Classes are incredibly useful for structuring data, but making them takes some getting used to."
   ]
  },
  {
   "cell_type": "markdown",
   "id": "173a1094-2d49-4f13-ac51-be0b0aeebe8b",
   "metadata": {},
   "source": [
    "## Syntax\n",
    "\n",
    "To create a class, we use the `class` keyword followed by the class name. Convention dictates these names are capitalized. Like so:\n",
    "\n",
    "```python\n",
    "class Car:\n",
    "    # do stuff\n",
    "```\n",
    "\n",
    "But that's not all. To _really_ make a class, we need to give it a special function known as a **constructor**. This is the function that will take in arguments and produce an **instance** of the class. In Python, the constructor function is `__init__()`. Yes, those are 2 underscores on either side of `init`. This pattern is common in Python and sometimes referred to as \"dunders,\" short for \"double underscores.\"\n",
    "\n",
    "But that's not all! `__init__()` also _must_ take a special argument as its first: `self`. This argument refers to the object being created, and you have to provide it to the constructor in order for it to work.\n",
    "\n",
    "```python\n",
    "class Car:\n",
    "    \n",
    "    def __init__(self):\n",
    "        pass\n",
    "```\n",
    "\n",
    "The constructor is commonly where we assign **properties** to an object. \n",
    "\n",
    "Wait, what?"
   ]
  },
  {
   "cell_type": "markdown",
   "id": "380a1c24-ae05-4a4c-9591-3a7067a4f4e1",
   "metadata": {},
   "source": [
    "## Properties\n",
    "\n",
    "Properties are a class's characteristics—things that describe object or instance of a class. These are a little different from **methods**, which we'll cover shortly. Properties are single values. To demonstrate properties, let's finally make a real-deal `Car` class."
   ]
  },
  {
   "cell_type": "code",
   "execution_count": 1,
   "id": "c086e61a-055a-492c-867e-57cbe195723f",
   "metadata": {},
   "outputs": [],
   "source": [
    "# Our first class! How exciting!\n",
    "class Car:\n",
    "    \n",
    "    def __init__(self, year, make, model, top_speed):\n",
    "        self.year = year\n",
    "        self.make = make\n",
    "        self.model = model\n",
    "        self.top_speed = top_speed        "
   ]
  },
  {
   "cell_type": "markdown",
   "id": "95a8abab-54ab-4381-a3fd-c7a3bdef8585",
   "metadata": {},
   "source": [
    "So in addition to the built-in `self` argument, our constructor takes 4 other args which will define `Car`s for us. The constructor takes those function args and assigns them to the newly-created object directly, creating our properties. \n",
    "\n",
    "**Note:** This is not the _best_ way to make properties, but it's good enough for now.\n",
    "\n",
    "With a `Car` class defined, let's make some instances of it!\n",
    "\n",
    "![kitt](https://i.pinimg.com/originals/49/50/73/495073b26b5f1bc1f697476ef6c7f9e8.gif) ![ecto1](https://i.pinimg.com/originals/32/1e/b5/321eb5a58314aa1b48a99a1b4e964129.gif)"
   ]
  },
  {
   "cell_type": "code",
   "execution_count": 2,
   "id": "629f8fc7-e58a-48d3-a61a-1ca8730b70b5",
   "metadata": {},
   "outputs": [],
   "source": [
    "# If we're gonna make cars, we're gonna make awesome cars\n",
    "kitt = Car(1982, \"Pontiac\", \"Firebird\", 124)\n",
    "\n",
    "ecto = Car(1959, \"Cadillac\", \"Professional Chassis\", 75)"
   ]
  },
  {
   "cell_type": "markdown",
   "id": "6c2a3ca8-9ca6-43ba-a039-10a4c664f642",
   "metadata": {},
   "source": [
    "Okay, so we've made Kitt and the Ecto, but what now? What happens when we try to display them?"
   ]
  },
  {
   "cell_type": "code",
   "execution_count": 3,
   "id": "ad64f55b-d056-4cef-908a-93e03e436b74",
   "metadata": {},
   "outputs": [
    {
     "name": "stdout",
     "output_type": "stream",
     "text": [
      "<__main__.Car object at 0x7fc8cc4787f0>\n"
     ]
    }
   ],
   "source": [
    "print(kitt)"
   ]
  },
  {
   "cell_type": "code",
   "execution_count": 4,
   "id": "3a243ad0-2111-44ee-a234-f9d58c033391",
   "metadata": {},
   "outputs": [
    {
     "name": "stdout",
     "output_type": "stream",
     "text": [
      "<__main__.Car object at 0x7fc8cc478fd0>\n"
     ]
    }
   ],
   "source": [
    "print(ecto)"
   ]
  },
  {
   "cell_type": "markdown",
   "id": "2e8e129a-e37a-4139-9cac-0aeeda3abeff",
   "metadata": {},
   "source": [
    "Uhhh, that's not so helpful. We didn't give Python an ideas about how to display our new `Car` objects, so it defaults to showing us the Class and the object's address in memory. Can we?\n",
    "\n",
    "You betcha.\n",
    "\n",
    "To do so, we need to take advantage of what `print()` actually does in the background. \n",
    "\n",
    "Back to the dunders! It turns out that every built-in Python object also has a built-in `__str__()` method that returns a string representation of the object. That's what `print()` is accessing.\n",
    "\n",
    "Don't believe me? Watch this:"
   ]
  },
  {
   "cell_type": "code",
   "execution_count": 5,
   "id": "68bc7589-21d7-4bfb-af63-17c764007fca",
   "metadata": {},
   "outputs": [
    {
     "data": {
      "text/plain": [
       "'3.14'"
      ]
     },
     "execution_count": 5,
     "metadata": {},
     "output_type": "execute_result"
    }
   ],
   "source": [
    "# Floats have...methods???\n",
    "3.14.__str__()"
   ]
  },
  {
   "cell_type": "markdown",
   "id": "71845433-b2c3-4982-aa5e-3d747f2cd42f",
   "metadata": {},
   "source": [
    "And so, if we provide a method with that name in our class, Python will know what to do. Let's rebuild the `Car` class with this in mind:"
   ]
  },
  {
   "cell_type": "code",
   "execution_count": 6,
   "id": "25d1a325-8787-413e-aac0-edf98d838ba7",
   "metadata": {},
   "outputs": [],
   "source": [
    "# Our first class! How exciting!\n",
    "class Car:\n",
    "    \n",
    "    def __init__(self, year, make, model, top_speed):\n",
    "        self.year = year\n",
    "        self.make = make\n",
    "        self.model = model\n",
    "        self.top_speed = top_speed \n",
    "        \n",
    "    # All object methods must take self as an arg\n",
    "    def __str__(self):\n",
    "        return f\"I am a {self.year} {self.make} {self.model} that can go up to {self.top_speed} mph.\"\n",
    "    \n",
    "# Let's also reinstantiate our cars\n",
    "kitt = Car(1982, \"Pontiac\", \"Firebird\", 124)\n",
    "\n",
    "ecto = Car(1959, \"Cadillac\", \"Professional Chassis\", 75)"
   ]
  },
  {
   "cell_type": "code",
   "execution_count": 7,
   "id": "5493385c-2f1e-4ff9-b755-d51bc6edea22",
   "metadata": {},
   "outputs": [
    {
     "name": "stdout",
     "output_type": "stream",
     "text": [
      "I am a 1982 Pontiac Firebird that can go up to 124 mph.\n",
      "I am a 1959 Cadillac Professional Chassis that can go up to 75 mph.\n"
     ]
    }
   ],
   "source": [
    "# And now, let's see 'em.\n",
    "print(kitt)\n",
    "print(ecto)"
   ]
  },
  {
   "cell_type": "markdown",
   "id": "cab92de0-fdf4-48ae-8e90-b2c4ec5dce71",
   "metadata": {},
   "source": [
    "## Methods\n",
    "\n",
    "**Methods**, which we've already kinda seen with `__str__()`, are things that an object can _do_. I like to think of properties and classes like stats and abilities for an RPG character.\n",
    "\n",
    "Methods are functions attached to an object. That means each instance of the object will have that function available. Let's once more rebuild our `Car` class, but this time, give it some more functionality.\n",
    "\n",
    "To do this, we'll add a `current_speed` property, and a `gas()` and `brake()` method, which will increase or decrease the speed, respectively.\n",
    "\n",
    "For `gas()`, we'll use a built-in constant of `10` for our acceleration rate to make it easy. But we will have to make sure we don't exceed the car's `top_speed`. And for `brake()`, we'll have to make sure we don't decrease below `0`!"
   ]
  },
  {
   "cell_type": "code",
   "execution_count": 8,
   "id": "6e2ac634-dbac-4f2c-b5fe-57c9840787c6",
   "metadata": {},
   "outputs": [],
   "source": [
    "# Adding real methods\n",
    "class Car:\n",
    "    \"\"\"\n",
    "    A simple car. Can accelerate and decelerate.\n",
    "    \n",
    "    Parameters\n",
    "    ----------\n",
    "    \n",
    "    year: int\n",
    "        Year the car was made\n",
    "    make: str\n",
    "        Manufacturer\n",
    "    model: str\n",
    "        Model name\n",
    "    top_speed: int\n",
    "        Top speed in miles per hour\n",
    "    \"\"\"\n",
    "    \n",
    "    \n",
    "    def __init__(self, year, make, model, top_speed):\n",
    "        self.year: int = year\n",
    "        self.make: str = make\n",
    "        self.model: str = model\n",
    "        self.top_speed: int = top_speed \n",
    "        self.current_speed: int = 0\n",
    "        \n",
    "    # All object methods must take self as an arg\n",
    "    def __str__(self):\n",
    "        return f\"I am a {self.year} {self.make} {self.model} that can go up to {self.top_speed} mph.\"\n",
    "    \n",
    "    def gas(self) -> int:\n",
    "        \"\"\"\n",
    "        Increases current speed safely.\n",
    "        \"\"\"\n",
    "        self.current_speed += 10\n",
    "        # Sanity check for top speed\n",
    "        if self.current_speed > self.top_speed:\n",
    "            self.current_speed = self.top_speed\n",
    "        return self.current_speed\n",
    "    \n",
    "    def brake(self) -> int:\n",
    "        \"\"\"\n",
    "        Decreases current speed safely\n",
    "        \"\"\"\n",
    "        self.current_speed -= 10\n",
    "        if self.current_speed < 0:\n",
    "            self.current_speed = 0\n",
    "        return self.current_speed\n",
    "    \n",
    "# Let's also reinstantiate our cars\n",
    "kitt = Car(1982, \"Pontiac\", \"Firebird\", 124)\n",
    "\n",
    "ecto = Car(1959, \"Cadillac\", \"Professional Chassis\", 75)"
   ]
  },
  {
   "cell_type": "markdown",
   "id": "3025d93f-5923-47f5-b563-479d0c522c66",
   "metadata": {},
   "source": [
    "### Docstrings\n",
    "\n",
    "You might have noticed a new kind of comment in our methods and beneath our class definition. Triple-quoted comments in Python are multi-line. You can have them anywhere you like in code. But if you put them directly underneath a function definition or class definition, you have yourself a **docstring**. These explain how to use the class/function. The details on styling these comments are somewhat involved, and I encourage you to check out [this excellent guide from Pandas](https://pandas.pydata.org/docs/development/contributing_docstring.html).\n",
    "\n",
    "We can access this information at any time with the built-in `help()` function. But in Jupyter, we can also use the `?` shortcut."
   ]
  },
  {
   "cell_type": "code",
   "execution_count": 9,
   "id": "7d56ee27-456a-48c1-99ce-63f176ae0d91",
   "metadata": {},
   "outputs": [
    {
     "name": "stdout",
     "output_type": "stream",
     "text": [
      "Help on class Car in module __main__:\n",
      "\n",
      "class Car(builtins.object)\n",
      " |  Car(year, make, model, top_speed)\n",
      " |  \n",
      " |  A simple car. Can accelerate and decelerate.\n",
      " |  \n",
      " |  Parameters\n",
      " |  ----------\n",
      " |  \n",
      " |  year: int\n",
      " |      Year the car was made\n",
      " |  make: str\n",
      " |      Manufacturer\n",
      " |  model: str\n",
      " |      Model name\n",
      " |  top_speed: int\n",
      " |      Top speed in miles per hour\n",
      " |  \n",
      " |  Methods defined here:\n",
      " |  \n",
      " |  __init__(self, year, make, model, top_speed)\n",
      " |      Initialize self.  See help(type(self)) for accurate signature.\n",
      " |  \n",
      " |  __str__(self)\n",
      " |      Return str(self).\n",
      " |  \n",
      " |  brake(self) -> int\n",
      " |      Decreases current speed safely\n",
      " |  \n",
      " |  gas(self) -> int\n",
      " |      Increases current speed safely.\n",
      " |  \n",
      " |  ----------------------------------------------------------------------\n",
      " |  Data descriptors defined here:\n",
      " |  \n",
      " |  __dict__\n",
      " |      dictionary for instance variables (if defined)\n",
      " |  \n",
      " |  __weakref__\n",
      " |      list of weak references to the object (if defined)\n",
      "\n"
     ]
    }
   ],
   "source": [
    "# Get help for the car\n",
    "help(Car)"
   ]
  },
  {
   "cell_type": "code",
   "execution_count": 10,
   "id": "2b5115d3-ff4d-4177-ac00-d2b40e9342e6",
   "metadata": {},
   "outputs": [
    {
     "data": {
      "text/plain": [
       "\u001b[0;31mInit signature:\u001b[0m \u001b[0mCar\u001b[0m\u001b[0;34m(\u001b[0m\u001b[0myear\u001b[0m\u001b[0;34m,\u001b[0m \u001b[0mmake\u001b[0m\u001b[0;34m,\u001b[0m \u001b[0mmodel\u001b[0m\u001b[0;34m,\u001b[0m \u001b[0mtop_speed\u001b[0m\u001b[0;34m)\u001b[0m\u001b[0;34m\u001b[0m\u001b[0;34m\u001b[0m\u001b[0m\n",
       "\u001b[0;31mDocstring:\u001b[0m     \n",
       "A simple car. Can accelerate and decelerate.\n",
       "\n",
       "Parameters\n",
       "----------\n",
       "\n",
       "year: int\n",
       "    Year the car was made\n",
       "make: str\n",
       "    Manufacturer\n",
       "model: str\n",
       "    Model name\n",
       "top_speed: int\n",
       "    Top speed in miles per hour\n",
       "\u001b[0;31mType:\u001b[0m           type\n",
       "\u001b[0;31mSubclasses:\u001b[0m     \n"
      ]
     },
     "metadata": {},
     "output_type": "display_data"
    }
   ],
   "source": [
    "# Jupyer style\n",
    "Car?"
   ]
  },
  {
   "cell_type": "code",
   "execution_count": 11,
   "id": "15d22997-5dbb-487b-93fb-bb27c6228bae",
   "metadata": {},
   "outputs": [
    {
     "data": {
      "text/plain": [
       "\u001b[0;31mSignature:\u001b[0m \u001b[0mecto\u001b[0m\u001b[0;34m.\u001b[0m\u001b[0mgas\u001b[0m\u001b[0;34m(\u001b[0m\u001b[0;34m)\u001b[0m \u001b[0;34m->\u001b[0m \u001b[0mint\u001b[0m\u001b[0;34m\u001b[0m\u001b[0;34m\u001b[0m\u001b[0m\n",
       "\u001b[0;31mDocstring:\u001b[0m Increases current speed safely.\n",
       "\u001b[0;31mFile:\u001b[0m      /tmp/ipykernel_6767/4174123333.py\n",
       "\u001b[0;31mType:\u001b[0m      method\n"
      ]
     },
     "metadata": {},
     "output_type": "display_data"
    }
   ],
   "source": [
    "# And for specific methods\n",
    "ecto.gas?"
   ]
  },
  {
   "cell_type": "markdown",
   "id": "a9c29f7e-10ba-4d84-81f2-a65f9d429327",
   "metadata": {},
   "source": [
    "Okay with the docstrings sorted, let's actually use our new methods!"
   ]
  },
  {
   "cell_type": "code",
   "execution_count": 12,
   "id": "dde06543-de74-4103-8250-f8c39ad940f1",
   "metadata": {},
   "outputs": [
    {
     "name": "stdout",
     "output_type": "stream",
     "text": [
      "GO!\n",
      "Ecto: 10 | Kitt: 10\n",
      "Ecto: 20 | Kitt: 20\n",
      "Ecto: 30 | Kitt: 30\n",
      "Ecto: 40 | Kitt: 40\n",
      "Ecto: 50 | Kitt: 50\n",
      "Ecto: 60 | Kitt: 60\n",
      "Ecto: 70 | Kitt: 70\n",
      "Ecto: 75 | Kitt: 80\n",
      "Ecto: 75 | Kitt: 90\n",
      "Ecto: 75 | Kitt: 100\n",
      "Ecto: 75 | Kitt: 110\n",
      "Ecto: 75 | Kitt: 120\n",
      "Ecto: 75 | Kitt: 124\n",
      "STOP!\n",
      "Ecto: 65 | Kitt: 114\n",
      "Ecto: 55 | Kitt: 104\n",
      "Ecto: 45 | Kitt: 94\n",
      "Ecto: 35 | Kitt: 84\n",
      "Ecto: 25 | Kitt: 74\n",
      "Ecto: 15 | Kitt: 64\n",
      "Ecto: 5 | Kitt: 54\n",
      "Ecto: 0 | Kitt: 44\n",
      "Ecto: 0 | Kitt: 34\n",
      "Ecto: 0 | Kitt: 24\n",
      "Ecto: 0 | Kitt: 14\n",
      "Ecto: 0 | Kitt: 4\n",
      "Ecto: 0 | Kitt: 0\n"
     ]
    }
   ],
   "source": [
    "# Set speed for replays\n",
    "ecto.current_speed = 0\n",
    "kitt.current_speed = 0\n",
    "\n",
    "# Accelerate both cars and see what happens\n",
    "print(\"GO!\")\n",
    "for i in range(13):\n",
    "    ecto.gas()\n",
    "    kitt.gas()\n",
    "    print(f\"Ecto: {ecto.current_speed} | Kitt: {kitt.current_speed}\")\n",
    "    \n",
    "# And decelerate\n",
    "print(\"STOP!\")\n",
    "for i in range(13):\n",
    "    ecto.brake()\n",
    "    kitt.brake()\n",
    "    print(f\"Ecto: {ecto.current_speed} | Kitt: {kitt.current_speed}\")\n",
    "    "
   ]
  },
  {
   "cell_type": "markdown",
   "id": "7d86387c-a93b-4c0a-a133-de9c330df963",
   "metadata": {},
   "source": [
    "### Extra Credit!\n",
    "\n",
    "If you're so inclined, modify the `Car` class to include an `accel_rate` and `decel_rate` property, and then make the `gas()` and `brake()` methods reference these properties. Then race your cars!"
   ]
  },
  {
   "cell_type": "markdown",
   "id": "e3797a65-da8c-48ab-9e0d-09e87f3d7387",
   "metadata": {},
   "source": [
    "## Inheritance\n",
    "\n",
    "Since objects are a way to represent how humans reason about the world, we should also think a little about hierarchies. A `Car`, for example, is a type of vehicle. We haven't made a `Vehicle` class, but if we did, `Car` migh well be a **subclass** of it. Python allows us to define super/sub classes and allow what's known as **inheritance**. Inheritance means subclasses can _inherit_ the properties/methods of their parents.\n",
    "\n",
    "To demonstrate this, let's bring this back to the realm of cyber defense with a useful class: `Indicator`s.\n",
    "\n",
    "Atomic Indicators of Compromise like domain names and IP addresses are not high-fidelity, but will be routinely available and worth using in many situations. To represent them in Python, we'll make a base `Indicator` class, then 3 subclasses for `IPv4Indicator`, `URLIndicator`, and `DomainIndicator`. We'll also create a `defang()` method that may be handy for safely passing indicators around to teammates and documentation.\n",
    "\n",
    "To start, let's build the base class."
   ]
  },
  {
   "cell_type": "code",
   "execution_count": 13,
   "id": "b8377a80-0fc8-44ef-aa8f-74bf72f9e981",
   "metadata": {},
   "outputs": [],
   "source": [
    "class Indicator:\n",
    "    \"\"\"\n",
    "    Atomic Indicators of Compromise.\n",
    "    \n",
    "    Parameters\n",
    "    ----------\n",
    "    \n",
    "    value: str\n",
    "        Value of indicator\n",
    "    \"\"\"\n",
    "    \n",
    "    def __init__(self, value):\n",
    "        self.value: str = value\n",
    "        \n",
    "    def defang(self) -> str:\n",
    "        \"\"\"\n",
    "        Defangs the indicator\n",
    "        \n",
    "        Implemented in subclasses\n",
    "        \"\"\"\n",
    "        pass"
   ]
  },
  {
   "cell_type": "markdown",
   "id": "3ca37f4f-4eb9-4560-aebc-8c0e9ae29b1a",
   "metadata": {},
   "source": [
    "Not a lot going on, but it's a start. Now let's build one of our subclasses.\n",
    "\n",
    "To properly inherit, not only will we need to add something to our `class` line, but we'll also need to take advantage of the built-in `super()` function, which returns the parent class. From there, we can access it's `__init__()` constructor and pass in our own constructor's arguments to inherit properties without reinventing them."
   ]
  },
  {
   "cell_type": "code",
   "execution_count": 14,
   "id": "3304fc69-8b15-4ac3-ad59-2f78a3a14ef5",
   "metadata": {},
   "outputs": [],
   "source": [
    "# Notice the parens? Parens for Parents!\n",
    "class IPv4Indicator(Indicator):\n",
    "    \n",
    "    def __init__(self, value):\n",
    "        # Instantiate parent properties/methods\n",
    "        super().__init__(value)\n",
    "        \n",
    "    # Overwrite the `defang()` method for our purposes\n",
    "    def defang(self) -> str:\n",
    "        \"\"\"\n",
    "        Defangs the indicator\n",
    "        \n",
    "        Brackets the dots\n",
    "        \"\"\"\n",
    "        return self.value.replace(\".\", \"[.]\")"
   ]
  },
  {
   "cell_type": "code",
   "execution_count": 15,
   "id": "4340a84d-15b6-43a2-a3a1-18a0a761848c",
   "metadata": {},
   "outputs": [
    {
     "data": {
      "text/plain": [
       "'192[.]168[.]1[.]11'"
      ]
     },
     "execution_count": 15,
     "metadata": {},
     "output_type": "execute_result"
    }
   ],
   "source": [
    "# Make a bad IP and defang it\n",
    "bad_ip = IPv4Indicator(\"192.168.1.11\")\n",
    "bad_ip.defang()"
   ]
  },
  {
   "cell_type": "markdown",
   "id": "c8b72f1e-f2e6-4bed-9fe8-57b7b8058892",
   "metadata": {},
   "source": [
    "Let's do one more together, then it's up to you. We'll do `DomainIndicator`."
   ]
  },
  {
   "cell_type": "code",
   "execution_count": 16,
   "id": "dbf6e178-98bd-4e6c-a487-f19b41b9e86a",
   "metadata": {},
   "outputs": [],
   "source": [
    "# Notice the parens? Parens for Parents!\n",
    "class DomainIndicator(Indicator):\n",
    "    \n",
    "    def __init__(self, value):\n",
    "        # Instantiate parent properties/methods\n",
    "        super().__init__(value)\n",
    "        \n",
    "    # Overwrite the `defang()` method for our purposes\n",
    "    def defang(self) -> str:\n",
    "        \"\"\"\n",
    "        Defangs the indicator\n",
    "        \n",
    "        Brackets the dots\n",
    "        \"\"\"\n",
    "        return self.value.replace(\".\", \"[.]\")"
   ]
  },
  {
   "cell_type": "code",
   "execution_count": 17,
   "id": "2a2f2ab1-a395-461a-b01b-c8ddd2d5fa8f",
   "metadata": {},
   "outputs": [
    {
     "data": {
      "text/plain": [
       "'evil[.]online'"
      ]
     },
     "execution_count": 17,
     "metadata": {},
     "output_type": "execute_result"
    }
   ],
   "source": [
    "# Make a bad IP and defang it\n",
    "bad_domain = DomainIndicator(\"evil.online\")\n",
    "bad_domain.defang()"
   ]
  },
  {
   "cell_type": "markdown",
   "id": "22d4bb06-b6db-40e8-8aba-f0c348186719",
   "metadata": {},
   "source": [
    "## Check For Understanding\n",
    "\n",
    "Time to write a subclass!\n",
    "\n",
    "### Objectives\n",
    "\n",
    "1. Create a `URLIndicator` subclass of `Indicator`. This is for full URLs like `https://github.com/mttaggart/OffensiveNotion`.\n",
    "2. Modify the `defang()` method to not just bracket dots, but replace `http` with `hxxp` in the URL scheme.\n",
    "3. Create an `evil_url` object that's an instance of your new `URLIndicator` class.\n",
    "4. Send the `evil_url` to `testme()`."
   ]
  },
  {
   "cell_type": "code",
   "execution_count": null,
   "id": "22b4d80e-c44b-462d-b03a-5f3f1981d281",
   "metadata": {},
   "outputs": [],
   "source": [
    "# Don't delete this!\n",
    "from testme import *\n",
    "\n",
    "# Create a URLIndicator subclass of Indicator\n",
    "class ______(_____):\n",
    "    \n",
    "    # Modify the defang() method to not just bracket dots, but replace http with hxxp in the URL scheme.\n",
    "    pass\n",
    "\n",
    "evil_url = ____()\n",
    "\n",
    "# Send the evil_url to testme(). Leave the other args alone.\n",
    "testme(___, Indicator, URLIndicator)"
   ]
  }
 ],
 "metadata": {
  "kernelspec": {
   "display_name": "Python 3 (ipykernel)",
   "language": "python",
   "name": "python3"
  },
  "language_info": {
   "codemirror_mode": {
    "name": "ipython",
    "version": 3
   },
   "file_extension": ".py",
   "mimetype": "text/x-python",
   "name": "python",
   "nbconvert_exporter": "python",
   "pygments_lexer": "ipython3",
   "version": "3.8.10"
  }
 },
 "nbformat": 4,
 "nbformat_minor": 5
}
