{
 "cells": [
  {
   "cell_type": "markdown",
   "id": "c6f026be-90fd-4189-8c6b-53e3ed2eebac",
   "metadata": {},
   "source": [
    "# 1-4: Strings\n",
    "\n",
    "Now this data type we've already seen, but there's a lot more to text data in Python than meets the eye!\n",
    "\n",
    "Strings are always inside quotes—single or double are fine, but be consistent. I prefer double quotes.\n",
    "\n",
    "## Sequences\n",
    "\n",
    "Strings are also our first data type that's a **sequence**. Sequences in Python are collections of elements. As we'll see later, sequences can be used in **loops** for repeated operations. But also, sequences are **indexable**. That means we can access specific elements of the sequence by select its **index**, or \"address\" in the sequence. We use square brackets `[]` to select an index."
   ]
  },
  {
   "cell_type": "code",
   "execution_count": 11,
   "id": "a4ce5ffe-d160-49a7-ab9e-8715135aff9a",
   "metadata": {},
   "outputs": [
    {
     "data": {
      "text/plain": [
       "'w'"
      ]
     },
     "execution_count": 11,
     "metadata": {},
     "output_type": "execute_result"
    }
   ],
   "source": [
    "# Assigning a string to a variable\n",
    "foo: str = \"Fhqwgads\"\n",
    "\n",
    "# Accessing a character in the string\n",
    "foo[3]"
   ]
  },
  {
   "cell_type": "code",
   "execution_count": 8,
   "id": "2da8990a-6e29-4f58-9157-1a1c0495fed5",
   "metadata": {},
   "outputs": [
    {
     "data": {
      "text/plain": [
       "'F'"
      ]
     },
     "execution_count": 8,
     "metadata": {},
     "output_type": "execute_result"
    }
   ],
   "source": [
    "# Indices start at 0!\n",
    "foo[0]"
   ]
  },
  {
   "cell_type": "code",
   "execution_count": 10,
   "id": "9b722550-543c-418e-a81b-96add1e57bf6",
   "metadata": {},
   "outputs": [
    {
     "data": {
      "text/plain": [
       "'s'"
      ]
     },
     "execution_count": 10,
     "metadata": {},
     "output_type": "execute_result"
    }
   ],
   "source": [
    "# Indices can go backwards!\n",
    "foo[-1]\n",
    "# This is really handy for getting the last element of a sequence"
   ]
  },
  {
   "cell_type": "markdown",
   "id": "30c8aa42-fe0e-44a9-b629-6ef61212211f",
   "metadata": {},
   "source": [
    "## Slicing\n",
    "\n",
    "But wait, there's more! Not only can we index strings, we can **slice** them with those brackets as well. Here's the structure of the slicing syntax:\n",
    "\n",
    "```python\n",
    "string[start_index : end_index : step_interval]\n",
    "```\n",
    "\n",
    "I know that's a little confusing, so let's try it piece by piece.\n",
    "\n",
    "To start, we can take a slice of a string by specifying the starting index of the slice and the end. The start is inclusive, and the end is exclusive. That meanins the slice will include _up to_, but not including, the end index."
   ]
  },
  {
   "cell_type": "code",
   "execution_count": 5,
   "id": "37d7cf66-8d27-4e5c-8b4f-221205636df5",
   "metadata": {},
   "outputs": [
    {
     "data": {
      "text/plain": [
       "'qwgad'"
      ]
     },
     "execution_count": 5,
     "metadata": {},
     "output_type": "execute_result"
    }
   ],
   "source": [
    "# Slicing foo\n",
    "foo[2:7]"
   ]
  },
  {
   "cell_type": "markdown",
   "id": "593f1419-a324-4afb-ba8d-aa170e724e57",
   "metadata": {},
   "source": [
    "Notice that the slice started at the third letter of \"Fhqwgads,\" which is index `2` since we start at `0`. The slice is 5 characters long, ending on the seventh letter (index `6`).\n",
    "\n",
    "Now we can talk about the `step_interval`, which placed after the second colon in the brackets—when we need it.\n",
    "\n",
    "The step interval allows \"skip counting,\" like taking every third element. We can also use a negative interval for quick reversing.\n",
    "\n",
    "We can use the step interval without specifying the other values. That would look like empty colons : `[::4]` takes every 4th element from the entire string."
   ]
  },
  {
   "cell_type": "code",
   "execution_count": 12,
   "id": "32a5e787-773f-46a9-905f-3fbed83a536a",
   "metadata": {},
   "outputs": [
    {
     "data": {
      "text/plain": [
       "'acegikmoqsuwy'"
      ]
     },
     "execution_count": 12,
     "metadata": {},
     "output_type": "execute_result"
    }
   ],
   "source": [
    "# New string!\n",
    "alphabet: str = \"abcdefghijklmnopqrstuvwxyz\"\n",
    "\n",
    "# Every other letter\n",
    "alphabet[::2]"
   ]
  },
  {
   "cell_type": "code",
   "execution_count": 17,
   "id": "3f8e542c-aecc-440a-99dd-c20cda83477d",
   "metadata": {},
   "outputs": [
    {
     "data": {
      "text/plain": [
       "'fhjlnprt'"
      ]
     },
     "execution_count": 17,
     "metadata": {},
     "output_type": "execute_result"
    }
   ],
   "source": [
    "# 6th to 20th elements, taking every other\n",
    "alphabet[5:20:2]"
   ]
  },
  {
   "cell_type": "markdown",
   "id": "f56feafb-fac3-448b-ae2e-6004be9341fb",
   "metadata": {},
   "source": [
    "## Creating Strings from Other Strings\n",
    "\n",
    "We've already seen that we can use `+` to combine, or **concatenate** strings. It's important to note that we can also use the `+=` syntax to add onto an existing string stored in a variable."
   ]
  },
  {
   "cell_type": "code",
   "execution_count": 20,
   "id": "d40b5718-4431-4cae-bdb7-791d8c51221e",
   "metadata": {},
   "outputs": [
    {
     "data": {
      "text/plain": [
       "'Everybody to the limit'"
      ]
     },
     "execution_count": 20,
     "metadata": {},
     "output_type": "execute_result"
    }
   ],
   "source": [
    "# Using += to add onto a string variable\n",
    "bar: str = \"Everybody to the\"\n",
    "bar += \" limit\"\n",
    "bar"
   ]
  },
  {
   "cell_type": "markdown",
   "id": "d2a10618-b67f-4cd5-b2b5-3df8e3790c64",
   "metadata": {},
   "source": [
    "### Format Strings\n",
    "\n",
    "It'll often be the case that we need to embed data within strings. Format strings make this simple.\n",
    "\n",
    "Making format strings is simple too. There are multiple ways to do it, but th cleanest way is to prepend the string wtih an `f'`. Then we can insert values from our code in the string surrounded by `{}`."
   ]
  },
  {
   "cell_type": "code",
   "execution_count": 23,
   "id": "0f63c4df-cb0c-4e30-9722-e9d8de71c29c",
   "metadata": {},
   "outputs": [
    {
     "data": {
      "text/plain": [
       "'X is 5. Y is 7.3.'"
      ]
     },
     "execution_count": 23,
     "metadata": {},
     "output_type": "execute_result"
    }
   ],
   "source": [
    "x: int = 5\n",
    "y: float = 7.3\n",
    "res: str = f\"X is {x}. Y is {y}.\"\n",
    "res"
   ]
  },
  {
   "cell_type": "markdown",
   "id": "056f66cf-95aa-4f2c-bcb0-5fadff6d5467",
   "metadata": {
    "tags": []
   },
   "source": [
    "## Check for Understanding\n",
    "\n",
    "Okay, let's test your stringiness!\n",
    "\n",
    "### Objectives\n",
    "\n",
    "1. Reverse the string `foo` and send it to `testme_1()`\n",
    "2. Take everything but the first and last characters from the string `bar` and send it to `testme_2()`\n",
    "3. Create a format string `baz` that reads `\"The values x and y are _ and _\"`, with the undercores being replaced by `x` and `y`, respectively."
   ]
  },
  {
   "cell_type": "code",
   "execution_count": null,
   "id": "1a17858b-a04f-40cd-be44-904c2045d4fd",
   "metadata": {},
   "outputs": [],
   "source": [
    "from testme import *\n",
    "\n",
    "# Reverse the string `foo` and send it to `testme_1()`\n",
    "foo: str = \"I should be backwards!\"\n",
    "testme_1(_)\n",
    "\n",
    "# Take everything but the first and last characters from the string `bar` and send it to `testme_2()`\n",
    "bar: str = \"whipporwhill\"\n",
    "testme_2(_)\n",
    "\n",
    "# Create a format string `baz` that reads `\"The values x and y are _ and _\"`, \n",
    "# with the undercores being replaced by `x` and `y`, respectively.\n",
    "x: int = 77\n",
    "y: int = 28\n",
    "baz: str = \"\"\n",
    "testme_3(baz)"
   ]
  }
 ],
 "metadata": {
  "kernelspec": {
   "display_name": "Python 3 (ipykernel)",
   "language": "python",
   "name": "python3"
  },
  "language_info": {
   "codemirror_mode": {
    "name": "ipython",
    "version": 3
   },
   "file_extension": ".py",
   "mimetype": "text/x-python",
   "name": "python",
   "nbconvert_exporter": "python",
   "pygments_lexer": "ipython3",
   "version": "3.8.10"
  }
 },
 "nbformat": 4,
 "nbformat_minor": 5
}
