{
 "cells": [
  {
   "cell_type": "markdown",
   "id": "3c49a04c-0932-486d-b051-0adcaaba91d4",
   "metadata": {},
   "source": [
    "# 1-7: Conditionals\n",
    "\n",
    "Way back in 1-1, we covered the first of the **4 Fundamental Structures** of programming languages: variables. Then we went on a rather lengthy detour to discuss various data types. That was important base knowledge, but now we're ready to return to the 4 Structures with **Conditionals**.\n",
    "\n",
    "As we've seen, our programs and cells execute code instructions in order from top to bottom. But sometimes, we want to change it up depending on the situation. **Conditionals** allow us to test for particular circumstances and choose different code to execute depending on whether the test passes or fails. \n",
    "\n",
    "Conditionals are part of a class of structure known as **control flow**, and they're essential to writing code.\n",
    "\n",
    "The tests in a conditional are statements that can evaluate to `True` or `False` boolean values. Remember the comparisons we did back in 1-3? That's the shape of a conditional test.\n",
    "\n",
    "Let's write a basic conditional."
   ]
  },
  {
   "cell_type": "code",
   "execution_count": 1,
   "id": "69d914e7-6c03-44ed-b227-9bb76f7959b1",
   "metadata": {},
   "outputs": [
    {
     "name": "stdin",
     "output_type": "stream",
     "text": [
      "What's your name? Bob\n"
     ]
    },
    {
     "name": "stdout",
     "output_type": "stream",
     "text": [
      "Hey Bob! Good to see ya!\n"
     ]
    }
   ],
   "source": [
    "# A basic conditional\n",
    "name: str = input(\"What's your name?\")\n",
    "if name == \"Bob\":\n",
    "    print(\"Hey Bob! Good to see ya!\")\n",
    "else:\n",
    "    print(f\"Nice to meet you, {name}!\")"
   ]
  },
  {
   "cell_type": "markdown",
   "id": "a54a819b-bbee-4eb7-9f2d-112a47356b71",
   "metadata": {},
   "source": [
    "If you run that cell a couple times, using both the name `Bob` and any other name, you'll see that the result changes. The code in the `if` branch of the conditional will only execute _if_ the test is `True`. This test is a simple equivalence test, but there are other options.\n",
    "\n",
    "## Syntax\n",
    "\n",
    "Conditionals begin with an `if` statement which contains our test. After the test, a colon and any code that should run if the test passes is indented underneath.\n",
    "\n",
    "When we need something to happen when the test fails, we can use `else` to define those actions. Again the code for that case is indented beneath `else`.\n",
    "\n",
    "What about multiple possible conditions? We can handle many possibilities by using one or more `elif` (else if) tests in addition to our initial test."
   ]
  },
  {
   "cell_type": "code",
   "execution_count": 4,
   "id": "1ff51309-40c4-4aae-90bf-d91f29a6d918",
   "metadata": {},
   "outputs": [
    {
     "name": "stdin",
     "output_type": "stream",
     "text": [
      "Rock, paper, or scissors? rock\n"
     ]
    },
    {
     "name": "stdout",
     "output_type": "stream",
     "text": [
      "You chose 🪨!\n"
     ]
    }
   ],
   "source": [
    "# A simple elif tree\n",
    "choice: str = input(\"Rock, paper, or scissors?\")\n",
    "\n",
    "# Lower case the choice to normalize it\n",
    "choice = choice.lower()\n",
    "\n",
    "if choice == \"rock\":\n",
    "    print(\"You chose 🪨!\")\n",
    "elif choice == \"paper\":\n",
    "    print(\"You chose 📄!\")\n",
    "elif choice == \"scissors\":\n",
    "    print(\"You chose ✂!\")\n",
    "else:\n",
    "    print(\"That's not a choice!\")\n"
   ]
  },
  {
   "cell_type": "markdown",
   "id": "9db30034-050f-46f8-8689-0822dfdf697a",
   "metadata": {},
   "source": [
    "I love using Rock, Paper, Scissors as an example for this because it's so clear: there are 4 choices. R, P, S, or you tried to cheat. So that translates into an `if`, 2 `elif`s, and an `else` to cap it off. Also note that we kind of \"fail down\" the conditional tree. But we want to make sure we cover all possibilities before we get to the end of our conditional.\n",
    "\n",
    "But I think we can be a little more realistic than just RPS. Let's make a real conditional that serves our purpose."
   ]
  },
  {
   "cell_type": "markdown",
   "id": "7a56a457-e968-409b-986b-b9743f918f90",
   "metadata": {},
   "source": [
    "## Conditional Lab: Password Policy\n",
    "\n",
    "If you're here, you're probably invested in defensive cybersecurity. It's in the course title! For better or worse, some part of our lives as defenders concerns, yes, Compliance.\n",
    "\n",
    "And Compliance loves a password policy, oh yes they do. We all know the words; let's sing them together!\n",
    "\n",
    "🎵 Your password must be... 🎵\n",
    "\n",
    "🎵 Longer than eight characters 🎵\n",
    "\n",
    "🎵 But not just alphabetical 🎵\n",
    "\n",
    "🎵 Be sure to use a capital 🎵\n",
    "\n",
    "🎵 And digits would be radical 🎵\n",
    "\n",
    "🎵 And for that extra dash of strength 🎵\n",
    "\n",
    "🎵 Use symbols to extend the length 🎵\n",
    "\n",
    "🎵 If you follow these few simple rules 🎵\n",
    "\n",
    "🎵 Your password won't be guessed by fools 🎵\n",
    "\n",
    "🎵 And that's the password song!🎵\n",
    "\n"
   ]
  },
  {
   "cell_type": "markdown",
   "id": "b4734989-c70a-4c0e-8b38-a993b1a7e043",
   "metadata": {},
   "source": [
    "And now, let's build a conditional tree that tests it!"
   ]
  },
  {
   "cell_type": "code",
   "execution_count": 28,
   "id": "34a841fe-9a39-4a50-8cca-722a01752317",
   "metadata": {},
   "outputs": [
    {
     "name": "stdin",
     "output_type": "stream",
     "text": [
      "What's the password? Test12345!\n"
     ]
    }
   ],
   "source": [
    "# Get the password to test\n",
    "password: str = input(\"What's the password?\")"
   ]
  },
  {
   "cell_type": "markdown",
   "id": "11066219-8940-46c8-8f38-8ab65e27aae0",
   "metadata": {},
   "source": [
    "### Length Check\n",
    "\n",
    "The first check is for length. Python has a built-in `len()` function that will return the length of sequences, including strings. We can use that in our first test."
   ]
  },
  {
   "cell_type": "code",
   "execution_count": null,
   "id": "5efc47f5-26ab-4c98-883f-9dd61bed623f",
   "metadata": {},
   "outputs": [],
   "source": [
    "# Test for length\n",
    "min_length = 8\n",
    "if len(password) < min_length:\n",
    "    print(\"[-] Length check failed!\")"
   ]
  },
  {
   "cell_type": "markdown",
   "id": "7e7b7b0d-eddd-4900-9383-7e7aca28fd35",
   "metadata": {},
   "source": [
    "### Mixed-Case\n",
    "\n",
    "The second check is for mixed case (both upper and lower-case letters). For this, we can use the strings built-in `lower()` and `upper()` methods, which will lower-case or upper-case a given string, respectively. Our check can be whether the lower-cased version of the string matches the original `or` the upper case version matches. Either way, it's a fail."
   ]
  },
  {
   "cell_type": "code",
   "execution_count": 30,
   "id": "e0f5c266-b7ca-4db9-9c43-c0dc0a7e1a04",
   "metadata": {},
   "outputs": [],
   "source": [
    "# Use or to combine 2 checks\n",
    "if password.lower() == password or password.upper() == password:\n",
    "    print(\"[-] Mixed case check failed\")"
   ]
  },
  {
   "cell_type": "markdown",
   "id": "6587fd98-63d9-4f44-8057-a41fd2d811f6",
   "metadata": {},
   "source": [
    "### Digits\n",
    "\n",
    "We need to check for the presence of digits. Now, while Python strings have `isalpha()` and `isalnum()` methods, we can't just use those on our whole password and call it a day. For one thing, these tests will fail if we have special characters in there like we're supposed to. Rather, we need to check to make sure that at _at least one_ character is a digit.\n",
    "\n",
    "There's an efficient way to do this, but it requires a trick we haven't learned yet, so forgive the brief skip-ahead.\n",
    "\n",
    "Python has a built-in `any()` function that returns `True` if any element of the sequence you give it evaluates to `True`. Watch:\n"
   ]
  },
  {
   "cell_type": "code",
   "execution_count": 31,
   "id": "8b3bcc48-fa1a-43d2-9079-eb2750e02621",
   "metadata": {},
   "outputs": [
    {
     "data": {
      "text/plain": [
       "True"
      ]
     },
     "execution_count": 31,
     "metadata": {},
     "output_type": "execute_result"
    }
   ],
   "source": [
    "# Any with booleans\n",
    "any([False, False, False, True])"
   ]
  },
  {
   "cell_type": "code",
   "execution_count": 32,
   "id": "b849a7ce-98a7-4059-a4a2-9f916807e474",
   "metadata": {},
   "outputs": [
    {
     "data": {
      "text/plain": [
       "False"
      ]
     },
     "execution_count": 32,
     "metadata": {},
     "output_type": "execute_result"
    }
   ],
   "source": [
    "# Any with falsy values\n",
    "any([0, 0, 0])"
   ]
  },
  {
   "cell_type": "code",
   "execution_count": 33,
   "id": "43d6561a-c59f-471d-85a8-de641ed1e2a4",
   "metadata": {},
   "outputs": [
    {
     "data": {
      "text/plain": [
       "True"
      ]
     },
     "execution_count": 33,
     "metadata": {},
     "output_type": "execute_result"
    }
   ],
   "source": [
    "# Any with falsy and truthy values\n",
    "any([0, 0, 1])"
   ]
  },
  {
   "cell_type": "markdown",
   "id": "b2ce94e7-d3c0-4013-993b-7e0bb3ace51b",
   "metadata": {},
   "source": [
    "So what we need is a list of `True`/`False` values generated from the `password` string. We haven't yet covered repeated actions, so forgive the brief leap, but we'll use a **list comprehension** to apply `isdecimal()` to each character of `password`, and use `any()` on that list to determine if there are digits present.\n",
    "\n",
    "Since we're testing for their absence, we'll negate the `any()` with `not`."
   ]
  },
  {
   "cell_type": "code",
   "execution_count": 34,
   "id": "41ed8c75-b061-4fbc-a03f-1c4f595836ec",
   "metadata": {},
   "outputs": [],
   "source": [
    "if not any([c.isdecimal() for c in password]):\n",
    "    print(\"[-] Digit test failed\")"
   ]
  },
  {
   "cell_type": "markdown",
   "id": "ba76af47-187e-4e38-a09d-37fa37e4e773",
   "metadata": {},
   "source": [
    "### Symbols\n",
    "\n",
    "To seek symbols (naively), there's a much easier method we can use. `isalnum()` returns `True` if every character in the string is alphanumeric. This should fail if symbols are present. It's not perfect, but it'll do for now."
   ]
  },
  {
   "cell_type": "code",
   "execution_count": 36,
   "id": "dacd9696-ade3-415f-9782-d194c8189727",
   "metadata": {},
   "outputs": [],
   "source": [
    "if password.isalnum():\n",
    "    print(\"[-] Symbol test failed\")"
   ]
  },
  {
   "cell_type": "markdown",
   "id": "3b72fff1-a2ff-4182-8cfa-b78f02df9aa5",
   "metadata": {},
   "source": [
    "## Check for Understanding: Put it all together\n",
    "\n",
    "### Objectives\n",
    "\n",
    "You have on objective: Combine these checks into a single conditional! Don't forget we begin with `if`, have 0 or more `elifs`, and end with `else`."
   ]
  },
  {
   "cell_type": "code",
   "execution_count": 37,
   "id": "31c96e2c-cdd6-4fa0-8570-0df96035c7f1",
   "metadata": {},
   "outputs": [
    {
     "name": "stdin",
     "output_type": "stream",
     "text": [
      "What's the password? test123\n"
     ]
    }
   ],
   "source": [
    "# Get the password from the user\n",
    "password = input(\"What's the password?\")\n",
    "\n",
    "# Your conditions go here."
   ]
  }
 ],
 "metadata": {
  "kernelspec": {
   "display_name": "Python 3 (ipykernel)",
   "language": "python",
   "name": "python3"
  },
  "language_info": {
   "codemirror_mode": {
    "name": "ipython",
    "version": 3
   },
   "file_extension": ".py",
   "mimetype": "text/x-python",
   "name": "python",
   "nbconvert_exporter": "python",
   "pygments_lexer": "ipython3",
   "version": "3.8.10"
  }
 },
 "nbformat": 4,
 "nbformat_minor": 5
}
