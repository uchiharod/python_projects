{
 "cells": [
  {
   "cell_type": "markdown",
   "id": "97992163-cfba-49f1-91fe-2d8040fb66d6",
   "metadata": {},
   "source": [
    "# 1-2: Python Data Types - Numbers\n",
    "\n",
    "Before we can dive further into how to use Python, we have to grasp some basics about the language's data types. We've already seen one of them—strings—which we'll return to shortly. But for now, let's focus on numbers.\n",
    "\n",
    "## Numbers in Python\n",
    "\n",
    "Technically, numbers in Python come in two flavors: `int` and `float`. Check this out:"
   ]
  },
  {
   "cell_type": "code",
   "execution_count": 1,
   "id": "f6e4fd01-3df8-4b98-8491-c900e5bf05f9",
   "metadata": {},
   "outputs": [
    {
     "data": {
      "text/plain": [
       "int"
      ]
     },
     "execution_count": 1,
     "metadata": {},
     "output_type": "execute_result"
    }
   ],
   "source": [
    "# The type() function can tell us what data type a thing is\n",
    "type(3) "
   ]
  },
  {
   "cell_type": "code",
   "execution_count": 2,
   "id": "5a77ef8e-ba95-4c07-b28d-70ad7c88a41b",
   "metadata": {},
   "outputs": [
    {
     "data": {
      "text/plain": [
       "float"
      ]
     },
     "execution_count": 2,
     "metadata": {},
     "output_type": "execute_result"
    }
   ],
   "source": [
    "type(3.0)"
   ]
  },
  {
   "cell_type": "markdown",
   "id": "cba75f7e-f116-4299-927b-0962db9c0a94",
   "metadata": {},
   "source": [
    "As you might have guessed, `int`s are integers, or whole numbers. `float`s are numbers with decimals. But remember that computers have limits to their precision, to irrational numbers get a little...weird. Watch what happens when we divide 10 by 3."
   ]
  },
  {
   "cell_type": "code",
   "execution_count": 3,
   "id": "7b2be3f4-0630-4050-b3a0-c4739cff5248",
   "metadata": {},
   "outputs": [
    {
     "data": {
      "text/plain": [
       "3.3333333333333335"
      ]
     },
     "execution_count": 3,
     "metadata": {},
     "output_type": "execute_result"
    }
   ],
   "source": [
    "# / is the division operator\n",
    "irrational: float = 10 / 3\n",
    "irrational"
   ]
  },
  {
   "cell_type": "markdown",
   "id": "67717184-8326-4c87-b06d-2d7f17773a91",
   "metadata": {},
   "source": [
    "Whaaaat? Where'd that `5` come from?!\n",
    "\n",
    "Essentially when the `float` (short for floating point number) truncates and in so doing, the tail sort of rolls into that last digit. So be aware of your significant figures!\n",
    "\n",
    "You can round floats to whatever precision you like."
   ]
  },
  {
   "cell_type": "code",
   "execution_count": 4,
   "id": "4dec7b82-fa4d-401f-a114-52e4b3371416",
   "metadata": {},
   "outputs": [
    {
     "data": {
      "text/plain": [
       "3.333"
      ]
     },
     "execution_count": 4,
     "metadata": {},
     "output_type": "execute_result"
    }
   ],
   "source": [
    "# Round the result of the division to 3 decimal places\n",
    "rounded: float = round(10/3, 3)\n",
    "rounded"
   ]
  },
  {
   "cell_type": "markdown",
   "id": "63c8beb1-7124-43b2-b14e-a14ebba496de",
   "metadata": {},
   "source": [
    "Some other operations you might need:"
   ]
  },
  {
   "cell_type": "code",
   "execution_count": 5,
   "id": "8c121162-e4c5-4e93-bc05-4ea64333427e",
   "metadata": {},
   "outputs": [
    {
     "data": {
      "text/plain": [
       "10"
      ]
     },
     "execution_count": 5,
     "metadata": {},
     "output_type": "execute_result"
    }
   ],
   "source": [
    "# Addition\n",
    "added: int = 5 + 5\n",
    "added"
   ]
  },
  {
   "cell_type": "code",
   "execution_count": 6,
   "id": "7ea0d840-0e93-42b5-810e-52b99c39b2fd",
   "metadata": {},
   "outputs": [
    {
     "data": {
      "text/plain": [
       "-20"
      ]
     },
     "execution_count": 6,
     "metadata": {},
     "output_type": "execute_result"
    }
   ],
   "source": [
    "# Subtraction\n",
    "10 - 30"
   ]
  },
  {
   "cell_type": "code",
   "execution_count": 7,
   "id": "4af3b839-ce11-42a9-9b59-cb3ef3544058",
   "metadata": {},
   "outputs": [
    {
     "data": {
      "text/plain": [
       "50"
      ]
     },
     "execution_count": 7,
     "metadata": {},
     "output_type": "execute_result"
    }
   ],
   "source": [
    "# Multiplication\n",
    "5 * 10"
   ]
  },
  {
   "cell_type": "code",
   "execution_count": 8,
   "id": "b99bec1a-e330-4999-9d66-2b27365a3948",
   "metadata": {},
   "outputs": [
    {
     "data": {
      "text/plain": [
       "1000"
      ]
     },
     "execution_count": 8,
     "metadata": {},
     "output_type": "execute_result"
    }
   ],
   "source": [
    "# Exponentiation\n",
    "10 ** 3"
   ]
  },
  {
   "cell_type": "code",
   "execution_count": 9,
   "id": "b8af371b-f081-4a2e-afab-77ad2f2ed762",
   "metadata": {},
   "outputs": [
    {
     "data": {
      "text/plain": [
       "7.0"
      ]
     },
     "execution_count": 9,
     "metadata": {},
     "output_type": "execute_result"
    }
   ],
   "source": [
    "# Exponentiation can also do roots\n",
    "49 ** .5"
   ]
  },
  {
   "cell_type": "markdown",
   "id": "fe84f516-4991-47de-b042-4c0c8500241a",
   "metadata": {},
   "source": [
    "And finally, the last one may need a little more explanation. The **modulo** (`%`) operator returns the remainder of integer division. So `10 % 2` would be `0`, since that's a clean divide. But `10 % 7` would yield `3`.\n",
    "\n",
    "This is a common way to check for evenness/oddness. Moding a number by `2` will yield `0` for even numbers, and 1 for odd."
   ]
  },
  {
   "cell_type": "code",
   "execution_count": 10,
   "id": "743d3f1b-de2c-46f2-8ca2-cba8407f1c6b",
   "metadata": {},
   "outputs": [
    {
     "data": {
      "text/plain": [
       "0"
      ]
     },
     "execution_count": 10,
     "metadata": {},
     "output_type": "execute_result"
    }
   ],
   "source": [
    "10 % 2"
   ]
  },
  {
   "cell_type": "code",
   "execution_count": 11,
   "id": "33b1fd81-daa1-432e-b50c-92e38a530b55",
   "metadata": {},
   "outputs": [
    {
     "data": {
      "text/plain": [
       "1"
      ]
     },
     "execution_count": 11,
     "metadata": {},
     "output_type": "execute_result"
    }
   ],
   "source": [
    "11 % 2"
   ]
  },
  {
   "cell_type": "markdown",
   "id": "9a2f0396-82a6-4c27-9e79-452955e3ef69",
   "metadata": {},
   "source": [
    "These kinds of checks are often best evaluated as `True` or `False`. Luckily, that's an entire data type in Python (and literally every other programming language). We'll cover those next. But first, let's confirm you grok `float`s and `int`s."
   ]
  },
  {
   "cell_type": "markdown",
   "id": "269625a6-6adf-4f1a-899a-3a714bb9a187",
   "metadata": {},
   "source": [
    "## Self-Assessment Objectives\n",
    "\n",
    "1. Create any `float` and pass it to `testme_1()`\n",
    "\n",
    "2. Provide `testme_2()` any 2 `int`s that when `mod`ed produce `5`."
   ]
  },
  {
   "cell_type": "code",
   "execution_count": null,
   "id": "dc472b6f-c407-4074-b02d-e1524645dae8",
   "metadata": {},
   "outputs": [],
   "source": [
    "# Leave this line!\n",
    "from testme import *\n",
    "\n",
    "# Create any `float` and pass it to `testme_1()`\n",
    "testme_1(_)\n",
    "\n",
    "# Provide `testme_2()` any 2 `int`s that when `mod`ed produce `5`\n",
    "testme_2(_,_)"
   ]
  }
 ],
 "metadata": {
  "kernelspec": {
   "display_name": "Python 3 (ipykernel)",
   "language": "python",
   "name": "python3"
  },
  "language_info": {
   "codemirror_mode": {
    "name": "ipython",
    "version": 3
   },
   "file_extension": ".py",
   "mimetype": "text/x-python",
   "name": "python",
   "nbconvert_exporter": "python",
   "pygments_lexer": "ipython3",
   "version": "3.8.10"
  }
 },
 "nbformat": 4,
 "nbformat_minor": 5
}
